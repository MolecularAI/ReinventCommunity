{
 "cells": [
  {
   "cell_type": "markdown",
   "metadata": {},
   "source": [
    "> **How to run this notebook (command-line)?**\n",
    "1. Install the `reinvent_shared.v2.1` environment:\n",
    "`conda env create -f reinvent_shared.yml`\n",
    "2. Activate the environment:\n",
    "`conda activate reinvent_shared.v2.1`\n",
    "3. Execute `jupyter`:\n",
    "`jupyter notebook`\n",
    "4. Copy the link to a browser\n",
    "\n",
    "\n",
    "# `REINVENT 2.0`: reinforcement learning with tanimoto similarity\n",
    "\n",
    "\n",
    "This is a simple example of running `Reinvent` with only 1 score component.\n",
    "\n",
    "NOTE: There is a detailed reasoning for each code block provided in the `Reinforcement Learning Demo` notebook.\n"
   ]
  },
  {
   "cell_type": "markdown",
   "metadata": {},
   "source": [
    "## 1. Set up the paths\n",
    "_Please update the following code block such that it reflects your system's installation and execute it._"
   ]
  },
  {
   "cell_type": "code",
   "execution_count": 13,
   "metadata": {},
   "outputs": [],
   "source": [
    "# load dependencies\n",
    "import os\n",
    "import re\n",
    "import json\n",
    "import tempfile\n",
    "\n",
    "# --------- change these path variables as required\n",
    "reinvent_dir = os.path.expanduser(\"~/Desktop/Projects/Publications/2020/2020-04_REINVENT_2.0/Reinvent\")\n",
    "reinvent_env = os.path.expanduser(\"~/miniconda3/envs/reinvent_shared.v2.1\")\n",
    "output_dir = os.path.expanduser(\"~/Desktop/REINVENT_RL_demo\")\n",
    "\n",
    "# --------- do not change\n",
    "# get the notebook's root path\n",
    "try: ipynb_path\n",
    "except NameError: ipynb_path = os.getcwd()\n",
    "\n",
    "# if required, generate a folder to store the results\n",
    "try:\n",
    "    os.mkdir(output_dir)\n",
    "except FileExistsError:\n",
    "    pass"
   ]
  },
  {
   "cell_type": "markdown",
   "metadata": {},
   "source": [
    "## 2. Setting up the configuration \n",
    "In the cells below we will build a nested dictionary object that will be eventually converted to JSON file which in turn will be consumed by `REINVENT`. \n",
    "You can find this file in your `output_dir` location."
   ]
  },
  {
   "cell_type": "markdown",
   "metadata": {},
   "source": [
    "### A) Declare the run type"
   ]
  },
  {
   "cell_type": "code",
   "execution_count": 14,
   "metadata": {},
   "outputs": [],
   "source": [
    "# initialize the dictionary\n",
    "configuration = {\n",
    "    \"version\": 2,                          # we are going to use REINVENT's newest release\n",
    "    \"run_type\": \"reinforcement_learning\"   # other run types: \"sampling\", \"validation\",\n",
    "                                           #                  \"transfer_learning\",\n",
    "                                           #                  \"scoring\" and \"create_model\"\n",
    "}"
   ]
  },
  {
   "cell_type": "markdown",
   "metadata": {},
   "source": [
    "### B) Sort out the logging details\n",
    "This includes `resultdir` path where the results will be produced.\n",
    "\n",
    "Also: `REINVENT` can send custom log messages to a remote location. We have retained this capability in the code. if the `recipient` value differs from `\"local\"` `REINVENT` will attempt to POST the data to the specified `recipient`. "
   ]
  },
  {
   "cell_type": "code",
   "execution_count": 15,
   "metadata": {},
   "outputs": [],
   "source": [
    "# add block to specify whether to run locally or not and\n",
    "# where to store the results and logging\n",
    "configuration[\"logging\"] = {\n",
    "    \"sender\": \"http://0.0.0.1\",          # only relevant if \"recipient\" is set to \"remote\"\n",
    "    \"recipient\": \"local\",                  # either to local logging or use a remote REST-interface\n",
    "    \"logging_frequency\": 10,               # log every x-th steps\n",
    "    \"logging_path\": os.path.join(output_dir, \"progress.log\"), # load this folder in tensorboard\n",
    "    \"resultdir\": os.path.join(output_dir, \"results\"),         # will hold the compounds (SMILES) and summaries\n",
    "    \"job_name\": \"Reinforcement learning demo\",                # set an arbitrary job name for identification\n",
    "    \"job_id\": \"demo\"                       # only relevant if \"recipient\" is set to a specific REST endpoint\n",
    "}"
   ]
  },
  {
   "cell_type": "markdown",
   "metadata": {},
   "source": [
    "Create `\"parameters\"` field"
   ]
  },
  {
   "cell_type": "code",
   "execution_count": 16,
   "metadata": {},
   "outputs": [],
   "source": [
    "# add the \"parameters\" block\n",
    "configuration[\"parameters\"] = {}"
   ]
  },
  {
   "cell_type": "markdown",
   "metadata": {},
   "source": [
    "### C) Set Diversity Filter\n",
    "During each step of Reinforcement Learning the compounds scored above `minscore` threshold are kept in memory. Those scored smiles are written out to a file in the results folder `scaffold_memory.csv`."
   ]
  },
  {
   "cell_type": "code",
   "execution_count": 17,
   "metadata": {},
   "outputs": [],
   "source": [
    "# add a \"diversity_filter\"\n",
    "configuration[\"parameters\"][\"diversity_filter\"] =  {\n",
    "    \"name\": \"IdenticalMurckoScaffold\",     # other options are: \"IdenticalTopologicalScaffold\", \n",
    "                                           #                    \"NoFilter\" and \"ScaffoldSimilarity\"\n",
    "                                           # -> use \"NoFilter\" to disable this feature\n",
    "    \"nbmax\": 25,                           # the bin size; penalization will start once this is exceeded\n",
    "    \"minscore\": 0.4,                       # the minimum total score to be considered for binning\n",
    "    \"minsimilarity\": 0.4                   # the minimum similarity to be placed into the same bin\n",
    "}"
   ]
  },
  {
   "cell_type": "markdown",
   "metadata": {},
   "source": [
    "### D) Set Inception\n",
    "* `smiles` provide here a list of smiles to be incepted \n",
    "* `memory_size` the number of smiles allowed in the inception memory\n",
    "* `sample_size` the number of smiles that can be sampled at each reinforcement learning step from inception memory"
   ]
  },
  {
   "cell_type": "code",
   "execution_count": 18,
   "metadata": {},
   "outputs": [],
   "source": [
    "# prepare the inception (we do not use it in this example, so \"smiles\" is an empty list)\n",
    "configuration[\"parameters\"][\"inception\"] = {\n",
    "    \"smiles\": [],                          # fill in a list of SMILES here that can be used (or leave empty)\n",
    "    \"memory_size\": 100,                    # sets how many molecules are to be remembered\n",
    "    \"sample_size\": 10                      # how many are to be sampled each epoch from the memory\n",
    "}"
   ]
  },
  {
   "cell_type": "markdown",
   "metadata": {},
   "source": [
    "### E) Set the general Reinforcement Learning parameters\n",
    "* `n_steps` is the amount of Reinforcement Learning steps to perform. Best start with 1000 steps and see if thats enough.\n",
    "* `agent` is the generative model that undergoes transformation during the Reinforcement Learning run.\n",
    "\n",
    "We reccomend keeping the other parameters to their default values."
   ]
  },
  {
   "cell_type": "code",
   "execution_count": 19,
   "metadata": {},
   "outputs": [],
   "source": [
    "# set all \"reinforcement learning\"-specific run parameters\n",
    "configuration[\"parameters\"][\"reinforcement_learning\"] = {\n",
    "    \"prior\": os.path.join(reinvent_dir, \"data/augmented.prior\"), # path to the pre-trained model\n",
    "    \"agent\": os.path.join(reinvent_dir, \"data/augmented.prior\"), # path to the pre-trained model\n",
    "    \"n_steps\": 125,                        # the number of epochs (steps) to be performed; often 1000\n",
    "    \"sigma\": 128,                          # used to calculate the \"augmented likelihood\", see publication\n",
    "    \"learning_rate\": 0.0001,               # sets how strongly the agent is influenced by each epoch\n",
    "    \"batch_size\": 128,                     # specifies how many molecules are generated per epoch\n",
    "    \"reset\": 0,                            # if not '0', the reset the agent if threshold reached to get\n",
    "                                           # more diverse solutions\n",
    "    \"reset_score_cutoff\": 0.5,             # if resetting is enabled, this is the threshold\n",
    "    \"margin_threshold\": 50                 # specify the (positive) margin between agent and prior\n",
    "}"
   ]
  },
  {
   "cell_type": "markdown",
   "metadata": {},
   "source": [
    "### F) Define the scoring function\n",
    "We will use only a `tanimoto_smiliarity` component with only one SMILES string:\n",
    "\n",
    "`\"O=S(=O)(c3ccc(n1nc(cc1c2ccc(cc2)C)C(F)(F)F)cc3)N\"`\n",
    "\n",
    "However using multiple smiles strings is also acceptable."
   ]
  },
  {
   "cell_type": "code",
   "execution_count": 20,
   "metadata": {},
   "outputs": [],
   "source": [
    "# prepare the scoring function definition and add at the end\n",
    "scoring_function = {\n",
    "    \"name\": \"custom_product\",              # this is our default one (alternative: \"custom_sum\")\n",
    "    \"parallel\": False,                     # sets whether components are to be executed\n",
    "                                           # in parallel; note, that python uses \"False\" / \"True\"\n",
    "                                           # but the JSON \"false\" / \"true\"\n",
    "\n",
    "    # the \"parameters\" list holds the individual components\n",
    "    \"parameters\": [\n",
    "\n",
    "    # add component: use \n",
    "    {\n",
    "        \"component_type\": \"tanimoto_similarity\", \n",
    "        \"name\": \"Tanimoto similarity\",       # arbitrary name for the component\n",
    "        \"weight\": 1,                           # the weight of the component (default: 1)\n",
    "        \"model_path\": None,                    # not required; note, this is \"null\" in JSON\n",
    "        \"smiles\": [\"O=S(=O)(c3ccc(n1nc(cc1c2ccc(cc2)C)C(F)(F)F)cc3)N\"], # a list of SMILES can be provided\n",
    "        \"specific_parameters\": None            # not required; note, this is \"null\" in JSON\n",
    "    }]\n",
    "}\n",
    "configuration[\"parameters\"][\"scoring_function\"] = scoring_function"
   ]
  },
  {
   "cell_type": "markdown",
   "metadata": {},
   "source": [
    "## 3. Write out the configuration"
   ]
  },
  {
   "cell_type": "markdown",
   "metadata": {},
   "source": [
    "We now have successfully filled the dictionary and will write it out as a `JSON` file in the output directory. Please have a look at the file before proceeding in order to see how the paths have been inserted where required and the `dict` -> `JSON` translations (e.g. `True` to `true`) have taken place."
   ]
  },
  {
   "cell_type": "code",
   "execution_count": 21,
   "metadata": {},
   "outputs": [],
   "source": [
    "# write the configuration file to the disc\n",
    "configuration_JSON_path = os.path.join(output_dir, \"RL_config.json\")\n",
    "with open(configuration_JSON_path, 'w') as f:\n",
    "    json.dump(configuration, f, indent=4, sort_keys=True)"
   ]
  },
  {
   "cell_type": "markdown",
   "metadata": {},
   "source": [
    "## 4. Run `REINVENT`\n",
    "Now it is time to execute `REINVENT` locally. Note, that depending on the number of epochs (steps) and the execution time of the scoring function components, this might take a while. As we have only specified a low number of epochs (125) and all components should be fairly quick, this should not take too long in our case though.\n",
    "\n",
    "The command-line execution looks like this:\n",
    "```\n",
    "# activate envionment\n",
    "conda activate reinvent_shared.v2.1\n",
    "\n",
    "# execute REINVENT\n",
    "python <your_path>/input.py <config>.json\n",
    "```"
   ]
  },
  {
   "cell_type": "code",
   "execution_count": 22,
   "metadata": {},
   "outputs": [],
   "source": [
    "%%capture captured_err_stream --no-stderr\n",
    "\n",
    "# execute REINVENT from the command-line\n",
    "!python {reinvent_dir}/input.py {configuration_JSON_path}"
   ]
  },
  {
   "cell_type": "code",
   "execution_count": 23,
   "metadata": {},
   "outputs": [],
   "source": [
    "# print the output to a file, just to have it for documentation\n",
    "with open(os.path.join(output_dir, \"run.err\"), 'w') as file:\n",
    "    file.write(captured_err_stream.stdout)\n",
    "\n",
    "# prepare the output to be parsed\n",
    "list_epochs = re.findall(r'INFO.*?local', captured_err_stream.stdout, re.DOTALL)\n",
    "data = [epoch for idx, epoch in enumerate(list_epochs) if idx in [1, 75, 124]]\n",
    "data = [\"\\n\".join(element.splitlines()[:-1]) for element in data]"
   ]
  },
  {
   "cell_type": "markdown",
   "metadata": {},
   "source": [
    "We have calculated a total of 125 epochs, let us quickly investigate how the agent fared. Below you see the print-out of the first, one from the middle and the last epoch, respectively. Note, that the fraction of valid `SMILES` is high right from the start (because we use a pre-trained prior). You can see the partial scores for each component for the first couple of compounds, but the most important information is the average score. You can clearly see how it increases over time."
   ]
  },
  {
   "cell_type": "code",
   "execution_count": 24,
   "metadata": {},
   "outputs": [
    {
     "name": "stdout",
     "output_type": "stream",
     "text": [
      "INFO     \n",
      " Step 0   Fraction valid SMILES: 97.7   Score: 0.1951   Time elapsed: 0   Time left: 0.0\n",
      "  Agent     Prior     Target     Score     SMILES\n",
      "-36.89    -36.89    -36.89      0.00      c1ccc(CCc2c(-n3nncc3)cc(C)c(Cl)c2)c2[nH]c(C)c(CC)c(=O)n12\n",
      "-35.77    -35.77     -8.39      0.21      S(=O)(=O)(c1ccc(C)cc1)N1C(C(NC(CC(=O)O)c2ccc(OC3CCNC3)cc2)=O)CC(OC)C1\n",
      "-37.16    -37.16    -11.84      0.20      c1c2oc(-c3ccc(OC)cc3)cc2c(C2=CCC(N3CCN(c4ncccn4)CC3)CC2)cc1OC\n",
      "-24.57    -24.57      4.91      0.23      c1cccc(-n2[nH]c(C(N3CCC(CN)CC3)=O)cc2=NC(=O)c2cc(-c3ncccc3)c(F)cc2Cl)c1\n",
      "-25.29    -25.29     -1.42      0.19      C(F)(F)(F)Sc1c(NC(NCC)=S)cccc1\n",
      "-33.76    -33.76      0.90      0.27      c1c(S(=O)(N(c2ccc(OC)cc2)C(C)C)=O)cc(C(=O)OCC(C(F)F)(F)F)cc1\n",
      "-33.19    -33.19     -9.19      0.19      C(=O)(Nc1ccccc1OC(c1cccc(OC)c1)=O)NCCCCCCCC\n",
      "-18.88    -18.88     16.57      0.28      C1(c2ccccc2)=NCc2n(c(Br)nn2)-c2c1cc(Cl)cc2\n",
      "-36.45    -36.45     -4.03      0.25      FC(F)(F)c1c2nc(=Nc3ccc(C(NCC(C)(C#N)C)=O)cc3OC)[nH]cc2ccc1\n",
      "-25.55    -25.55    -11.02      0.11      N1(c2nc3c(c(-c4c[nH]c(=N)nc4)n2)CCN3C2(C)CCC(NS(=O)(C)=O)CC2)CCOCC1C\n",
      "Tanimoto similarity\n",
      "0.0   \n",
      "0.21387283504009247   \n",
      "0.19780220091342926   \n",
      "0.23033708333969116   \n",
      "0.18644067645072937   \n",
      "0.2708333432674408   \n",
      "0.1875   \n",
      "0.2769230902194977   \n",
      "0.2532467544078827   \n",
      "0.1135135143995285   \n",
      "\n",
      "INFO     \n",
      " Step 74   Fraction valid SMILES: 99.2   Score: 0.2516   Time elapsed: 25   Time left: 17.0\n",
      "  Agent     Prior     Target     Score     SMILES\n",
      "-22.53    -22.22     14.63      0.29      Clc1ccc(C=C2SC(=S)N(NC(=O)c3ccc(C)cc3)C2=O)cc1\n",
      "-32.58    -34.34     -4.55      0.23      c1(-c2nc3c4c(c(=NC(=O)Nc5ccccc5)[nH]c3cc2)n(C)cn4)ccccc1\n",
      "-33.47    -32.44     -2.05      0.24      O(c1c(C=CC(=O)NCC(C)O)cc(Cl)cc1)Cc1cc(C)ccc1\n",
      "-38.56    -41.55     -4.31      0.29      C1c2n(-c3ccccc3)nc(C)c2C(c2ccc([N+](=O)[O-])cc2)SC(c2cc(C)ccc2)C1C(=O)OC\n",
      "-28.69    -32.84     11.44      0.35      c1(C(F)(F)F)c(C(N2CCc3c(c(-c4ccc(C(F)(F)F)cc4)nn3-c3ccc(Cl)cc3)C2)=O)cncc1\n",
      "-31.42    -33.32     -7.17      0.20      N=C(N)Nc1ccc(-c2ccccc2)c(-c2ccc(C(NC(C(O)=O)Cc3c4c(cccc4)[nH]c3)=O)cc2)c1\n",
      "-25.41    -28.87     11.81      0.32      c1(-c2c(C)scc2C)c(-c2ccccc2)cn(-c2ccccc2)n1\n",
      "-34.92    -36.50     -3.52      0.26      c1(-n2cccc2)cc(-c2ccccc2F)nc(C(NCCCNCc2ccc(Cl)cc2)=O)c1\n",
      "-23.34    -23.76      5.40      0.23      O=S(c1cc(C(N=c2cc[nH]cc2)=O)ccc1)(N1CCN(c2ccc(F)cc2)CC1)=O\n",
      "-27.97    -27.48      2.25      0.23      c1cnc(-c2nc(CCOc3cc4c(CC(=O)O)ccnc4cc3)c(C)o2)cc1\n",
      "Tanimoto similarity\n",
      "0.28787878155708313   \n",
      "0.23270440101623535   \n",
      "0.2374100685119629   \n",
      "0.290909081697464   \n",
      "0.3459119498729706   \n",
      "0.20430107414722443   \n",
      "0.3178294599056244   \n",
      "0.25766870379447937   \n",
      "0.2278480976819992   \n",
      "0.23225806653499603   \n",
      "\n",
      "INFO     \n",
      " Step 123   Fraction valid SMILES: 99.2   Score: 0.2856   Time elapsed: 42   Time left: 0.7\n",
      "  Agent     Prior     Target     Score     SMILES\n",
      "-20.97    -26.75     10.47      0.29      c1cc(-c2ccc(C(F)(F)F)cc2)ccc1-c1cc(-c2c(Cl)cccc2)on1\n",
      "-24.93    -29.25     16.95      0.36      c1(C(F)(F)F)c(C(=NO)N)ccc(-c2nc(-c3ccc(C(=NO)N)cc3)cs2)c1\n",
      "-18.03    -27.67     27.04      0.43      c1n(-c2ccc(-c3nnsc3)cc2)c(-c2ccc(C)cc2)cc1C(F)(F)F\n",
      "-29.24    -31.91      4.81      0.29      c1c(N(C)C)ccc(C(NC(c2cc(C)ccc2)=O)=NO)c1\n",
      "-18.25    -25.08     15.44      0.32      c1c(C)c(-n2c(-c3ccc(C)cc3)c(C(c3ccco3)=O)c(O)c2O)ncc1C\n",
      "-27.28    -34.49     14.42      0.38      FC(F)c1n(-c2ccc(S(=O)(C)=O)cc2)nnc1-c1oc(C(F)(F)F)cc1\n",
      "-31.82    -32.63     -6.37      0.21      c1(-c2cnc3c(c(-c4nccc(-c5nnccc5)c4)[nH]n3)c2)ccccc1\n",
      "-23.33    -24.58     12.32      0.29      c1cc(-n2scc(C#N)c2=O)cc(C(F)(F)F)c1\n",
      "-23.01    -27.17     13.52      0.32      c1cc(Br)c(C(Oc2ccc(C(F)(F)F)cc2)Cn2cncc2)cc1\n",
      "-21.08    -25.71     17.60      0.34      c1(-c2ccc(S(N)(=O)=O)cc2)ccc(-c2c(CC)sc3ccccc23)cc1\n",
      "Tanimoto similarity\n",
      "0.29078012704849243   \n",
      "0.36090224981307983   \n",
      "0.42741936445236206   \n",
      "0.28688523173332214   \n",
      "0.316546767950058   \n",
      "0.38211381435394287   \n",
      "0.20512820780277252   \n",
      "0.28828829526901245   \n",
      "0.3178294599056244   \n",
      "0.33834585547447205   \n",
      "\n"
     ]
    }
   ],
   "source": [
    "for element in data:\n",
    "    print(element)"
   ]
  },
  {
   "cell_type": "markdown",
   "metadata": {},
   "source": [
    "## 5. Analyse the results\n",
    "In order to analyze the run in a more intuitive way, we can use `tensorboard`:\n",
    "\n",
    "```\n",
    "# go to the root folder of the output\n",
    "cd <your_path>/REINVENT_RL_demo\n",
    "\n",
    "# make sure, you have activated the proper environment\n",
    "conda activate reinvent_shared.v2.1\n",
    "\n",
    "# start tensorboard\n",
    "tensorboard --logdir progress.log\n",
    "```\n",
    "\n",
    "Then copy the link provided to a browser window, e.g. \"http://workstation.url.com:6006/\". The following figures are exmaple plots - remember, that there is always some randomness involved. In `tensorboard` you can monitor the individual scoring function components. What you see is, that all of those depicted went up (and `Fraction_valid_SMILES` was high troughout). Not shown is the predictive model, which did not perform all that well, so you might want to consider a higher weight next time.\n",
    "\n",
    "![](img/individual_components.png)\n",
    "\n",
    "Also the total score increased over time.\n",
    "\n",
    "![](img/total_score.png)\n",
    "\n",
    "It might also be informative to look at the results from the prior (dark blue), the agent (blue) and the augmented likelihood (purple) over time.\n",
    "\n",
    "![](img/likelihood.png)\n",
    "\n",
    "And last but not least, there is a \"Images\" tab available that lets you browse through the compounds generated in an easy way. In the molecules, the substructure matches that were defined to be required are highlighted in red (if present). Also, the total scores are given per molecule.\n",
    "\n",
    "![](img/molecules.png)"
   ]
  },
  {
   "cell_type": "markdown",
   "metadata": {},
   "source": [
    "The results folder will hold four different files: the agent (pickled), the input JSON (just for reference purposes), the memory (highest scoring compounds in `CSV` format) and the scaffold memory (in `CSV` format)."
   ]
  },
  {
   "cell_type": "code",
   "execution_count": 25,
   "metadata": {},
   "outputs": [
    {
     "name": "stdout",
     "output_type": "stream",
     "text": [
      ",smiles,score,likelihood\r\n",
      "46,FC(F)(F)c1nn(-c2ccc(S(=O)(=O)N)cc2)c(-c2ccc(C)cc2)c1,1.0,-17.600012\r\n",
      "61,S(=O)(=O)(c1ccc(-n2nc(C(F)(F)F)cc2-c2ccc(C)cc2)cc1)C,0.84615386,-18.967031\r\n",
      "62,c1cc(C(=S)N)ccc1-n1nc(C(F)(F)F)cc1-c1ccc(C)cc1,0.82417583,-23.19146\r\n",
      "125,C(c1cc(-c2ccccc2)n(-c2ccc(S(N)(=O)=O)cc2)n1)(F)(F)F,0.82417583,-17.847729\r\n",
      "59,c1(-c2n(-c3ccc(S(N)(=O)=O)cc3)nc(C(F)(F)F)c2)ccc(Cl)cc1,0.8064516,-17.33696\r\n",
      "19,c1cc(-n2c(-c3ccc(C)cc3)cc(C(F)(F)F)n2)ccc1[N+](=O)[O-],0.7291667,-23.365183\r\n",
      "112,c1(-c2ccncc2)n(-c2ccc(S(N)(=O)=O)cc2)nc(C(F)(F)F)c1,0.7113402,-19.437431\r\n",
      "1,c1(-c2ccc(-c3cc(C(F)(F)F)nn3-c3ccc(S(N)(=O)=O)cc3)cc2)ccccc1C,0.70535713,-23.20647\r\n",
      "118,c1(-c2cc([N+]([O-])=O)ccc2C)n(-c2ccc(S(N)(=O)=O)cc2)nc(C(F)(F)F)c1,0.7019231,-25.672398\r\n",
      "11,c1cc(-c2n(-c3ccc(S(=O)(=O)C)cc3)nc(C(F)(F)F)c2)ccc1F,0.6969697,-18.464922\r\n",
      "69,O(c1c(OC)cc(-c2n(-c3ccc(S(=O)(N)=O)cc3)nc(C(F)(F)F)c2)cc1)C,0.6952381,-21.52629\r\n",
      "2,c1(-c2ccc(-c3nnn(C)n3)cc2)cc(C(F)(F)F)nn1-c1ccc(S(=O)(=O)N)cc1,0.6909091,-26.232084\r\n",
      "101,c1(-c2cc(C(F)(F)F)nn2-c2ccc(S(C)(=O)=O)cc2)ccc(OC)cc1,0.6764706,-19.256443\r\n",
      "61,c1cc(-c2ccc(C(F)(F)F)cc2)ccc1-c1n(-c2ccc(S(N)(=O)=O)cc2)nc(C(F)(F)F)c1,0.6694915,-21.591145\r\n"
     ]
    }
   ],
   "source": [
    "!head -n 15 {output_dir}/results/memory.csv"
   ]
  }
 ],
 "metadata": {
  "kernelspec": {
   "display_name": "Python 3",
   "language": "python",
   "name": "python3"
  },
  "language_info": {
   "codemirror_mode": {
    "name": "ipython",
    "version": 3
   },
   "file_extension": ".py",
   "mimetype": "text/x-python",
   "name": "python",
   "nbconvert_exporter": "python",
   "pygments_lexer": "ipython3",
   "version": "3.7.3"
  }
 },
 "nbformat": 4,
 "nbformat_minor": 2
}
