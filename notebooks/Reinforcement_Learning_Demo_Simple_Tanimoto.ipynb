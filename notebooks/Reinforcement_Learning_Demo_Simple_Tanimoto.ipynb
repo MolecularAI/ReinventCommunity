{
 "cells": [
  {
   "cell_type": "markdown",
   "metadata": {},
   "source": [
    "> **How to run this notebook (command-line)?**\n",
    "1. Install the `ReinventCommunity` environment:\n",
    "`conda env create -f environment.yml`\n",
    "2. Activate the environment:\n",
    "`conda activate ReinventCommunity`\n",
    "3. Execute `jupyter`:\n",
    "`jupyter notebook`\n",
    "4. Copy the link to a browser\n",
    "\n",
    "\n",
    "# `REINVENT 3.0`: reinforcement learning with tanimoto similarity\n",
    "\n",
    "\n",
    "This is a simple example of running `Reinvent` with only 1 score component.\n",
    "\n",
    "NOTE: There is a detailed reasoning for each code block provided in the `Reinforcement Learning Demo` notebook.\n"
   ]
  },
  {
   "cell_type": "markdown",
   "metadata": {},
   "source": [
    "## 1. Set up the paths\n",
    "_Please update the following code block such that it reflects your system's installation and execute it._"
   ]
  },
  {
   "cell_type": "code",
   "execution_count": 1,
   "metadata": {},
   "outputs": [],
   "source": [
    "# load dependencies\n",
    "import os\n",
    "import re\n",
    "import json\n",
    "import tempfile\n",
    "\n",
    "# --------- change these path variables as required\n",
    "reinvent_dir = os.path.expanduser(\"~/Desktop/reinventcli\")\n",
    "reinvent_env = os.path.expanduser(\"~/miniconda3/envs/reinvent.v3.0\")\n",
    "output_dir = os.path.expanduser(\"~/Desktop/REINVENT_RL_Tanimoto_Similarity_demo\")\n",
    "\n",
    "# --------- do not change\n",
    "# get the notebook's root path\n",
    "try: ipynb_path\n",
    "except NameError: ipynb_path = os.getcwd()\n",
    "\n",
    "# if required, generate a folder to store the results\n",
    "try:\n",
    "    os.mkdir(output_dir)\n",
    "except FileExistsError:\n",
    "    pass"
   ]
  },
  {
   "cell_type": "markdown",
   "metadata": {},
   "source": [
    "## 2. Setting up the configuration \n",
    "In the cells below we will build a nested dictionary object that will be eventually converted to JSON file which in turn will be consumed by `REINVENT`. \n",
    "You can find this file in your `output_dir` location."
   ]
  },
  {
   "cell_type": "markdown",
   "metadata": {},
   "source": [
    "### A) Declare the run type"
   ]
  },
  {
   "cell_type": "code",
   "execution_count": 2,
   "metadata": {},
   "outputs": [],
   "source": [
    "# initialize the dictionary\n",
    "configuration = {\n",
    "    \"version\": 3,                          # we are going to use REINVENT's newest release\n",
    "    \"run_type\": \"reinforcement_learning\"   # other run types: \"sampling\", \"validation\",\n",
    "                                           #                  \"transfer_learning\",\n",
    "                                           #                  \"scoring\" and \"create_model\"\n",
    "}"
   ]
  },
  {
   "cell_type": "markdown",
   "metadata": {},
   "source": [
    "### B) Sort out the logging details\n",
    "This includes `result_folder` path where the results will be produced.\n",
    "\n",
    "Also: `REINVENT` can send custom log messages to a remote location. We have retained this capability in the code. if the `recipient` value differs from `\"local\"` `REINVENT` will attempt to POST the data to the specified `recipient`. "
   ]
  },
  {
   "cell_type": "code",
   "execution_count": 3,
   "metadata": {},
   "outputs": [],
   "source": [
    "# add block to specify whether to run locally or not and\n",
    "# where to store the results and logging\n",
    "configuration[\"logging\"] = {\n",
    "    \"sender\": \"http://0.0.0.1\",          # only relevant if \"recipient\" is set to \"remote\"\n",
    "    \"recipient\": \"local\",                  # either to local logging or use a remote REST-interface\n",
    "    \"logging_frequency\": 10,               # log every x-th steps\n",
    "    \"logging_path\": os.path.join(output_dir, \"progress.log\"), # load this folder in tensorboard\n",
    "    \"result_folder\": os.path.join(output_dir, \"results\"),         # will hold the compounds (SMILES) and summaries\n",
    "    \"job_name\": \"Reinforcement learning demo\",                # set an arbitrary job name for identification\n",
    "    \"job_id\": \"demo\"                       # only relevant if \"recipient\" is set to a specific REST endpoint\n",
    "}"
   ]
  },
  {
   "cell_type": "markdown",
   "metadata": {},
   "source": [
    "Create `parameters` field:"
   ]
  },
  {
   "cell_type": "code",
   "execution_count": 4,
   "metadata": {},
   "outputs": [],
   "source": [
    "# add the \"parameters\" block\n",
    "configuration[\"parameters\"] = {}"
   ]
  },
  {
   "cell_type": "markdown",
   "metadata": {},
   "source": [
    "### C) Set Diversity Filter\n",
    "During each step of Reinforcement Learning the compounds scored above `minscore` threshold are kept in memory. Those scored smiles are written out to a file in the results folder `scaffold_memory.csv`."
   ]
  },
  {
   "cell_type": "code",
   "execution_count": 5,
   "metadata": {},
   "outputs": [],
   "source": [
    "# add a \"diversity_filter\"\n",
    "configuration[\"parameters\"][\"diversity_filter\"] =  {\n",
    "    \"name\": \"IdenticalMurckoScaffold\",     # other options are: \"IdenticalTopologicalScaffold\", \n",
    "                                           #                    \"NoFilter\" and \"ScaffoldSimilarity\"\n",
    "                                           # -> use \"NoFilter\" to disable this feature\n",
    "    \"nbmax\": 25,                           # the bin size; penalization will start once this is exceeded\n",
    "    \"minscore\": 0.4,                       # the minimum total score to be considered for binning\n",
    "    \"minsimilarity\": 0.4                   # the minimum similarity to be placed into the same bin\n",
    "}"
   ]
  },
  {
   "cell_type": "markdown",
   "metadata": {},
   "source": [
    "### D) Set Inception\n",
    "* `smiles` provide here a list of smiles to be incepted \n",
    "* `memory_size` the number of smiles allowed in the inception memory\n",
    "* `sample_size` the number of smiles that can be sampled at each reinforcement learning step from inception memory"
   ]
  },
  {
   "cell_type": "code",
   "execution_count": 6,
   "metadata": {},
   "outputs": [],
   "source": [
    "# prepare the inception (we do not use it in this example, so \"smiles\" is an empty list)\n",
    "configuration[\"parameters\"][\"inception\"] = {\n",
    "    \"smiles\": [],                          # fill in a list of SMILES here that can be used (or leave empty)\n",
    "    \"memory_size\": 100,                    # sets how many molecules are to be remembered\n",
    "    \"sample_size\": 10                      # how many are to be sampled each epoch from the memory\n",
    "}"
   ]
  },
  {
   "cell_type": "markdown",
   "metadata": {},
   "source": [
    "### E) Set the general Reinforcement Learning parameters\n",
    "* `n_steps` is the amount of Reinforcement Learning steps to perform. Best start with 1000 steps and see if thats enough.\n",
    "* `agent` is the generative model that undergoes transformation during the Reinforcement Learning run.\n",
    "\n",
    "We reccomend keeping the other parameters to their default values."
   ]
  },
  {
   "cell_type": "code",
   "execution_count": 7,
   "metadata": {},
   "outputs": [],
   "source": [
    "# set all \"reinforcement learning\"-specific run parameters\n",
    "configuration[\"parameters\"][\"reinforcement_learning\"] = {\n",
    "    \"prior\": os.path.join(ipynb_path, \"models/random.prior.new\"), # path to the pre-trained model\n",
    "    \"agent\": os.path.join(ipynb_path, \"models/random.prior.new\"), # path to the pre-trained model\n",
    "    \"n_steps\": 125,                        # the number of epochs (steps) to be performed; often 1000\n",
    "    \"sigma\": 128,                          # used to calculate the \"augmented likelihood\", see publication\n",
    "    \"learning_rate\": 0.0001,               # sets how strongly the agent is influenced by each epoch\n",
    "    \"batch_size\": 128,                     # specifies how many molecules are generated per epoch\n",
    "    \"reset\": 0,                            # if not '0', the reset the agent if threshold reached to get\n",
    "                                           # more diverse solutions\n",
    "    \"reset_score_cutoff\": 0.5,             # if resetting is enabled, this is the threshold\n",
    "    \"margin_threshold\": 50                 # specify the (positive) margin between agent and prior\n",
    "}"
   ]
  },
  {
   "cell_type": "markdown",
   "metadata": {},
   "source": [
    "### F) Define the scoring function\n",
    "We will use only a `tanimoto_smiliarity` component with only one SMILES string:\n",
    "\n",
    "`\"O=S(=O)(c3ccc(n1nc(cc1c2ccc(cc2)C)C(F)(F)F)cc3)N\"`\n",
    "\n",
    "However, using multiple smiles strings is also acceptable."
   ]
  },
  {
   "cell_type": "code",
   "execution_count": 8,
   "metadata": {},
   "outputs": [],
   "source": [
    "# prepare the scoring function definition and add at the end\n",
    "scoring_function = {\n",
    "    \"name\": \"custom_product\",                  # this is our default one (alternative: \"custom_sum\")\n",
    "    \"parallel\": False,                         # sets whether components are to be executed\n",
    "                                               # in parallel; note, that python uses \"False\" / \"True\"\n",
    "                                               # but the JSON \"false\" / \"true\"\n",
    "\n",
    "    # the \"parameters\" list holds the individual components\n",
    "    \"parameters\": [\n",
    "\n",
    "    # add component: use \n",
    "    {\n",
    "        \"component_type\": \"tanimoto_similarity\", \n",
    "        \"name\": \"Tanimoto similarity\",         # arbitrary name for the component\n",
    "        \"weight\": 1,                           # the weight of the component (default: 1)\n",
    "        \"specific_parameters\": {\n",
    "            \"smiles\": [\"O=S(=O)(c3ccc(n1nc(cc1c2ccc(cc2)C)C(F)(F)F)cc3)N\"], # a list of SMILES can be provided\n",
    "        }\n",
    "    }]\n",
    "}\n",
    "configuration[\"parameters\"][\"scoring_function\"] = scoring_function"
   ]
  },
  {
   "cell_type": "markdown",
   "metadata": {},
   "source": [
    "## 3. Write out the configuration"
   ]
  },
  {
   "cell_type": "markdown",
   "metadata": {},
   "source": [
    "We now have successfully filled the dictionary and will write it out as a `JSON` file in the output directory. Please have a look at the file before proceeding in order to see how the paths have been inserted where required and the `dict` -> `JSON` translations (e.g. `True` to `true`) have taken place."
   ]
  },
  {
   "cell_type": "code",
   "execution_count": 9,
   "metadata": {},
   "outputs": [],
   "source": [
    "# write the configuration file to the disc\n",
    "configuration_JSON_path = os.path.join(output_dir, \"RL_config.json\")\n",
    "with open(configuration_JSON_path, 'w') as f:\n",
    "    json.dump(configuration, f, indent=4, sort_keys=True)"
   ]
  },
  {
   "cell_type": "markdown",
   "metadata": {},
   "source": [
    "## 4. Run `REINVENT`\n",
    "Now it is time to execute `REINVENT` locally. Note, that depending on the number of epochs (steps) and the execution time of the scoring function components, this might take a while. As we have only specified a low number of epochs (125) and all components should be fairly quick, this should not take too long in our case though.\n",
    "\n",
    "The command-line execution looks like this:\n",
    "```\n",
    "# activate envionment\n",
    "conda activate reinvent.v3.0\n",
    "\n",
    "# execute REINVENT\n",
    "python <your_path>/input.py <config>.json\n",
    "```"
   ]
  },
  {
   "cell_type": "code",
   "execution_count": 10,
   "metadata": {},
   "outputs": [],
   "source": [
    "%%capture captured_err_stream --no-stderr\n",
    "\n",
    "# execute REINVENT from the command-line\n",
    "!{reinvent_env}/bin/python {reinvent_dir}/input.py {configuration_JSON_path}"
   ]
  },
  {
   "cell_type": "code",
   "execution_count": 11,
   "metadata": {},
   "outputs": [],
   "source": [
    "# print the output to a file, just to have it for documentation\n",
    "with open(os.path.join(output_dir, \"run.err\"), 'w') as file:\n",
    "    file.write(captured_err_stream.stdout)\n",
    "\n",
    "# prepare the output to be parsed\n",
    "list_epochs = re.findall(r'INFO.*?local', captured_err_stream.stdout, re.DOTALL)\n",
    "data = [epoch for idx, epoch in enumerate(list_epochs) if idx in [1, 75, 124]]\n",
    "data = [\"\\n\".join(element.splitlines()[:-1]) for element in data]"
   ]
  },
  {
   "cell_type": "markdown",
   "metadata": {},
   "source": [
    "We have calculated a total of 125 epochs, let us quickly investigate how the agent fared. Below you see the print-out of the first, one from the middle and the last epoch, respectively. Note, that the fraction of valid `SMILES` is high right from the start (because we use a pre-trained prior). You can see the partial scores for each component for the first couple of compounds, but the most important information is the average score. You can clearly see how it increases over time."
   ]
  },
  {
   "cell_type": "code",
   "execution_count": 12,
   "metadata": {},
   "outputs": [
    {
     "name": "stdout",
     "output_type": "stream",
     "text": [
      "INFO     \n",
      " Step 0   Fraction valid SMILES: 100.0   Score: 0.1904   Time elapsed: 0   Time left: 0.0\n",
      "  Agent     Prior     Target     Score     SMILES\n",
      "-23.79    -23.79     -4.99      0.15      c1c(C(N=c2sc(N3CCCCCC3)n[nH]2)=O)cccn1\n",
      "-34.51    -34.51    -23.56      0.09      C1C2(C(=O)N(c3nnc(C(C)C)o3)CC1)CN(CC1CC1)CC2\n",
      "-28.21    -28.21      0.80      0.23      C(CC(N=c1[nH]c(-c2ccccc2)c(-c2ccccc2)o1)=O)n1cncc1\n",
      "-24.18    -24.18     -7.72      0.13      c1(=O)[nH]c(=S)n(C2OC(CO)C(O)C2O)c2cc(Cl)ccc12\n",
      "-25.49    -25.49      8.58      0.27      c1(=O)c2c(nc(C)n1-c1cccc(C)c1)c(Br)cc(Br)c2\n",
      "-34.47    -34.47     -6.20      0.22      N(Cc1cccc(N(C)C)c1)C(C1=CCN(S(=O)(c2ccc3c(cccc3)c2)=O)CC1)=O\n",
      "-28.32    -28.32      4.65      0.26      c1ccc2c(n(Cc3c(C)cc(C)cc3C)c(C(=O)C(O)=O)c2)c1\n",
      "-25.06    -25.06     18.46      0.34      CCc1c(C(NC(CO)c2ccccc2)=O)nn(-c2ccc(Cl)cc2Cl)c1-c1ccc(Cl)cc1\n",
      "-34.74    -34.74     -5.76      0.23      c1(CN(Cc2ccc(CN(CC(C)(C)C(=O)O)Cc3cnccc3)cc2)C)ccccc1\n",
      "-27.62    -27.62      7.29      0.27      S(c1ccc(NC(c2c(C)c(C(C)=O)c(C)[nH]2)=O)cc1)(=O)(Nc1ccc(F)cc1)=O\n",
      "Tanimoto similarity\n",
      "0.14685314893722534   \n",
      "0.08552631735801697   \n",
      "0.2266666740179062   \n",
      "0.12857143580913544   \n",
      "0.2661290466785431   \n",
      "0.22085890173912048   \n",
      "0.25757575035095215   \n",
      "0.3400000035762787   \n",
      "0.22641509771347046   \n",
      "0.27272728085517883   \n",
      "\n",
      "INFO     \n",
      " Step 72   Fraction valid SMILES: 95.3   Score: 0.2337   Time elapsed: 24   Time left: 17.4\n",
      "  Agent     Prior     Target     Score     SMILES\n",
      "-39.67    -39.06      0.62      0.22      c1cc(C(C)(C)C(=O)OC)sc1CCOc1ccc(CC(N(CCc2ncccc2)C)=O)cc1\n",
      "-31.94    -32.23      6.77      0.22      O=C(c1cn(C2CC2)c2cc(N3CCN(S(=O)(=O)c4ccc(-n5nnnc5)c(C)c4)CC3)c(F)cc2c1=O)O\n",
      "-27.22    -29.35     27.51      0.32      c1c(C(F)(F)F)ccc(Cn2c3ccccc3nc(-c3cn(C)c(=O)c(Cl)c3)c2=O)c1\n",
      "-33.22    -32.48      3.87      0.20      C(CC1(c2ccc(F)c(F)c2)OC(Cc2cc(Cl)cc(Cl)c2)CO1)C\n",
      "-34.22    -37.74    -37.74      0.00      n1c(-c2ccncc2)cc(C(F)(F)F)n2ncc(C(=O)N=c3sc(Cc4ccccc4)c(-c4ccccc4)c3-c3ccccc3)c12\n",
      "-26.52    -27.46     10.59      0.21      n1c(-c2cccc(C)c2)noc1CN(CCN(C)C)Cc1oc(C)cc1\n",
      "-34.24    -31.78     -2.52      0.16      C1NC(Cc2cc(OCC)c(OCC)cc2)c2c(C)c(C)sc2C1\n",
      "-28.23    -29.10     12.43      0.23      s1c(=NS(N2Cc3cccc(Oc4ccc(F)cc4F)c3CC2)(=O)=O)[nH]cc1\n",
      "-28.25    -28.68     18.87      0.27      C(N)C(C(=O)c1ccc(OC)cc1)NC(OCc1ccccc1)=O\n",
      "-22.99    -22.42      6.18      0.16      n1c2c(c(Cl)cc1)c(N)c(C(N)=O)s2\n",
      "Tanimoto similarity\n",
      "0.22289156913757324   \n",
      "0.21910113096237183   \n",
      "0.3194444477558136   \n",
      "0.2042253464460373   \n",
      "0.0   \n",
      "0.2137930989265442   \n",
      "0.16438356041908264   \n",
      "0.23333333432674408   \n",
      "0.2671755850315094   \n",
      "0.1607142835855484   \n",
      "\n",
      "INFO     \n",
      " Step 121   Fraction valid SMILES: 98.4   Score: 0.2728   Time elapsed: 42   Time left: 1.4\n",
      "  Agent     Prior     Target     Score     SMILES\n",
      "-21.60    -26.82     20.46      0.27      O(c1ncccc1-c1nnn(-c2ccc(C(=O)O)cc2)c1)C\n",
      "-25.90    -26.30     20.08      0.26      c1cc(S(N(C)Cc2ccccc2)(=O)=O)ccc1Oc1ccccc1OC\n",
      "-27.43    -27.60      9.74      0.21      Clc1cc(Cl)ccc1-c1nc(-c2ccncc2)c(-c2ccsc2)n1C\n",
      "-22.91    -28.90     21.09      0.28      c1(-c2nc(-c3ccc(-c4c(Cl)cc(C(F)(F)F)cc4)cc3)no2)cc(Cl)c(Cl)cc1\n",
      "-24.17    -28.70     25.53      0.30      n1c(-c2ccc(NC(C(Sc3nc(=N)cc(N)[nH]3)C)=O)cc2)nc(-c2ccc(C)cc2)o1\n",
      "-23.82    -26.73     32.60      0.33      c1(C(Nc2ccc(F)cc2)O)[nH]c(=S)nc(-c2ccc(C)cc2)c1\n",
      "-23.69    -27.79     18.47      0.26      c1(=O)c(-c2scc(C(F)(F)F)n2)nc(-c2ccncc2)c[nH]1\n",
      "-22.47    -27.76     36.32      0.36      c1cc(-c2nc3n(n2)c(=S)[nH]nc3-c2ccc(C)cc2)ccc1C\n",
      "-17.56    -22.23     27.87      0.28      c1c(-c2nn[nH]n2)c(-c2ccc(Cc3c(C(=O)OCC)n(-c4ccccc4)nc3CC)cc2)ccc1\n",
      "-24.13    -29.35     26.36      0.31      N(c1c(F)c(F)c(-c2ccc(Cl)cc2)cc1)S(c1ccc(F)cc1)(=O)=O\n",
      "Tanimoto similarity\n",
      "0.265625   \n",
      "0.26056337356567383   \n",
      "0.2097902148962021   \n",
      "0.28082191944122314   \n",
      "0.30463576316833496   \n",
      "0.3333333432674408   \n",
      "0.25984251499176025   \n",
      "0.36000001430511475   \n",
      "0.28143712878227234   \n",
      "0.3129771053791046   \n",
      "\n"
     ]
    }
   ],
   "source": [
    "for element in data:\n",
    "    print(element)"
   ]
  },
  {
   "cell_type": "markdown",
   "metadata": {},
   "source": [
    "## 5. Analyse the results\n",
    "In order to analyze the run in a more intuitive way, we can use `tensorboard`:\n",
    "\n",
    "```\n",
    "# go to the root folder of the output\n",
    "cd <your_path>/REINVENT_RL_demo\n",
    "\n",
    "# make sure, you have activated the proper environment\n",
    "conda activate reinvent.v3.0\n",
    "\n",
    "# start tensorboard\n",
    "tensorboard --logdir progress.log\n",
    "```\n",
    "\n",
    "Then copy the link provided to a browser window, e.g. \"http://workstation.url.com:6006/\". The following figures are exmaple plots - remember, that there is always some randomness involved. In `tensorboard` you can monitor the individual scoring function components. What you see is, that all of those depicted went up (and `Fraction_valid_SMILES` was high troughout). Not shown is the predictive model, which did not perform all that well, so you might want to consider a higher weight next time.\n",
    "\n",
    "![](img/individual_components.png)\n",
    "\n",
    "Also the total score increased over time.\n",
    "\n",
    "![](img/total_score.png)\n",
    "\n",
    "It might also be informative to look at the results from the prior (dark blue), the agent (blue) and the augmented likelihood (purple) over time.\n",
    "\n",
    "![](img/likelihood.png)\n",
    "\n",
    "And last but not least, there is a \"Images\" tab available that lets you browse through the compounds generated in an easy way. In the molecules, the substructure matches that were defined to be required are highlighted in red (if present). Also, the total scores are given per molecule.\n",
    "\n",
    "![](img/molecules.png)"
   ]
  },
  {
   "cell_type": "markdown",
   "metadata": {},
   "source": [
    "The results folder will hold four different files: the agent (pickled), the input JSON (just for reference purposes), the memory (highest scoring compounds in `CSV` format) and the scaffold memory (in `CSV` format)."
   ]
  },
  {
   "cell_type": "code",
   "execution_count": 13,
   "metadata": {},
   "outputs": [
    {
     "name": "stdout",
     "output_type": "stream",
     "text": [
      ",smiles,score,likelihood\r\n",
      "61,c1(-c2n(-c3ccc(S(N)(=O)=O)cc3)nc(C(F)(F)F)c2)ccc([S+](C)[O-])cc1,0.86021507,-22.123093\r\n",
      "62,c1(C(F)(F)F)ccc(-c2n(-c3ccc(S(=O)(N)=O)cc3)nc(C(F)(F)F)c2)cc1,0.84210527,-19.497047\r\n",
      "5,c1(-c2n(-c3ccc(S(=O)(=O)N)cc3)nc(C(F)(F)F)c2)ccc(S(C)(=O)=O)cc1,0.84210527,-18.846498\r\n",
      "80,c1c(-c2ccccc2)n(-c2ccc(S(=O)(N)=O)cc2)nc1C(F)(F)F,0.82417583,-17.817635\r\n",
      "100,c1c(-c2ccc(Cl)cc2)n(-c2ccc(S(N)(=O)=O)cc2)nc1C(F)(F)F,0.8064516,-17.814945\r\n",
      "80,c1cc(-c2n(-c3ccc(S(=O)(N)=O)cc3)nc(C(F)(F)F)c2)ccc1F,0.8064516,-17.603294\r\n",
      "86,c1c(N(C)C)ccc(-c2n(-c3ccc(S(=O)(N)=O)cc3)nc(C(F)(F)F)c2)c1,0.78350514,-19.831734\r\n",
      "14,NS(c1ccc(-n2c(-c3ccc(C)nc3)cc(C(F)(F)F)n2)cc1)(=O)=O,0.71428573,-22.547657\r\n",
      "62,c1c(-c2cc(C(F)(F)F)nn2-c2ccc(S(=O)(=O)N)cc2)ccnc1,0.7113402,-20.04277\r\n",
      "6,c1(-n2nc(C(F)(F)F)cc2-c2ccc(OCC)c(Cl)c2)ccc(S(=O)(N)=O)cc1,0.6952381,-22.668873\r\n",
      "11,c1c(-c2n(-c3ccc(S(=O)(=O)N)cc3)nc(C(F)(F)F)c2)c(Cl)cc(Cl)c1,0.6930693,-21.483095\r\n",
      "14,C(C)(C)(c1ccc(-c2n(-c3ccc(S(=O)(N(C)C)=O)cc3)nc(C(F)(F)F)c2)cc1)C,0.6759259,-25.335545\r\n",
      "105,c1c(-c2ccc(-c3n(-c4ccc(S(=O)(=O)N)cc4)nc(C(F)(F)F)c3)cc2)cccc1,0.6637168,-18.762846\r\n",
      "78,c12cc(-c3n(-c4ccc(S(=O)(N)=O)cc4)nc(C(F)(F)F)c3)ccc1cccc2,0.6576577,-19.246004\r\n"
     ]
    }
   ],
   "source": [
    "!head -n 15 {output_dir}/results/memory.csv"
   ]
  }
 ],
 "metadata": {
  "kernelspec": {
   "display_name": "Python 3",
   "language": "python",
   "name": "python3"
  },
  "language_info": {
   "codemirror_mode": {
    "name": "ipython",
    "version": 3
   },
   "file_extension": ".py",
   "mimetype": "text/x-python",
   "name": "python",
   "nbconvert_exporter": "python",
   "pygments_lexer": "ipython3",
   "version": "3.7.6"
  }
 },
 "nbformat": 4,
 "nbformat_minor": 2
}
