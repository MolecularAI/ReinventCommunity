{
 "cells": [
  {
   "cell_type": "markdown",
   "metadata": {},
   "source": [
    "> **How to run this notebook (command-line)?**\n",
    "1. Install the `reinvent_shared.v2.1` environment:\n",
    "`conda env create -f reinvent_shared.yml`\n",
    "2. Activate the environment:\n",
    "`conda activate reinvent_shared.v2.1`\n",
    "3. Execute `jupyter`:\n",
    "`jupyter notebook`\n",
    "4. Copy the link to a browser\n",
    "\n",
    "\n",
    "# `REINVENT 2.0`: reinforcement learning selectivity demo\n",
    "This illustrates the use of a selectivity score component. This component is normally used in a scenario where ligands are designed to bind to a concrete target and at the same time should not be binding to one or more off-targets. The example here looks at a single off-target case.\n",
    "\n",
    "We will demonstrate how to set up a `REINVENT` run that optimizes molecules to be selective against _Aurora_ kinase by minimizing at the same time their affinity to _B RAF_ kinase.\n",
    "\n",
    "NOTE: There is a detailed reasoning for each code block provided in the `Reinforcement Learning Demo` notebook.\n"
   ]
  },
  {
   "cell_type": "markdown",
   "metadata": {},
   "source": [
    "## 1. Set up the paths\n",
    "_Please update the following code block such that it reflects your system's installation and execute it._"
   ]
  },
  {
   "cell_type": "code",
   "execution_count": 1,
   "metadata": {},
   "outputs": [],
   "source": [
    "# load dependencies\n",
    "import os\n",
    "import re\n",
    "import json\n",
    "import tempfile\n",
    "\n",
    "# --------- change these path variables as required\n",
    "reinvent_dir = os.path.expanduser(\"~/Desktop/Projects/Publications/2020/2020-04_REINVENT_2.0/Reinvent\")\n",
    "reinvent_env = os.path.expanduser(\"~/miniconda3/envs/reinvent_shared.v2.1\")\n",
    "output_dir = os.path.expanduser(\"~/Desktop/REINVENT_RL_demo\")\n",
    "\n",
    "# --------- do not change\n",
    "# get the notebook's root path\n",
    "try: ipynb_path\n",
    "except NameError: ipynb_path = os.getcwd()\n",
    "\n",
    "# if required, generate a folder to store the results\n",
    "try:\n",
    "    os.mkdir(output_dir)\n",
    "except FileExistsError:\n",
    "    pass"
   ]
  },
  {
   "cell_type": "markdown",
   "metadata": {},
   "source": [
    "## 2. Setting up the configuration \n",
    "In the cells below we will build a nested dictionary object that will be eventually converted to JSON file which in turn will be consumed by `REINVENT`. \n",
    "You can find this file in your `output_dir` location."
   ]
  },
  {
   "cell_type": "markdown",
   "metadata": {},
   "source": [
    "### A) Declare the run type"
   ]
  },
  {
   "cell_type": "code",
   "execution_count": 2,
   "metadata": {},
   "outputs": [],
   "source": [
    "# initialize the dictionary\n",
    "configuration = {\n",
    "    \"version\": 2,                          # we are going to use REINVENT's newest release\n",
    "    \"run_type\": \"reinforcement_learning\"   # other run types: \"sampling\", \"validation\",\n",
    "                                           #                  \"transfer_learning\",\n",
    "                                           #                  \"scoring\" and \"create_model\"\n",
    "}"
   ]
  },
  {
   "cell_type": "markdown",
   "metadata": {},
   "source": [
    "### B) Sort out the logging details\n",
    "This includes `resultdir` path where the results will be produced.\n",
    "\n",
    "Also: `REINVENT` can send custom log messages to a remote location. We have retained this capability in the code. if the `recipient` value differs from `\"local\"` `REINVENT` will attempt to POST the data to the specified `recipient`. "
   ]
  },
  {
   "cell_type": "code",
   "execution_count": 3,
   "metadata": {},
   "outputs": [],
   "source": [
    "# add block to specify whether to run locally or not and\n",
    "# where to store the results and logging\n",
    "configuration[\"logging\"] = {\n",
    "    \"sender\": \"http://0.0.0.1\",          # only relevant if \"recipient\" is set to \"remote\"\n",
    "    \"recipient\": \"local\",                  # either to local logging or use a remote REST-interface\n",
    "    \"logging_frequency\": 10,               # log every x-th steps\n",
    "    \"logging_path\": os.path.join(output_dir, \"progress.log\"), # load this folder in tensorboard\n",
    "    \"resultdir\": os.path.join(output_dir, \"results\"),         # will hold the compounds (SMILES) and summaries\n",
    "    \"job_name\": \"Reinforcement learning demo\",                # set an arbitrary job name for identification\n",
    "    \"job_id\": \"demo\"                       # only relevant if \"recipient\" is set to a specific REST endpoint\n",
    "}"
   ]
  },
  {
   "cell_type": "markdown",
   "metadata": {},
   "source": [
    "Create `\"parameters\"` field"
   ]
  },
  {
   "cell_type": "code",
   "execution_count": 4,
   "metadata": {},
   "outputs": [],
   "source": [
    "# add the \"parameters\" block\n",
    "configuration[\"parameters\"] = {}"
   ]
  },
  {
   "cell_type": "markdown",
   "metadata": {},
   "source": [
    "### C) Set Diversity Filter\n",
    "During each step of Reinforcement Learning the compounds scored above `minscore` threshold are kept in memory. Those scored smiles are written out to a file in the results folder `scaffold_memory.csv`."
   ]
  },
  {
   "cell_type": "code",
   "execution_count": 5,
   "metadata": {},
   "outputs": [],
   "source": [
    "# add a \"diversity_filter\"\n",
    "configuration[\"parameters\"][\"diversity_filter\"] =  {\n",
    "    \"name\": \"IdenticalMurckoScaffold\",     # other options are: \"IdenticalTopologicalScaffold\", \n",
    "                                           #                    \"NoFilter\" and \"ScaffoldSimilarity\"\n",
    "                                           # -> use \"NoFilter\" to disable this feature\n",
    "    \"nbmax\": 25,                           # the bin size; penalization will start once this is exceeded\n",
    "    \"minscore\": 0.4,                       # the minimum total score to be considered for binning\n",
    "    \"minsimilarity\": 0.4                   # the minimum similarity to be placed into the same bin\n",
    "}"
   ]
  },
  {
   "cell_type": "markdown",
   "metadata": {},
   "source": [
    "### D) Set Inception\n",
    "* `smiles` provide here a list of smiles to be incepted \n",
    "* `memory_size` the number of smiles allowed in the inception memory\n",
    "* `sample_size` the number of smiles that can be sampled at each reinforcement learning step from inception memory"
   ]
  },
  {
   "cell_type": "code",
   "execution_count": 6,
   "metadata": {},
   "outputs": [],
   "source": [
    "# prepare the inception (we do not use it in this example, so \"smiles\" is an empty list)\n",
    "configuration[\"parameters\"][\"inception\"] = {\n",
    "    \"smiles\": [],                          # fill in a list of SMILES here that can be used (or leave empty)\n",
    "    \"memory_size\": 100,                    # sets how many molecules are to be remembered\n",
    "    \"sample_size\": 10                      # how many are to be sampled each epoch from the memory\n",
    "}"
   ]
  },
  {
   "cell_type": "markdown",
   "metadata": {},
   "source": [
    "### E) Set the general Reinforcement Learning parameters\n",
    "* `n_steps` is the amount of Reinforcement Learning steps to perform. Best start with 1000 steps and see if thats enough.\n",
    "* `agent` is the generative model that undergoes transformation during the Reinforcement Learning run.\n",
    "\n",
    "We reccomend keeping the other parameters to their default values."
   ]
  },
  {
   "cell_type": "code",
   "execution_count": 7,
   "metadata": {},
   "outputs": [],
   "source": [
    "# set all \"reinforcement learning\"-specific run parameters\n",
    "configuration[\"parameters\"][\"reinforcement_learning\"] = {\n",
    "    \"prior\": os.path.join(reinvent_dir, \"data/augmented.prior\"), # path to the pre-trained model\n",
    "    \"agent\": os.path.join(reinvent_dir, \"data/augmented.prior\"), # path to the pre-trained model\n",
    "    \"n_steps\": 125,                        # the number of epochs (steps) to be performed; often 1000\n",
    "    \"sigma\": 128,                          # used to calculate the \"augmented likelihood\", see publication\n",
    "    \"learning_rate\": 0.0001,               # sets how strongly the agent is influenced by each epoch\n",
    "    \"batch_size\": 128,                     # specifies how many molecules are generated per epoch\n",
    "    \"reset\": 0,                            # if not '0', the reset the agent if threshold reached to get\n",
    "                                           # more diverse solutions\n",
    "    \"reset_score_cutoff\": 0.5,             # if resetting is enabled, this is the threshold\n",
    "    \"margin_threshold\": 50                 # specify the (positive) margin between agent and prior\n",
    "}"
   ]
  },
  {
   "cell_type": "markdown",
   "metadata": {},
   "source": [
    "### F) Define the scoring function\n",
    "We will use a `custom_product` type. The component types included are:\n",
    "* `predictive_property` which is the target activity to _Aurora_ kinase represented by the predictive `regression` model. Note that we set the weight of this component to be the highest.\n",
    "* `matching_substructure` the `\"smiles\"` field actually can take both list of SMILES or SMARTS. Normally we reccomend using one or a couple of SMARTS patterns defining your pharmacophore.\n",
    "* `custom_alerts` the `\"smiles\"` field  also can work with SMILES or SMARTS\n",
    "* `selectivity` this is the component that maximizes the `delta` between _Aurora_ and _B RAF_ kinases. Note that `delta` is undergoing transformation. Essentially if the individual prediction is higher for _Aurora_ than _B RAF_ the score will be above 0. The `weight` for this component is set lower than `predictive_property`. The relevant fields that might need to be adjusted to your needs are `activity_model_path` and `offtarget_specific_parameters`. \n",
    "\n",
    "Note: All models used in this example are regression models\n"
   ]
  },
  {
   "cell_type": "code",
   "execution_count": 8,
   "metadata": {},
   "outputs": [],
   "source": [
    "# prepare the scoring function definition and add at the end\n",
    "scoring_function = {\n",
    "    \"name\": \"custom_product\",              # this is our default one (alternative: \"custom_sum\")\n",
    "    \"parallel\": False,                     # sets whether components are to be executed\n",
    "                                           # in parallel; note, that python uses \"False\" / \"True\"\n",
    "                                           # but the JSON \"false\" / \"true\"\n",
    "\n",
    "    # the \"parameters\" list holds the individual components\n",
    "    \"parameters\": [\n",
    "\n",
    "    # add component: an activity model\n",
    "    {\n",
    "        \"component_type\": \"predictive_property\", # this is a scikit-learn model, returning\n",
    "                                                 # activity values\n",
    "        \"name\": \"Aurora kinase\",        # arbitrary name for the component\n",
    "        \"weight\": 6,                       # the weight (\"importance\") of the component (default: 1)\n",
    "        \"model_path\": os.path.join(reinvent_dir, \"data/Aurora_model.pkl\"),   # absolute model path\n",
    "        \"smiles\": [],                            # list of SMILES (not required for this component)\n",
    "        \"specific_parameters\": {\n",
    "            \"transformation_type\": \"sigmoid\",  # see description above\n",
    "            \"high\": 9,                         # parameter for sigmoid transformation\n",
    "            \"low\": 4,                          # parameter for sigmoid transformation\n",
    "            \"k\": 0.25,                         # parameter for sigmoid transformation\n",
    "            \"scikit\": \"regression\",            # model can be \"regression\" or \"classification\"\n",
    "            \"transformation\": True,            # enable the transformation\n",
    "            \"descriptor_type\": \"ecfp_counts\",  # sets the input descriptor for this model\n",
    "            \"size\": 2048,                      # parameter of descriptor type\n",
    "            \"radius\": 3,                       # parameter of descriptor type\n",
    "            \"use_counts\": True,                # parameter of descriptor type\n",
    "            \"use_features\": True               # parameter of descriptor type\n",
    "        }\n",
    "    },\n",
    "\n",
    "    # add component: enforce the match to a given substructure\n",
    "    {\n",
    "        \"component_type\": \"matching_substructure\", \n",
    "        \"name\": \"Matching substructure\",       # arbitrary name for the component\n",
    "        \"weight\": 1,                           # the weight of the component (default: 1)\n",
    "        \"model_path\": None,                    # not required; note, this is \"null\" in JSON\n",
    "        \"smiles\": [\"c1ccccc1CC\"],              # a match with this substructure is required\n",
    "        \"specific_parameters\": None            # not required; note, this is \"null\" in JSON\n",
    "    },\n",
    "\n",
    "    # add component: enforce to NOT match a given substructure\n",
    "    {\n",
    "        \"component_type\": \"custom_alerts\",\n",
    "        \"name\": \"Custom alerts\",               # arbitrary name for the component\n",
    "        \"weight\": 1,                           # the weight of the component (default: 1)\n",
    "        \"model_path\": None,                    # not required; note, this is \"null\" in JSON\n",
    "        \"smiles\": [                            # specify the substructures (as list) to penalize\n",
    "            \"[*;r8]\",\n",
    "            \"[*;r9]\",\n",
    "            \"[*;r10]\",\n",
    "            \"[*;r11]\",\n",
    "            \"[*;r12]\",\n",
    "            \"[*;r13]\",\n",
    "            \"[*;r14]\",\n",
    "            \"[*;r15]\",\n",
    "            \"[*;r16]\",\n",
    "            \"[*;r17]\",\n",
    "            \"[#8][#8]\",\n",
    "            \"[#6;+]\",\n",
    "            \"[#16][#16]\",\n",
    "            \"[#7;!n][S;!$(S(=O)=O)]\",\n",
    "            \"[#7;!n][#7;!n]\",\n",
    "            \"C#C\",\n",
    "            \"C(=[O,S])[O,S]\",\n",
    "            \"[#7;!n][C;!$(C(=[O,N])[N,O])][#16;!s]\",\n",
    "            \"[#7;!n][C;!$(C(=[O,N])[N,O])][#7;!n]\",\n",
    "            \"[#7;!n][C;!$(C(=[O,N])[N,O])][#8;!o]\",\n",
    "            \"[#8;!o][C;!$(C(=[O,N])[N,O])][#16;!s]\",\n",
    "            \"[#8;!o][C;!$(C(=[O,N])[N,O])][#8;!o]\",\n",
    "            \"[#16;!s][C;!$(C(=[O,N])[N,O])][#16;!s]\"\n",
    "        ],\n",
    "        \"specific_parameters\": None            # not required; note, this is \"null\" in JSON\n",
    "    },\n",
    "\n",
    "    # add component: calculate the QED drug-likeness score (using RDkit)\n",
    "    {\n",
    "      \"component_type\": \"selectivity\",\n",
    "      \"name\": \"B-RAF selectivity\",\n",
    "      \"weight\": 3,\n",
    "      \"smiles\": [],\n",
    "      \"model_path\": \"\",\n",
    "      \"specific_parameters\": {\n",
    "        \"activity_model_path\": os.path.join(reinvent_dir, \"data/Aurora_model.pkl\"),\n",
    "        \"offtarget_model_path\": os.path.join(reinvent_dir, \"data/B-RAF_model.pkl\"),\n",
    "        \"activity_specific_parameters\": {\n",
    "          \"high\": 9,\n",
    "          \"low\": 4,\n",
    "          \"k\": 0.25,\n",
    "          \"transformation\": False,\n",
    "          \"transformation_type\": \"sigmoid\",\n",
    "          \"scikit\": \"regression\",\n",
    "          \"descriptor_type\": \"ecfp_counts\"\n",
    "        },\n",
    "        \"offtarget_specific_parameters\": {\n",
    "          \"high\": 9,\n",
    "          \"low\": 4,\n",
    "          \"k\": 0.25,\n",
    "          \"transformation\": False,\n",
    "          \"transformation_type\": \"sigmoid\",\n",
    "          \"scikit\": \"regression\",\n",
    "          \"descriptor_type\": \"ecfp_counts\"\n",
    "        },\n",
    "        \"delta_transformation_parameters\": {\n",
    "          \"high\": 3,\n",
    "          \"k\": 0.25,\n",
    "          \"low\": 0,\n",
    "          \"transformation\": True,\n",
    "          \"transformation_type\": \"sigmoid\"\n",
    "        }\n",
    "      }\n",
    "    }]\n",
    "}\n",
    "configuration[\"parameters\"][\"scoring_function\"] = scoring_function"
   ]
  },
  {
   "cell_type": "markdown",
   "metadata": {},
   "source": [
    "#### NOTE:  Getting the selectivity score component to reach satisfactory levels is non-trivial and might take considerably higher number of steps"
   ]
  },
  {
   "cell_type": "markdown",
   "metadata": {},
   "source": [
    "## 3. Write out the configuration"
   ]
  },
  {
   "cell_type": "markdown",
   "metadata": {},
   "source": [
    "We now have successfully filled the dictionary and will write it out as a `JSON` file in the output directory. Please have a look at the file before proceeding in order to see how the paths have been inserted where required and the `dict` -> `JSON` translations (e.g. `True` to `true`) have taken place."
   ]
  },
  {
   "cell_type": "code",
   "execution_count": 9,
   "metadata": {},
   "outputs": [],
   "source": [
    "# write the configuration file to the disc\n",
    "configuration_JSON_path = os.path.join(output_dir, \"RL_config.json\")\n",
    "with open(configuration_JSON_path, 'w') as f:\n",
    "    json.dump(configuration, f, indent=4, sort_keys=True)"
   ]
  },
  {
   "cell_type": "markdown",
   "metadata": {},
   "source": [
    "## 4. Run `REINVENT`\n",
    "Now it is time to execute `REINVENT` locally. Note, that depending on the number of epochs (steps) and the execution time of the scoring function components, this might take a while. As we have only specified a low number of epochs (125) and all components should be fairly quick, this should not take too long in our case though.\n",
    "\n",
    "The command-line execution looks like this:\n",
    "```\n",
    "# activate envionment\n",
    "conda activate reinvent_shared.v2.1\n",
    "\n",
    "# execute REINVENT\n",
    "python <your_path>/input.py <config>.json\n",
    "```"
   ]
  },
  {
   "cell_type": "code",
   "execution_count": 10,
   "metadata": {},
   "outputs": [],
   "source": [
    "%%capture captured_err_stream --no-stderr\n",
    "\n",
    "# execute REINVENT from the command-line\n",
    "!python {reinvent_dir}/input.py {configuration_JSON_path}"
   ]
  },
  {
   "cell_type": "code",
   "execution_count": 11,
   "metadata": {},
   "outputs": [],
   "source": [
    "# print the output to a file, just to have it for documentation\n",
    "with open(os.path.join(output_dir, \"run.err\"), 'w') as file:\n",
    "    file.write(captured_err_stream.stdout)\n",
    "\n",
    "# prepare the output to be parsed\n",
    "list_epochs = re.findall(r'INFO.*?local', captured_err_stream.stdout, re.DOTALL)\n",
    "data = [epoch for idx, epoch in enumerate(list_epochs) if idx in [1, 75, 124]]\n",
    "data = [\"\\n\".join(element.splitlines()[:-1]) for element in data]"
   ]
  },
  {
   "cell_type": "markdown",
   "metadata": {},
   "source": [
    "We have calculated a total of 125 epochs, let us quickly investigate how the agent fared. Below you see the print-out of the first, one from the middle and the last epoch, respectively. Note, that the fraction of valid `SMILES` is high right from the start (because we use a pre-trained prior). You can see the partial scores for each component for the first couple of compounds, but the most important information is the average score. You can clearly see how it increases over time."
   ]
  },
  {
   "cell_type": "code",
   "execution_count": 12,
   "metadata": {},
   "outputs": [
    {
     "name": "stdout",
     "output_type": "stream",
     "text": [
      "INFO     \n",
      " Step 0   Fraction valid SMILES: 99.2   Score: 0.0614   Time elapsed: 0   Time left: 0.0\n",
      "  Agent     Prior     Target     Score     SMILES\n",
      "-25.73    -25.73    -16.42      0.07      c1cc(OCc2cc(C(N(CC3CCOCC3)CC)=O)no2)ccc1SC\n",
      "-22.98    -22.98    -12.92      0.08      C1CCCN1c1nc(N2CCOCC2)nc(-c2ccccc2)c1\n",
      "-22.20    -22.20    -22.20      0.00      c1cccc2n(CC)c(SCC(=O)NCc3ccc4c(c3)OCO4)nc12\n",
      "-32.45    -32.45    -13.65      0.15      c1c(S(=O)(=O)N2CC(c3ccccc3)N(Cc3ccccc3)C(=O)C2)cc(F)cc1F\n",
      "-22.47    -22.47     -7.58      0.12      c1(CCc2oc(=O)cc(OC)c2CO)ccccc1\n",
      "-20.22    -20.22    -11.42      0.07      C1(C)CN(CCC(Nc2c(OC)cccc2)=O)CC(C)O1\n",
      "-36.57    -36.57    -36.57      0.00      OC(CCC(=O)NC(c1nc(-c2cccc(C(=O)NC(C)(C)C)c2)c[nH]1)Cc1ccccc1)=O\n",
      "-31.60    -31.60    -21.74      0.08      O=S(C1C2CCN(C1)CC2)(c1ccc(Oc2cccnc2C)cc1)=O\n",
      "-26.47    -26.47    -15.55      0.09      c12c([nH]c3c(c1=NCCCNC(C)C)cccc3)CC(C)CC2\n",
      "-41.70    -41.70    -41.70      0.00      C(C1(C)NC(C(NC(C=O)CCCN=C(N)N)=O)C(C=CC)C1)(NCc1cc(C(O)=O)ccc1)=O\n",
      "Aurora kinase   Matching substructure   Custom alerts   B-RAF selectivity\n",
      "0.35741597414016724   0.5   1.0   0.02413525991141796   \n",
      "0.4250260293483734   0.5   1.0   0.021514948457479477   \n",
      "0.35032662749290466   0.5   0.0   0.01595877856016159   \n",
      "0.3323134779930115   1.0   1.0   0.02869570255279541   \n",
      "0.3093407452106476   1.0   1.0   0.01643054001033306   \n",
      "0.33059239387512207   0.5   1.0   0.023735003545880318   \n",
      "0.3245736360549927   1.0   0.0   0.013696442358195782   \n",
      "0.3418678045272827   0.5   1.0   0.031232917681336403   \n",
      "0.37564343214035034   0.5   1.0   0.03516828268766403   \n",
      "0.3309832513332367   0.5   0.0   0.009999999776482582   \n",
      "\n",
      "INFO     \n",
      " Step 74   Fraction valid SMILES: 98.4   Score: 0.0824   Time elapsed: 41   Time left: 27.9\n",
      "  Agent     Prior     Target     Score     SMILES\n",
      "-35.08    -34.71    -18.50      0.13      C1(C)(c2ccc(-c3cccc4c3cc[nH]4)cc2)Oc2cccnc2N(CC)C1=O\n",
      "-26.55    -26.54    -18.45      0.06      c1[nH]c(=NCc2csc(=Nc3ccc(Cl)cc3)[nH]2)cc(C)c1\n",
      "-20.90    -21.01    -13.83      0.06      CC(C)CNC(Nc1cc(Cl)c(Cl)cc1)=O\n",
      "-23.65    -26.19    -13.66      0.10      c1cc(CCNCC2CCN(CCc3c[nH]c4ccc(OC)cc34)CC2)ccn1\n",
      "-27.06    -26.61    -26.61      0.00      CC12C(C(C)(C)C(=O)CC1=O)CCC1(C)C3(C)C(=CCC21)C1C(C(=O)O)(CC3)CCC(C)C1C\n",
      "-26.39    -27.82    -17.50      0.08      Cc1c(S(=O)(NC(C(C)C)C(=O)NCc2ccccc2OC)=O)ccc(F)c1\n",
      "-20.12    -20.23     -6.77      0.11      c1(O)cc(C2Oc3c(ccc(O)c3CC=C(C)C)C(=O)C2)ccc1O\n",
      "-60.39    -63.14    -50.97      0.10      C(C(N)C(=O)Nc1ccc2c(c1)c1ccccc1n2CC)(NCCCCCNC(c1[nH]c2c(c1)cc(NC(=O)c1cc3c(ccc(NC(=O)CCNC(C(C)N)=O)c3)cc1)cc2)=O)=O\n",
      "-31.95    -31.70    -31.70      0.00      C12C(C)CCC3C(C(=O)O)(C)CCCC3(C)C1CCC1(C)Oc3c(ccc(OC)c3)CC21\n",
      "-34.40    -33.24    -22.04      0.09      CN=c1[nH]c2cc(-c3cc(C#N)c(OCC4CCCO4)cc3)sc2c(=N)[nH]1\n",
      "Aurora kinase   Matching substructure   Custom alerts   B-RAF selectivity\n",
      "0.39678332209587097   1.0   1.0   0.012897371314466   \n",
      "0.32737937569618225   0.5   1.0   0.018837984651327133   \n",
      "0.3403012156486511   0.5   1.0   0.012211574241518974   \n",
      "0.4192342460155487   0.5   1.0   0.04268887639045715   \n",
      "0.42004430294036865   0.5   0.0   0.023237740620970726   \n",
      "0.39101871848106384   0.5   1.0   0.027425553649663925   \n",
      "0.2900206744670868   1.0   1.0   0.01384490355849266   \n",
      "0.4325505495071411   0.5   1.0   0.03675143048167229   \n",
      "0.34044313430786133   1.0   0.0   0.023014158010482788   \n",
      "0.44353440403938293   0.5   1.0   0.02725709229707718   \n",
      "\n",
      "INFO     \n",
      " Step 123   Fraction valid SMILES: 99.2   Score: 0.0959   Time elapsed: 68   Time left: 1.1\n",
      "  Agent     Prior     Target     Score     SMILES\n",
      "-34.03    -34.81    -34.81      0.00      c1(COc2ccc(C3Cc4c(c(C(O)=O)no4)C(C)N3)cc2)ccccc1\n",
      "-31.85    -32.32    -14.52      0.14      c1c(Br)ccc(-c2cc(Cl)c3c(c2)c(=Nc2ccc(CCN(C)C)cc2)[nH]cn3)c1\n",
      "-26.15    -27.98    -11.99      0.12      c1(C2CCC(Cc3ccc(OC)cc3)CC2)[nH]c(=O)c2c(n1)cccc2\n",
      "-27.11    -27.78    -11.04      0.13      c1ccccc1C1(c2ccc(OCc3ccc(C#N)cc3)cc2)CCC(=O)CC1\n",
      "-19.45    -20.24     -5.91      0.11      c1cc(CCNC(=O)c2cnc3c(cccc3)n2)ccc1\n",
      "-22.88    -23.03    -12.62      0.08      O1C(C)(C)CCc2occc21\n",
      "-31.01    -35.79     -6.32      0.23      c1c(C(CCN(C(C)C)Cc2ccccc2)c2ccc(CCNS(Cc3ccccc3)(=O)=O)cc2)ccc(C(F)(F)F)c1\n",
      "-20.98    -21.97    -10.34      0.09      c1(SCC(=O)N(c2c(=O)[nH]c(=O)n(Cc3ccccc3)c2N)CC(C)C)[nH]c2c(cccc2)n1\n",
      "-33.12    -35.46    -16.90      0.15      c1c2c(c(C(=Nc3c(C)cc(C)cc3C)C)cc1)ccn2C\n",
      "-27.88    -28.38    -21.50      0.05      c12c(nnn1Cc1ccc(OC)cc1)cnn2S(c1ccccc1)(=O)=O\n",
      "Aurora kinase   Matching substructure   Custom alerts   B-RAF selectivity\n",
      "0.35410362482070923   1.0   0.0   0.03510572388768196   \n",
      "0.41633903980255127   1.0   1.0   0.01552149560302496   \n",
      "0.3092256188392639   1.0   1.0   0.020421650260686874   \n",
      "0.33234137296676636   1.0   1.0   0.02024860866367817   \n",
      "0.3022989332675934   1.0   1.0   0.015348128043115139   \n",
      "0.34916698932647705   0.5   1.0   0.03526107966899872   \n",
      "0.46792587637901306   1.0   1.0   0.05578475072979927   \n",
      "0.39924710988998413   0.5   1.0   0.03763057291507721   \n",
      "0.3445166349411011   1.0   1.0   0.02568795345723629   \n",
      "0.34851616621017456   0.5   1.0   0.010238301008939743   \n",
      "\n"
     ]
    }
   ],
   "source": [
    "for element in data:\n",
    "    print(element)"
   ]
  },
  {
   "cell_type": "markdown",
   "metadata": {},
   "source": [
    "## 5. Analyse the results\n",
    "In order to analyze the run in a more intuitive way, we can use `tensorboard`:\n",
    "\n",
    "```\n",
    "# go to the root folder of the output\n",
    "cd <your_path>/REINVENT_RL_demo\n",
    "\n",
    "# make sure, you have activated the proper environment\n",
    "conda activate reinvent_shared.v2.1\n",
    "\n",
    "# start tensorboard\n",
    "tensorboard --logdir progress.log\n",
    "```\n",
    "\n",
    "Then copy the link provided to a browser window, e.g. \"http://workstation.url.com:6006/\". The following figures are exmaple plots - remember, that there is always some randomness involved. In `tensorboard` you can monitor the individual scoring function components. What you see is, that all of those depicted went up (and `Fraction_valid_SMILES` was high troughout). Not shown is the predictive model, which did not perform all that well, so you might want to consider a higher weight next time.\n",
    "\n",
    "![](img/individual_components.png)\n",
    "\n",
    "Also the total score increased over time.\n",
    "\n",
    "![](img/total_score.png)\n",
    "\n",
    "It might also be informative to look at the results from the prior (dark blue), the agent (blue) and the augmented likelihood (purple) over time.\n",
    "\n",
    "![](img/likelihood.png)\n",
    "\n",
    "And last but not least, there is a \"Images\" tab available that lets you browse through the compounds generated in an easy way. In the molecules, the substructure matches that were defined to be required are highlighted in red (if present). Also, the total scores are given per molecule.\n",
    "\n",
    "![](img/molecules.png)"
   ]
  },
  {
   "cell_type": "markdown",
   "metadata": {},
   "source": [
    "The results folder will hold four different files: the agent (pickled), the input JSON (just for reference purposes), the memory (highest scoring compounds in `CSV` format) and the scaffold memory (in `CSV` format)."
   ]
  },
  {
   "cell_type": "code",
   "execution_count": 13,
   "metadata": {},
   "outputs": [
    {
     "name": "stdout",
     "output_type": "stream",
     "text": [
      ",smiles,score,likelihood\r\n",
      "65,C(CCCn1cc(C(C)(C)C)c2c(C(C)C)cc(C(C)C)cc2c1=O)C(=O)N=c1nc[nH][nH]1,0.3286117,-50.641468\r\n",
      "70,C1C(N(CCC)CCC)Cc2cccc3[nH]c(=O)n(c32)C1,0.32649106,-18.146914\r\n",
      "26,O1c2c(nc(OC)cc2)C(C(NCCCN(C)C)=O)(Cc2ccccc2)c2ccccc21,0.32437962,-35.405247\r\n",
      "60,c1c(C(CNCCc2ccc(NS(=O)(c3ccc(-c4oc(Cc5c[nH]c(=N)s5)cc4)nc3)=O)cc2)O)c[nH]c(=N)c1,0.32314676,-38.32259\r\n",
      "99,c1c2c(cc(Cl)c1Cl)C(CC(=O)c1cnn(C)c1)(O)C(=O)N2,0.31027606,-27.762121\r\n",
      "11,c1c(O)c(C(Cc2ccc(Cl)cc2)=O)cc(O)c1Oc2c(O)cc(O)cc2CCC(O)c1cc(O)c(OC)cc1,0.30576745,-52.903526\r\n",
      "32,c1(C(NC(Cc2ccccc2)C(C(NCCN2CCOCC2)=O)=O)=O)cc(C(=O)NS(Cc2ccccc2)(=O)=O)c(NCCC)s1,0.30178678,-43.933296\r\n",
      "1,c1c(C(C)C)ccc(NC(c2cc3c(cc2)[nH]c2c(C(N)=O)ccc(O)c23)=O)c1,0.30052438,-31.108843\r\n",
      "108,c1(C(C(F)(F)F)(F)F)cc(Cn2c3cccc(NC(c4n5ccc(OCCN6CCN(C)CC6)cc5nc4)=O)c3c(CC)n2)ccc1,0.29700187,-34.311478\r\n",
      "118,c1ccc(C(COc2ccc3c(occ(Oc4ccccc4)c3=O)c2)(O)C(N2CCCCC2)C)cc1F,0.29602197,-45.389744\r\n",
      "109,C1CN(CC(CNC(c2ccc3n(c(=O)cc(C)n3)c2)=O)O)CCC1Cc1ccccc1,0.29525602,-29.0487\r\n",
      "19,c1cc(CC2C(OCC3CC3)CCN(c3ncncc3)C2)ccc1OC,0.29047668,-26.524956\r\n",
      "109,c1cc(CN2Cc3c(cccc3)CC2)ccc1Cc1n[nH]c(=O)c2c1CCCC2,0.2882794,-24.313461\r\n",
      "0,c1c2c(ccc1OCCN(C)CCc1ccc(NS(=O)(C)=O)cc1)CCC2,0.28584373,-26.92916\r\n"
     ]
    }
   ],
   "source": [
    "!head -n 15 {output_dir}/results/memory.csv"
   ]
  }
 ],
 "metadata": {
  "kernelspec": {
   "display_name": "Python 3",
   "language": "python",
   "name": "python3"
  },
  "language_info": {
   "codemirror_mode": {
    "name": "ipython",
    "version": 3
   },
   "file_extension": ".py",
   "mimetype": "text/x-python",
   "name": "python",
   "nbconvert_exporter": "python",
   "pygments_lexer": "ipython3",
   "version": "3.7.6"
  }
 },
 "nbformat": 4,
 "nbformat_minor": 2
}
