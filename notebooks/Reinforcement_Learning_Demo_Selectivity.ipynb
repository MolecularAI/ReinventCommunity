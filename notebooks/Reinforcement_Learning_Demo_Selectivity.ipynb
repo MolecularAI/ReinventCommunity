{
 "cells": [
  {
   "cell_type": "markdown",
   "metadata": {},
   "source": [
    "> **How to run this notebook (command-line)?**\n",
    "1. Install the `ReinventCommunity` environment:\n",
    "`conda env create -f environment.yml`\n",
    "2. Activate the environment:\n",
    "`conda activate ReinventCommunity`\n",
    "3. Execute `jupyter`:\n",
    "`jupyter notebook`\n",
    "4. Copy the link to a browser\n",
    "\n",
    "\n",
    "# `REINVENT 3.2`: reinforcement learning selectivity demo\n",
    "This illustrates the use of a selectivity score component. This component is normally used in a scenario where ligands are designed to bind to a concrete target and at the same time should not be binding to one or more off-targets. The example here looks at a single off-target case.\n",
    "\n",
    "We will demonstrate how to set up a `REINVENT` run that optimizes molecules to be selective against _Aurora_ kinase by minimizing at the same time their affinity to _B RAF_ kinase.\n",
    "\n",
    "NOTE: There is a detailed reasoning for each code block provided in the `Reinforcement Learning Demo` notebook.\n"
   ]
  },
  {
   "cell_type": "markdown",
   "metadata": {},
   "source": [
    "## 1. Set up the paths\n",
    "_Please update the following code block such that it reflects your system's installation and execute it._"
   ]
  },
  {
   "cell_type": "code",
   "execution_count": 1,
   "metadata": {},
   "outputs": [],
   "source": [
    "# load dependencies\n",
    "import os\n",
    "import re\n",
    "import json\n",
    "import tempfile\n",
    "\n",
    "# --------- change these path variables as required\n",
    "reinvent_dir = os.path.expanduser(\"~/Desktop/Reinvent\")\n",
    "reinvent_env = os.path.expanduser(\"~/miniconda3/envs/reinvent.v3.2\")\n",
    "output_dir = os.path.expanduser(\"~/Desktop/REINVENT_RL_Selectivity_demo\")\n",
    "\n",
    "# --------- do not change\n",
    "# get the notebook's root path\n",
    "try: ipynb_path\n",
    "except NameError: ipynb_path = os.getcwd()\n",
    "\n",
    "# if required, generate a folder to store the results\n",
    "try:\n",
    "    os.mkdir(output_dir)\n",
    "except FileExistsError:\n",
    "    pass"
   ]
  },
  {
   "cell_type": "markdown",
   "metadata": {},
   "source": [
    "## 2. Setting up the configuration \n",
    "In the cells below we will build a nested dictionary object that will be eventually converted to JSON file which in turn will be consumed by `REINVENT`. \n",
    "You can find this file in your `output_dir` location."
   ]
  },
  {
   "cell_type": "markdown",
   "metadata": {},
   "source": [
    "### A) Declare the run type"
   ]
  },
  {
   "cell_type": "code",
   "execution_count": 2,
   "metadata": {},
   "outputs": [],
   "source": [
    "# initialize the dictionary\n",
    "configuration = {\n",
    "    \"version\": 3,                          # we are going to use REINVENT's newest release\n",
    "    \"run_type\": \"reinforcement_learning\",  # other run types: \"sampling\", \"validation\",\n",
    "                                           #                  \"transfer_learning\",\n",
    "                                           #                  \"scoring\" and \"create_model\"\n",
    "    \"model_type\": \"default\"\n",
    "}"
   ]
  },
  {
   "cell_type": "markdown",
   "metadata": {},
   "source": [
    "### B) Sort out the logging details\n",
    "This includes `result_folder` path where the results will be produced.\n",
    "\n",
    "Also: `REINVENT` can send custom log messages to a remote location. We have retained this capability in the code. if the `recipient` value differs from `\"local\"` `REINVENT` will attempt to POST the data to the specified `recipient`. "
   ]
  },
  {
   "cell_type": "code",
   "execution_count": 3,
   "metadata": {},
   "outputs": [],
   "source": [
    "# add block to specify whether to run locally or not and\n",
    "# where to store the results and logging\n",
    "configuration[\"logging\"] = {\n",
    "    \"sender\": \"http://0.0.0.1\",          # only relevant if \"recipient\" is set to \"remote\"\n",
    "    \"recipient\": \"local\",                  # either to local logging or use a remote REST-interface\n",
    "    \"logging_frequency\": 10,               # log every x-th steps\n",
    "    \"logging_path\": os.path.join(output_dir, \"progress.log\"), # load this folder in tensorboard\n",
    "    \"result_folder\": os.path.join(output_dir, \"results\"),         # will hold the compounds (SMILES) and summaries\n",
    "    \"job_name\": \"Reinforcement learning demo\",                # set an arbitrary job name for identification\n",
    "    \"job_id\": \"demo\"                       # only relevant if \"recipient\" is set to a specific REST endpoint\n",
    "}"
   ]
  },
  {
   "cell_type": "markdown",
   "metadata": {},
   "source": [
    "Create `\"parameters\"` field"
   ]
  },
  {
   "cell_type": "code",
   "execution_count": 4,
   "metadata": {},
   "outputs": [],
   "source": [
    "# add the \"parameters\" block\n",
    "configuration[\"parameters\"] = {}"
   ]
  },
  {
   "cell_type": "markdown",
   "metadata": {},
   "source": [
    "### C) Set Diversity Filter\n",
    "During each step of Reinforcement Learning the compounds scored above `minscore` threshold are kept in memory. Those scored smiles are written out to a file in the results folder `scaffold_memory.csv`."
   ]
  },
  {
   "cell_type": "code",
   "execution_count": 5,
   "metadata": {},
   "outputs": [],
   "source": [
    "# add a \"diversity_filter\"\n",
    "configuration[\"parameters\"][\"diversity_filter\"] =  {\n",
    "    \"name\": \"IdenticalMurckoScaffold\",     # other options are: \"IdenticalTopologicalScaffold\", \n",
    "                                           #                    \"NoFilter\" and \"ScaffoldSimilarity\"\n",
    "                                           # -> use \"NoFilter\" to disable this feature\n",
    "    \"nbmax\": 25,                           # the bin size; penalization will start once this is exceeded\n",
    "    \"minscore\": 0.4,                       # the minimum total score to be considered for binning\n",
    "    \"minsimilarity\": 0.4                   # the minimum similarity to be placed into the same bin\n",
    "}"
   ]
  },
  {
   "cell_type": "markdown",
   "metadata": {},
   "source": [
    "### D) Set Inception\n",
    "* `smiles` provide here a list of smiles to be incepted \n",
    "* `memory_size` the number of smiles allowed in the inception memory\n",
    "* `sample_size` the number of smiles that can be sampled at each reinforcement learning step from inception memory"
   ]
  },
  {
   "cell_type": "code",
   "execution_count": 6,
   "metadata": {},
   "outputs": [],
   "source": [
    "# prepare the inception (we do not use it in this example, so \"smiles\" is an empty list)\n",
    "configuration[\"parameters\"][\"inception\"] = {\n",
    "    \"smiles\": [],                          # fill in a list of SMILES here that can be used (or leave empty)\n",
    "    \"memory_size\": 100,                    # sets how many molecules are to be remembered\n",
    "    \"sample_size\": 10                      # how many are to be sampled each epoch from the memory\n",
    "}"
   ]
  },
  {
   "cell_type": "markdown",
   "metadata": {},
   "source": [
    "### E) Set the general Reinforcement Learning parameters\n",
    "* `n_steps` is the amount of Reinforcement Learning steps to perform. Best start with 1000 steps and see if thats enough.\n",
    "* `agent` is the generative model that undergoes transformation during the Reinforcement Learning run.\n",
    "\n",
    "We reccomend keeping the other parameters to their default values."
   ]
  },
  {
   "cell_type": "code",
   "execution_count": 7,
   "metadata": {},
   "outputs": [],
   "source": [
    "# set all \"reinforcement learning\"-specific run parameters\n",
    "configuration[\"parameters\"][\"reinforcement_learning\"] = {\n",
    "    \"prior\": os.path.join(ipynb_path, \"models/random.prior.new\"), # path to the pre-trained model\n",
    "    \"agent\": os.path.join(ipynb_path, \"models/random.prior.new\"), # path to the pre-trained model\n",
    "    \"n_steps\": 125,                        # the number of epochs (steps) to be performed; often 1000\n",
    "    \"sigma\": 128,                          # used to calculate the \"augmented likelihood\", see publication\n",
    "    \"learning_rate\": 0.0001,               # sets how strongly the agent is influenced by each epoch\n",
    "    \"batch_size\": 128,                     # specifies how many molecules are generated per epoch\n",
    "    \"margin_threshold\": 50                 # specify the (positive) margin between agent and prior\n",
    "}"
   ]
  },
  {
   "cell_type": "markdown",
   "metadata": {},
   "source": [
    "### F) Define the scoring function\n",
    "We will use a `custom_product` type. The component types included are:\n",
    "* `predictive_property` which is the target activity to _Aurora_ kinase represented by the predictive `regression` model. Note that we set the weight of this component to be the highest.\n",
    "* `matching_substructure` the `\"smiles\"` field actually can take both list of SMILES or SMARTS. Normally we reccomend using one or a couple of SMARTS patterns defining your pharmacophore.\n",
    "* `custom_alerts` the `\"smiles\"` field  also can work with SMILES or SMARTS\n",
    "* `selectivity` this is the component that maximizes the `delta` between _Aurora_ and _B RAF_ kinases. Note that `delta` is undergoing transformation. Essentially if the individual prediction is higher for _Aurora_ than _B RAF_ the score will be above 0. The `weight` for this component is set lower than `predictive_property`. The relevant fields that might need to be adjusted to your needs are `activity_model_path` and `offtarget_specific_parameters`. \n",
    "\n",
    "Note: All models used in this example are regression models\n"
   ]
  },
  {
   "cell_type": "code",
   "execution_count": 8,
   "metadata": {},
   "outputs": [],
   "source": [
    "# prepare the scoring function definition and add at the end\n",
    "scoring_function = {\n",
    "    \"name\": \"custom_product\",              # this is our default one (alternative: \"custom_sum\")\n",
    "    \"parallel\": False,                     # sets whether components are to be executed\n",
    "                                           # in parallel; note, that python uses \"False\" / \"True\"\n",
    "                                           # but the JSON \"false\" / \"true\"\n",
    "\n",
    "    # the \"parameters\" list holds the individual components\n",
    "    \"parameters\": [\n",
    "\n",
    "    # add component: an activity model\n",
    "    {\n",
    "        \"component_type\": \"predictive_property\", # this is a scikit-learn model, returning\n",
    "                                                 # activity values\n",
    "        \"name\": \"Aurora kinase\",                 # arbitrary name for the component\n",
    "        \"weight\": 6,                             # the weight (\"importance\") of the component (default: 1)                       # list of SMILES (not required for this component)\n",
    "        \"specific_parameters\": {\n",
    "            \"model_path\": os.path.join(ipynb_path, \"models/Aurora_model.pkl\"),   # absolute model path \n",
    "            \"transformation\": {\n",
    "                \"transformation_type\": \"sigmoid\",  # see description above\n",
    "                \"high\": 9,                         # parameter for sigmoid transformation\n",
    "                \"low\": 4,                          # parameter for sigmoid transformation\n",
    "                \"k\": 0.25                          # parameter for sigmoid transformation\n",
    "                },\n",
    "            \"scikit\": \"regression\",                # model can be \"regression\" or \"classification\"\n",
    "            \"descriptor_type\": \"ecfp_counts\",      # sets the input descriptor for this model\n",
    "            \"size\": 2048,                          # parameter of descriptor type\n",
    "            \"radius\": 3,                           # parameter of descriptor type\n",
    "            \"use_counts\": True,                    # parameter of descriptor type\n",
    "            \"use_features\": True                   # parameter of descriptor type\n",
    "        }\n",
    "    },\n",
    "\n",
    "    # add component: enforce the match to a given substructure\n",
    "    {\n",
    "        \"component_type\": \"matching_substructure\", \n",
    "        \"name\": \"Matching substructure\",       # arbitrary name for the component\n",
    "        \"weight\": 1,                           # the weight of the component (default: 1)\n",
    "        \"specific_parameters\": {\n",
    "            \"smiles\": [\"c1ccccc1CC\"]           # a match with this substructure is required\n",
    "        }\n",
    "    },\n",
    "\n",
    "    # add component: enforce to NOT match a given substructure\n",
    "    {\n",
    "        \"component_type\": \"custom_alerts\",\n",
    "        \"name\": \"Custom alerts\",               # arbitrary name for the component\n",
    "        \"weight\": 1,                           # the weight of the component (default: 1)\n",
    "        \"specific_parameters\": {\n",
    "            \"smiles\": [                        # specify the substructures (as list) to penalize\n",
    "            \"[*;r8]\",\n",
    "            \"[*;r9]\",\n",
    "            \"[*;r10]\",\n",
    "            \"[*;r11]\",\n",
    "            \"[*;r12]\",\n",
    "            \"[*;r13]\",\n",
    "            \"[*;r14]\",\n",
    "            \"[*;r15]\",\n",
    "            \"[*;r16]\",\n",
    "            \"[*;r17]\",\n",
    "            \"[#8][#8]\",\n",
    "            \"[#6;+]\",\n",
    "            \"[#16][#16]\",\n",
    "            \"[#7;!n][S;!$(S(=O)=O)]\",\n",
    "            \"[#7;!n][#7;!n]\",\n",
    "            \"C#C\",\n",
    "            \"C(=[O,S])[O,S]\",\n",
    "            \"[#7;!n][C;!$(C(=[O,N])[N,O])][#16;!s]\",\n",
    "            \"[#7;!n][C;!$(C(=[O,N])[N,O])][#7;!n]\",\n",
    "            \"[#7;!n][C;!$(C(=[O,N])[N,O])][#8;!o]\",\n",
    "            \"[#8;!o][C;!$(C(=[O,N])[N,O])][#16;!s]\",\n",
    "            \"[#8;!o][C;!$(C(=[O,N])[N,O])][#8;!o]\",\n",
    "            \"[#16;!s][C;!$(C(=[O,N])[N,O])][#16;!s]\"\n",
    "            ]\n",
    "        }\n",
    "    },\n",
    "\n",
    "    # add component: selectivity\n",
    "    {\n",
    "      \"component_type\": \"selectivity\",\n",
    "      \"name\": \"B-RAF selectivity\",\n",
    "      \"weight\": 3,\n",
    "      \"specific_parameters\": {\n",
    "        \"activity_specific_parameters\": {\n",
    "            \"model_path\": os.path.join(ipynb_path, \"models/Aurora_model.pkl\"),\n",
    "            \"scikit\": \"regression\",\n",
    "            \"descriptor_type\": \"ecfp_counts\",\n",
    "            \"size\": 2048,\n",
    "            \"radius\": 3,\n",
    "            \"use_counts\": True,\n",
    "            \"use_features\": True\n",
    "            },\n",
    "        \"offtarget_specific_parameters\": {\n",
    "            \"model_path\": os.path.join(ipynb_path, \"models/B-RAF_model.pkl\"),\n",
    "            \"scikit\": \"regression\",\n",
    "            \"descriptor_type\": \"ecfp_counts\",\n",
    "            \"size\": 2048,\n",
    "            \"radius\": 3,\n",
    "            \"use_counts\": True,\n",
    "            \"use_features\": True\n",
    "            },\n",
    "        \"delta_transformation_parameters\": {\n",
    "            \"transformation_type\": \"sigmoid\",\n",
    "            \"high\": 3,\n",
    "            \"k\": 0.25,\n",
    "            \"low\": 0\n",
    "            }\n",
    "        }\n",
    "    }\n",
    "]}\n",
    "configuration[\"parameters\"][\"scoring_function\"] = scoring_function"
   ]
  },
  {
   "cell_type": "markdown",
   "metadata": {},
   "source": [
    "#### NOTE:  Getting the selectivity score component to reach satisfactory levels is non-trivial and might take considerably higher number of steps"
   ]
  },
  {
   "cell_type": "markdown",
   "metadata": {},
   "source": [
    "## 3. Write out the configuration"
   ]
  },
  {
   "cell_type": "markdown",
   "metadata": {},
   "source": [
    "We now have successfully filled the dictionary and will write it out as a `JSON` file in the output directory. Please have a look at the file before proceeding in order to see how the paths have been inserted where required and the `dict` -> `JSON` translations (e.g. `True` to `true`) have taken place."
   ]
  },
  {
   "cell_type": "code",
   "execution_count": 9,
   "metadata": {},
   "outputs": [],
   "source": [
    "# write the configuration file to the disc\n",
    "configuration_JSON_path = os.path.join(output_dir, \"RL_config.json\")\n",
    "with open(configuration_JSON_path, 'w') as f:\n",
    "    json.dump(configuration, f, indent=4, sort_keys=True)"
   ]
  },
  {
   "cell_type": "markdown",
   "metadata": {},
   "source": [
    "## 4. Run `REINVENT`\n",
    "Now it is time to execute `REINVENT` locally. Note, that depending on the number of epochs (steps) and the execution time of the scoring function components, this might take a while. As we have only specified a low number of epochs (125) and all components should be fairly quick, this should not take too long in our case though.\n",
    "\n",
    "The command-line execution looks like this:\n",
    "```\n",
    "# activate envionment\n",
    "conda activate reinvent.v3.2\n",
    "\n",
    "# execute REINVENT\n",
    "python <your_path>/input.py <config>.json\n",
    "```"
   ]
  },
  {
   "cell_type": "code",
   "execution_count": 10,
   "metadata": {},
   "outputs": [],
   "source": [
    "%%capture captured_err_stream --no-stderr\n",
    "\n",
    "# execute REINVENT from the command-line\n",
    "!{reinvent_env}/bin/python {reinvent_dir}/input.py {configuration_JSON_path}"
   ]
  },
  {
   "cell_type": "code",
   "execution_count": 11,
   "metadata": {},
   "outputs": [],
   "source": [
    "# print the output to a file, just to have it for documentation\n",
    "with open(os.path.join(output_dir, \"run.err\"), 'w') as file:\n",
    "    file.write(captured_err_stream.stdout)\n",
    "\n",
    "# prepare the output to be parsed\n",
    "list_epochs = re.findall(r'INFO.*?local', captured_err_stream.stdout, re.DOTALL)\n",
    "data = [epoch for idx, epoch in enumerate(list_epochs) if idx in [1, 75, 124]]\n",
    "data = [\"\\n\".join(element.splitlines()[:-1]) for element in data]"
   ]
  },
  {
   "cell_type": "markdown",
   "metadata": {},
   "source": [
    "We have calculated a total of 125 epochs, let us quickly investigate how the agent fared. Below you see the print-out of the first, one from the middle and the last epoch, respectively. Note, that the fraction of valid `SMILES` is high right from the start (because we use a pre-trained prior). You can see the partial scores for each component for the first couple of compounds, but the most important information is the average score. You can clearly see how it increases over time."
   ]
  },
  {
   "cell_type": "code",
   "execution_count": 12,
   "metadata": {},
   "outputs": [
    {
     "name": "stdout",
     "output_type": "stream",
     "text": [
      "INFO     \n",
      " Step 0   Fraction valid SMILES: 100.0   Score: 0.0588   Time elapsed: 0   Time left: 0.0\n",
      "  Agent     Prior     Target     Score     SMILES\n",
      "-32.17    -32.17    -22.23      0.08      O(Cc1ccccc1)CC1CN(c2nc(=N)[nH][nH]2)c2ncccc21\n",
      "-26.33    -26.33    -26.33      0.00      O=c1[nH]c(=O)c(C(C)C)c(Sc2cccc(Cl)c2)n1OC(=O)C(C)(C)C\n",
      "-20.79    -20.79     -9.96      0.08      O=C(C)NCCNS(=O)(c1ccc(F)cc1)=O\n",
      "-21.49    -21.49     -4.67      0.13      c1c(OC)c(C(=O)C=Cc2cc3c(cc2)OCCO3)c(OC)cc1OC\n",
      "-41.84    -41.84    -33.73      0.06      c1ccc2c(c1)n(CC(NCCCCCCN(c1ccc([N+]([O-])=O)c3c1non3)C)=O)cn2\n",
      "-29.55    -29.55    -29.55      0.00      Oc1c(CC(C)C)c(=O)oc2cc(OC(C(=O)OC)C)ccc21\n",
      "-37.04    -37.04    -28.66      0.07      C(F)(c1cc(NC(c2ccc(=O)n(C3CCN(c4ccc(C#N)cc4)CC3)c2)=O)ccc1)(F)F\n",
      "-30.75    -30.75    -19.08      0.09      c1[nH]c(=N)cc2c1c(-c1cc(CN(C)C)ccc1)nc(N1CCOCC1)n2\n",
      "-32.67    -32.67    -25.19      0.06      c1cc(Oc2cccc(-c3[nH]n4c(c(=NC(C)=O)c3)ncc4-c3ccccc3)c2)ccc1\n",
      "-20.92    -20.92      3.66      0.19      C1(C)(C)C(=O)C(c2ccccc2)=C(c2ccccc2)N1C(C)=O\n",
      "Aurora kinase   Matching substructure   Custom alerts   B-RAF selectivity   raw_Aurora kinase   raw_B-RAF selectivity\n",
      "0.34779155254364014   0.5   1.0   0.030935922637581825   5.953865051269531   6.248932361602783   \n",
      "0.32661983370780945   0.5   0.0   0.024669265374541283   5.8715643882751465   6.287959098815918   \n",
      "0.37420323491096497   0.5   1.0   0.034623824059963226   6.053348541259766   6.287734508514404   \n",
      "0.3566257953643799   1.0   1.0   0.01784040778875351   5.9874982833862305   6.576430797576904   \n",
      "0.3567970395088196   0.5   1.0   0.015988636761903763   5.9881463050842285   6.6351728439331055   \n",
      "0.3861369490623474   0.5   0.0   0.03852793574333191   6.097339630126953   6.273932933807373   \n",
      "0.4090399146080017   0.5   1.0   0.01342003233730793   6.180415153503418   6.920069694519043   \n",
      "0.4879460632801056   0.5   1.0   0.025434015318751335   6.4581122398376465   6.858187675476074   \n",
      "0.3990388512611389   0.5   1.0   0.009999999776482582   6.1443376541137695   7.210573673248291   \n",
      "0.4043125808238983   1.0   1.0   0.04332761839032173   6.163397789001465   6.276195526123047   \n",
      "\n",
      "INFO     \n",
      " Step 72   Fraction valid SMILES: 100.0   Score: 0.0801   Time elapsed: 39   Time left: 28.3\n",
      "  Agent     Prior     Target     Score     SMILES\n",
      "-33.37    -35.77     -3.71      0.18      c1ccccc1C(NC(c1c2ccc(OCC)cc2[nH]c(=Nc2ccc(C)cc2)c1)=O)C\n",
      "-25.19    -27.57     -8.36      0.11      c1c(C)[nH]c(=Nc2cnccc2)[nH]c1=NC(C)c1ccc(C(F)(F)F)cc1\n",
      "-35.05    -36.99    -14.10      0.13      N1(Cc2ccc(CC)cc2)C(c2ccc(O)cc2)C(OC)C(=O)C1c1ncccc1\n",
      "-28.17    -28.39     -9.58      0.11      c1c(C2=CCN(CCNC(C3C(C)=NC(=O)CC3c3c(Cl)cc(F)cc3)=O)CC2)ccc(Cl)c1\n",
      "-25.61    -25.21     -2.08      0.13      Clc1c(O)c(CN)cc(C(c2cc(C)c(OCC(O)C(C)(C)C)cc2)(CC)CC)c1\n",
      "-22.22    -23.38    -13.16      0.06      c1cc(N(CC)c2nc(C)cc(-c3c(OC)cc(OC)cc3)n2)ccc1OC\n",
      "-29.45    -30.94    -18.35      0.07      c12ccccc1nc(C(N(Cc1cc(OC)c(OC)cc1)C(c1ccco1)=O)C(NC1CCCCC1)=O)s2\n",
      "-24.01    -23.29    -11.87      0.06      S(c1ccc(NC(=O)c2nn(-c3ccccc3)cc2OC)cc1)(N)(=O)=O\n",
      "-23.94    -24.56    -24.56      0.00      c12c([nH]c(C(=O)NN)n1)ccc(C(c1ccccc1)=O)c2\n",
      "-31.83    -30.08    -18.89      0.06      c1c2c(sc(S(NC(Nc3c(Cl)cccc3Cl)=O)(=O)=O)c2-c2ccccc2)ccc1Cl\n",
      "Aurora kinase   Matching substructure   Custom alerts   B-RAF selectivity   raw_Aurora kinase   raw_B-RAF selectivity\n",
      "0.39693862199783325   1.0   1.0   0.037093386054039   6.136723518371582   6.333868980407715   \n",
      "0.3547687232494354   1.0   1.0   0.009999999776482582   5.980459690093994   7.5233964920043945   \n",
      "0.331422358751297   1.0   1.0   0.01936129480600357   5.890460014343262   6.435949325561523   \n",
      "0.34352990984916687   1.0   1.0   0.009999999776482582   5.937499046325684   6.959367752075195   \n",
      "0.3568093478679657   1.0   1.0   0.0172341950237751   5.988193035125732   6.595463752746582   \n",
      "0.389138787984848   0.5   1.0   0.009999999776482582   6.10832405090332   7.075010299682617   \n",
      "0.33279114961624146   0.5   1.0   0.02558685839176178   5.895820140838623   6.292691230773926   \n",
      "0.31512343883514404   0.5   1.0   0.021279850974678993   5.825736999511719   6.320964813232422   \n",
      "0.4021010398864746   0.5   0.0   0.053919386118650436   6.155415058135986   6.148434638977051   \n",
      "0.4094942808151245   0.5   1.0   0.011852771043777466   6.182047367095947   6.987249374389648   \n",
      "\n",
      "INFO     \n",
      " Step 121   Fraction valid SMILES: 98.4   Score: 0.0910   Time elapsed: 66   Time left: 2.2\n",
      "  Agent     Prior     Target     Score     SMILES\n",
      "-25.94    -26.68    -15.29      0.06      c1(OC)cc(Cc2c(OCc3ccccc3)cc(OCc3ccccc3)cc2)cc(OC)c1OC\n",
      "-23.66    -22.24    -11.16      0.06      O=S(N1CCCCC1)(c1cc(NC(CN2C(=O)C3(CCCC3)NC2=O)=O)ccc1OC)=O\n",
      "-35.40    -34.06    -34.06      0.00      O(CCCCCC)C(=O)CC(=O)N1CC(n2c3nc[nH]c(=N)c3cc2)CCC1\n",
      "-18.28    -17.67     -7.12      0.06      [nH]1c(Cl)cc(C)nc1=N\n",
      "-20.51    -20.60      1.32      0.12      C1CCc2ccccc2N1C(=O)C(Cl)Cl\n",
      "-28.48    -29.67      4.51      0.19      C(NC(C)(C)C)(=O)C(c1ccncc1)N(C(c1nsc(Cl)c1Cl)=O)c1c(CC)cccc1\n",
      "-35.93    -38.11    -16.13      0.12      C(C)(C)NCc1ccc(-c2ccc(CC(N(CCc3cc(OC)ccc3)CCN)=O)cc2)cc1\n",
      "-55.08    -52.88    -23.56      0.16      c1(C(C(NC(=O)c2[nH]c3c(cc(C(C(C(=O)N4CC5CCC4CC5)(C)C)(C)C)cc3)c2)(C)C)C)cccc(S(=O)(=O)C)c1\n",
      "-35.32    -34.26    -34.26      0.00      C1OC(CCC(O)CCCCCNS(=O)(=O)c2cc(Cl)cc(Cl)c2)CO1\n",
      "-24.71    -25.57     -9.18      0.09      C(=Cc1ccc(C)o1)C(Nc1ccc(C(NCC(C)C)=O)cc1)=O\n",
      "Aurora kinase   Matching substructure   Custom alerts   B-RAF selectivity   raw_Aurora kinase   raw_B-RAF selectivity\n",
      "0.30970191955566406   0.5   1.0   0.021903088316321373   5.80381441116333   6.283666133880615   \n",
      "0.3219488859176636   0.5   1.0   0.01858287677168846   5.853048801422119   6.420337677001953   \n",
      "0.38403600454330444   0.5   0.0   0.05993147939443588   6.089632987976074   6.024238586425781   \n",
      "0.3016478717327118   0.5   1.0   0.018287640064954758   5.7708516120910645   6.346643447875977   \n",
      "0.3117417097091675   1.0   1.0   0.019202878698706627   5.812087059020996   6.361942291259766   \n",
      "0.40263494849205017   1.0   1.0   0.04365440458059311   6.15734338760376   6.266047477722168   \n",
      "0.35572290420532227   1.0   1.0   0.014862311072647572   5.984078407287598   6.66977071762085   \n",
      "0.3576439619064331   1.0   1.0   0.03492094576358795   5.991350173950195   6.2211222648620605   \n",
      "0.3433853089809418   0.5   0.0   0.021752959117293358   5.936942100524902   6.4204583168029785   \n",
      "0.4569031000137329   0.5   1.0   0.02993093617260456   6.349893569946289   6.662712574005127   \n",
      "\n"
     ]
    }
   ],
   "source": [
    "for element in data:\n",
    "    print(element)"
   ]
  },
  {
   "cell_type": "markdown",
   "metadata": {},
   "source": [
    "## 5. Analyse the results\n",
    "In order to analyze the run in a more intuitive way, we can use `tensorboard`:\n",
    "\n",
    "```\n",
    "# go to the root folder of the output\n",
    "cd <your_path>/REINVENT_RL_demo\n",
    "\n",
    "# make sure, you have activated the proper environment\n",
    "conda activate reinvent.v3.2\n",
    "\n",
    "# start tensorboard\n",
    "tensorboard --logdir progress.log\n",
    "```\n",
    "\n",
    "Then copy the link provided to a browser window, e.g. \"http://workstation.url.com:6006/\". The following figures are exmaple plots - remember, that there is always some randomness involved. In `tensorboard` you can monitor the individual scoring function components. What you see is, that all of those depicted went up (and `Fraction_valid_SMILES` was high troughout). Not shown is the predictive model, which did not perform all that well, so you might want to consider a higher weight next time.\n",
    "\n",
    "![](img/individual_components.png)\n",
    "\n",
    "Also the total score increased over time.\n",
    "\n",
    "![](img/total_score.png)\n",
    "\n",
    "It might also be informative to look at the results from the prior (dark blue), the agent (blue) and the augmented likelihood (purple) over time.\n",
    "\n",
    "![](img/likelihood.png)\n",
    "\n",
    "And last but not least, there is a \"Images\" tab available that lets you browse through the compounds generated in an easy way. In the molecules, the substructure matches that were defined to be required are highlighted in red (if present). Also, the total scores are given per molecule.\n",
    "\n",
    "![](img/molecules.png)"
   ]
  },
  {
   "cell_type": "markdown",
   "metadata": {},
   "source": [
    "The results folder will hold four different files: the agent (pickled), the input JSON (just for reference purposes), the memory (highest scoring compounds in `CSV` format) and the scaffold memory (in `CSV` format)."
   ]
  },
  {
   "cell_type": "code",
   "execution_count": 13,
   "metadata": {},
   "outputs": [
    {
     "name": "stdout",
     "output_type": "stream",
     "text": [
      ",smiles,score,likelihood\r\n",
      "21,c1c(C(N(c2ccc(C(C)C)cc2)C(=O)CNC(c2sccc2)=O)C(NCC2OCCC2)=O)csc1,0.33406273,-29.449839\r\n",
      "22,O=C(c1c(O)c2c(cc1OC)OC(c1ccc(O)c(OC)c1)C(C(c1ccc(O)c(O)c1)O)O2)c1cc(OC)c(O)cc1,0.331094,-41.382904\r\n",
      "82,CC(C)(C)C1Cc2c(cnn2-c2ccc(C)c(Cl)c2)C(NC(CC(Cc2cc(F)c(F)cc2F)N)=O)C1,0.32787415,-36.11657\r\n",
      "78,c1(C(CN(C)Cc2c(C)cccc2)O)ccc(O)c(NS(CCC)(=O)=O)c1,0.3087646,-31.27482\r\n",
      "20,c12ccc(CCN3CCN(c4c5nc(C)ccc5ccc4)CC3)c(NC(C)=O)c1[nH]cc2,0.30833337,-33.57712\r\n",
      "86,c1ccc(NC(c2cccc(C(F)(F)F)c2)(CCN(C)C)c2ccccc2)cc1CN(CCO)CC,0.30266538,-41.501762\r\n",
      "24,C1(=O)N=c2c(cc(C(F)(F)F)c(C(F)(F)F)c2)=NC12CCCN1CCc3c(C(F)(F)F)cccc3C21,0.30177075,-44.549812\r\n",
      "72,c1cc(C(c2cc(C(F)(F)F)ccc2)N2CCN(C(CC(Cc3cc(F)c(F)cc3F)N)=O)CC2)ccc1C(F)(F)F,0.30173576,-29.165424\r\n",
      "84,c1c(OC(C)C)cccc1C(=O)C1CCN(CCc2ccc(CCNCC(c3ccc(O)c(NS(C)(=O)=O)c3)O)cc2)CC1,0.30140418,-35.41992\r\n",
      "4,Cc1n(CCCc2ccccc2)c(=O)n(C(NC2CCCCC2)=O)n1,0.30002508,-26.429695\r\n",
      "14,c1nc(Cc2c3cc(OCC(=O)N4CCC(CCCC5CCN(Cc6cccc(C(=O)C)c6)CC5)CC4)ccc3[nH]c2)c[nH]1,0.29886743,-43.54016\r\n",
      "46,O(c1c(O)cc2c(c1)C(C)(C)C(NCCN(C)C)C2c1ccccc1)C,0.29715502,-27.58696\r\n",
      "116,o1c(CN(C2Cc3c(ccc(O)c3)CC2)CC2CC2)ccc1C(NCCc1ccc(C)cc1)=O,0.29626685,-35.093674\r\n",
      "25,C1CN(c2ncncc2)CC2(c3c(cccc3)NC2=O)C1,0.29467845,-27.22528\r\n"
     ]
    }
   ],
   "source": [
    "!head -n 15 {output_dir}/results/memory.csv"
   ]
  }
 ],
 "metadata": {
  "kernelspec": {
   "display_name": "Python 3",
   "language": "python",
   "name": "python3"
  },
  "language_info": {
   "codemirror_mode": {
    "name": "ipython",
    "version": 3
   },
   "file_extension": ".py",
   "mimetype": "text/x-python",
   "name": "python",
   "nbconvert_exporter": "python",
   "pygments_lexer": "ipython3",
   "version": "3.7.6"
  }
 },
 "nbformat": 4,
 "nbformat_minor": 2
}
