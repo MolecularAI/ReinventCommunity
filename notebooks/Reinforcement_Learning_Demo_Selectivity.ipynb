{
 "cells": [
  {
   "cell_type": "markdown",
   "metadata": {},
   "source": [
    "> **How to run this notebook (command-line)?**\n",
    "1. Install the `reinvent_shared.v2.1` environment:\n",
    "`conda env create -f reinvent_shared.yml`\n",
    "2. Activate the environment:\n",
    "`conda activate reinvent_shared.v2.1`\n",
    "3. Execute `jupyter`:\n",
    "`jupyter notebook`\n",
    "4. Copy the link to a browser\n",
    "\n",
    "\n",
    "# `REINVENT 2.0`: reinforcement learning selectivity demo\n",
    "This illustrates the use of a selectivity score component. This component is normally used in a scenario where ligands are designed to bind to a concrete target and at the same time should not be binding to one or more off-targets. The example here looks at a single off-target case.\n",
    "\n",
    "We will demonstrate how to set up a `REINVENT` run that optimizes molecules to be selective against _Aurora_ kinase by minimizing at the same time their affinity to _B RAF_ kinase.\n",
    "\n",
    "NOTE: There is a detailed reasoning for each code block provided in the `Reinforcement Learning Demo` notebook.\n"
   ]
  },
  {
   "cell_type": "markdown",
   "metadata": {},
   "source": [
    "## 1. Set up the paths\n",
    "_Please update the following code block such that it reflects your system's installation and execute it._"
   ]
  },
  {
   "cell_type": "code",
   "execution_count": 1,
   "metadata": {},
   "outputs": [],
   "source": [
    "# load dependencies\n",
    "import os\n",
    "import re\n",
    "import json\n",
    "import tempfile\n",
    "\n",
    "# --------- change these path variables as required\n",
    "reinvent_dir = os.path.expanduser(\"~/Desktop/Projects/Publications/2020/2020-04_REINVENT_2.0/Reinvent\")\n",
    "reinvent_env = os.path.expanduser(\"~/miniconda3/envs/reinvent_shared.v2.1\")\n",
    "output_dir = os.path.expanduser(\"~/Desktop/REINVENT_RL_demo\")\n",
    "\n",
    "# --------- do not change\n",
    "# get the notebook's root path\n",
    "try: ipynb_path\n",
    "except NameError: ipynb_path = os.getcwd()\n",
    "\n",
    "# if required, generate a folder to store the results\n",
    "try:\n",
    "    os.mkdir(output_dir)\n",
    "except FileExistsError:\n",
    "    pass"
   ]
  },
  {
   "cell_type": "code",
   "execution_count": 2,
   "metadata": {},
   "outputs": [],
   "source": [
    "# load dependencies\n",
    "import os\n",
    "import re\n",
    "import json\n",
    "import tempfile\n",
    "\n",
    "# --------- change these path variables as required\n",
    "reinvent_dir = os.path.expanduser(\"/home/kjrw606/PycharmProjects/github_repositories/reinvent\")\n",
    "reinvent_env = os.path.expanduser(\"/home/kjrw606/miniconda3/envs/reinvent_shared.v2.1\")\n",
    "output_dir = os.path.expanduser(\"~/Desktop/REINVENT_RL_demo\")\n",
    "\n",
    "# --------- do not change\n",
    "# get the notebook's root path\n",
    "try: ipynb_path\n",
    "except NameError: ipynb_path = os.getcwd()\n",
    "\n",
    "# if required, generate a folder to store the results\n",
    "try:\n",
    "    os.mkdir(output_dir)\n",
    "except FileExistsError:\n",
    "    pass"
   ]
  },
  {
   "cell_type": "markdown",
   "metadata": {},
   "source": [
    "## 2. Setting up the configuration \n",
    "In the cells below we will build a nested dictionary object that will be eventually converted to JSON file which in turn will be consumed by `REINVENT`. \n",
    "You can find this file in your `output_dir` location."
   ]
  },
  {
   "cell_type": "markdown",
   "metadata": {},
   "source": [
    "### A) Declare the run type"
   ]
  },
  {
   "cell_type": "code",
   "execution_count": 3,
   "metadata": {},
   "outputs": [],
   "source": [
    "# initialize the dictionary\n",
    "configuration = {\n",
    "    \"version\": 2,                          # we are going to use REINVENT's newest release\n",
    "    \"run_type\": \"reinforcement_learning\"   # other run types: \"sampling\", \"validation\",\n",
    "                                           #                  \"transfer_learning\",\n",
    "                                           #                  \"scoring\" and \"create_model\"\n",
    "}"
   ]
  },
  {
   "cell_type": "markdown",
   "metadata": {},
   "source": [
    "### B) Sort out the logging details\n",
    "This includes `resultdir` path where the results will be produced.\n",
    "\n",
    "Also: `REINVENT` can send custom log messages to a remote location. We have retained this capability in the code. if the `recipient` value differs from `\"local\"` `REINVENT` will attempt to POST the data to the specified `recipient`. "
   ]
  },
  {
   "cell_type": "code",
   "execution_count": 4,
   "metadata": {},
   "outputs": [],
   "source": [
    "# add block to specify whether to run locally or not and\n",
    "# where to store the results and logging\n",
    "configuration[\"logging\"] = {\n",
    "    \"sender\": \"http://0.0.0.1\",          # only relevant if \"recipient\" is set to \"remote\"\n",
    "    \"recipient\": \"local\",                  # either to local logging or use a remote REST-interface\n",
    "    \"logging_frequency\": 10,               # log every x-th steps\n",
    "    \"logging_path\": os.path.join(output_dir, \"progress.log\"), # load this folder in tensorboard\n",
    "    \"resultdir\": os.path.join(output_dir, \"results\"),         # will hold the compounds (SMILES) and summaries\n",
    "    \"job_name\": \"Reinforcement learning demo\",                # set an arbitrary job name for identification\n",
    "    \"job_id\": \"demo\"                       # only relevant if \"recipient\" is set to a specific REST endpoint\n",
    "}"
   ]
  },
  {
   "cell_type": "markdown",
   "metadata": {},
   "source": [
    "Create `\"parameters\"` field"
   ]
  },
  {
   "cell_type": "code",
   "execution_count": 5,
   "metadata": {},
   "outputs": [],
   "source": [
    "# add the \"parameters\" block\n",
    "configuration[\"parameters\"] = {}"
   ]
  },
  {
   "cell_type": "markdown",
   "metadata": {},
   "source": [
    "### C) Set Diversity Filter\n",
    "During each step of Reinforcement Learning the compounds scored above `minscore` threshold are kept in memory. Those scored smiles are written out to a file in the results folder `scaffold_memory.csv`."
   ]
  },
  {
   "cell_type": "code",
   "execution_count": 6,
   "metadata": {},
   "outputs": [],
   "source": [
    "# add a \"diversity_filter\"\n",
    "configuration[\"parameters\"][\"diversity_filter\"] =  {\n",
    "    \"name\": \"IdenticalMurckoScaffold\",     # other options are: \"IdenticalTopologicalScaffold\", \n",
    "                                           #                    \"NoFilter\" and \"ScaffoldSimilarity\"\n",
    "                                           # -> use \"NoFilter\" to disable this feature\n",
    "    \"nbmax\": 25,                           # the bin size; penalization will start once this is exceeded\n",
    "    \"minscore\": 0.4,                       # the minimum total score to be considered for binning\n",
    "    \"minsimilarity\": 0.4                   # the minimum similarity to be placed into the same bin\n",
    "}"
   ]
  },
  {
   "cell_type": "markdown",
   "metadata": {},
   "source": [
    "### D) Set Inception\n",
    "* `smiles` provide here a list of smiles to be incepted \n",
    "* `memory_size` the number of smiles allowed in the inception memory\n",
    "* `sample_size` the number of smiles that can be sampled at each reinforcement learning step from inception memory"
   ]
  },
  {
   "cell_type": "code",
   "execution_count": 7,
   "metadata": {},
   "outputs": [],
   "source": [
    "# prepare the inception (we do not use it in this example, so \"smiles\" is an empty list)\n",
    "configuration[\"parameters\"][\"inception\"] = {\n",
    "    \"smiles\": [],                          # fill in a list of SMILES here that can be used (or leave empty)\n",
    "    \"memory_size\": 100,                    # sets how many molecules are to be remembered\n",
    "    \"sample_size\": 10                      # how many are to be sampled each epoch from the memory\n",
    "}"
   ]
  },
  {
   "cell_type": "markdown",
   "metadata": {},
   "source": [
    "### E) Set the general Reinforcement Learning parameters\n",
    "* `n_steps` is the amount of Reinforcement Learning steps to perform. Best start with 1000 steps and see if thats enough.\n",
    "* `agent` is the generative model that undergoes transformation during the Reinforcement Learning run.\n",
    "\n",
    "We reccomend keeping the other parameters to their default values."
   ]
  },
  {
   "cell_type": "code",
   "execution_count": 8,
   "metadata": {},
   "outputs": [],
   "source": [
    "# set all \"reinforcement learning\"-specific run parameters\n",
    "configuration[\"parameters\"][\"reinforcement_learning\"] = {\n",
    "    \"prior\": os.path.join(reinvent_dir, \"data/augmented.prior\"), # path to the pre-trained model\n",
    "    \"agent\": os.path.join(reinvent_dir, \"data/augmented.prior\"), # path to the pre-trained model\n",
    "    \"n_steps\": 125,                        # the number of epochs (steps) to be performed; often 1000\n",
    "    \"sigma\": 128,                          # used to calculate the \"augmented likelihood\", see publication\n",
    "    \"learning_rate\": 0.0001,               # sets how strongly the agent is influenced by each epoch\n",
    "    \"batch_size\": 128,                     # specifies how many molecules are generated per epoch\n",
    "    \"reset\": 0,                            # if not '0', the reset the agent if threshold reached to get\n",
    "                                           # more diverse solutions\n",
    "    \"reset_score_cutoff\": 0.5,             # if resetting is enabled, this is the threshold\n",
    "    \"margin_threshold\": 50                 # specify the (positive) margin between agent and prior\n",
    "}"
   ]
  },
  {
   "cell_type": "markdown",
   "metadata": {},
   "source": [
    "### F) Define the scoring function\n",
    "We will use a `custom_product` type. The component types included are:\n",
    "* `predictive_property` which is the target activity to _Aurora_ kinase represented by the predictive `regression` model. Note that we set the weight of this component to be the highest.\n",
    "* `matching_substructure` the `\"smiles\"` field actually can take both list of SMILES or SMARTS. Normally we reccomend using one or a couple of SMARTS patterns defining your pharmacophore.\n",
    "* `custom_alerts` the `\"smiles\"` field  also can work with SMILES or SMARTS\n",
    "* `selectivity` this is the component that maximizes the `delta` between _Aurora_ and _B RAF_ kinases. Note that `delta` is undergoing transformation. Essentially if the individual prediction is higher for _Aurora_ than _B RAF_ the score will be above 0. The `weight` for this component is set lower than `predictive_property`. The relevant fields that might need to be adjusted to your needs are `activity_model_path` and `offtarget_specific_parameters`. \n",
    "\n",
    "Note: All models used in this example are regression models\n"
   ]
  },
  {
   "cell_type": "code",
   "execution_count": 9,
   "metadata": {},
   "outputs": [],
   "source": [
    "# prepare the scoring function definition and add at the end\n",
    "scoring_function = {\n",
    "    \"name\": \"custom_product\",              # this is our default one (alternative: \"custom_sum\")\n",
    "    \"parallel\": False,                     # sets whether components are to be executed\n",
    "                                           # in parallel; note, that python uses \"False\" / \"True\"\n",
    "                                           # but the JSON \"false\" / \"true\"\n",
    "\n",
    "    # the \"parameters\" list holds the individual components\n",
    "    \"parameters\": [\n",
    "\n",
    "    # add component: an activity model\n",
    "    {\n",
    "        \"component_type\": \"predictive_property\", # this is a scikit-learn model, returning\n",
    "                                                 # activity values\n",
    "        \"name\": \"Aurora kinase\",        # arbitrary name for the component\n",
    "        \"weight\": 6,                       # the weight (\"importance\") of the component (default: 1)\n",
    "        \"model_path\": os.path.join(reinvent_dir, \"data/Aurora_model.pkl\"),   # absolute model path\n",
    "        \"smiles\": [],                            # list of SMILES (not required for this component)\n",
    "        \"specific_parameters\": {\n",
    "            \"transformation_type\": \"sigmoid\",  # see description above\n",
    "            \"high\": 9,                         # parameter for sigmoid transformation\n",
    "            \"low\": 4,                          # parameter for sigmoid transformation\n",
    "            \"k\": 0.25,                         # parameter for sigmoid transformation\n",
    "            \"scikit\": \"regression\",            # model can be \"regression\" or \"classification\"\n",
    "            \"transformation\": True,            # enable the transformation\n",
    "            \"descriptor_type\": \"ecfp_counts\",  # sets the input descriptor for this model\n",
    "            \"size\": 2048,                      # parameter of descriptor type\n",
    "            \"radius\": 3,                       # parameter of descriptor type\n",
    "            \"use_counts\": True,                # parameter of descriptor type\n",
    "            \"use_features\": True               # parameter of descriptor type\n",
    "        }\n",
    "    },\n",
    "\n",
    "    # add component: enforce the match to a given substructure\n",
    "    {\n",
    "        \"component_type\": \"matching_substructure\", \n",
    "        \"name\": \"Matching substructure\",       # arbitrary name for the component\n",
    "        \"weight\": 1,                           # the weight of the component (default: 1)\n",
    "        \"model_path\": None,                    # not required; note, this is \"null\" in JSON\n",
    "        \"smiles\": [\"c1ccccc1CC\"],              # a match with this substructure is required\n",
    "        \"specific_parameters\": None            # not required; note, this is \"null\" in JSON\n",
    "    },\n",
    "\n",
    "    # add component: enforce to NOT match a given substructure\n",
    "    {\n",
    "        \"component_type\": \"custom_alerts\",\n",
    "        \"name\": \"Custom alerts\",               # arbitrary name for the component\n",
    "        \"weight\": 1,                           # the weight of the component (default: 1)\n",
    "        \"model_path\": None,                    # not required; note, this is \"null\" in JSON\n",
    "        \"smiles\": [                            # specify the substructures (as list) to penalize\n",
    "            \"[*;r8]\",\n",
    "            \"[*;r9]\",\n",
    "            \"[*;r10]\",\n",
    "            \"[*;r11]\",\n",
    "            \"[*;r12]\",\n",
    "            \"[*;r13]\",\n",
    "            \"[*;r14]\",\n",
    "            \"[*;r15]\",\n",
    "            \"[*;r16]\",\n",
    "            \"[*;r17]\",\n",
    "            \"[#8][#8]\",\n",
    "            \"[#6;+]\",\n",
    "            \"[#16][#16]\",\n",
    "            \"[#7;!n][S;!$(S(=O)=O)]\",\n",
    "            \"[#7;!n][#7;!n]\",\n",
    "            \"C#C\",\n",
    "            \"C(=[O,S])[O,S]\",\n",
    "            \"[#7;!n][C;!$(C(=[O,N])[N,O])][#16;!s]\",\n",
    "            \"[#7;!n][C;!$(C(=[O,N])[N,O])][#7;!n]\",\n",
    "            \"[#7;!n][C;!$(C(=[O,N])[N,O])][#8;!o]\",\n",
    "            \"[#8;!o][C;!$(C(=[O,N])[N,O])][#16;!s]\",\n",
    "            \"[#8;!o][C;!$(C(=[O,N])[N,O])][#8;!o]\",\n",
    "            \"[#16;!s][C;!$(C(=[O,N])[N,O])][#16;!s]\"\n",
    "        ],\n",
    "        \"specific_parameters\": None            # not required; note, this is \"null\" in JSON\n",
    "    },\n",
    "\n",
    "    # add component: calculate the QED drug-likeness score (using RDkit)\n",
    "    {\n",
    "      \"component_type\": \"selectivity\",\n",
    "      \"name\": \"B-RAF selectivity\",\n",
    "      \"weight\": 3,\n",
    "      \"smiles\": [],\n",
    "      \"model_path\": \"\",\n",
    "      \"specific_parameters\": {\n",
    "        \"activity_model_path\": os.path.join(reinvent_dir, \"data/Aurora_model.pkl\"),\n",
    "        \"offtarget_model_path\": os.path.join(reinvent_dir, \"data/B-RAF_model.pkl\"),\n",
    "        \"activity_specific_parameters\": {\n",
    "          \"high\": 9,\n",
    "          \"low\": 4,\n",
    "          \"k\": 0.25,\n",
    "          \"transformation\": False,\n",
    "          \"transformation_type\": \"sigmoid\",\n",
    "          \"scikit\": \"regression\",\n",
    "          \"descriptor_type\": \"ecfp_counts\"\n",
    "        },\n",
    "        \"offtarget_specific_parameters\": {\n",
    "          \"high\": 9,\n",
    "          \"low\": 4,\n",
    "          \"k\": 0.25,\n",
    "          \"transformation\": False,\n",
    "          \"transformation_type\": \"sigmoid\",\n",
    "          \"scikit\": \"regression\",\n",
    "          \"descriptor_type\": \"ecfp_counts\"\n",
    "        },\n",
    "        \"delta_transformation_parameters\": {\n",
    "          \"high\": 3,\n",
    "          \"k\": 0.25,\n",
    "          \"low\": 0,\n",
    "          \"transformation\": True,\n",
    "          \"transformation_type\": \"sigmoid\"\n",
    "        }\n",
    "      }\n",
    "    }]\n",
    "}\n",
    "configuration[\"parameters\"][\"scoring_function\"] = scoring_function"
   ]
  },
  {
   "cell_type": "markdown",
   "metadata": {},
   "source": [
    "#### NOTE:  Getting the selectivity score component to reach satisfactory levels is non-trivial and might take considerably higher number of steps"
   ]
  },
  {
   "cell_type": "markdown",
   "metadata": {},
   "source": [
    "## 3. Write out the configuration"
   ]
  },
  {
   "cell_type": "markdown",
   "metadata": {},
   "source": [
    "We now have successfully filled the dictionary and will write it out as a `JSON` file in the output directory. Please have a look at the file before proceeding in order to see how the paths have been inserted where required and the `dict` -> `JSON` translations (e.g. `True` to `true`) have taken place."
   ]
  },
  {
   "cell_type": "code",
   "execution_count": 10,
   "metadata": {},
   "outputs": [],
   "source": [
    "# write the configuration file to the disc\n",
    "configuration_JSON_path = os.path.join(output_dir, \"RL_config.json\")\n",
    "with open(configuration_JSON_path, 'w') as f:\n",
    "    json.dump(configuration, f, indent=4, sort_keys=True)"
   ]
  },
  {
   "cell_type": "markdown",
   "metadata": {},
   "source": [
    "## 4. Run `REINVENT`\n",
    "Now it is time to execute `REINVENT` locally. Note, that depending on the number of epochs (steps) and the execution time of the scoring function components, this might take a while. As we have only specified a low number of epochs (125) and all components should be fairly quick, this should not take too long in our case though.\n",
    "\n",
    "The command-line execution looks like this:\n",
    "```\n",
    "# activate envionment\n",
    "conda activate reinvent_shared.v2.1\n",
    "\n",
    "# execute REINVENT\n",
    "python <your_path>/input.py <config>.json\n",
    "```"
   ]
  },
  {
   "cell_type": "code",
   "execution_count": 11,
   "metadata": {},
   "outputs": [],
   "source": [
    "%%capture captured_err_stream --no-stderr\n",
    "\n",
    "# execute REINVENT from the command-line\n",
    "!python {reinvent_dir}/input.py {configuration_JSON_path}"
   ]
  },
  {
   "cell_type": "code",
   "execution_count": 12,
   "metadata": {},
   "outputs": [],
   "source": [
    "# print the output to a file, just to have it for documentation\n",
    "with open(os.path.join(output_dir, \"run.err\"), 'w') as file:\n",
    "    file.write(captured_err_stream.stdout)\n",
    "\n",
    "# prepare the output to be parsed\n",
    "list_epochs = re.findall(r'INFO.*?local', captured_err_stream.stdout, re.DOTALL)\n",
    "data = [epoch for idx, epoch in enumerate(list_epochs) if idx in [1, 75, 124]]\n",
    "data = [\"\\n\".join(element.splitlines()[:-1]) for element in data]"
   ]
  },
  {
   "cell_type": "markdown",
   "metadata": {},
   "source": [
    "We have calculated a total of 125 epochs, let us quickly investigate how the agent fared. Below you see the print-out of the first, one from the middle and the last epoch, respectively. Note, that the fraction of valid `SMILES` is high right from the start (because we use a pre-trained prior). You can see the partial scores for each component for the first couple of compounds, but the most important information is the average score. You can clearly see how it increases over time."
   ]
  },
  {
   "cell_type": "code",
   "execution_count": 13,
   "metadata": {},
   "outputs": [
    {
     "name": "stdout",
     "output_type": "stream",
     "text": [
      "INFO     \n",
      " Step 0   Fraction valid SMILES: 99.2   Score: 0.0671   Time elapsed: 0   Time left: 0.0\n",
      "  Agent     Prior     Target     Score     SMILES\n",
      "-31.82    -31.82    -17.71      0.11      c1(-c2noc(C)c2C)[nH]c(N2CCc3ccccc3C2)nc(=N)n1\n",
      "-42.76    -42.76    -42.76      0.00      C12(C)C(CCC3C4(C)C(C(C=O)=CC4(C)CCC3C(C)CCC(OC)C(=O)O)C1)C(C)(C)C(O)CC2\n",
      "-28.86    -28.86    -11.63      0.13      FC(F)(F)c1n(CCc2ccc(C(F)(F)F)cc2)c(=O)[nH]n1\n",
      "-29.12    -29.12    -22.55      0.05      c1cccc(-n2nc(-c3ccncc3)cc2C(=O)NCc2ccccc2)n1\n",
      "-26.16    -26.16    -26.16      0.00      O(C1C(O)C(O)C(OC2OC(C)C(O)C(O)C2O)C(=O)O1)C(C=Cc1ccc(O)cc1)=O\n",
      "-22.87    -22.87    -13.75      0.07      c12c(Cl)cccc1c1c(c(=O)[nH]2)CCSC1\n",
      "-22.81    -22.81     -1.80      0.16      c1c(NCc2coc(-c3ccc(C(C)(C)C)cc3)n2)cccc1OC\n",
      "-21.35    -21.35     -3.12      0.14      C1NCC(c2c(OC)ccc(Cl)c2)C1\n",
      "-43.26    -43.26    -43.26      0.00      O1C(CN(C(COC)=O)C(C(C)(C)C)=O)CN(c2ccc(-c3c[nH]c(=N)cn3)c(F)c2)C1=O\n",
      "-31.21    -31.21    -20.56      0.08      n1n(C)c(C)c(S(N(c2cc(C)ccc2C)CC(NCc2occc2)=O)(=O)=O)c1\n",
      "Aurora kinase   Matching substructure   Custom alerts   B-RAF selectivity\n",
      "0.3470204770565033   1.0   1.0   0.011131184175610542   \n",
      "0.33811843395233154   0.5   0.0   0.009999999776482582   \n",
      "0.3092837631702423   1.0   1.0   0.025515707209706306   \n",
      "0.3292723000049591   0.5   1.0   0.009999999776482582   \n",
      "0.34807446599006653   0.5   0.0   0.017785510048270226   \n",
      "0.3379586338996887   0.5   1.0   0.025352995842695236   \n",
      "0.45228493213653564   1.0   1.0   0.02163163758814335   \n",
      "0.3359018862247467   1.0   1.0   0.025611229240894318   \n",
      "0.47628334164619446   0.5   0.0   0.027528254315257072   \n",
      "0.4204919934272766   0.5   1.0   0.02605733461678028   \n",
      "\n",
      "INFO     \n",
      " Step 74   Fraction valid SMILES: 98.4   Score: 0.0808   Time elapsed: 39   Time left: 26.5\n",
      "  Agent     Prior     Target     Score     SMILES\n",
      "-32.33    -32.14    -18.77      0.10      N(C(c1sc(OCC2CCOCC2)cc1)=O)CC1CCCCC1\n",
      "-24.87    -25.94    -19.12      0.05      c1c(C)ccc(C2c3cc([N+]([O-])=O)ccc3NC(=O)CN2C(=O)c2ccc(C)cc2)c1\n",
      "-23.12    -22.75    -15.45      0.06      c1(CNC(=O)C(NCC2CCCN2S(=O)(=O)c2ccc(C)cc2)=O)ccc(Cl)cc1\n",
      "-37.25    -36.87    -15.58      0.17      c1ccccc1S(=O)(N1CC2C(C2)C1CN(C(=O)Cc1ccccc1C(F)(F)F)Cc1ccccc1)=O\n",
      "-30.19    -31.32    -31.32      0.00      O=C(C1CCC1)N=c1nc2c(c[nH]1)C(c1cc(Cl)c(Cl)cc1)CC(=O)N=2\n",
      "-21.62    -21.83     -9.60      0.10      c1c2c(ccc1C)CC=C(c1ccc(Cl)cc1)C(N1CCN(C)CC1)=N2\n",
      "-28.75    -27.44    -14.49      0.10      C1N(C(=O)c2cncnc2)CCC2(C(=O)N(CCC)CCN2C)C1\n",
      "-37.98    -42.50    -24.80      0.14      c1cc(Br)ccc1C(C(C(C)C)c1ccc([N+]([O-])=O)cc1)NC(C(CC(C)C)C(CCC)N(C=O)O)=O\n",
      "-26.40    -27.13     -9.11      0.14      c1(OC)ccccc1C(c1c(O)ccc(OC)c1)CCN(C)C\n",
      "-20.61    -20.93    -12.07      0.07      c1ccccc1CNc1[nH]c(=N)[nH]c(=Nc2ccccc2)c1\n",
      "Aurora kinase   Matching substructure   Custom alerts   B-RAF selectivity\n",
      "0.416422039270401   0.5   1.0   0.05252717435359955   \n",
      "0.31851926445961   0.5   1.0   0.011923744343221188   \n",
      "0.3219960629940033   0.5   1.0   0.014286229386925697   \n",
      "0.4012685716152191   1.0   1.0   0.028589334338903427   \n",
      "0.0   0.0   0.0   0.0   \n",
      "0.2953028380870819   1.0   1.0   0.009999999776482582   \n",
      "0.40827763080596924   0.5   1.0   0.04975069314241409   \n",
      "0.33676424622535706   1.0   1.0   0.023333236575126648   \n",
      "0.32428011298179626   1.0   1.0   0.02654731273651123   \n",
      "0.3086310923099518   0.5   1.0   0.02785468101501465   \n",
      "\n",
      "INFO     \n",
      " Step 123   Fraction valid SMILES: 100.0   Score: 0.0954   Time elapsed: 65   Time left: 1.0\n",
      "  Agent     Prior     Target     Score     SMILES\n",
      "-28.91    -29.10    -22.79      0.05      c1cc(C(c2c(O)cc(O)c(O)c2)=CC)ccc1\n",
      "-29.11    -28.47    -21.46      0.05      c1ccc(Cn2nc(-c3c(C)c(CC)[nH]c3C)ccc2=O)cc1\n",
      "-27.12    -26.69    -26.69      0.00      C1(=Cc2ccc(OCC(=O)N)cc2)SC(=O)N(CCNC(C2CCCCC2)=O)C1=O\n",
      "-23.09    -22.88    -22.88      0.00      c1cc(CC(NOC(COc2ccc(F)cc2)=O)=N)ccc1\n",
      "-45.11    -47.09    -30.45      0.13      c1c(Cc2ccncc2)ccc(CCCCc2nc(C3CN(CC(C)=CC)CCC3)no2)c1\n",
      "-32.59    -33.65    -15.89      0.14      c1ccccc1C1CC1c1nc(CN(Cc2ncccc2)C)c(C)s1\n",
      "-23.60    -22.76    -22.76      0.00      O(CC)C(c1noc(C)c1Br)=O\n",
      "-32.48    -40.05    -23.97      0.13      c1(N2CCN(C(c3ccc(CN)cc3)c3ncncc3)CC2)ccc(C(C)C)cc1\n",
      "-26.72    -28.11     -6.41      0.17      C(CSc1[nH]c(C(c2c(OC)cccc2)C)cc(=O)n1)COC\n",
      "-25.24    -27.43    -12.32      0.12      C1CCCC(C(=O)N(CC(C)C)Cc2ccc3c(c2)CCCN3Cc2ccccc2)C1\n",
      "Aurora kinase   Matching substructure   Custom alerts   B-RAF selectivity\n",
      "0.31011447310447693   0.5   1.0   0.009999999776482582   \n",
      "0.30880364775657654   0.5   1.0   0.013752494007349014   \n",
      "0.3342033922672272   0.5   0.0   0.021378332749009132   \n",
      "0.3532071113586426   1.0   0.0   0.024978019297122955   \n",
      "0.3735966980457306   1.0   1.0   0.015743276104331017   \n",
      "0.3210403025150299   1.0   1.0   0.025922365486621857   \n",
      "0.3098519742488861   0.5   0.0   0.014550304040312767   \n",
      "0.32468491792678833   1.0   1.0   0.018802065402269363   \n",
      "0.3775955140590668   1.0   1.0   0.034141071140766144   \n",
      "0.296491801738739   1.0   1.0   0.01873084530234337   \n",
      "\n"
     ]
    }
   ],
   "source": [
    "for element in data:\n",
    "    print(element)"
   ]
  },
  {
   "cell_type": "markdown",
   "metadata": {},
   "source": [
    "## 5. Analyse the results\n",
    "In order to analyze the run in a more intuitive way, we can use `tensorboard`:\n",
    "\n",
    "```\n",
    "# go to the root folder of the output\n",
    "cd <your_path>/REINVENT_RL_demo\n",
    "\n",
    "# make sure, you have activated the proper environment\n",
    "conda activate reinvent_shared.v2.1\n",
    "\n",
    "# start tensorboard\n",
    "tensorboard --logdir progress.log\n",
    "```\n",
    "\n",
    "Then copy the link provided to a browser window, e.g. \"http://workstation.url.com:6006/\". The following figures are exmaple plots - remember, that there is always some randomness involved. In `tensorboard` you can monitor the individual scoring function components. What you see is, that all of those depicted went up (and `Fraction_valid_SMILES` was high troughout). Not shown is the predictive model, which did not perform all that well, so you might want to consider a higher weight next time.\n",
    "\n",
    "![](img/individual_components.png)\n",
    "\n",
    "Also the total score increased over time.\n",
    "\n",
    "![](img/total_score.png)\n",
    "\n",
    "It might also be informative to look at the results from the prior (dark blue), the agent (blue) and the augmented likelihood (purple) over time.\n",
    "\n",
    "![](img/likelihood.png)\n",
    "\n",
    "And last but not least, there is a \"Images\" tab available that lets you browse through the compounds generated in an easy way. In the molecules, the substructure matches that were defined to be required are highlighted in red (if present). Also, the total scores are given per molecule.\n",
    "\n",
    "![](img/molecules.png)"
   ]
  },
  {
   "cell_type": "markdown",
   "metadata": {},
   "source": [
    "The results folder will hold four different files: the agent (pickled), the input JSON (just for reference purposes), the memory (highest scoring compounds in `CSV` format) and the scaffold memory (in `CSV` format)."
   ]
  },
  {
   "cell_type": "code",
   "execution_count": 14,
   "metadata": {},
   "outputs": [
    {
     "name": "stdout",
     "output_type": "stream",
     "text": [
      ",smiles,score,likelihood\r\n",
      "39,c1c2c(=O)c(C(=O)NC3(C(C)C)C(=O)Nc4ccccc43)cn(CCCCC)c2c(CCC)cc1,0.37547314,-37.92856\r\n",
      "47,c1ccc(CN(CCOc2ccc(C(c3ccc(OCCN4CCCCCC4)cc3)CCCC(C)C)cc2)C)cc1,0.3324456,-35.245316\r\n",
      "22,c1c(C2(c3ccc(OC)c(O)c3)CCN(CCCCNC(c3ccc(-c4ccc(C(C)=O)cc4)c(OC)c3)=O)CC2)cc(NS(C)(=O)=O)c(O)c1,0.32802737,-34.53232\r\n",
      "106,Oc1ccc(CCN2CCN(c3nsc4ccccc34)CC2)cc1NS(=O)(=O)CCC,0.32603598,-33.39078\r\n",
      "86,CC(C(C)C)(O)Cc1c2c(ccc1O)C1C(CC2=C)C2CCC(C(C)=O)C2(C)C1,0.32173103,-42.754417\r\n",
      "19,c1ccc(COc2ccn(CC(c3c(C)cc(CN4CCCCC4(C)C)cc3)=O)c(=O)c2)cc1,0.31507185,-26.975687\r\n",
      "13,c1(C)c(N(C(c2c(O)cc(O)cc2)C(NC(C)(C)C)=O)C(c2cnccc2)=O)cccc1,0.3098658,-32.72461\r\n",
      "28,C(CC1CCC2(OCC(NS(C)(=O)=O)CC2)CC1)N1CCc2ccc(C#N)cc2CC1,0.3061853,-37.942104\r\n",
      "83,CC1(C)N(CC(C(Cc2cc(F)cc(F)c2)NC(=O)C)O)c2c(cnc(Cc3ccc(C(C)(C)C)cc3)c2)C1,0.30555668,-37.71801\r\n",
      "106,FC1C(F)CN(C(c2cc(C(C)C)c3c(c4c(cccc4)[nH]3)c2)=O)C(CO)C1,0.30416337,-45.497562\r\n",
      "65,N(CC(c1ccc(OC)cc1)O)C(CC(C)C)C(=O)NC(Cc1ccccc1)C(=O)NCC#N,0.3039012,-35.077744\r\n",
      "113,c12ccccc1[nH]c1c2C(c2ccccc2)CC(O)C1,0.30008045,-23.803308\r\n",
      "52,C1Oc2c(ccc(C(C)(O)C(F)(F)F)c2)C2(NC(=N)SC2)C12CCC(OC(F)F)CC2,0.29699126,-32.501717\r\n",
      "53,O(C)c1ccc2c(c1)C(O)C(C)(C)CC2=C,0.29623947,-29.644947\r\n"
     ]
    }
   ],
   "source": [
    "!head -n 15 {output_dir}/results/memory.csv"
   ]
  }
 ],
 "metadata": {
  "kernelspec": {
   "display_name": "Python 3",
   "language": "python",
   "name": "python3"
  },
  "language_info": {
   "codemirror_mode": {
    "name": "ipython",
    "version": 3
   },
   "file_extension": ".py",
   "mimetype": "text/x-python",
   "name": "python",
   "nbconvert_exporter": "python",
   "pygments_lexer": "ipython3",
   "version": "3.7.3"
  }
 },
 "nbformat": 4,
 "nbformat_minor": 2
}
