{
 "cells": [
  {
   "cell_type": "markdown",
   "metadata": {},
   "source": [
    "> **How to run this notebook (command-line)?**\n",
    "1. Install the `ReinventCommunity` environment:\n",
    "`conda env create -f environment.yml`\n",
    "2. Activate the environment:\n",
    "`conda activate ReinventCommunity`\n",
    "3. Execute `jupyter`:\n",
    "`jupyter notebook`\n",
    "4. Copy the link to a browser\n",
    "\n",
    "\n",
    "# `REINVENT 3.0`: reinforcement learning selectivity demo\n",
    "This illustrates the use of a selectivity score component. This component is normally used in a scenario where ligands are designed to bind to a concrete target and at the same time should not be binding to one or more off-targets. The example here looks at a single off-target case.\n",
    "\n",
    "We will demonstrate how to set up a `REINVENT` run that optimizes molecules to be selective against _Aurora_ kinase by minimizing at the same time their affinity to _B RAF_ kinase.\n",
    "\n",
    "NOTE: There is a detailed reasoning for each code block provided in the `Reinforcement Learning Demo` notebook.\n"
   ]
  },
  {
   "cell_type": "markdown",
   "metadata": {},
   "source": [
    "## 1. Set up the paths\n",
    "_Please update the following code block such that it reflects your system's installation and execute it._"
   ]
  },
  {
   "cell_type": "code",
   "execution_count": 1,
   "metadata": {},
   "outputs": [],
   "source": [
    "# load dependencies\n",
    "import os\n",
    "import re\n",
    "import json\n",
    "import tempfile\n",
    "\n",
    "# --------- change these path variables as required\n",
    "reinvent_dir = os.path.expanduser(\"~/Desktop/reinventcli\")\n",
    "reinvent_env = os.path.expanduser(\"~/miniconda3/envs/reinvent.v3.0\")\n",
    "output_dir = os.path.expanduser(\"~/Desktop/REINVENT_RL_Selectivity_demo\")\n",
    "\n",
    "# --------- do not change\n",
    "# get the notebook's root path\n",
    "try: ipynb_path\n",
    "except NameError: ipynb_path = os.getcwd()\n",
    "\n",
    "# if required, generate a folder to store the results\n",
    "try:\n",
    "    os.mkdir(output_dir)\n",
    "except FileExistsError:\n",
    "    pass"
   ]
  },
  {
   "cell_type": "markdown",
   "metadata": {},
   "source": [
    "## 2. Setting up the configuration \n",
    "In the cells below we will build a nested dictionary object that will be eventually converted to JSON file which in turn will be consumed by `REINVENT`. \n",
    "You can find this file in your `output_dir` location."
   ]
  },
  {
   "cell_type": "markdown",
   "metadata": {},
   "source": [
    "### A) Declare the run type"
   ]
  },
  {
   "cell_type": "code",
   "execution_count": 2,
   "metadata": {},
   "outputs": [],
   "source": [
    "# initialize the dictionary\n",
    "configuration = {\n",
    "    \"version\": 3,                          # we are going to use REINVENT's newest release\n",
    "    \"run_type\": \"reinforcement_learning\"   # other run types: \"sampling\", \"validation\",\n",
    "                                           #                  \"transfer_learning\",\n",
    "                                           #                  \"scoring\" and \"create_model\"\n",
    "}"
   ]
  },
  {
   "cell_type": "markdown",
   "metadata": {},
   "source": [
    "### B) Sort out the logging details\n",
    "This includes `result_folder` path where the results will be produced.\n",
    "\n",
    "Also: `REINVENT` can send custom log messages to a remote location. We have retained this capability in the code. if the `recipient` value differs from `\"local\"` `REINVENT` will attempt to POST the data to the specified `recipient`. "
   ]
  },
  {
   "cell_type": "code",
   "execution_count": 3,
   "metadata": {},
   "outputs": [],
   "source": [
    "# add block to specify whether to run locally or not and\n",
    "# where to store the results and logging\n",
    "configuration[\"logging\"] = {\n",
    "    \"sender\": \"http://0.0.0.1\",          # only relevant if \"recipient\" is set to \"remote\"\n",
    "    \"recipient\": \"local\",                  # either to local logging or use a remote REST-interface\n",
    "    \"logging_frequency\": 10,               # log every x-th steps\n",
    "    \"logging_path\": os.path.join(output_dir, \"progress.log\"), # load this folder in tensorboard\n",
    "    \"result_folder\": os.path.join(output_dir, \"results\"),         # will hold the compounds (SMILES) and summaries\n",
    "    \"job_name\": \"Reinforcement learning demo\",                # set an arbitrary job name for identification\n",
    "    \"job_id\": \"demo\"                       # only relevant if \"recipient\" is set to a specific REST endpoint\n",
    "}"
   ]
  },
  {
   "cell_type": "markdown",
   "metadata": {},
   "source": [
    "Create `\"parameters\"` field"
   ]
  },
  {
   "cell_type": "code",
   "execution_count": 4,
   "metadata": {},
   "outputs": [],
   "source": [
    "# add the \"parameters\" block\n",
    "configuration[\"parameters\"] = {}"
   ]
  },
  {
   "cell_type": "markdown",
   "metadata": {},
   "source": [
    "### C) Set Diversity Filter\n",
    "During each step of Reinforcement Learning the compounds scored above `minscore` threshold are kept in memory. Those scored smiles are written out to a file in the results folder `scaffold_memory.csv`."
   ]
  },
  {
   "cell_type": "code",
   "execution_count": 5,
   "metadata": {},
   "outputs": [],
   "source": [
    "# add a \"diversity_filter\"\n",
    "configuration[\"parameters\"][\"diversity_filter\"] =  {\n",
    "    \"name\": \"IdenticalMurckoScaffold\",     # other options are: \"IdenticalTopologicalScaffold\", \n",
    "                                           #                    \"NoFilter\" and \"ScaffoldSimilarity\"\n",
    "                                           # -> use \"NoFilter\" to disable this feature\n",
    "    \"nbmax\": 25,                           # the bin size; penalization will start once this is exceeded\n",
    "    \"minscore\": 0.4,                       # the minimum total score to be considered for binning\n",
    "    \"minsimilarity\": 0.4                   # the minimum similarity to be placed into the same bin\n",
    "}"
   ]
  },
  {
   "cell_type": "markdown",
   "metadata": {},
   "source": [
    "### D) Set Inception\n",
    "* `smiles` provide here a list of smiles to be incepted \n",
    "* `memory_size` the number of smiles allowed in the inception memory\n",
    "* `sample_size` the number of smiles that can be sampled at each reinforcement learning step from inception memory"
   ]
  },
  {
   "cell_type": "code",
   "execution_count": 6,
   "metadata": {},
   "outputs": [],
   "source": [
    "# prepare the inception (we do not use it in this example, so \"smiles\" is an empty list)\n",
    "configuration[\"parameters\"][\"inception\"] = {\n",
    "    \"smiles\": [],                          # fill in a list of SMILES here that can be used (or leave empty)\n",
    "    \"memory_size\": 100,                    # sets how many molecules are to be remembered\n",
    "    \"sample_size\": 10                      # how many are to be sampled each epoch from the memory\n",
    "}"
   ]
  },
  {
   "cell_type": "markdown",
   "metadata": {},
   "source": [
    "### E) Set the general Reinforcement Learning parameters\n",
    "* `n_steps` is the amount of Reinforcement Learning steps to perform. Best start with 1000 steps and see if thats enough.\n",
    "* `agent` is the generative model that undergoes transformation during the Reinforcement Learning run.\n",
    "\n",
    "We reccomend keeping the other parameters to their default values."
   ]
  },
  {
   "cell_type": "code",
   "execution_count": 7,
   "metadata": {},
   "outputs": [],
   "source": [
    "# set all \"reinforcement learning\"-specific run parameters\n",
    "configuration[\"parameters\"][\"reinforcement_learning\"] = {\n",
    "    \"prior\": os.path.join(ipynb_path, \"models/random.prior.new\"), # path to the pre-trained model\n",
    "    \"agent\": os.path.join(ipynb_path, \"models/random.prior.new\"), # path to the pre-trained model\n",
    "    \"n_steps\": 1000,                       # the number of epochs (steps) to be performed; often 1000\n",
    "    \"sigma\": 128,                          # used to calculate the \"augmented likelihood\", see publication\n",
    "    \"learning_rate\": 0.0001,               # sets how strongly the agent is influenced by each epoch\n",
    "    \"batch_size\": 128,                     # specifies how many molecules are generated per epoch\n",
    "    \"reset\": 0,                            # if not '0', the reset the agent if threshold reached to get\n",
    "                                           # more diverse solutions\n",
    "    \"reset_score_cutoff\": 0.5,             # if resetting is enabled, this is the threshold\n",
    "    \"margin_threshold\": 50                 # specify the (positive) margin between agent and prior\n",
    "}"
   ]
  },
  {
   "cell_type": "markdown",
   "metadata": {},
   "source": [
    "### F) Define the scoring function\n",
    "We will use a `custom_product` type. The component types included are:\n",
    "* `predictive_property` which is the target activity to _Aurora_ kinase represented by the predictive `regression` model. Note that we set the weight of this component to be the highest.\n",
    "* `matching_substructure` the `\"smiles\"` field actually can take both list of SMILES or SMARTS. Normally we reccomend using one or a couple of SMARTS patterns defining your pharmacophore.\n",
    "* `custom_alerts` the `\"smiles\"` field  also can work with SMILES or SMARTS\n",
    "* `selectivity` this is the component that maximizes the `delta` between _Aurora_ and _B RAF_ kinases. Note that `delta` is undergoing transformation. Essentially if the individual prediction is higher for _Aurora_ than _B RAF_ the score will be above 0. The `weight` for this component is set lower than `predictive_property`. The relevant fields that might need to be adjusted to your needs are `activity_model_path` and `offtarget_specific_parameters`. \n",
    "\n",
    "Note: All models used in this example are regression models\n"
   ]
  },
  {
   "cell_type": "code",
   "execution_count": 8,
   "metadata": {},
   "outputs": [],
   "source": [
    "# prepare the scoring function definition and add at the end\n",
    "scoring_function = {\n",
    "    \"name\": \"custom_product\",              # this is our default one (alternative: \"custom_sum\")\n",
    "    \"parallel\": False,                     # sets whether components are to be executed\n",
    "                                           # in parallel; note, that python uses \"False\" / \"True\"\n",
    "                                           # but the JSON \"false\" / \"true\"\n",
    "\n",
    "    # the \"parameters\" list holds the individual components\n",
    "    \"parameters\": [\n",
    "\n",
    "    # add component: an activity model\n",
    "    {\n",
    "        \"component_type\": \"predictive_property\", # this is a scikit-learn model, returning\n",
    "                                                 # activity values\n",
    "        \"name\": \"Aurora kinase\",                 # arbitrary name for the component\n",
    "        \"weight\": 6,                             # the weight (\"importance\") of the component (default: 1)                       # list of SMILES (not required for this component)\n",
    "        \"specific_parameters\": {\n",
    "            \"model_path\": os.path.join(ipynb_path, \"models/Aurora_model.pkl\"),   # absolute model path \n",
    "            \"transformation\": {\n",
    "                \"transformation_type\": \"sigmoid\",  # see description above\n",
    "                \"high\": 9,                         # parameter for sigmoid transformation\n",
    "                \"low\": 4,                          # parameter for sigmoid transformation\n",
    "                \"k\": 0.25                          # parameter for sigmoid transformation\n",
    "                },\n",
    "            \"scikit\": \"regression\",                # model can be \"regression\" or \"classification\"\n",
    "            \"descriptor_type\": \"ecfp_counts\",      # sets the input descriptor for this model\n",
    "            \"size\": 2048,                          # parameter of descriptor type\n",
    "            \"radius\": 3,                           # parameter of descriptor type\n",
    "            \"use_counts\": True,                    # parameter of descriptor type\n",
    "            \"use_features\": True                   # parameter of descriptor type\n",
    "        }\n",
    "    },\n",
    "\n",
    "    # add component: enforce the match to a given substructure\n",
    "    {\n",
    "        \"component_type\": \"matching_substructure\", \n",
    "        \"name\": \"Matching substructure\",       # arbitrary name for the component\n",
    "        \"weight\": 1,                           # the weight of the component (default: 1)\n",
    "        \"specific_parameters\": {\n",
    "            \"smiles\": [\"c1ccccc1CC\"]           # a match with this substructure is required\n",
    "        }\n",
    "    },\n",
    "\n",
    "    # add component: enforce to NOT match a given substructure\n",
    "    {\n",
    "        \"component_type\": \"custom_alerts\",\n",
    "        \"name\": \"Custom alerts\",               # arbitrary name for the component\n",
    "        \"weight\": 1,                           # the weight of the component (default: 1)\n",
    "        \"specific_parameters\": {\n",
    "            \"smiles\": [                        # specify the substructures (as list) to penalize\n",
    "            \"[*;r8]\",\n",
    "            \"[*;r9]\",\n",
    "            \"[*;r10]\",\n",
    "            \"[*;r11]\",\n",
    "            \"[*;r12]\",\n",
    "            \"[*;r13]\",\n",
    "            \"[*;r14]\",\n",
    "            \"[*;r15]\",\n",
    "            \"[*;r16]\",\n",
    "            \"[*;r17]\",\n",
    "            \"[#8][#8]\",\n",
    "            \"[#6;+]\",\n",
    "            \"[#16][#16]\",\n",
    "            \"[#7;!n][S;!$(S(=O)=O)]\",\n",
    "            \"[#7;!n][#7;!n]\",\n",
    "            \"C#C\",\n",
    "            \"C(=[O,S])[O,S]\",\n",
    "            \"[#7;!n][C;!$(C(=[O,N])[N,O])][#16;!s]\",\n",
    "            \"[#7;!n][C;!$(C(=[O,N])[N,O])][#7;!n]\",\n",
    "            \"[#7;!n][C;!$(C(=[O,N])[N,O])][#8;!o]\",\n",
    "            \"[#8;!o][C;!$(C(=[O,N])[N,O])][#16;!s]\",\n",
    "            \"[#8;!o][C;!$(C(=[O,N])[N,O])][#8;!o]\",\n",
    "            \"[#16;!s][C;!$(C(=[O,N])[N,O])][#16;!s]\"\n",
    "            ]\n",
    "        }\n",
    "    },\n",
    "\n",
    "    # add component: selectivity\n",
    "    {\n",
    "      \"component_type\": \"selectivity\",\n",
    "      \"name\": \"B-RAF selectivity\",\n",
    "      \"weight\": 3,\n",
    "      \"specific_parameters\": {\n",
    "        \"activity_specific_parameters\": {\n",
    "            \"model_path\": os.path.join(ipynb_path, \"models/Aurora_model.pkl\"),\n",
    "            \"scikit\": \"regression\",\n",
    "            \"descriptor_type\": \"ecfp_counts\",\n",
    "            \"size\": 2048,\n",
    "            \"radius\": 3,\n",
    "            \"use_counts\": True,\n",
    "            \"use_features\": True\n",
    "            },\n",
    "        \"offtarget_specific_parameters\": {\n",
    "            \"model_path\": os.path.join(ipynb_path, \"models/B-RAF_model.pkl\"),\n",
    "            \"scikit\": \"regression\",\n",
    "            \"descriptor_type\": \"ecfp_counts\",\n",
    "            \"size\": 2048,\n",
    "            \"radius\": 3,\n",
    "            \"use_counts\": True,\n",
    "            \"use_features\": True\n",
    "            },\n",
    "        \"delta_transformation_parameters\": {\n",
    "            \"transformation_type\": \"sigmoid\",\n",
    "            \"high\": 3,\n",
    "            \"k\": 0.25,\n",
    "            \"low\": 0\n",
    "            }\n",
    "        }\n",
    "    }\n",
    "]}\n",
    "configuration[\"parameters\"][\"scoring_function\"] = scoring_function"
   ]
  },
  {
   "cell_type": "markdown",
   "metadata": {},
   "source": [
    "#### NOTE:  Getting the selectivity score component to reach satisfactory levels is non-trivial and might take considerably higher number of steps"
   ]
  },
  {
   "cell_type": "markdown",
   "metadata": {},
   "source": [
    "## 3. Write out the configuration"
   ]
  },
  {
   "cell_type": "markdown",
   "metadata": {},
   "source": [
    "We now have successfully filled the dictionary and will write it out as a `JSON` file in the output directory. Please have a look at the file before proceeding in order to see how the paths have been inserted where required and the `dict` -> `JSON` translations (e.g. `True` to `true`) have taken place."
   ]
  },
  {
   "cell_type": "code",
   "execution_count": 9,
   "metadata": {},
   "outputs": [],
   "source": [
    "# write the configuration file to the disc\n",
    "configuration_JSON_path = os.path.join(output_dir, \"RL_config.json\")\n",
    "with open(configuration_JSON_path, 'w') as f:\n",
    "    json.dump(configuration, f, indent=4, sort_keys=True)"
   ]
  },
  {
   "cell_type": "markdown",
   "metadata": {},
   "source": [
    "## 4. Run `REINVENT`\n",
    "Now it is time to execute `REINVENT` locally. Note, that depending on the number of epochs (steps) and the execution time of the scoring function components, this might take a while. As we have only specified a low number of epochs (125) and all components should be fairly quick, this should not take too long in our case though.\n",
    "\n",
    "The command-line execution looks like this:\n",
    "```\n",
    "# activate envionment\n",
    "conda activate reinvent.v3.0\n",
    "\n",
    "# execute REINVENT\n",
    "python <your_path>/input.py <config>.json\n",
    "```"
   ]
  },
  {
   "cell_type": "code",
   "execution_count": 10,
   "metadata": {},
   "outputs": [],
   "source": [
    "%%capture captured_err_stream --no-stderr\n",
    "\n",
    "# execute REINVENT from the command-line\n",
    "!{reinvent_env}/bin/python {reinvent_dir}/input.py {configuration_JSON_path}"
   ]
  },
  {
   "cell_type": "code",
   "execution_count": 11,
   "metadata": {},
   "outputs": [],
   "source": [
    "# print the output to a file, just to have it for documentation\n",
    "with open(os.path.join(output_dir, \"run.err\"), 'w') as file:\n",
    "    file.write(captured_err_stream.stdout)\n",
    "\n",
    "# prepare the output to be parsed\n",
    "list_epochs = re.findall(r'INFO.*?local', captured_err_stream.stdout, re.DOTALL)\n",
    "data = [epoch for idx, epoch in enumerate(list_epochs) if idx in [1, 75, 124]]\n",
    "data = [\"\\n\".join(element.splitlines()[:-1]) for element in data]"
   ]
  },
  {
   "cell_type": "markdown",
   "metadata": {},
   "source": [
    "We have calculated a total of 125 epochs, let us quickly investigate how the agent fared. Below you see the print-out of the first, one from the middle and the last epoch, respectively. Note, that the fraction of valid `SMILES` is high right from the start (because we use a pre-trained prior). You can see the partial scores for each component for the first couple of compounds, but the most important information is the average score. You can clearly see how it increases over time."
   ]
  },
  {
   "cell_type": "code",
   "execution_count": 12,
   "metadata": {},
   "outputs": [
    {
     "name": "stdout",
     "output_type": "stream",
     "text": [
      "INFO     \n",
      " Step 0   Fraction valid SMILES: 97.7   Score: 0.0528   Time elapsed: 0   Time left: 0.0\n",
      "  Agent     Prior     Target     Score     SMILES\n",
      "-33.05    -33.05    -22.22      0.08      c1(C)cccc(Sc2cc3c(cc2)N2CCC(=O)C(C)=C2CN3CC2CC2)c1\n",
      "-33.90    -33.90    -19.17      0.12      C(C)C(=O)N1CCN(C(=O)C(=O)c2c3c(OC)cnc(-n4cc(CC(C)C)nn4)c3[nH]c2)CC1\n",
      "-26.92    -26.92    -18.03      0.07      C(c1cccc(OC)c1)N1C(=O)C2(CC1)CCN(Cc1cc(F)ccc1)CC2\n",
      "-23.10    -23.10    -16.20      0.05      C(CC)N(CCC)C(Cc1c(-c2ccc(Cl)cc2)nc2ccccn12)=O\n",
      "-23.24    -23.24    -16.26      0.05      c1c(Cn2nc3c(cc2=O)CCNC3)ccc(F)c1\n",
      "-25.86    -25.86    -12.20      0.11      C(C(=O)Nc1ccccc1CC)=C=C\n",
      "-38.26    -38.26    -38.26      0.00      C(O)(c1cc(C2CC2)c2c(c1)CC(CO)Cn1c-2cc2c1ccc(Cl)c2)=O\n",
      "-25.34    -25.34    -25.34      0.00      c1cc(S(=O)(NCC(c2cc3c(cc2)OCO3)N2CCCCCC2)=O)ccc1C(=O)C\n",
      "-23.17    -23.17     -6.10      0.13      c1c(CN2C(=O)C(C)(c3ccc(F)cc3)NC2=O)ccc(F)c1\n",
      "-23.91    -23.91    -13.93      0.08      c1ccccc1CN1CCC(CCN(C)C(=O)c2c(OC)c(OC)ccc2)CC1\n",
      "Aurora kinase   Matching substructure   Custom alerts   B-RAF selectivity   raw_Aurora kinase   raw_B-RAF selectivity\n",
      "0.3613276183605194   0.5   1.0   0.037098679691553116   6.005246162414551   6.2023138999938965   \n",
      "0.4559899866580963   0.5   1.0   0.05868331715464592   6.346696853637695   6.292962074279785   \n",
      "0.33564963936805725   0.5   1.0   0.023738935589790344   5.906978130340576   6.343903541564941   \n",
      "0.34259599447250366   0.5   1.0   0.010651658289134502   5.933899879455566   6.7954182624816895   \n",
      "0.308552622795105   0.5   1.0   0.013634861446917057   5.799139976501465   6.530404567718506   \n",
      "0.32777833938598633   1.0   1.0   0.011298743076622486   5.876135349273682   6.706577301025391   \n",
      "0.3570621609687805   1.0   0.0   0.013434945605695248   5.989149570465088   6.728217601776123   \n",
      "0.3768533170223236   1.0   0.0   0.04247956722974777   6.063164234161377   6.186725616455078   \n",
      "0.3197919428348541   1.0   1.0   0.023184647783637047   5.844451427459717   6.293985843658447   \n",
      "0.36968883872032166   0.5   1.0   0.027808893471956253   6.036562919616699   6.388844013214111   \n",
      "\n",
      "INFO     \n",
      " Step 72   Fraction valid SMILES: 99.2   Score: 0.0865   Time elapsed: 40   Time left: 508.5\n",
      "  Agent     Prior     Target     Score     SMILES\n",
      "-37.03    -37.16    -27.34      0.06      c1(C)cc(C)ccc1-n1c(-c2ccc(Oc3ccccc3)cc2)cc(CNC2CC(F)CC2)n1\n",
      "-32.72    -31.99    -31.99      0.00      c1cccc(CN(C)C(NNC(=O)CN2CCOCC2)=S)c1OC\n",
      "-26.33    -26.16     -4.41      0.12      C1C(=O)C2C(c3ccc(OC)c(OC)c3)c3c(O)oc(O)c3C(c3ccccc3)C2C(=O)C1\n",
      "-38.01    -44.13    -44.13      0.00      C(CC(C)C)(N1Cc2c(nc(C#Cc3ccccc3)cc2)CC1)C(NCc1cc(C(F)(F)F)cc(Cl)c1)=O\n",
      "-31.64    -34.96    -15.08      0.11      c1c(C(C(C(c2ccccc2)=O)CN(c2ccc(C)cc2)CC)=O)ccc(Cl)c1\n",
      "-21.21    -21.88      3.18      0.14      C(CC(=NO)c1ccc(F)cc1)CCC\n",
      "-31.29    -29.42    -18.78      0.06      c1cc(-c2n(CC3CCCN(C)C3)c(O)c(OC)c2C(=O)C)ccc1\n",
      "-44.16    -45.57    -36.01      0.05      c1c(C(=O)c2nccn2C)cccc1COc1cc(OCCCCO)ccc1C(c1ccc(F)cc1)=O\n",
      "-28.49    -30.44     -0.14      0.17      Cc1cc(N=c2nc(Oc3ccc(C)c4c3C(C)CC4)c(C(F)(F)F)c[nH]2)ccc1C1CCN(C)CC1\n",
      "-21.81    -21.40    -10.31      0.06      C1c2ncc(-c3ccc(F)cc3)n2CCN1C(=O)c1c(Cl)c(C(F)(F)F)ccc1\n",
      "Aurora kinase   Matching substructure   Custom alerts   B-RAF selectivity   raw_Aurora kinase   raw_B-RAF selectivity\n",
      "0.3147476315498352   0.5   1.0   0.013521336019039154   5.82422399520874   6.559905529022217   \n",
      "0.32257139682769775   0.5   0.0   0.021410854533314705   5.85552453994751   6.347484111785889   \n",
      "0.30570563673973083   1.0   1.0   0.019526226446032524   5.787519454956055   6.328500747680664   \n",
      "0.4069342017173767   0.5   0.0   0.018016230314970016   6.172842502593994   6.756571292877197   \n",
      "0.31618261337280273   1.0   1.0   0.013943475671112537   5.829995632171631   6.549432754516602   \n",
      "0.337291955947876   1.0   1.0   0.024524547159671783   5.91336727142334   6.3329057693481445   \n",
      "0.3358362317085266   0.5   1.0   0.015159497037529945   5.907704830169678   6.582921981811523   \n",
      "0.35226792097091675   0.5   1.0   0.009999999776482582   5.9709553718566895   6.9376349449157715   \n",
      "0.38458287715911865   1.0   1.0   0.03335262089967728   6.091640949249268   6.3462066650390625   \n",
      "0.3686516582965851   0.5   1.0   0.014241057448089123   6.032694339752197   6.740968704223633   \n",
      "\n",
      "INFO     \n",
      " Step 121   Fraction valid SMILES: 100.0   Score: 0.0857   Time elapsed: 67   Time left: 482.7\n",
      "  Agent     Prior     Target     Score     SMILES\n",
      "-23.77    -24.37      1.42      0.14      C(C)(c1c(OCCOc2ccccc2)ccc(C)c1)(C)C\n",
      "-30.20    -30.95    -19.64      0.06      C1C2(NCc3noc(C4CC4)n3)CCC(CNC3CC3)(CC2)C1\n",
      "-17.57    -20.18     -2.10      0.10      Cc1c2c(c(C)c(C)c1O)OC(CCCCCCCCCCCCCCC)(C)CC2\n",
      "-25.31    -27.11     -3.42      0.13      c1(NC(c2ccc(C(C)(C)C)cc2)=O)cc2c(cc1)CCc1c(cccc1)N2C(=O)C\n",
      "-21.01    -22.55    -22.55      0.00      C(c1c(F)cccc1)#Cc1nc2c(cc1)C(=O)N(C1CCCC1)CC2\n",
      "-29.06    -29.49    -29.49      0.00      c1ccc(O)c2c1CCCC2=NNC(=O)C(CC)CCCC\n",
      "-26.31    -26.39    -13.92      0.07      C(n1c(=S)n(-c2ccc(F)cc2)cc1C)c1ccc(C)cc1\n",
      "-31.45    -30.93    -11.85      0.11      NCC(Nc1c(OCCN(CCCC)C)c(Br)cc(Br)c1)=O\n",
      "-36.99    -41.49    -41.49      0.00      c1(C)c2c(c3c(c1)C1(C)C(C)(C(C=NN)CC1)CC3)CC(C)(C)CC2=O\n",
      "-29.53    -30.16    -17.13      0.07      C1C(Cc2cc3cccnc3[nH]c2=O)CCN(Cc2scnc2C)C1\n",
      "Aurora kinase   Matching substructure   Custom alerts   B-RAF selectivity   raw_Aurora kinase   raw_B-RAF selectivity\n",
      "0.33430036902427673   1.0   1.0   0.027223939076066017   5.901717185974121   6.2653913497924805   \n",
      "0.2953307330608368   0.5   1.0   0.02354605495929718   5.7446465492248535   6.185926914215088   \n",
      "0.3237055540084839   1.0   1.0   0.009999999776482582   5.8600287437438965   6.976853370666504   \n",
      "0.3317053020000458   1.0   1.0   0.021414117887616158   5.891568660736084   6.383447170257568   \n",
      "0.435760498046875   0.5   0.0   0.05345136299729347   6.27556848526001   6.27338981628418   \n",
      "0.31155768036842346   1.0   0.0   0.021402157843112946   5.811341762542725   6.303517818450928   \n",
      "0.3001951277256012   0.5   1.0   0.030561113730072975   5.764853477478027   6.066474914550781   \n",
      "0.4373045563697815   0.5   1.0   0.05159507319331169   6.2810211181640625   6.29828405380249   \n",
      "0.32269561290740967   1.0   0.0   0.03748806193470955   5.85601806640625   6.047433853149414   \n",
      "0.3509146571159363   0.5   1.0   0.025520136579871178   5.965799331665039   6.364067077636719   \n",
      "\n"
     ]
    }
   ],
   "source": [
    "for element in data:\n",
    "    print(element)"
   ]
  },
  {
   "cell_type": "markdown",
   "metadata": {},
   "source": [
    "## 5. Analyse the results\n",
    "In order to analyze the run in a more intuitive way, we can use `tensorboard`:\n",
    "\n",
    "```\n",
    "# go to the root folder of the output\n",
    "cd <your_path>/REINVENT_RL_demo\n",
    "\n",
    "# make sure, you have activated the proper environment\n",
    "conda activate reinvent.v3.0\n",
    "\n",
    "# start tensorboard\n",
    "tensorboard --logdir progress.log\n",
    "```\n",
    "\n",
    "Then copy the link provided to a browser window, e.g. \"http://workstation.url.com:6006/\". The following figures are exmaple plots - remember, that there is always some randomness involved. In `tensorboard` you can monitor the individual scoring function components. What you see is, that all of those depicted went up (and `Fraction_valid_SMILES` was high troughout). Not shown is the predictive model, which did not perform all that well, so you might want to consider a higher weight next time.\n",
    "\n",
    "![](img/individual_components.png)\n",
    "\n",
    "Also the total score increased over time.\n",
    "\n",
    "![](img/total_score.png)\n",
    "\n",
    "It might also be informative to look at the results from the prior (dark blue), the agent (blue) and the augmented likelihood (purple) over time.\n",
    "\n",
    "![](img/likelihood.png)\n",
    "\n",
    "And last but not least, there is a \"Images\" tab available that lets you browse through the compounds generated in an easy way. In the molecules, the substructure matches that were defined to be required are highlighted in red (if present). Also, the total scores are given per molecule.\n",
    "\n",
    "![](img/molecules.png)"
   ]
  },
  {
   "cell_type": "markdown",
   "metadata": {},
   "source": [
    "The results folder will hold four different files: the agent (pickled), the input JSON (just for reference purposes), the memory (highest scoring compounds in `CSV` format) and the scaffold memory (in `CSV` format)."
   ]
  },
  {
   "cell_type": "code",
   "execution_count": 13,
   "metadata": {},
   "outputs": [
    {
     "name": "stdout",
     "output_type": "stream",
     "text": [
      ",smiles,score,likelihood\r\n",
      "49,c1cc(C2(C(F)(F)F)NC(=O)C(C(=O)NS(Cc3ccccc3)(=O)=O)=C(c3cn(CC4CCOCC4)c(=O)cc3)C2)c(F)cc1-c1cncnc1N1C2CC(C(c3cocc3)n3nncc3)CC2CC1,0.9174115,-117.29756\r\n",
      "122,c1c(C2(C(F)(F)F)NC(=O)C(C(=O)NS(C3CC3)(=O)=O)=C(c3cn(CC4CCOCC4)c(=O)cc3)C2)c(F)ccc1-c1cncnc1N1C2CC(C(c3ccc(C(F)F)o3)C)CC2CC1,0.9160371,-107.46117\r\n",
      "50,c1c(C2(C(F)(F)F)NC(=O)C(C(=O)NS(Cc3ccccc3)(=O)=O)=C(c3cn(CC4CCOCC4)c(=O)cc3)C2)c(F)ccc1-c1cncnc1N1C2CC(C(c3ccc(C(F)F)o3)(C)C)CC2CC1,0.9159551,-106.201866\r\n",
      "51,c1(C2(C(F)(F)F)NC(=O)C(C(=O)NS(Cc3ccncc3)(=O)=O)=C(c3cn(CC4CCOCC4)c(=O)cc3)C2)c(F)ccc(-c2cncnc2N2C3CC(CSc4sccc4)CC3CC2)c1,0.91587687,-103.7542\r\n",
      "36,c1(C2(C(F)(F)F)NC(=O)C(C(=O)NS(Cc3ccncc3)(=O)=O)=C(c3cn(CC4CCOCC4)c(=O)cc3)C2)c(F)ccc(-c2cncnc2N2C3CC(CSc4sccn4)CC3CC2)c1,0.91587687,-100.189095\r\n",
      "116,c1c(C2(C(F)(F)F)NC(=O)C(C(=O)NS(Cc3ccccc3)(=O)=O)=C(c3cn(CC4CCOCC4)c(=O)cc3)C2)c(F)ccc1-c1cncnc1N1C2CC(C(c3ccncc3F)F)CC2CC1,0.9143506,-112.0386\r\n",
      "29,c1c(C2(C(F)(F)F)NC(=O)C(C(=O)NS(Cc3ccncc3)(=O)=O)=C(c3cn(CC4CCOCC4)c(=O)cc3)C2)c(F)ccc1-c1cncnc1N1C2CC(COc3cnc(C4=CCCC4)cn3)CC2CC1,0.91350776,-122.308304\r\n",
      "108,c1c(C2(C(F)(F)F)NC(=O)C(C(=O)NS(Cc3ccncc3)(=O)=O)=C(c3cn(CC4CCOCC4)c(=O)cc3)C2)c(F)ccc1-c1cncnc1N1C2CC(Cn3nncc3C(F)F)CC2CC1,0.91345125,-109.382935\r\n",
      "71,c1c(C2(C(F)(F)F)NC(=O)C(C(=O)NS(Cc3ccncc3)(=O)=O)=C(c3cn(CC4CCOCC4)c(=O)cc3)C2)c(F)ccc1-c1cncnc1N1C2CC(COc3ccnc(C)n3)CC2CC1,0.91338855,-107.265144\r\n",
      "8,c1c(C2(C(F)(F)F)NC(=O)C(C(=O)NS(Cc3ccncc3)(=O)=O)=C(c3cn(CC4CCOCC4)c(=O)cc3)C2)c(F)ccc1-c1cncnc1N1C2CC(CSc3ccnc(OCC)n3)CC2CC1,0.91328263,-107.05212\r\n",
      "48,c1c(C2(C(F)(F)F)NC(=O)C(C(=O)NS(Cc3ccccc3)(=O)=O)=C(c3cn(CC4CCOCC4)c(=O)cc3)C2)c(F)ccc1-c1cncnc1N1C2CC(C(c3ccncc3F)F)CCC2CC1,0.91314566,-114.39856\r\n",
      "13,c1(C2(C(F)(F)F)NC(=O)C(C(=O)NS(Cc3ccccc3)(=O)=O)=C(c3cn(CC4CCOCC4)c(=O)cc3)C2)c(F)ccc(-c2cncnc2N2C3CC(C(F)c4cnc(C)cc4)CC3CC2)c1,0.9130001,-106.86945\r\n",
      "62,c1c(C2(C(F)(F)F)NC(=O)C(C(=O)NS(Cc3ccccc3)(=O)=O)=C(c3cn(CC4CCOCC4)c(=O)cc3)C2)c(F)ccc1-c1cncnc1N1C2CC(C(c3cncnc3)(C)C)CC2CC1,0.9128501,-101.63158\r\n",
      "17,c1(C2(C(F)(F)F)NC(=O)C(C(=O)NS(Cc3ccccc3)(=O)=O)=C(c3cn(CC4CCOCC4)c(=O)cc3)C2)c(F)ccc(-c2cncnc2N2C3CC(Cc4ccncc4)CC3CC2)c1,0.91264063,-96.116394\r\n"
     ]
    }
   ],
   "source": [
    "!head -n 15 {output_dir}/results/memory.csv"
   ]
  }
 ],
 "metadata": {
  "kernelspec": {
   "display_name": "Python 3",
   "language": "python",
   "name": "python3"
  },
  "language_info": {
   "codemirror_mode": {
    "name": "ipython",
    "version": 3
   },
   "file_extension": ".py",
   "mimetype": "text/x-python",
   "name": "python",
   "nbconvert_exporter": "python",
   "pygments_lexer": "ipython3",
   "version": "3.7.6"
  }
 },
 "nbformat": 4,
 "nbformat_minor": 2
}
