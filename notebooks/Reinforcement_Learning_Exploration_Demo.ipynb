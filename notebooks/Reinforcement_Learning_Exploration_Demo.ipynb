{
 "cells": [
  {
   "cell_type": "markdown",
   "metadata": {},
   "source": [
    "> **How to run this notebook (command-line)?**\n",
    "1. Install the `ReinventCommunity` environment:\n",
    "`conda env create -f environment.yml`\n",
    "2. Activate the environment:\n",
    "`conda activate ReinventCommunity`\n",
    "3. Execute `jupyter`:\n",
    "`jupyter notebook`\n",
    "4. Copy the link to a browser\n",
    "\n",
    "\n",
    "# `REINVENT 3.2`: reinforcement learning exploration demo\n",
    "This illustrates a use case where we aim to achieve an exploration behavior by generating as many as possible diverse solutions by using a predictive model as the main component.\n",
    "\n",
    "NOTE: The generated solutions might not be entirely reliable since they could be outside of the applicability domain of the predictive model. Predictive models could score highly compounds that are outside of the applicability domain but this score would be likely inaccurate. This mode would be more reliable if we aslo include `matching_substructure` component with a list of desired core structural patterns/scaffolds. Alternatively this mode can be quite successful in combination with docking or pharmacophore similarity. Such examples will be provided with the next releases. \n"
   ]
  },
  {
   "cell_type": "markdown",
   "metadata": {},
   "source": [
    "## 1. Set up the paths\n",
    "_Please update the following code block such that it reflects your system's installation and execute it._"
   ]
  },
  {
   "cell_type": "code",
   "execution_count": 1,
   "metadata": {},
   "outputs": [],
   "source": [
    "# load dependencies\n",
    "import os\n",
    "import re\n",
    "import json\n",
    "import tempfile\n",
    "\n",
    "# --------- change these path variables as required\n",
    "reinvent_dir = os.path.expanduser(\"~/Desktop/Reinvent\")\n",
    "reinvent_env = os.path.expanduser(\"~/miniconda3/envs/reinvent.v3.2\")\n",
    "output_dir = os.path.expanduser(\"~/Desktop/REINVENT_RL_Exploration_demo\")\n",
    "\n",
    "# --------- do not change\n",
    "# get the notebook's root path\n",
    "try: ipynb_path\n",
    "except NameError: ipynb_path = os.getcwd()\n",
    "\n",
    "# if required, generate a folder to store the results\n",
    "try:\n",
    "    os.mkdir(output_dir)\n",
    "except FileExistsError:\n",
    "    pass"
   ]
  },
  {
   "cell_type": "markdown",
   "metadata": {},
   "source": [
    "## 2. Setting up the configuration \n",
    "In the cells below we will build a nested dictionary object that will be eventually converted to JSON file which in turn will be consumed by `REINVENT`. \n",
    "You can find this file in your `output_dir` location."
   ]
  },
  {
   "cell_type": "markdown",
   "metadata": {},
   "source": [
    "### A) Declare the run type"
   ]
  },
  {
   "cell_type": "code",
   "execution_count": 2,
   "metadata": {},
   "outputs": [],
   "source": [
    "# initialize the dictionary\n",
    "configuration = {\n",
    "    \"version\": 3,                          # we are going to use REINVENT's newest release\n",
    "    \"run_type\": \"reinforcement_learning\"   # other run types: \"sampling\", \"validation\",\n",
    "                                           #                  \"transfer_learning\",\n",
    "                                           #                  \"scoring\" and \"create_model\"\n",
    "}"
   ]
  },
  {
   "cell_type": "markdown",
   "metadata": {},
   "source": [
    "### B) Sort out the logging details\n",
    "This includes `result_folder` path where the results will be produced.\n",
    "\n",
    "Also: `REINVENT` can send custom log messages to a remote location. We have retained this capability in the code. if the `recipient` value differs from `\"local\"` `REINVENT` will attempt to POST the data to the specified `recipient`. "
   ]
  },
  {
   "cell_type": "code",
   "execution_count": 3,
   "metadata": {},
   "outputs": [],
   "source": [
    "# add block to specify whether to run locally or not and\n",
    "# where to store the results and logging\n",
    "configuration[\"logging\"] = {\n",
    "    \"sender\": \"http://0.0.0.1\",          # only relevant if \"recipient\" is set to \"remote\"\n",
    "    \"recipient\": \"local\",                # either to local logging or use a remote REST-interface\n",
    "    \"logging_frequency\": 10,             # log every x-th steps\n",
    "    \"logging_path\": os.path.join(output_dir, \"progress.log\"), # load this folder in tensorboard\n",
    "    \"result_folder\": os.path.join(output_dir, \"results\"),     # will hold the compounds (SMILES) and summaries\n",
    "    \"job_name\": \"Reinforcement learning demo\",                # set an arbitrary job name for identification\n",
    "    \"job_id\": \"demo\"                     # only relevant if \"recipient\" is set to a specific REST endpoint\n",
    "}"
   ]
  },
  {
   "cell_type": "markdown",
   "metadata": {},
   "source": [
    "Create `\"parameters\"` field"
   ]
  },
  {
   "cell_type": "code",
   "execution_count": 4,
   "metadata": {},
   "outputs": [],
   "source": [
    "# add the \"parameters\" block\n",
    "configuration[\"parameters\"] = {}"
   ]
  },
  {
   "cell_type": "markdown",
   "metadata": {},
   "source": [
    "### C) Set Diversity Filter\n",
    "During each step of Reinforcement Learning the compounds scored above `minscore` threshold are kept in memory. The scored smiles are written out to a file in the results folder `scaffold_memory.csv`. In the example here we are not using any filter by setting it to `\"IdenticalMurckoScaffold\"`. This will help to explore the chemical space since using the diversity filters will stimulate generation of more diverse solutions. The maximum average value of the scoring fuinction will be lower in exploration mode because the Agent is encouraged to search for diverse scaffolds rather than to only optimize the ones that are being found so far. The number of generated compounds should be higher in comparison to the exploitation scenario since the diversity is encouraged. "
   ]
  },
  {
   "cell_type": "code",
   "execution_count": 5,
   "metadata": {},
   "outputs": [],
   "source": [
    "# add a \"diversity_filter\"\n",
    "configuration[\"parameters\"][\"diversity_filter\"] =  {\n",
    "    \"name\": \"IdenticalMurckoScaffold\",     # other options are: \"IdenticalTopologicalScaffold\", \n",
    "                                           # \"IdenticalMurckoScaffold\" and \"ScaffoldSimilarity\"\n",
    "                                           # -> use \"NoFilter\" to disable this feature\n",
    "    \"nbmax\": 25,                           # the bin size; penalization will start once this is exceeded\n",
    "    \"minscore\": 0.4,                       # the minimum total score to be considered for binning\n",
    "    \"minsimilarity\": 0.4                   # the minimum similarity to be placed into the same bin\n",
    "}"
   ]
  },
  {
   "cell_type": "markdown",
   "metadata": {},
   "source": [
    "### D) Set Inception\n",
    "* `smiles` provide here a list of smiles to be incepted \n",
    "* `memory_size` the number of smiles allowed in the inception memory\n",
    "* `sample_size` the number of smiles that can be sampled at each reinforcement learning step from inception memory"
   ]
  },
  {
   "cell_type": "code",
   "execution_count": 6,
   "metadata": {},
   "outputs": [],
   "source": [
    "# prepare the inception (we do not use it in this example, so \"smiles\" is an empty list)\n",
    "configuration[\"parameters\"][\"inception\"] = {\n",
    "    \"smiles\": [],                          # fill in a list of SMILES here that can be used (or leave empty)\n",
    "    \"memory_size\": 100,                    # sets how many molecules are to be remembered\n",
    "    \"sample_size\": 10                      # how many are to be sampled each epoch from the memory\n",
    "}"
   ]
  },
  {
   "cell_type": "markdown",
   "metadata": {},
   "source": [
    "### E) Set the general Reinforcement Learning parameters\n",
    "* `n_steps` is the amount of Reinforcement Learning steps to perform. Best start with 1000 steps and see if thats enough.\n",
    "* `agent` is the generative model that undergoes transformation during the Reinforcement Learning run.\n",
    "\n",
    "We reccomend keeping the other parameters to their default values."
   ]
  },
  {
   "cell_type": "code",
   "execution_count": 7,
   "metadata": {},
   "outputs": [],
   "source": [
    "# set all \"reinforcement learning\"-specific run parameters\n",
    "configuration[\"parameters\"][\"reinforcement_learning\"] = {\n",
    "    \"prior\": os.path.join(ipynb_path, \"models/random.prior.new\"), # path to the pre-trained model\n",
    "    \"agent\": os.path.join(ipynb_path, \"models/random.prior.new\"), # path to the pre-trained model\n",
    "    \"n_steps\": 125,                        # the number of epochs (steps) to be performed; often 1000\n",
    "    \"sigma\": 128,                          # used to calculate the \"augmented likelihood\", see publication\n",
    "    \"learning_rate\": 0.0001,               # sets how strongly the agent is influenced by each epoch\n",
    "    \"batch_size\": 128,                     # specifies how many molecules are generated per epoch\n",
    "    \"margin_threshold\": 50                 # specify the (positive) margin between agent and prior\n",
    "}"
   ]
  },
  {
   "cell_type": "markdown",
   "metadata": {},
   "source": [
    "### F) Define the scoring function\n",
    "We will use a `custom_product` type. The component types included are:\n",
    "* `predictive_property` which is the target activity to _Aurora_ kinase represented by the predictive `regression` model. Note that we set the weight of this component to be the highest.\n",
    "* `qed_score` is the implementation of QED in RDKit. It biases the egenration of  molecules towars more \"drug-like\" space. Depending on the study case can have beneficial or detrimental effect.\n",
    "* `custom_alerts` the `\"smiles\"` field  also can work with SMILES or SMARTS\n",
    "\n",
    "Note: The model used in this example is a regression model\n"
   ]
  },
  {
   "cell_type": "code",
   "execution_count": 8,
   "metadata": {},
   "outputs": [],
   "source": [
    "# prepare the scoring function definition and add at the end\n",
    "scoring_function = {\n",
    "    \"name\": \"custom_product\",              # this is our default one (alternative: \"custom_sum\")\n",
    "    \"parallel\": False,                     # sets whether components are to be executed\n",
    "                                           # in parallel; note, that python uses \"False\" / \"True\"\n",
    "                                           # but the JSON \"false\" / \"true\"\n",
    "\n",
    "    # the \"parameters\" list holds the individual components\n",
    "    \"parameters\": [\n",
    "\n",
    "    # add component: an activity model\n",
    "    {\n",
    "        \"component_type\": \"predictive_property\", # this is a scikit-learn model, returning\n",
    "                                                 # activity values\n",
    "        \"name\": \"Aurora kinase\",                 # arbitrary name for the component\n",
    "        \"weight\": 6,                            # the weight (\"importance\") of the component (default: 1)\n",
    "        \"specific_parameters\": {\n",
    "            \"model_path\": os.path.join(ipynb_path, \"models/Aurora_model.pkl\"),   # absolute model path\n",
    "            \"transformation\": {\n",
    "                \"transformation_type\": \"sigmoid\",  # see description above\n",
    "                \"high\": 9,                         # parameter for sigmoid transformation\n",
    "                \"low\": 4,                          # parameter for sigmoid transformation\n",
    "                \"k\": 0.25,                         # parameter for sigmoid transformation\n",
    "            },\n",
    "            \"scikit\": \"regression\",                # model can be \"regression\" or \"classification\"\n",
    "            \"descriptor_type\": \"ecfp_counts\",      # sets the input descriptor for this model\n",
    "            \"size\": 2048,                          # parameter of descriptor type\n",
    "            \"radius\": 3,                           # parameter of descriptor type\n",
    "            \"use_counts\": True,                    # parameter of descriptor type\n",
    "            \"use_features\": True                   # parameter of descriptor type\n",
    "        }\n",
    "    },\n",
    "\n",
    "    # add component: QED\n",
    "    {\n",
    "        \"component_type\": \"qed_score\", # this is the QED score as implemented in RDKit\n",
    "        \"name\": \"QED\",        # arbitrary name for the component\n",
    "        \"weight\": 2           # the weight (\"importance\") of the component (default: 1)                      \n",
    "    },\n",
    "\n",
    "    # add component: enforce to NOT match a given substructure\n",
    "    {\n",
    "        \"component_type\": \"custom_alerts\",\n",
    "        \"name\": \"Custom alerts\",               # arbitrary name for the component\n",
    "        \"weight\": 1,                           # the weight of the component (default: 1)\n",
    "        \"specific_parameters\": {\n",
    "            \"smiles\": [                            # specify the substructures (as list) to penalize\n",
    "                \"[*;r8]\",\n",
    "                \"[*;r9]\",\n",
    "                \"[*;r10]\",\n",
    "                \"[*;r11]\",\n",
    "                \"[*;r12]\",\n",
    "                \"[*;r13]\",\n",
    "                \"[*;r14]\",\n",
    "                \"[*;r15]\",\n",
    "                \"[*;r16]\",\n",
    "                \"[*;r17]\",\n",
    "                \"[#8][#8]\",\n",
    "                \"[#6;+]\",\n",
    "                \"[#16][#16]\",\n",
    "                \"[#7;!n][S;!$(S(=O)=O)]\",\n",
    "                \"[#7;!n][#7;!n]\",\n",
    "                \"C#C\",\n",
    "                \"C(=[O,S])[O,S]\",\n",
    "                \"[#7;!n][C;!$(C(=[O,N])[N,O])][#16;!s]\",\n",
    "                \"[#7;!n][C;!$(C(=[O,N])[N,O])][#7;!n]\",\n",
    "                \"[#7;!n][C;!$(C(=[O,N])[N,O])][#8;!o]\",\n",
    "                \"[#8;!o][C;!$(C(=[O,N])[N,O])][#16;!s]\",\n",
    "                \"[#8;!o][C;!$(C(=[O,N])[N,O])][#8;!o]\",\n",
    "                \"[#16;!s][C;!$(C(=[O,N])[N,O])][#16;!s]\"\n",
    "            ]\n",
    "        }\n",
    "    }]\n",
    "}\n",
    "configuration[\"parameters\"][\"scoring_function\"] = scoring_function"
   ]
  },
  {
   "cell_type": "markdown",
   "metadata": {},
   "source": [
    "#### NOTE:  Getting the selectivity score component to reach satisfactory levels is non-trivial and might take considerably higher number of steps"
   ]
  },
  {
   "cell_type": "markdown",
   "metadata": {},
   "source": [
    "## 3. Write out the configuration"
   ]
  },
  {
   "cell_type": "markdown",
   "metadata": {},
   "source": [
    "We now have successfully filled the dictionary and will write it out as a `JSON` file in the output directory. Please have a look at the file before proceeding in order to see how the paths have been inserted where required and the `dict` -> `JSON` translations (e.g. `True` to `true`) have taken place."
   ]
  },
  {
   "cell_type": "code",
   "execution_count": 9,
   "metadata": {},
   "outputs": [],
   "source": [
    "# write the configuration file to the disc\n",
    "configuration_JSON_path = os.path.join(output_dir, \"RL_config.json\")\n",
    "with open(configuration_JSON_path, 'w') as f:\n",
    "    json.dump(configuration, f, indent=4, sort_keys=True)"
   ]
  },
  {
   "cell_type": "markdown",
   "metadata": {},
   "source": [
    "## 4. Run `REINVENT`\n",
    "Now it is time to execute `REINVENT` locally. Note, that depending on the number of epochs (steps) and the execution time of the scoring function components, this might take a while. \n",
    "\n",
    "The command-line execution looks like this:\n",
    "```\n",
    "# activate envionment\n",
    "conda activate reinvent.v3.2\n",
    "\n",
    "# execute REINVENT\n",
    "python <your_path>/input.py <config>.json\n",
    "```"
   ]
  },
  {
   "cell_type": "code",
   "execution_count": 10,
   "metadata": {},
   "outputs": [],
   "source": [
    "%%capture captured_err_stream --no-stderr\n",
    "\n",
    "# execute REINVENT from the command-line\n",
    "!{reinvent_env}/bin/python {reinvent_dir}/input.py {configuration_JSON_path}"
   ]
  },
  {
   "cell_type": "code",
   "execution_count": 11,
   "metadata": {},
   "outputs": [],
   "source": [
    "# print the output to a file, just to have it for documentation\n",
    "with open(os.path.join(output_dir, \"run.err\"), 'w') as file:\n",
    "    file.write(captured_err_stream.stdout)\n",
    "\n",
    "# prepare the output to be parsed\n",
    "list_epochs = re.findall(r'INFO.*?local', captured_err_stream.stdout, re.DOTALL)\n",
    "data = [epoch for idx, epoch in enumerate(list_epochs) if idx in [1, 75, 124]]\n",
    "data = [\"\\n\".join(element.splitlines()[:-1]) for element in data]"
   ]
  },
  {
   "cell_type": "markdown",
   "metadata": {},
   "source": [
    "Below you see the print-out of the first, one from the middle and the last epoch, respectively. Note, that the fraction of valid `SMILES` is high right from the start (because we use a pre-trained prior). You can see the partial scores for each component for the first couple of compounds, but the most important information is the average score. You can clearly see how it increases over time."
   ]
  },
  {
   "cell_type": "code",
   "execution_count": 12,
   "metadata": {},
   "outputs": [
    {
     "name": "stdout",
     "output_type": "stream",
     "text": [
      "INFO     \n",
      " Step 0   Fraction valid SMILES: 98.4   Score: 0.2694   Time elapsed: 0   Time left: 0.0\n",
      "  Agent     Prior     Target     Score     SMILES\n",
      "-31.68    -31.68    -31.68      0.00      c1c(Oc2ccc(OC)cc2C(Nc2cccc(C(F)(F)F)c2)=O)cc2c(c1)OCO2\n",
      "-24.74    -24.74     29.85      0.43      c1(C)ccc(SCC(Nc2ccc(-c3csc(C)n3)cc2)=O)cc1\n",
      "-38.29    -38.29    -38.29      0.00      c1(COC([N+](=O)[O-])=NNC(c2ccncc2)=O)sccc1C\n",
      "-21.00    -21.00     31.64      0.41      c1c(NC(=O)C=Cc2ccc(F)cc2)c(C(N)=O)ccc1\n",
      "-32.55    -32.55     15.23      0.37      c1(C(N2CCN(C)CC2)=O)ccc(C)c2cc3c(cc12)cccn3\n",
      "-26.17    -26.17     22.14      0.38      c12c(cc(F)cc1)C(=C1CCN(C(C=Cc3cccs3)=O)CC1)c1ncccc1CC2\n",
      "-36.73    -36.73      6.33      0.34      c1cc2c(cc1)C(=NS(=O)(c1cc(C)c(Cl)cc1Cl)=O)C(=O)N2Cc1ccc2c(n1)cccc2\n",
      "-27.30    -27.30     28.54      0.44      C1CN(c2cc(N3CCN(C(c4nc5c(cccc5)[nH]4)=O)CC3)ncn2)CC1\n",
      "-22.68    -22.68    -22.68      0.00      O=C1C=CC(O)(c2n[nH]nn2)O1\n",
      "-26.01    -26.01     27.14      0.42      N1(Cc2ncccc2)CCC2(CN(C(c3ccc[nH]3)=O)CC2)C1=O\n",
      "Aurora kinase   QED   Custom alerts   raw_Aurora kinase\n",
      "0.3905734717845917   0.579025387763977   0.0   6.11356258392334   \n",
      "0.3717414140701294   0.6437296867370605   1.0   6.044205188751221   \n",
      "0.2958056330680847   0.40083593130111694   0.0   5.7466278076171875   \n",
      "0.32321399450302124   0.8469038009643555   1.0   5.858077526092529   \n",
      "0.3107519745826721   0.6468273401260376   1.0   5.808076858520508   \n",
      "0.3432081341743469   0.5018342137336731   1.0   5.936259746551514   \n",
      "0.32901373505592346   0.35945576429367065   1.0   5.881000995635986   \n",
      "0.36403903365135193   0.7510256171226501   1.0   6.015435218811035   \n",
      "0.29400330781936646   0.49247780442237854   0.0   5.739099025726318   \n",
      "0.3169771134853363   0.9336535930633545   1.0   5.833185195922852   \n",
      "\n",
      "INFO     \n",
      " Step 72   Fraction valid SMILES: 96.9   Score: 0.3346   Time elapsed: 57   Time left: 41.4\n",
      "  Agent     Prior     Target     Score     SMILES\n",
      "-49.26    -48.17     19.30      0.38      Cc1cc(C)cc(SC(c2cc3ccn(CC)c3cc2)c2cn(C)c(C=O)c2)c1C\n",
      "-22.46    -23.76     49.95      0.41      c1(C(N)=O)cccc(NC(=O)Nc2cccc(C#N)c2)c1\n",
      "-20.97    -22.06     66.18      0.50      C1(C)(C)c2c(cc(NC(c3ccncc3)=O)cc2)C(C)(C)CC1\n",
      "-21.38    -22.78    -22.78      0.00      C1(C)=NC(C)=C(C(=O)Nc2ccccc2)C(c2cc([N+](=O)[O-])ccc2)C1C(OC)=O\n",
      "-40.31    -39.60      9.76      0.28      c1cc(SCCc2ccccc2)c2c(sc(OCc3ccccc3)c2CCCCC)n1\n",
      "-27.55    -29.77     40.24      0.39      c1c(CCNS(c2ccc(Oc3ccns3)cc2)(=O)=O)cccc1\n",
      "-15.69    -16.17     63.65      0.45      c1(=N)c2[nH]c(=O)n(Cc3ccccc3)c2nc[nH]1\n",
      "-64.77    -63.72    -63.72      0.00      C1=C2C(C)(C3(c4ccnn4-c4oc5ccccc5c4C(OC)=O)C1(O)CCC3C1CC1)CCC(O)C2\n",
      "-24.97    -24.89     51.38      0.43      CCCCCCCCn1c2c(c(-c3ccc(O)cc3)c1)c(=N)[nH]cn2\n",
      "-21.33    -21.94     48.34      0.39      C1N2CCC(C(c3cnccn3)O2)C1\n",
      "Aurora kinase   QED   Custom alerts   raw_Aurora kinase\n",
      "0.4293595254421234   0.26081550121307373   1.0   6.252917289733887   \n",
      "0.33218467235565186   0.8021456599235535   1.0   5.893446445465088   \n",
      "0.41024670004844666   0.8746982216835022   1.0   6.184749603271484   \n",
      "0.30967384576797485   0.45964235067367554   0.0   5.8037004470825195   \n",
      "0.32520532608032227   0.17200464010238647   1.0   5.86597204208374   \n",
      "0.3245238959789276   0.7005628943443298   1.0   5.863273620605469   \n",
      "0.4042865037918091   0.6122006177902222   1.0   6.163303852081299   \n",
      "0.3286198079586029   0.40866413712501526   0.0   5.87945032119751   \n",
      "0.40019693970680237   0.5258198976516724   1.0   6.148530006408691   \n",
      "0.3314111530780792   0.6676537990570068   1.0   5.890416145324707   \n",
      "\n",
      "INFO     \n",
      " Step 121   Fraction valid SMILES: 100.0   Score: 0.3715   Time elapsed: 95   Time left: 3.1\n",
      "  Agent     Prior     Target     Score     SMILES\n",
      "-35.65    -38.14     35.96      0.42      n12c(ccn1)CN(S(=O)(=O)c1ccc(-c3ncns3)cc1)CCC2\n",
      "-29.85    -28.33     43.73      0.40      N(Cc1ccccc1)C(=O)C(c1ccccc1F)NC(=O)c1ccco1\n",
      "-33.92    -33.06     35.96      0.39      c1(F)c2c(ccc1)CCN(c1nc3c(cc(OC(F)(F)F)cc3)s1)C2\n",
      "-30.14    -28.89     50.18      0.44      C1C(C(N(Cc2cccc(Cl)c2)C2CC2)=O)CCN(Cc2cccs2)C1\n",
      "-21.64    -24.08     72.68      0.54      c1c(CN(Cc2onc(Cc3c(F)cccc3)n2)CC)cnn1C\n",
      "-29.36    -31.02     43.52      0.42      C1Cc2nn3c(nc(CSc4nnc(C)n4C4CC4)cc3)c2CC1\n",
      "-20.41    -21.84     43.73      0.37      c1cc([N+](=O)[O-])ccc1CN1CCN(Cc2cccc(Cl)c2)CC1\n",
      "-43.17    -46.41     12.76      0.33      Fc1ccc(-c2ccc(CCCCC)c(S(C)(=O)=O)c2)cc1Cn1c(CN2CCC(N3CCCCC3)CC2)nnn1\n",
      "-19.28    -19.88     50.53      0.40      C1CCCN(C(=O)C(=NC(c2ccccc2)=O)Cc2ccc(OC)cc2)C1\n",
      "-21.18    -21.37     49.29      0.40      c1ccc2nc3c(nc2c1)n(C)c(=O)n(CC)c3=O\n",
      "Aurora kinase   QED   Custom alerts   raw_Aurora kinase\n",
      "0.34800103306770325   0.7126163840293884   1.0   5.954667091369629   \n",
      "0.3348360061645508   0.7155715227127075   1.0   5.903806686401367   \n",
      "0.3348551094532013   0.6020334959030151   1.0   5.903881549835205   \n",
      "0.38013583421707153   0.7088148593902588   1.0   6.075284481048584   \n",
      "0.5078698992729187   0.6665757894515991   1.0   6.527345180511475   \n",
      "0.3557356297969818   0.6829476952552795   1.0   5.984126567840576   \n",
      "0.31068676710128784   0.6137681603431702   1.0   5.807812213897705   \n",
      "0.3476615250110626   0.29051610827445984   1.0   5.953367233276367   \n",
      "0.3177858591079712   0.762771725654602   1.0   5.836427688598633   \n",
      "0.3459586203098297   0.5997475385665894   1.0   5.946837902069092   \n",
      "\n"
     ]
    }
   ],
   "source": [
    "for element in data:\n",
    "    print(element)"
   ]
  },
  {
   "cell_type": "markdown",
   "metadata": {},
   "source": [
    "## 5. Analyse the results\n",
    "In order to analyze the run in a more intuitive way, we can use `tensorboard`:\n",
    "\n",
    "```\n",
    "# go to the root folder of the output\n",
    "cd <your_path>/REINVENT_RL_demo\n",
    "\n",
    "# make sure, you have activated the proper environment\n",
    "conda activate reinvent.v3.2\n",
    "\n",
    "# start tensorboard\n",
    "tensorboard --logdir progress.log\n",
    "```\n",
    "\n",
    "Then copy the link provided to a browser window, e.g. \"http://workstation.url.com:6006/\". The following figures are exmaple plots - remember, that there is always some randomness involved. In `tensorboard` you can monitor the individual scoring function components. \n",
    "\n",
    "The score for predicted Aurora Kinase activity.\n",
    "\n",
    "![](img/explore_aurora_kinase.png)\n",
    "\n",
    "The average score over time.\n",
    "\n",
    "![](img/explore_avg_score.png)\n",
    "\n",
    "It might also be informative to look at the results from the prior (dark blue), the agent (blue) and the augmented likelihood (purple) over time.\n",
    "\n",
    "![](img/explore_nll_plot.png)\n",
    "\n",
    "And last but not least, there is a \"Images\" tab available that lets you browse through the compounds generated in an easy way. In the molecules, the substructure matches that were defined to be required are highlighted in red (if present). Also, the total scores are given per molecule.\n",
    "\n",
    "![](img/molecules.png)"
   ]
  },
  {
   "cell_type": "markdown",
   "metadata": {},
   "source": [
    "The results folder will hold four different files: the agent (pickled), the input JSON (just for reference purposes), the memory (highest scoring compounds in `CSV` format) and the scaffold memory (in `CSV` format)."
   ]
  },
  {
   "cell_type": "code",
   "execution_count": 13,
   "metadata": {},
   "outputs": [
    {
     "name": "stdout",
     "output_type": "stream",
     "text": [
      ",smiles,score,likelihood\r\n",
      "126,N(=c1[nH]c(-n2nnc(CCC)c2)nc(=NCC)[nH]1)CC,0.6718567,-29.083855\r\n",
      "126,Cc1c[nH]c(=NCCn2cc(CN(C)C)nn2)nc1,0.6282014,-30.314497\r\n",
      "114,c1c2c3c(cc1)CC1N(CC=C)CCC34C(C(O)C(CC)CC41)O2,0.61468065,-30.523155\r\n",
      "36,c1cc(CCNC(CCN=c2nccc[nH]2)=O)ccc1,0.60359675,-21.289137\r\n",
      "81,N(c1c(=O)n(CC(NCc2cc(Cl)c(Cl)cc2)=O)ccc1)C,0.59801006,-22.1726\r\n",
      "92,C(C(=O)N)n1cc(-c2ccc(OC)c(OC)c2)cc(NC(C)=O)c1=O,0.5958882,-32.15735\r\n",
      "114,Clc1cc(Cl)ccc1Cc1nncc(N2CCNCC2C)c1,0.59467584,-32.407734\r\n",
      "89,CCN(c1nc(-c2cc3c([nH]nc3)cc2)cn2ccnc21)CC,0.5946115,-30.064325\r\n",
      "70,O=C1CCCN1CCCNC(c1c(O)c2c(c(CC)ccc2)[nH]1)=O,0.5933007,-34.257744\r\n",
      "78,c1nccc(CN=c2[nH]nnn2CCCC)c1,0.59266245,-24.547398\r\n",
      "62,FC(c1cc(-c2nnn(CCCS(=O)(NC)=O)c2)c[nH]c1=N)(F)F,0.5915846,-31.9637\r\n",
      "127,c1(OC)c(O)ccc(-c2c(=NC(CCC)=O)[nH]ccc2)c1,0.5904153,-25.91703\r\n",
      "23,[nH]1c(=NCc2ccc(NS(CC)(=O)=O)cc2)ccc(N2CCCC2)n1,0.5896707,-30.422663\r\n",
      "109,c1c(C(c2ccno2)Cc2ccc(Cl)cc2)cc(=NC)[nH]c1,0.5894137,-28.653736\r\n"
     ]
    }
   ],
   "source": [
    "!head -n 15 {output_dir}/results/memory.csv"
   ]
  }
 ],
 "metadata": {
  "kernelspec": {
   "display_name": "Python 3",
   "language": "python",
   "name": "python3"
  },
  "language_info": {
   "codemirror_mode": {
    "name": "ipython",
    "version": 3
   },
   "file_extension": ".py",
   "mimetype": "text/x-python",
   "name": "python",
   "nbconvert_exporter": "python",
   "pygments_lexer": "ipython3",
   "version": "3.7.6"
  }
 },
 "nbformat": 4,
 "nbformat_minor": 2
}
