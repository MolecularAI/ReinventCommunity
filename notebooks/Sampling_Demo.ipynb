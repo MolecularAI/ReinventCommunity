{
 "cells": [
  {
   "cell_type": "markdown",
   "metadata": {},
   "source": [
    "> **How to run this notebook (command-line)?**\n",
    "1. Install the `ReinventCommunity` environment:\n",
    "`conda env create -f environment.yml`\n",
    "2. Activate the environment:\n",
    "`conda activate ReinventCommunity`\n",
    "3. Execute `jupyter`:\n",
    "`jupyter notebook`\n",
    "4. Copy the link to a browser\n",
    "\n",
    "\n",
    "# `REINVENT 3.2`: sampling mode demo\n",
    "The *reinforcement learning* mode can be used to train an agent to find molecules that maximize a user-defined score (typically comprised by a number of score components - check out the respective notebooks). While each iteration of the agent will output a number of molecules (batch), it might be necessary to generate more afterwards, e.g. if more ideas are required to push a project forward. This can be achieved with the *sampling* running mode of `REINVENT 3.2`, which takes a (trained) agent and generates more ideas which is illustrated by this notebook.\n",
    "\n",
    "To proceed, please update the following code block such that it reflects your system's installation and execute it."
   ]
  },
  {
   "cell_type": "code",
   "execution_count": 1,
   "metadata": {},
   "outputs": [],
   "source": [
    "# load dependencies\n",
    "import os\n",
    "import re\n",
    "import json\n",
    "import tempfile\n",
    "\n",
    "# --------- change these path variables as required\n",
    "reinvent_dir = os.path.expanduser(\"~/Desktop/Reinvent\")\n",
    "reinvent_env = os.path.expanduser(\"~/miniconda3/envs/reinvent.v3.2\")\n",
    "output_dir = os.path.expanduser(\"~/Desktop/REINVENT_sampling_demo\")\n",
    "\n",
    "# --------- do not change\n",
    "# get the notebook's root path\n",
    "try: ipynb_path\n",
    "except NameError: ipynb_path = os.getcwd()\n",
    "\n",
    "# if required, generate a folder to store the results\n",
    "try:\n",
    "    os.mkdir(output_dir)\n",
    "except FileExistsError:\n",
    "    pass"
   ]
  },
  {
   "cell_type": "markdown",
   "metadata": {},
   "source": [
    "## Setting up the configuration\n",
    "`REINVENT` has an entry point that loads a specified `JSON` file on startup. `JSON` is a low-level data format that allows to specify a fairly large number of parameters in a cascading fashion very quickly. The parameters are structured into *blocks* which can in turn contain blocks or simple values, such as *True* or *False*, strings and numbers. In this tutorial, we will go through the different blocks step-by-step, explaining their purpose and potential values for given parameters. Note, that while we will write out the configuration as a `JSON` file in the end, in `python` we handle the same information as a simple `dict`."
   ]
  },
  {
   "cell_type": "code",
   "execution_count": 2,
   "metadata": {},
   "outputs": [],
   "source": [
    "# initialize the dictionary\n",
    "configuration = {\n",
    "    \"version\": 3,                          # we are going to use REINVENT's newest release\n",
    "    \"run_type\": \"sampling\",                # other run types: \"scoring\", \"validation\",\n",
    "                                           #                  \"transfer_learning\",\n",
    "                                           #                  \"reinforcement_learning\" and\n",
    "                                           #                  \"create_model\"\n",
    "    \"model_type\": \"default\"\n",
    "}"
   ]
  },
  {
   "cell_type": "code",
   "execution_count": 3,
   "metadata": {},
   "outputs": [],
   "source": [
    "# add block to specify whether to run locally or not and\n",
    "# where to store the results and logging\n",
    "configuration[\"logging\"] = {\n",
    "    \"sender\": \"http://127.0.0.1\",          # only relevant if \"recipient\" is set to \"remote\"\n",
    "    \"recipient\": \"local\",                  # either to local logging or use a remote REST-interface\n",
    "    \"logging_path\": os.path.join(output_dir, \"progress.log\"), # where the run's output is stored\n",
    "    \"job_name\": \"Scoring mode demo\",       # set an arbitrary job name for identification\n",
    "    \"job_id\": \"demo\"                       # only relevant if \"recipient\" is set to \"remote\"\n",
    "}"
   ]
  },
  {
   "cell_type": "markdown",
   "metadata": {},
   "source": [
    "We will need to specify a path to an agent (parameter `model_path`), which can be a prior or trained agent. For the purpose of this notebook, we will use a prior shipped with the `REINVENT 3.0` repository."
   ]
  },
  {
   "cell_type": "code",
   "execution_count": 4,
   "metadata": {},
   "outputs": [],
   "source": [
    "# set up the file path, where the generated molecules are\n",
    "# deposited (as SMILES)\n",
    "output_SMILES_path = os.path.join(output_dir, \"sampled\", \"sampled.smi\")\n",
    "\n",
    "# add the \"parameters\" block\n",
    "configuration[\"parameters\"] = {\n",
    "    \"model_path\": os.path.join(ipynb_path,        # path to prior or trained agent\n",
    "                               \"models\",\n",
    "                               \"random.prior.new\"),\n",
    "    \"output_smiles_path\": output_SMILES_path,       # output path where SMILES will be deposited\n",
    "    \"num_smiles\": 1024,                             # specifies, how many molecules are to be sampled\n",
    "    \"batch_size\": 128,                              # internal batch size; should match the one used\n",
    "                                                    # during training\n",
    "    \"with_likelihood\": False                        # also provide the log-likelihood\n",
    "}"
   ]
  },
  {
   "cell_type": "markdown",
   "metadata": {},
   "source": [
    "We do not need to add any scoring function definition (in contrast to the e.g. *reinforcement learning* or *scoring* running modes). The reason is that the agent has (hopefully) \"learned\" to find resonable molecules (defined by the scoring function) and stores that knowledge internally in its weights.\n",
    "\n",
    "We now have successfully filled the dictionary and will write it out as a `JSON` file in the output directory. Please have a look at the file before proceeding in order to see how the paths have been inserted where required and the `dict` -> `JSON` translations (e.g. `True` to `true`) have taken place."
   ]
  },
  {
   "cell_type": "code",
   "execution_count": 5,
   "metadata": {},
   "outputs": [],
   "source": [
    "# write the configuration file to the disc\n",
    "configuration_JSON_path = os.path.join(output_dir, \"sampling_config.json\")\n",
    "with open(configuration_JSON_path, 'w') as f:\n",
    "    json.dump(configuration, f, indent=4, sort_keys=True)"
   ]
  },
  {
   "cell_type": "markdown",
   "metadata": {},
   "source": [
    "## Run `REINVENT`\n",
    "Now it is time to execute `REINVENT` locally. As we will not update any weights, execution should be very fast. The result will be a `SMILES` file in the `sampled` directory specified. If you want to generate the scores for these, you can make use of the *scoring mode* (see respective notebook for more details).\n",
    "\n",
    "The command-line execution looks like this:\n",
    "```\n",
    "# activate envionment\n",
    "conda activate reinvent.v3.2\n",
    "\n",
    "# execute REINVENT\n",
    "python <your_path>/input.py <config>.json\n",
    "```"
   ]
  },
  {
   "cell_type": "code",
   "execution_count": 6,
   "metadata": {},
   "outputs": [],
   "source": [
    "%%capture captured_err_stream --no-stderr\n",
    "\n",
    "# execute REINVENT from the command-line\n",
    "!{reinvent_env}/bin/python {reinvent_dir}/input.py {configuration_JSON_path}"
   ]
  },
  {
   "cell_type": "code",
   "execution_count": 7,
   "metadata": {},
   "outputs": [],
   "source": [
    "# print the output to a file, just to have it for documentation\n",
    "with open(os.path.join(output_dir, \"run.err\"), 'w') as file:\n",
    "    file.write(captured_err_stream.stdout)"
   ]
  },
  {
   "cell_type": "code",
   "execution_count": 8,
   "metadata": {},
   "outputs": [
    {
     "name": "stdout",
     "output_type": "stream",
     "text": [
      "c1(-c2c3n(c(C4CC4)n2)c(=N)n(C)[nH]3)ccccc1CC\r\n",
      "C(c1ccccc1)OC1c2cc3c(Cl)c[nH]c3cc2CCN1C\r\n",
      "o1c(O)c(CO)c(-c2ccc(N=NO)cc2)c1O\r\n",
      "c1(CN(C)C)n2c(nc1)C(C)N(C(=O)c1ccc(C)s1)CC2\r\n",
      "CC(C)C=Cc1c(O)ccc(C(c2ccc(O)cc2O)=O)c1\r\n",
      "c1cccc(C(=O)Oc2cc3c(c(CC(C)C)c(SCC(O)=O)c(=O)o3)cc2)c1\r\n",
      "Nc1cc(-c2ccc(-c3cc(=NS(=O)(c4ccccc4)=O)[nH]cc3)cc2)ccc1\r\n",
      "Clc1ccc(-c2c(=O)ccn(C3CCCC3)c2C)cc1\r\n",
      "c1c(S(=O)(Nc2ccc(C(=O)N(C)CC(Nc3c4c(cccc4)ccc3)=O)cc2)=O)c(F)ccc1\r\n",
      "c12[nH]c3ccccc3c1cc(C(=O)NCC(O)=O)nc2\r\n",
      "CC1(C=C)CCC2C(OC(=O)C)CC3C4(C)CCC(=O)C(C)(C)C4CC(O)C3(C)C2(C)C1\r\n",
      "c1cccc(N=c2nc(C(N)Cc3ccccc3)cc[nH]2)c1\r\n",
      "C1(O)C(O)C(O)C(COC2C(C)(C)C3C(C)(CC2)C2CC=C4C5C(C)(CCC4(C)C2(C)CC3)CCC(C)(C(=O)OCc2ccc(C(OC)=O)cc2)C5C)OC1CO\r\n",
      "c1c(CCC(C=Cc2ccc(O)c(OC)c2)=O)cc2c(n1)[nH]cc2\r\n",
      "N1(CC(C)C(C)C)C(=O)C(=O)N(C2CCCCC2)CC1\r\n"
     ]
    }
   ],
   "source": [
    "# print the resulting SMILES file\n",
    "!head -n 15 {output_dir}/sampled/sampled.smi"
   ]
  }
 ],
 "metadata": {
  "kernelspec": {
   "display_name": "Python 3",
   "language": "python",
   "name": "python3"
  },
  "language_info": {
   "codemirror_mode": {
    "name": "ipython",
    "version": 3
   },
   "file_extension": ".py",
   "mimetype": "text/x-python",
   "name": "python",
   "nbconvert_exporter": "python",
   "pygments_lexer": "ipython3",
   "version": "3.7.6"
  }
 },
 "nbformat": 4,
 "nbformat_minor": 2
}
