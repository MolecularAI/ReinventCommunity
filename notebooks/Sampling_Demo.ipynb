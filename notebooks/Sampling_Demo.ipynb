{
 "cells": [
  {
   "cell_type": "markdown",
   "metadata": {},
   "source": [
    "> **How to run this notebook (command-line)?**\n",
    "1. Install the `ReinventCommunity` environment:\n",
    "`conda env create -f environment.yml`\n",
    "2. Activate the environment:\n",
    "`conda activate ReinventCommunity`\n",
    "3. Execute `jupyter`:\n",
    "`jupyter notebook`\n",
    "4. Copy the link to a browser\n",
    "\n",
    "\n",
    "# `REINVENT 2.0`: sampling mode demo\n",
    "The *reinforcement learning* mode can be used to train an agent to find molecules that maximize a user-defined score (typically comprised by a number of score components - check out the respective notebooks). While each iteration of the agent will output a number of molecules (batch), it might be necessary to generate more afterwards, e.g. if more ideas are required to push a project forward. This can be achieved with the *sampling* running mode of `REINVENT 2.0`, which takes a (trained) agent and generates more ideas which is illustrated by this notebook.\n",
    "\n",
    "To proceed, please update the following code block such that it reflects your system's installation and execute it."
   ]
  },
  {
   "cell_type": "code",
   "execution_count": 1,
   "metadata": {},
   "outputs": [],
   "source": [
    "# load dependencies\n",
    "import os\n",
    "import re\n",
    "import json\n",
    "import tempfile\n",
    "\n",
    "# --------- change these path variables as required\n",
    "reinvent_dir = os.path.expanduser(\"~/Desktop/Projects/Publications/2020/2020-04_REINVENT_2.0/Reinvent\")\n",
    "reinvent_env = os.path.expanduser(\"~/miniconda3/envs/reinvent_shared.v2.1\")\n",
    "output_dir = os.path.expanduser(\"~/Desktop/REINVENT_sampling_demo\")\n",
    "\n",
    "# --------- do not change\n",
    "# get the notebook's root path\n",
    "try: ipynb_path\n",
    "except NameError: ipynb_path = os.getcwd()\n",
    "\n",
    "# if required, generate a folder to store the results\n",
    "try:\n",
    "    os.mkdir(output_dir)\n",
    "except FileExistsError:\n",
    "    pass"
   ]
  },
  {
   "cell_type": "markdown",
   "metadata": {},
   "source": [
    "## Setting up the configuration\n",
    "`REINVENT` has an entry point that loads a specified `JSON` file on startup. `JSON` is a low-level data format that allows to specify a fairly large number of parameters in a cascading fashion very quickly. The parameters are structured into *blocks* which can in turn contain blocks or simple values, such as *True* or *False*, strings and numbers. In this tutorial, we will go through the different blocks step-by-step, explaining their purpose and potential values for given parameters. Note, that while we will write out the configuration as a `JSON` file in the end, in `python` we handle the same information as a simple `dict`."
   ]
  },
  {
   "cell_type": "code",
   "execution_count": 2,
   "metadata": {},
   "outputs": [],
   "source": [
    "# initialize the dictionary\n",
    "configuration = {\n",
    "    \"version\": 2,                          # we are going to use REINVENT's newest release\n",
    "    \"run_type\": \"sampling\"                 # other run types: \"scoring\", \"validation\",\n",
    "                                           #                  \"transfer_learning\",\n",
    "                                           #                  \"reinforcement_learning\" and\n",
    "                                           #                  \"create_model\"\n",
    "}"
   ]
  },
  {
   "cell_type": "code",
   "execution_count": 3,
   "metadata": {},
   "outputs": [],
   "source": [
    "# add block to specify whether to run locally or not and\n",
    "# where to store the results and logging\n",
    "configuration[\"logging\"] = {\n",
    "    \"sender\": \"http://127.0.0.1\",          # only relevant if \"recipient\" is set to \"remote\"\n",
    "    \"recipient\": \"local\",                  # either to local logging or use a remote REST-interface\n",
    "    \"logging_path\": os.path.join(output_dir, \"progress.log\"), # where the run's output is stored\n",
    "    \"job_name\": \"Scoring mode demo\",       # set an arbitrary job name for identification\n",
    "    \"job_id\": \"demo\"                       # only relevant if \"recipient\" is set to \"remote\"\n",
    "}"
   ]
  },
  {
   "cell_type": "markdown",
   "metadata": {},
   "source": [
    "We will need to specify a path to an agent (parameter `model_path`), which can be a prior or trained agent. For the purpose of this notebook, we will use a prior shipped with the `REINVENT 2.0` repository."
   ]
  },
  {
   "cell_type": "code",
   "execution_count": 4,
   "metadata": {},
   "outputs": [],
   "source": [
    "# set up the file path, where the generated molecules are\n",
    "# deposited (as SMILES)\n",
    "output_SMILES_path = os.path.join(output_dir, \"sampled\", \"sampled.smi\")\n",
    "\n",
    "# add the \"parameters\" block\n",
    "configuration[\"parameters\"] = {\n",
    "    \"model_path\": os.path.join(ipynb_path,        # path to prior or trained agent\n",
    "                               \"models\",\n",
    "                               \"augmented.prior\"),\n",
    "    \"output_smiles_path\": output_SMILES_path,       # output path where SMILES will be deposited\n",
    "    \"num_smiles\": 1024,                             # specifies, how many molecules are to be sampled\n",
    "    \"batch_size\": 128,                              # internal batch size; should match the one used\n",
    "                                                    # during training\n",
    "    \"with_likelihood\": False                        # also provide the log-likelihood\n",
    "}"
   ]
  },
  {
   "cell_type": "markdown",
   "metadata": {},
   "source": [
    "We do not need to add any scoring function definition (in contrast to the e.g. *reinforcement learning* or *scoring* running modes). The reason is that the agent has (hopefully) \"learned\" to find resonable molecules (defined by the scoring function) and stores that knowledge internally in its weights.\n",
    "\n",
    "We now have successfully filled the dictionary and will write it out as a `JSON` file in the output directory. Please have a look at the file before proceeding in order to see how the paths have been inserted where required and the `dict` -> `JSON` translations (e.g. `True` to `true`) have taken place."
   ]
  },
  {
   "cell_type": "code",
   "execution_count": 5,
   "metadata": {},
   "outputs": [],
   "source": [
    "# write the configuration file to the disc\n",
    "configuration_JSON_path = os.path.join(output_dir, \"sampling_config.json\")\n",
    "with open(configuration_JSON_path, 'w') as f:\n",
    "    json.dump(configuration, f, indent=4, sort_keys=True)"
   ]
  },
  {
   "cell_type": "markdown",
   "metadata": {},
   "source": [
    "## Run `REINVENT`\n",
    "Now it is time to execute `REINVENT` locally. As we will not update any weights, execution should be very fast. The result will be a `SMILES` file in the `sampled` directory specified. If you want to generate the scores for these, you can make use of the *scoring mode* (see respective notebook for more details).\n",
    "\n",
    "The command-line execution looks like this:\n",
    "```\n",
    "# activate envionment\n",
    "conda activate reinvent_shared.v2.1\n",
    "\n",
    "# execute REINVENT\n",
    "python <your_path>/input.py <config>.json\n",
    "```"
   ]
  },
  {
   "cell_type": "code",
   "execution_count": 6,
   "metadata": {},
   "outputs": [],
   "source": [
    "%%capture captured_err_stream --no-stderr\n",
    "\n",
    "# execute REINVENT from the command-line\n",
    "!python {reinvent_dir}/input.py {configuration_JSON_path}"
   ]
  },
  {
   "cell_type": "code",
   "execution_count": 7,
   "metadata": {},
   "outputs": [],
   "source": [
    "# print the output to a file, just to have it for documentation\n",
    "with open(os.path.join(output_dir, \"run.err\"), 'w') as file:\n",
    "    file.write(captured_err_stream.stdout)"
   ]
  },
  {
   "cell_type": "code",
   "execution_count": 8,
   "metadata": {},
   "outputs": [
    {
     "name": "stdout",
     "output_type": "stream",
     "text": [
      "C1C2(CCN(C(c3ccccc3C)=O)C1)N(Cc1ncccc1)CCC2\r\n",
      "N1(CCNCc2cccc3nnsc32)CCCCC1\r\n",
      "c1c(OC)c(SC2=CC=C(COC(=O)C)C(=O)c3c2cc2ccccc2c3)ccc1\r\n",
      "[nH]1c2ccccc2nc1C(=O)OCC(=O)NC1CCCCCCC1\r\n",
      "C(COc1c(C)cc(Cl)cc1)CCCCN1CCN(C)CC1\r\n",
      "OC(c1c(OS(=O)(c2ccc(OCCCC)cc2)=O)cc2c(c1)OCCO2)=O\r\n",
      "C(CCO)NC(c1ccco1)=O\r\n",
      "c1c2c(ccc1)C(=O)N(CCSc1nc3ccccc3n1CCOC)C2=O\r\n",
      "c1c(OCC2CN(Cc3cccnc3C)CCO2)cccc1\r\n",
      "N1(CC(=O)N=c2[nH]c3c(s2)CCCC3)CCCN(C(c2cc(Cc3n[nH]c(=O)c4c3NCCC4)ccc2F)=O)CC1\r\n",
      "C1(C#C)=CC2C(CC1=O)C1C(C3CCC(O)(C)C3(C)CC1)CC2\r\n",
      "N=c1cc(C)[nH]c2c1ccc(Cl)c2\r\n",
      "CCOC(=O)CSCC(Nc1ccccc1Cl)=O\r\n",
      "o1c2c(OC)ccc(C(N=c3[nH][nH]nn3)=O)c2c2c1CC(CC)CC2\r\n",
      "c1c2c([nH]c(=N)[nH]c2=Nc2ccc(C(F)(F)F)cc2)sc1C\r\n"
     ]
    }
   ],
   "source": [
    "# print the resulting SMILES file\n",
    "!head -n 15 {output_dir}/sampled/sampled.smi"
   ]
  }
 ],
 "metadata": {
  "kernelspec": {
   "display_name": "Python 3",
   "language": "python",
   "name": "python3"
  },
  "language_info": {
   "codemirror_mode": {
    "name": "ipython",
    "version": 3
   },
   "file_extension": ".py",
   "mimetype": "text/x-python",
   "name": "python",
   "nbconvert_exporter": "python",
   "pygments_lexer": "ipython3",
   "version": "3.7.6"
  }
 },
 "nbformat": 4,
 "nbformat_minor": 2
}
