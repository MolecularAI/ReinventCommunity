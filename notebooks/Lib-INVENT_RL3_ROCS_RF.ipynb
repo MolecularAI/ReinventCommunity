{
 "cells": [
  {
   "cell_type": "markdown",
   "metadata": {},
   "source": [
    "> **How to run this notebook (command-line)?**\n",
    "1. Install the `ReinventCommunity` environment:\n",
    "`conda env create -f environment.yml`\n",
    "2. Activate the environment:\n",
    "`conda activate ReinventCommunity`\n",
    "3. Execute `jupyter`:\n",
    "`jupyter notebook`\n",
    "4. Copy the link to a browser"
   ]
  },
  {
   "cell_type": "markdown",
   "metadata": {},
   "source": [
    "\n",
    "# `Lib-INVENT`: Reinforcement Learning - ROCS + reaction filter\n",
    "The purpose of this notebook is to illustrate the assembly of a configuration input file containing a ROCS input.\n",
    "\n",
    "ROCS is a licensed virtual screening software based on similarity between input compounds and a specified reference (or target) molecule. For more information on ROCS, please refer to the OpenEye website: https://www.eyesopen.com/rocs\n",
    "\n",
    "*Note that in order to use ROCS, an OpenEye license is needed.*"
   ]
  },
  {
   "cell_type": "markdown",
   "metadata": {},
   "source": [
    "## Setting up the environment for registering the license\n",
    "\n",
    "If you have obtained the license you need to setup a few things to actually register the license.\n",
    "\n",
    "1. First, go to the `$CONDA_PREFIX` directory of your Conda environment for Reinvent, _not_ the one for ReinventCommunity.\n",
    "\n",
    "2. Run the following command:\n",
    "\n",
    "```\n",
    "$ mkdir -p etc/conda/{de,}activate.d\n",
    "```\n",
    "\n",
    "3. Create an `etc/conda/activate.d/env_vars.sh` file with the following contents:\n",
    "\n",
    "```sh\n",
    "#!/bin/sh\n",
    "export OE_LICENSE='/path/to/your/openeye/license' # change this to the appropriate path\n",
    "```\n",
    "\n",
    "4. Create an `etc/conda/deactivate.d/env_vars.sh` file with the following contents:\n",
    "\n",
    "```sh\n",
    "#!/bin/sh\n",
    "unset OE_LICENSE\n",
    "```\n",
    "\n",
    "5. Reactivate your Conda environment, and if everything went well, `echo $OE_LICENSE` should output the path to your OpenEye license that you specified in the `etc/conda/activate.d/env_vars.sh` file."
   ]
  },
  {
   "cell_type": "code",
   "execution_count": 1,
   "metadata": {},
   "outputs": [],
   "source": [
    "# load dependencies\n",
    "import os\n",
    "import re\n",
    "import json\n",
    "import tempfile\n",
    "\n",
    "# --------- change these path variables as required\n",
    "reinvent_dir = os.path.expanduser(\"~/Desktop/Reinvent\")\n",
    "reinvent_env = os.path.expanduser(\"~/miniconda3/envs/reinvent.v3.2\")\n",
    "output_dir = os.path.expanduser(\"~/Desktop/REINVENT_RL_ROCS_RF_demo\")\n",
    "\n",
    "# --------- do not change\n",
    "# get the notebook's root path\n",
    "try: ipynb_path\n",
    "except NameError: ipynb_path = os.getcwd()\n",
    "\n",
    "# if required, generate a folder to store the results\n",
    "try:\n",
    "    os.mkdir(output_dir)\n",
    "except FileExistsError:\n",
    "    pass"
   ]
  },
  {
   "cell_type": "markdown",
   "metadata": {},
   "source": [
    "## Setting up the configuration\n",
    "The configuration is set up analogously to the previous tutorials. The difference arrises in the scoring function composition where a QSAR predictive property is not replaced with the ROCS model.\n",
    "\n",
    "The Amide-coupling/Buchwald reaction filters that were previously discussed in `Lib-INVENT_RL2_QSAR_RF` are imposed."
   ]
  },
  {
   "cell_type": "markdown",
   "metadata": {},
   "source": [
    "### 1. Run Type Block"
   ]
  },
  {
   "cell_type": "code",
   "execution_count": 2,
   "metadata": {},
   "outputs": [],
   "source": [
    "# initialize the dictionary\n",
    "configuration = {\n",
    "    \"version\": 3,\n",
    "    \"model_type\": \"lib_invent\",\n",
    "    \"run_type\": \"reinforcement_learning\"\n",
    "}"
   ]
  },
  {
   "cell_type": "markdown",
   "metadata": {},
   "source": [
    "### 2. Logging Block"
   ]
  },
  {
   "cell_type": "code",
   "execution_count": 3,
   "metadata": {},
   "outputs": [],
   "source": [
    "# add block to specify whether to run locally or not and\n",
    "# where to store the results and logging\n",
    "configuration[\"logging\"] = {\n",
    "    \"sender\": \"\",                          # only relevant if \"recipient\" is set to \"remote\"\n",
    "    \"recipient\": \"local\",                  # either to local logging or use a remote REST-interface\n",
    "    \"logging_path\": os.path.join(output_dir, \"progress.log\"), # load this folder in tensorboard\n",
    "    \"result_folder\": os.path.join(output_dir, \"results\"), # output directory for results\n",
    "    \"job_name\": \"Reinforcement learning ROCS + RF demo\",    # set an arbitrary job name for identification\n",
    "    \"job_id\": \"n/a\"                        # only relevant if \"recipient\" is set to \"remote\"\n",
    "}"
   ]
  },
  {
   "cell_type": "markdown",
   "metadata": {},
   "source": [
    "### 3. Parameters Block"
   ]
  },
  {
   "cell_type": "code",
   "execution_count": 4,
   "metadata": {},
   "outputs": [],
   "source": [
    "# start assembling parameters block\n",
    "configuration[\"parameters\"] = {\n",
    "    \"actor\": os.path.join(ipynb_path, \"models/library_design.prior\"),\n",
    "    \"critic\": os.path.join(ipynb_path, \"models/library_design.prior\"),\n",
    "    \"scaffolds\": [\"[*:0]N1CCN(CC1)CCCCN[*:1]\"],\n",
    "    \"n_steps\": 100,\n",
    "    \"learning_rate\": 0.0001,\n",
    "    \"batch_size\": 128,\n",
    "    \"randomize_scaffolds\": False, # important since a RF is to be imposed\n",
    "\n",
    "    # configure learning strategy\n",
    "    \"learning_strategy\": {\n",
    "        \"name\": \"dap\", \n",
    "        \"parameters\":  {\n",
    "          \"sigma\": 120\n",
    "        }\n",
    "    }\n",
    "}"
   ]
  },
  {
   "cell_type": "markdown",
   "metadata": {},
   "source": [
    "#### Scoring strategy"
   ]
  },
  {
   "cell_type": "code",
   "execution_count": 5,
   "metadata": {},
   "outputs": [],
   "source": [
    "# configure scoring strategy\n",
    "scoring_strategy = {\n",
    "    \"name\": \"lib_invent\", # Do not change\n",
    "\n",
    "\n",
    "    # configure diversity filter\n",
    "    \"diversity_filter\": {\n",
    "        \"name\": \"NoFilterWithPenalty\",     # Use a DF; the alternative option is \"NoFilter\"\n",
    "    },\n",
    "\n",
    "\n",
    "    # configure reaction filter\n",
    "    \"reaction_filter\":  {\n",
    "        \"type\":\"selective\",        \n",
    "        \"reactions\":[\n",
    "            [\"[#6;!$(C(C=*)(C=*));!$([#6]~[O,N,S]);$([#6]~[#6]):1][C:2](=[O:3])[N;D2;$(N(C=[O,S]));!$(N~[O,P,S,N]):4][#6;!$(C=*);!$([#6](~[O,N,S])N);$([#6]~[#6]):5]>>[#6:1][C:2](=[O:3])[*].[*][N:4][#6:5]\"],\n",
    "            [\"[c;$(c1:[c,n]:[c,n]:[c,n]:[c,n]:[c,n]:1):1]-!@[N;$(NC)&!$(N=*)&!$([N-])&!$(N#*)&!$([ND1])&!$(N[O])&!$(N[C,S]=[S,O,N]),H2&$(Nc1:[c,n]:[c,n]:[c,n]:[c,n]:[c,n]:1):2]>>[*][c;$(c1:[c,n]:[c,n]:[c,n]:[c,n]:[c,n]:1):1].[*][N:2]\"]\n",
    "        ]\n",
    "    }\n",
    "}"
   ]
  },
  {
   "cell_type": "markdown",
   "metadata": {},
   "source": [
    "#####  Define the scoring function\n",
    "This is the important point of difference between this tutorial and `Lib-INVENT_RL2_QSAR_RF`. A ROCS similarity measure is imposed to guide the agent to propose compounds structurally resembling a known haloperidol ligand."
   ]
  },
  {
   "cell_type": "code",
   "execution_count": 6,
   "metadata": {},
   "outputs": [],
   "source": [
    "scoring_function = {\n",
    "    \"name\": \"custom_sum\",              \n",
    "    \"parallel\": False,                     \n",
    "    \"parameters\": [\n",
    "    {\n",
    "        \"component_type\": \"parallel_rocs_similarity\",\n",
    "        \"name\": \"RefTversky ROCS sim\",\n",
    "        \"specific_parameters\": {\n",
    "            \"shape_weight\": 0.5,\n",
    "            \"color_weight\": 0.5,\n",
    "            \"custom_cff\": os.path.join(ipynb_path, \"data/implicit_MD_mod_generic_hydrophobe.cff\"),\n",
    "            \"enumerate_stereo\": True,\n",
    "            \"input_type\": \"shape_query\",\n",
    "            \"max_num_cpus\": 8,\n",
    "            \"rocs_input\": os.path.join(ipynb_path, \"data/haloperidol_3_feats.sq\"),\n",
    "            \"similarity_measure\": \"RefTversky\",\n",
    "            \"transformation\": {\n",
    "                \"transformation_type\": \"no_transformation\"\n",
    "            }\n",
    "        },\n",
    "        \"weight\": 1\n",
    "    },\n",
    "    {\n",
    "        \"component_type\": \"custom_alerts\",\n",
    "        \"name\": \"Custom alerts\",              \n",
    "        \"weight\": 1,                                            \n",
    "        \"specific_parameters\": {\n",
    "            \"smiles\": [                           \n",
    "                \"[*;r8]\",\n",
    "                \"[*;r9]\",\n",
    "                \"[*;r10]\",\n",
    "                \"[*;r11]\",\n",
    "                \"[*;r12]\",\n",
    "                \"[*;r13]\",\n",
    "                \"[*;r14]\",\n",
    "                \"[*;r15]\",\n",
    "                \"[*;r16]\",\n",
    "                \"[*;r17]\",\n",
    "                \"[#8][#8]\",\n",
    "                \"[#6;+]\",\n",
    "                \"[#16][#16]\",\n",
    "                \"[#7;!n][S;!$(S(=O)=O)]\",\n",
    "                \"[#7;!n][#7;!n]\",\n",
    "                \"C#C\",\n",
    "                \"C(=[O,S])[O,S]\",\n",
    "                \"[#7;!n][C;!$(C(=[O,N])[N,O])][#16;!s]\",\n",
    "                \"[#7;!n][C;!$(C(=[O,N])[N,O])][#7;!n]\",\n",
    "                \"[#7;!n][C;!$(C(=[O,N])[N,O])][#8;!o]\",\n",
    "                \"[#8;!o][C;!$(C(=[O,N])[N,O])][#16;!s]\",\n",
    "                \"[#8;!o][C;!$(C(=[O,N])[N,O])][#8;!o]\",\n",
    "                \"[#16;!s][C;!$(C(=[O,N])[N,O])][#16;!s]\"\n",
    "            ]\n",
    "        }          \n",
    "    }]\n",
    "}\n",
    "\n",
    "scoring_strategy[\"scoring_function\"] = scoring_function"
   ]
  },
  {
   "cell_type": "code",
   "execution_count": 7,
   "metadata": {
    "scrolled": true
   },
   "outputs": [],
   "source": [
    "# Update the paramters block with the scoring strategy\n",
    "configuration[\"parameters\"][\"scoring_strategy\"] = scoring_strategy"
   ]
  },
  {
   "cell_type": "markdown",
   "metadata": {},
   "source": [
    "## Write out the configuration"
   ]
  },
  {
   "cell_type": "code",
   "execution_count": 8,
   "metadata": {},
   "outputs": [],
   "source": [
    "configuration_JSON_path = os.path.join(output_dir, \"RL_ROCS_RF_input.json\")\n",
    "with open(configuration_JSON_path, 'w') as f:\n",
    "    json.dump(configuration, f, indent=4, sort_keys=True)"
   ]
  },
  {
   "cell_type": "markdown",
   "metadata": {},
   "source": [
    "# Run\n",
    "Execute in jupyter notebook"
   ]
  },
  {
   "cell_type": "code",
   "execution_count": 9,
   "metadata": {},
   "outputs": [],
   "source": [
    "%%capture captured_err_stream --no-stderr\n",
    "\n",
    "# execute REINVENT from the command-line\n",
    "!{reinvent_env}/bin/python {reinvent_dir}/input.py {configuration_JSON_path}"
   ]
  },
  {
   "cell_type": "code",
   "execution_count": 10,
   "metadata": {},
   "outputs": [],
   "source": [
    "# print the output to a file, just to have it for documentation\n",
    "with open(os.path.join(output_dir, \"run.err\"), 'w') as file:\n",
    "    file.write(captured_err_stream.stdout)"
   ]
  },
  {
   "cell_type": "markdown",
   "metadata": {},
   "source": [
    "Execute in command line\n",
    "```\n",
    "$ conda activate reinvent.v3.2\n",
    "$ python <reinvent_dir>/input.py <configuration_JSON_path>\n",
    "```"
   ]
  },
  {
   "cell_type": "markdown",
   "metadata": {},
   "source": [
    "## Analyse the results\n",
    "In order to analyze the run in a more intuitive way, we can use `tensorboard`, as described in the `Lib-INVENT_RL1_QSAR` tutorial.\n",
    "\n",
    "```\n",
    "# go to the root folder of the output\n",
    "$ cd <output_dir>\n",
    "\n",
    "# activate the environment\n",
    "$ conda activate reinvent.v3.2\n",
    "\n",
    "# start tensorboard\n",
    "$ tensorboard --logdir \"progress.log\"\n",
    "```"
   ]
  }
 ],
 "metadata": {
  "kernelspec": {
   "display_name": "Python 3",
   "language": "python",
   "name": "python3"
  },
  "language_info": {
   "codemirror_mode": {
    "name": "ipython",
    "version": 3
   },
   "file_extension": ".py",
   "mimetype": "text/x-python",
   "name": "python",
   "nbconvert_exporter": "python",
   "pygments_lexer": "ipython3",
   "version": "3.7.6"
  }
 },
 "nbformat": 4,
 "nbformat_minor": 2
}
