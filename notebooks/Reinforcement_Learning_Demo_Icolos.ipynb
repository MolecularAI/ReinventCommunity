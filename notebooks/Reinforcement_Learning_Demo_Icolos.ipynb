{
 "cells": [
  {
   "cell_type": "markdown",
   "metadata": {},
   "source": [
    "> **How to run this notebook (command-line)?**\n",
    "1. Install the `ReinventCommunity` environment:\n",
    "`conda env create -f environment.yml`\n",
    "2. Activate the environment:\n",
    "`conda activate ReinventCommunity`\n",
    "3. Execute `jupyter`:\n",
    "`jupyter notebook`\n",
    "4. Copy the link to a browser\n",
    "\n",
    "\n",
    "# `REINVENT 3.2`: reinforcement learning with `Icolos` (docking)\n",
    "\n",
    "\n",
    "This is a simple example of running `Reinvent` with only 1 score component (`Icolos`). To execute this notebook, make sure you have cloned the [Icolos](https://github.com/MolecularAI/Icolos) repository from GitHub and installed it into a `conda` environment (see instructions in the `README.md`).\n",
    "\n",
    "There is another notebook illustrating integration of docking using `DockStream`, which can also be used for this task. However, more complex features such as ensemble docking are only supported by `Icolos`.\n",
    "\n",
    "**NOTE: There is a detailed reasoning for each `REINVENT` code block provided in the `Reinforcement Learning Demo` notebook.**\n",
    "\n",
    "**Required software:**\n",
    "1. You need to have [AutoDock Vina](https://github.com/ccsb-scripps/AutoDock-Vina) (version 1.2.0 or later) installed.\n",
    "2. You need to have [Icolos](https://github.com/MolecularAI/Icolos) (version 1.8.0 or later) installed."
   ]
  },
  {
   "cell_type": "markdown",
   "metadata": {},
   "source": [
    "## 1. Set up the paths\n",
    "_Please update the following code block such that it reflects your system's installation and execute it._"
   ]
  },
  {
   "cell_type": "code",
   "execution_count": 1,
   "metadata": {},
   "outputs": [],
   "source": [
    "# load dependencies\n",
    "import os\n",
    "import re\n",
    "import json\n",
    "import tempfile\n",
    "\n",
    "# --------- change these path variables as required\n",
    "reinvent_dir = os.path.expanduser(\"~/Desktop/Projects/reinvent/Reinvent\")\n",
    "reinvent_env = os.path.expanduser(\"~/miniconda3/envs/reinvent.v3.2\")\n",
    "\n",
    "# Icolos entry point, ADV receptor file and temporary folder\n",
    "icolos_executor = os.path.expanduser(\"~/miniconda3/envs/icolosprod/bin/icolos\")\n",
    "tmp_dir = os.path.expanduser(\"~/Desktop/REINVENT_RL_Icolos_demo\")\n",
    "\n",
    "# --------- do not change\n",
    "# get the notebook's root path\n",
    "try: ipynb_path\n",
    "except NameError: ipynb_path = os.getcwd()\n",
    "\n",
    "receptor_file_path = os.path.join(ipynb_path, \"data/1UYD_fixed.pdbqt\")\n",
    "\n",
    "# if required, generate the folder to store the results\n",
    "try:\n",
    "    os.mkdir(tmp_dir)\n",
    "except FileExistsError:\n",
    "    pass\n",
    "\n",
    "output_dir = os.path.join(tmp_dir, \"output\")\n",
    "\n",
    "try:\n",
    "    os.mkdir(output_dir)\n",
    "except FileExistsError:\n",
    "    pass\n",
    "\n",
    "docking_configuration_path = os.path.join(tmp_dir, \"ADV_Icolos_Conf.json\")"
   ]
  },
  {
   "cell_type": "markdown",
   "metadata": {},
   "source": [
    "## 2. Set up the `Icolos` Configuration\n",
    "_Please update the following code block such that it reflects your system's installation and execute it._\n",
    "\n",
    "In this notebook, we will demonstrate how to use `Icolos` with `REINVENT`. `AutoDock Vina 1.2.0` with `RDkit` embedding will be used as the molecular docking component.\n",
    "\n",
    "### Details\n",
    "* An example receptor file (in `PDBQT` format, as expected by `AutoDock Vina`) is provided in the _data_ subfolder of this repository. Note, that you need to specify the location and the dimensions of the search space according to your protein target. `Icolos` has a _target preparation_ step implemented that can assist you with that.\n",
    "* Receptors / Grids can be named by using parameter `grid_id`. This allows to track which receptor led to which score afterwards, e.g. in case ensemble docking was used.\n",
    "* `REINVENT` hands over the path to a input `JSON` file (so the input block in the `Icolos` workflow must be using `{input_json_path}`, a _global variable_ that is set automatically, as input source). Likewise, `Icolos` will need to write the result(s) to the file specified by `{output_json_path}`. From the point of view of `Icolos`, there is nothing special about these global variables and they are handed over in the same manner as any other. For details on how to use and define _global variables_ in `Icolos`, please have a look at the respective material.\n",
    "* Also, `REINVENT` sets a thrid global variable `step_id`, which contains the current step / epoch number. This can be used to write-out consecutive files, so that you can trace the batch of compounds a specific epoch has generated.\n",
    "* `Icolos` supports an arbitrary number of write-outs (actually for each step, if so desired). For usage in `REINVENT` the write-out of the result `JSON` is mandatory, but in this example we also store the docking scores as a `CSV` and the poses in an `SDF` file."
   ]
  },
  {
   "cell_type": "code",
   "execution_count": 2,
   "metadata": {},
   "outputs": [],
   "source": [
    "# specify the embedding and docking JSON file as a dictionary and write it out\n",
    "adv_dict = {\n",
    "    \"workflow\": {\n",
    "        \"header\": {\n",
    "            \"workflow_id\": \"AutoDock Vina docking\",\n",
    "            \"description\": \"Runs docking using AutoDock Vina and a predefined receptor file in PDBQT format.\",\n",
    "            \"environment\": {\n",
    "                \"export\": [\n",
    "                ]\n",
    "            },\n",
    "            \"global_variables\": {\n",
    "            }\n",
    "        },\n",
    "        \"steps\": [{\n",
    "                \"step_id\": \"rdkit_embedding\",\n",
    "                \"type\": \"embedding\",\n",
    "                \"settings\": {\n",
    "                    \"arguments\": {\n",
    "                        \"flags\": [],\n",
    "                        \"parameters\": {\n",
    "                            \"protonate\": True,\n",
    "                            \"method\": \"rdkit\"\n",
    "                        }\n",
    "                    },\n",
    "                    \"additional\": {\n",
    "                    }\n",
    "                },\n",
    "                \"input\": {\n",
    "                    \"compounds\": [{\n",
    "                            \"source\": \"{input_json_path}\",          # path to JSON input file from REINVENT\n",
    "                            \"source_type\": \"file\",\n",
    "                            \"format\": \"JSON\"\n",
    "                        }\n",
    "                    ]\n",
    "                }\n",
    "            }, {\n",
    "                \"step_id\": \"ADV\",\n",
    "                \"type\": \"vina_docking\",\n",
    "                \"execution\": {\n",
    "                    \"prefix_execution\": \"module load AutoDock_Vina\",\n",
    "                    \"parallelization\": {\n",
    "                        \"cores\": 4\n",
    "                    },\n",
    "                    \"failure_policy\": {\n",
    "                        \"n_tries\": 3\n",
    "                    }\n",
    "                },\n",
    "                \"settings\": {\n",
    "                    \"arguments\": {\n",
    "                        \"flags\": [],\n",
    "                        \"parameters\": {\n",
    "                        }\n",
    "                    },\n",
    "                    \"additional\": {\n",
    "                        \"configuration\": {\n",
    "                            \"seed\": 42,\n",
    "                            \"receptor_path\": receptor_file_path,    # file path to PDBQT file shipped in\n",
    "                                                                    # this repository\n",
    "                            \"number_poses\": 2,\n",
    "                            \"search_space\": {\n",
    "                                \"--center_x\": 3.3,                  # coordinates and size of the search space\n",
    "                                                                    # see details above in the text\n",
    "                                \"--center_y\": 11.5,\n",
    "                                \"--center_z\": 24.8,\n",
    "                                \"--size_x\": 15,\n",
    "                                \"--size_y\": 10,\n",
    "                                \"--size_z\": 10\n",
    "                            }\n",
    "                        },\n",
    "                        \"grid_ids\": [\"1UYD\"]                        # allows to name the receptor / grid\n",
    "                    }\n",
    "                },\n",
    "                \"input\": {\n",
    "                    \"compounds\": [{\n",
    "                            \"source\": \"rdkit_embedding\",\n",
    "                            \"source_type\": \"step\"\n",
    "                        }\n",
    "                    ]\n",
    "                },\n",
    "                \"writeout\": [{\n",
    "                        \"compounds\": {\n",
    "                            # this will write out the result JSON REINVENT expects and parses\n",
    "                            \"category\": \"conformers\",\n",
    "                            \"selected_tags\": [\"docking_score\"],\n",
    "                            \"aggregation\": {\n",
    "                                \"mode\": \"best_per_compound\",\n",
    "                                \"key\": \"docking_score\",\n",
    "                                \"highest_is_best\": False\n",
    "                            }\n",
    "                        },\n",
    "                        \"destination\": {\n",
    "                            \"resource\": \"{output_json_path}\",\n",
    "                            \"type\": \"file\",\n",
    "                            \"format\": \"JSON\"\n",
    "                        }\n",
    "                    },\n",
    "                    {\n",
    "                        # (optional) writeout: all conformers for this epoch are stored in an SDF file\n",
    "                        \"compounds\": {\n",
    "                            \"category\": \"conformers\"\n",
    "                        },\n",
    "                        \"destination\": {\n",
    "                            \"resource\": os.path.join(output_dir, \"{step_id}_poses.sdf\"),\n",
    "                            \"type\": \"file\",\n",
    "                            \"format\": \"SDF\"\n",
    "                        }\n",
    "                    },\n",
    "                    {\n",
    "                        # (optional) writeout: the scores (aggregated to show the best per compound\n",
    "                        #                      only) are written out as a CSV (including the grid id)\n",
    "                        \"compounds\": {\n",
    "                            \"category\": \"conformers\",\n",
    "                            \"selected_tags\": [\"docking_score\", \"grid_id\"],\n",
    "                            \"aggregation\": {\n",
    "                                \"mode\": \"best_per_compound\",\n",
    "                                \"key\": \"docking_score\"\n",
    "                            }\n",
    "                        },\n",
    "                        \"destination\": {\n",
    "                            \"resource\": os.path.join(output_dir, \"{step_id}_scores.csv\"),\n",
    "                            \"type\": \"file\",\n",
    "                            \"format\": \"CSV\"\n",
    "                        }\n",
    "                    }\n",
    "                ]\n",
    "            }\n",
    "        ]\n",
    "    }\n",
    "}\n",
    "\n",
    "with open(docking_configuration_path, 'w') as f:\n",
    "    json.dump(adv_dict, f, indent=2)"
   ]
  },
  {
   "cell_type": "markdown",
   "metadata": {},
   "source": [
    "## 3. Set up the `REINVENT` configuration \n",
    "In the cells below we will build a nested dictionary object that will be eventually converted to `JSON` file which in turn will be consumed by `REINVENT`. You can find this file in your `tmp_dir` location. To sum up, we will have one `JSON` steering the `REINVENT` execution and `REINVENT` in turn will call `Icolos` as a component which is orchestrated by its own `JSON` configuration file. In principle, you could have any number of `Icolos` components in a single `REINVENT` run."
   ]
  },
  {
   "cell_type": "markdown",
   "metadata": {},
   "source": [
    "### A) Declare the run type"
   ]
  },
  {
   "cell_type": "code",
   "execution_count": 3,
   "metadata": {},
   "outputs": [],
   "source": [
    "# initialize the dictionary\n",
    "configuration = {\n",
    "    \"version\": 3,                          # we are going to use REINVENT's newest release\n",
    "    \"run_type\": \"reinforcement_learning\",  # other run types: \"sampling\", \"validation\",\n",
    "                                           #                  \"transfer_learning\",\n",
    "                                           #                  \"scoring\" and \"create_model\"\n",
    "    \"model_type\": \"default\"\n",
    "}"
   ]
  },
  {
   "cell_type": "markdown",
   "metadata": {},
   "source": [
    "### B) Sort out the logging details\n",
    "This includes `result_folder` path where the results will be produced.\n",
    "\n",
    "Also: `REINVENT` can send custom log messages to a remote location. We have retained this capability in the code. if the `recipient` value differs from `\"local\"` `REINVENT` will attempt to POST the data to the specified `recipient`. "
   ]
  },
  {
   "cell_type": "code",
   "execution_count": 4,
   "metadata": {},
   "outputs": [],
   "source": [
    "# add block to specify whether to run locally or not and\n",
    "# where to store the results and logging\n",
    "configuration[\"logging\"] = {\n",
    "    \"sender\": \"http://0.0.0.1\",            # only relevant if \"recipient\" is set to \"remote\"\n",
    "    \"recipient\": \"local\",                  # either to local logging or use a remote REST-interface\n",
    "    \"logging_frequency\": 1,                # log every x-th steps\n",
    "    \"logging_path\": os.path.join(tmp_dir, \"progress.log\"), # load this folder in tensorboard\n",
    "    \"result_folder\": os.path.join(tmp_dir, \"results\"),         # will hold the compounds (SMILES) and summaries\n",
    "    \"job_name\": \"Reinforcement learning Icolos demo\",         # set an arbitrary job name for identification\n",
    "    \"job_id\": \"demo\"                       # only relevant if \"recipient\" is set to a specific REST endpoint\n",
    "}"
   ]
  },
  {
   "cell_type": "markdown",
   "metadata": {},
   "source": [
    "Create `parameters` field:"
   ]
  },
  {
   "cell_type": "code",
   "execution_count": 5,
   "metadata": {},
   "outputs": [],
   "source": [
    "# add the \"parameters\" block\n",
    "configuration[\"parameters\"] = {}"
   ]
  },
  {
   "cell_type": "markdown",
   "metadata": {},
   "source": [
    "### C) Set Diversity Filter\n",
    "During each step of Reinforcement Learning the compounds scored above `minscore` threshold are kept in memory. Those scored smiles are written out to a file in the results folder `scaffold_memory.csv`."
   ]
  },
  {
   "cell_type": "code",
   "execution_count": 6,
   "metadata": {},
   "outputs": [],
   "source": [
    "# add a \"diversity_filter\"\n",
    "configuration[\"parameters\"][\"diversity_filter\"] =  {\n",
    "    \"name\": \"IdenticalMurckoScaffold\",     # other options are: \"IdenticalTopologicalScaffold\", \n",
    "                                           #                    \"NoFilter\" and \"ScaffoldSimilarity\"\n",
    "                                           # -> use \"NoFilter\" to disable this feature\n",
    "    \"nbmax\": 25,                           # the bin size; penalization will start once this is exceeded\n",
    "    \"minscore\": 0.4,                       # the minimum total score to be considered for binning\n",
    "    \"minsimilarity\": 0.4                   # the minimum similarity to be placed into the same bin\n",
    "}"
   ]
  },
  {
   "cell_type": "markdown",
   "metadata": {},
   "source": [
    "### D) Set Inception\n",
    "* `smiles` provide here a list of smiles to be incepted \n",
    "* `memory_size` the number of smiles allowed in the inception memory\n",
    "* `sample_size` the number of smiles that can be sampled at each reinforcement learning step from inception memory"
   ]
  },
  {
   "cell_type": "code",
   "execution_count": 7,
   "metadata": {},
   "outputs": [],
   "source": [
    "# prepare the inception (we do not use it in this example, so \"smiles\" is an empty list)\n",
    "configuration[\"parameters\"][\"inception\"] = {\n",
    "    \"smiles\": [],                          # fill in a list of SMILES here that can be used (or leave empty)\n",
    "    \"memory_size\": 100,                    # sets how many molecules are to be remembered\n",
    "    \"sample_size\": 10                      # how many are to be sampled each epoch from the memory\n",
    "}"
   ]
  },
  {
   "cell_type": "markdown",
   "metadata": {},
   "source": [
    "### E) Set the general Reinforcement Learning parameters\n",
    "* `n_steps` is the amount of Reinforcement Learning steps to perform. Best start with 1000 steps and see if thats enough.\n",
    "* `agent` is the generative model that undergoes transformation during the Reinforcement Learning run.\n",
    "\n",
    "We reccomend keeping the other parameters to their default values."
   ]
  },
  {
   "cell_type": "code",
   "execution_count": 8,
   "metadata": {},
   "outputs": [],
   "source": [
    "# set all \"reinforcement learning\"-specific run parameters\n",
    "configuration[\"parameters\"][\"reinforcement_learning\"] = {\n",
    "    \"prior\": os.path.join(ipynb_path, \"models/random.prior.new\"), # path to the pre-trained model\n",
    "    \"agent\": os.path.join(ipynb_path, \"models/random.prior.new\"), # path to the pre-trained model\n",
    "    \"n_steps\": 2,                          # the number of epochs (steps) to be performed; often 1000\n",
    "                                           # (set to 2 in this notebook to decrease docking computation time -\n",
    "                                           # it is not expected that the agent will appreciably learn to\n",
    "                                           # generate compounds with good docking scores in only 2 epochs.\n",
    "                                           # The purpose of this notebook is to illustrate how DockStream \n",
    "                                           # can be specified as a component to the `Scoring Function`)\n",
    "    \n",
    "    \"sigma\": 128,                          # used to calculate the \"augmented likelihood\", see publication\n",
    "    \"learning_rate\": 0.0001,               # sets how strongly the agent is influenced by each epoch\n",
    "    \"batch_size\": 32,                      # specifies how many molecules are generated per epoch, often 128\n",
    "                                           # docking becomes more computationally demanding the greater the\n",
    "                                           # batch size, as each compound must be docked. Depending on the\n",
    "                                           # docking configuration, embedding ligands may generate different \n",
    "                                           # tautomers, ionization states, etc., which will increase the number\n",
    "                                           # of compounds that need to be docked. Batch size is set to 32 in \n",
    "                                           # this notebook to decrease docking computation time)\n",
    "    \n",
    "    \"reset\": 0,                            # if not '0', the reset the agent if threshold reached to get\n",
    "                                           # more diverse solutions\n",
    "    \"reset_score_cutoff\": 0.5,             # if resetting is enabled, this is the threshold\n",
    "    \"margin_threshold\": 50                 # specify the (positive) margin between agent and prior\n",
    "}"
   ]
  },
  {
   "cell_type": "markdown",
   "metadata": {},
   "source": [
    "### F) Define the scoring function\n",
    "The scoring function will consist only of the `DockStream` component, in which `Glide` with `LigPrep` is used for molecular docking."
   ]
  },
  {
   "cell_type": "code",
   "execution_count": 9,
   "metadata": {},
   "outputs": [],
   "source": [
    "# prepare the scoring function definition and add at the end\n",
    "scoring_function = {\n",
    "    \"name\": \"custom_product\",                  # this is our default one (alternative: \"custom_sum\")\n",
    "    \"parallel\": False,                         # sets whether components are to be executed\n",
    "                                               # in parallel; note, that python uses \"False\" / \"True\"\n",
    "                                               # but the JSON \"false\" / \"true\"\n",
    "\n",
    "    # the \"parameters\" list holds the individual components\n",
    "    \"parameters\": [\n",
    "\n",
    "    # add component: use \n",
    "    {\n",
    "    \"component_type\": \"icolos\",                           # use Icolos as a Scoring Function component      \n",
    "    \"name\": \"Icolos_RDkit_ADV\",                          # arbitrary name\n",
    "    \"weight\": 1,\n",
    "    \"specific_parameters\": {\n",
    "        \"transformation\": {\n",
    "            \"transformation_type\": \"reverse_sigmoid\",         # lower Glide scores are better - use reverse\n",
    "                                                              # sigmoid transformation\n",
    "            \"low\": -11,\n",
    "            \"high\": -5,\n",
    "            \"k\": 0.25\n",
    "            },\n",
    "        \"debug\": False,\n",
    "        \"values_key\": \"docking_score\",\n",
    "        \"configuration_path\": docking_configuration_path,\n",
    "        \"executor_path\": icolos_executor\n",
    "        }\n",
    "    }]\n",
    "}\n",
    "configuration[\"parameters\"][\"scoring_function\"] = scoring_function"
   ]
  },
  {
   "cell_type": "markdown",
   "metadata": {},
   "source": [
    "## 4. Write out the `REINVENT` configuration"
   ]
  },
  {
   "cell_type": "markdown",
   "metadata": {},
   "source": [
    "We now have successfully filled the dictionary and will write it out as a `JSON` file in the output directory. Please have a look at the file before proceeding in order to see how the paths have been inserted where required and the `dict` -> `JSON` translations (e.g. `True` to `true`) have taken place."
   ]
  },
  {
   "cell_type": "code",
   "execution_count": 10,
   "metadata": {},
   "outputs": [],
   "source": [
    "# write the configuration file to the disc\n",
    "configuration_JSON_path = os.path.join(tmp_dir, \"RL_Icolos_config.json\")\n",
    "with open(configuration_JSON_path, 'w') as f:\n",
    "    json.dump(configuration, f, indent=4, sort_keys=True)"
   ]
  },
  {
   "cell_type": "markdown",
   "metadata": {},
   "source": [
    "## 5. Run `REINVENT`\n",
    "Now it is time to execute `REINVENT` locally. Note, that depending on the number of epochs (steps) and the execution time of the scoring function components, this might take a while. As we have only specified a low number of epochs (125) and all components should be fairly quick, this should not take too long in our case though.\n",
    "\n",
    "The command-line execution looks like this:\n",
    "```\n",
    "# activate envionment\n",
    "conda activate reinvent.v3.0\n",
    "\n",
    "# execute REINVENT\n",
    "python <your_path>/input.py <config>.json\n",
    "```"
   ]
  },
  {
   "cell_type": "code",
   "execution_count": 11,
   "metadata": {},
   "outputs": [],
   "source": [
    "%%capture captured_err_stream --no-stderr\n",
    "\n",
    "workdir = os.getcwd()\n",
    "os.chdir(tmp_dir)\n",
    "\n",
    "# execute REINVENT from the command-line\n",
    "!{reinvent_env}/bin/python {reinvent_dir}/input.py {configuration_JSON_path}\n",
    "\n",
    "os.chdir(workdir)"
   ]
  },
  {
   "cell_type": "code",
   "execution_count": 12,
   "metadata": {},
   "outputs": [],
   "source": [
    "# print the output to a file, just to have it for documentation\n",
    "with open(os.path.join(output_dir, \"run.err\"), 'w') as file:\n",
    "    file.write(captured_err_stream.stdout)\n",
    "\n",
    "# prepare the output to be parsed\n",
    "list_epochs = re.findall(r'INFO.*?local', captured_err_stream.stdout, re.DOTALL)\n",
    "data = [epoch for idx, epoch in enumerate(list_epochs)]\n",
    "data = [\"\\n\".join(element.splitlines()[:-1]) for element in data]"
   ]
  },
  {
   "cell_type": "markdown",
   "metadata": {},
   "source": [
    "We have calculated a total of 2 epochs, let us quickly investigate how the agent fared in the first epoch. Below you see the print-out of the first epoch. Running `REINVENT` with `Icolos` for more epochs will show that the agent gradually improves over time, i.e, generates compounds that satisfy the docking component ever better, thus generating compounds that dock well. Note, that the fraction of valid `SMILES` is high right from the start (because we use a pre-trained prior). You can see the partial scores for each component for the first couple of compounds, but the most important information is the average score. If run for more epochs, the average score will increase over time."
   ]
  },
  {
   "cell_type": "code",
   "execution_count": 13,
   "metadata": {},
   "outputs": [
    {
     "name": "stdout",
     "output_type": "stream",
     "text": [
      "INFO     starting an RL run\n",
      "INFO     \n",
      " Step 0   Fraction valid SMILES: 100.0   Score: 0.3316   Time elapsed: 1095   Time left: 2190.0\n",
      "  Agent     Prior     Target     Score     SMILES\n",
      "-25.47    -25.47     -0.93      0.19      c1(-c2csc3c2c(=N)[nH]cc3-c2cc(NS(C)(=O)=O)ccc2)ccccc1\n",
      "-18.64    -18.64      5.89      0.19      c1c(CN)ccc(NC(C)=O)c1\n",
      "-30.19    -30.19     45.94      0.59      c1n(Cc2c(F)c(F)c(C)c(F)c2F)c2c(cccc2)c1C(C1C(C)(C)C1(C)C)=O\n",
      "-38.06    -38.06    -38.06      0.00      c1c(C)cccc1-c1ccc2cc(-c3noc(-c4c(C)cc(C(O)=O)cc4)n3)oc2c1\n",
      "-37.02    -37.02    -24.33      0.10      C1(c2cnccc2)CCN(C(=O)NCCc2n3ncnc3nc(C)c2C)CC1\n",
      "-20.09    -20.09     61.84      0.64      c12ccc(-c3oc4cc(O)ccc4c(=O)c3)cc1cccc2\n",
      "-40.07    -40.07    -36.50      0.03      c12ccccc1nc(C(n1cncc1)=Cc1ccc(C(=O)N3CCCCC3)cc1)s2\n",
      "-34.08    -34.08    -33.68      0.00      c1cc(C(C)NC(=O)C(c2cc3c(cc2)nc(OCC)n3Cc2ccc(-c3ccccc3)cc2)O)ccc1\n",
      "-18.31    -18.31     36.54      0.43      c12c(C(c3cc(OC)c(OC)c(OC)c3)=O)nccc1cc(OC)c(OC)c2\n",
      "-23.51    -23.51    -21.27      0.02      C1N(CCCOc2ccc(NC(=O)Nc3c(Cl)cccc3)cc2)CCCCC1\n",
      "Icolos_RDkit_ADV   raw_Icolos_RDkit_ADV\n",
      "0.19168232381343842   -6.5   \n",
      "0.19168232381343842   -6.5   \n",
      "0.594780683517456   -8.399999618530273   \n",
      "5.623413272922816e-18   33.400001525878906   \n",
      "0.09915543347597122   -5.699999809265137   \n",
      "0.6400650143623352   -8.600000381469727   \n",
      "0.027927495539188385   -4.300000190734863   \n",
      "0.0031523092184215784   -2.0   \n",
      "0.42853689193725586   -7.699999809265137   \n",
      "0.01747209206223488   -3.799999952316284   \n",
      "\n"
     ]
    }
   ],
   "source": [
    "for element in data:\n",
    "    print(element)"
   ]
  },
  {
   "cell_type": "markdown",
   "metadata": {},
   "source": [
    "## 6. Analyse the Results\n",
    "In order to analyze the run in a more intuitive way, we can use `tensorboard`:\n",
    "\n",
    "```\n",
    "# go to the root folder of the output\n",
    "cd <your_path>/REINVENT_RL_demo\n",
    "\n",
    "# make sure, you have activated the proper environment\n",
    "conda activate reinvent.v3.0\n",
    "\n",
    "# start tensorboard\n",
    "tensorboard --logdir progress.log\n",
    "```\n",
    "\n",
    "Then copy the link provided to a browser window, e.g. \"http://workstation.url.com:6006/\"."
   ]
  },
  {
   "cell_type": "markdown",
   "metadata": {},
   "source": [
    "The results folder will hold four different files: the agent (pickled), the input JSON (just for reference purposes), the memory (highest scoring compounds in `CSV` format) and the scaffold memory (in `CSV` format)."
   ]
  },
  {
   "cell_type": "code",
   "execution_count": 14,
   "metadata": {},
   "outputs": [
    {
     "name": "stdout",
     "output_type": "stream",
     "text": [
      ",smiles,score,likelihood\r\n",
      "30,S(c1nc[nH]n1)c1nnc2c(cccc2)c1-c1ccc(C)cc1,0.9362163,-30.029327\r\n",
      "23,c1(CCNS(c2ccc3c(c2)NC(=O)CO3)(=O)=O)nc2cc(C)nc(C)n2n1,0.8720069,-33.14348\r\n",
      "19,C(c1onc(-c2ccc3c(c2)CCO3)n1)CC(Nc1ccccc1Br)=O,0.8609113,-30.007324\r\n",
      "22,Oc1cc2c(cc1O)CCNC2CCc1ccc2c(cccc2)c1,0.8490204,-26.214272\r\n",
      "26,c1c(N=c2nc(-c3cc4c(ncs4)cc3)cc[nH]2)cccc1,0.7597469,-23.750828\r\n",
      "28,c1cc(OC2CCNCC2OCc2ccc3ccccc3c2)ccc1Cl,0.7418012,-25.59244\r\n",
      "5,C1(c2nc(=Nc3ccccc3)[nH]cc2)CCN(CCOC)CC1,0.7418012,-26.271206\r\n",
      "20,C1CN(Cc2cc3c(cc2)OCO3)CCN1CC(NCCc1c(F)cccc1)=O,0.703385,-25.126637\r\n",
      "24,c1(NC(=O)C(C)OC(=O)CC2CC3CCC2C3)cc(OC)ccc1,0.6618585,-25.261784\r\n",
      "27,n1cc2c([nH]c(=N)c(C(=O)NCCc3ccc(OC)c(OC)c3)c2)nc1,0.6618585,-24.886251\r\n",
      "11,c1(F)cc(COc2cccc(N=c3[nH]cnc4cc(-c5sccn5)sc43)c2)ccc1,0.640065,-34.586082\r\n",
      "5,c12ccc(-c3oc4cc(O)ccc4c(=O)c3)cc1cccc2,0.640065,-20.088259\r\n",
      "13,c1c(OCC)ccc(C(=O)COC(=O)c2cc3c(cc2)OCCO3)c1,0.640065,-22.818\r\n",
      "4,c1(-c2noc(CN(C)Cc3cn(C)nc3)n2)c(F)cccc1,0.640065,-23.297112\r\n"
     ]
    }
   ],
   "source": [
    "!head -n 15 {tmp_dir}/results/memory.csv"
   ]
  }
 ],
 "metadata": {
  "kernelspec": {
   "display_name": "Python 3",
   "language": "python",
   "name": "python3"
  },
  "language_info": {
   "codemirror_mode": {
    "name": "ipython",
    "version": 3
   },
   "file_extension": ".py",
   "mimetype": "text/x-python",
   "name": "python",
   "nbconvert_exporter": "python",
   "pygments_lexer": "ipython3",
   "version": "3.7.6"
  }
 },
 "nbformat": 4,
 "nbformat_minor": 2
}
