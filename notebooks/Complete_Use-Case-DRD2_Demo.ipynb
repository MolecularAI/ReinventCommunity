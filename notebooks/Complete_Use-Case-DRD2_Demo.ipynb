{
 "cells": [
  {
   "cell_type": "markdown",
   "metadata": {},
   "source": [
    "> **How to run this notebook (command-line)?**\n",
    "1. Install the `ReinventCommunity` environment:\n",
    "`conda env create -f environment.yml`\n",
    "2. Activate the environment:\n",
    "`conda activate ReinventCommunity`\n",
    "3. Execute `jupyter`:\n",
    "`jupyter notebook`\n",
    "4. Copy the link to a browser\n",
    "\n",
    "\n",
    "# `REINVENT 3.0`: `DRD2 use-case`\n",
    "Due to the large number of possible settings and intrinsic mechanics, the learning curve for using `REINVENT` in a project setting can be quite steep. This notebook will illustrate\n",
    "\n",
    "* how to prepare a project (considerations, data, goals),\n",
    "* how to come up with a meaningful scoring function definition,\n",
    "* how to monitor a job and\n",
    "* how to judge the results of a run.\n",
    "\n",
    "Technically, we will use the reinforcement learning running mode (see also respective notebook), but using a real dataset as starting point: the `DRD2` dataset.\n",
    "\n",
    "## Starting a new project\n",
    "In the beginning we usually start with gathering information: What do we know about the target? Do we have an idea where to start in chemical space? Do we plan to do *exploration* (find new scaffolds) or *exploitation* (find solutions around a known scaffold) in this project? What are the boundaries we want to set for the solutions in terms of e.g. physico-chemical properties, chemical moieties we would like to avoid or what is the target size of the molecules? Do we have enough data to e.g. generate a predictive (QSAR) model?\n",
    "\n",
    "These considerations vary from one project to another, so it is impossible to formulate general rules. There is a large number of parameters that one can set to fine-tune a run with `REINVENT`, but most of them can be kept at their respective default values.\n",
    "\n",
    "### Setting out the goals\n",
    "For our `DRD2` use-case, let us assume that we have spoken to the lead chemist of the project and scribbled down a number of constraints for our molecules. They asked us to set up a `REINVENT` run that produces compounds which:\n",
    "\n",
    "1. are likely to bind to `DRD2`,\n",
    "2. are diverse (i.e. have different scaffolds),\n",
    "3. do not have more than 6 hydrogen-bond donors and not more than 9 rotatable bonds and\n",
    "4. avoid certain chemical moieties that are considered unfavourable.\n",
    "5. Moreover, we have a couple of chemical compounds that we consider good lead for further developments, e.g. from a previous study or an experimental assay.\n",
    "\n",
    "In general, our hypothetical chemists are open to new compound suggestions and do not necessarily want to find new solutions around specific scaffolds. This means, we are looking at an *exploration* scenario (rather than an *exploitation* one). Note, that it is possible to enforce molecules that satisfy one or more substructure matches (defined as `SMILES` or `SMARTS`), see the respective notebooks for details.\n",
    "\n",
    "The data we are provided with is a dataset of more than 300000 molecules (in this case public data), which have been annotated to be either active ('1') or inactive ('0'). You can find the respective sets (already split into a training and a test set) in the `notebooks/data` subfolder.\n",
    "\n",
    "Based on this information, our task now is to formulate a scoring function definition that will reward (\"score\") molecules that our chemists like with a better score than other molecules. This means we will break down the different requirements into `scoring function components`, assign a weight and recombine them into our scoring function. There are many more components available than the ones discussed here, so have a look at the other notebooks and the example `JSON` files in the `REINVENT` repository.\n",
    "\n",
    "Before we start diving into this, though execute the following code blocks to set the configurations as required."
   ]
  },
  {
   "cell_type": "code",
   "execution_count": 1,
   "metadata": {},
   "outputs": [],
   "source": [
    "# load dependencies\n",
    "import os\n",
    "import re\n",
    "import json\n",
    "import tempfile\n",
    "\n",
    "# --------- change these path variables as required\n",
    "reinvent_dir = os.path.expanduser(\"~/Desktop/Reinvent\")\n",
    "reinvent_env = os.path.expanduser(\"~/miniconda3/envs/reinvent.v3.0\")\n",
    "output_dir = os.path.expanduser(\"~/Desktop/REINVENT_Use-Case-DRD2_demo\")\n",
    "\n",
    "# --------- do not change\n",
    "# get the notebook's root path\n",
    "try: ipynb_path\n",
    "except NameError: ipynb_path = os.getcwd()\n",
    "\n",
    "# if required, generate a folder to store the results\n",
    "try:\n",
    "    os.mkdir(output_dir)\n",
    "except FileExistsError:\n",
    "    pass"
   ]
  },
  {
   "cell_type": "markdown",
   "metadata": {},
   "source": [
    "## Setting up the components\n",
    "Once we have decided on the conditions along which we aim to design new molecules, we have to express them in terms of *scoring function components*. Each of the components will look independently at the compounds generated and report a score between `0` (very \"bad\") and `1` (very \"good\"). These individual scores are combined into a *total score* that will be used to calculate the loss and update the weights, thus \"steering\" the agent in chemical space. The components usually have parameters, so we decided to store them and their configurations in a `JSON` file for convenience. For our mock-project `DRD2` we will use the following components, but there are many more you might find useful. Have a look at the other notebooks and the example JSON files in the `REINVENT` repository.\n",
    "\n",
    "### Predictive model (activity)\n",
    "The first requirement is to generate molecules that show activity. As structural components (`ROCS`, docking, ...) are not part of this release, our only option is to build a predictive model that will tell `REINVENT` whether it considers a molecule as being promising or not. As of now, `REINVENT` only supports pickled [`scikit learn`](https://scikit-learn.org/stable/model_selection.html) models and based on the data we have available, we decide to build a classification model (you can find the \"drd2.pkl\" file in the `notebooks/data` subfolder). The models should accept one of the molecular fingerprint supported by `REINVENT`. The details of our model and how it was derived, are shown below:\n",
    "\n",
    "*For the DRD2 model, an activity prediction model (APM) was used. This APM was trained on both the active and inactive compounds of the ExCAPE DRD2 modulator set. Stereochemistry was stripped from all compounds in the dataset and they were represented in their cannonical form by using RDKit. The resulting duplicates were removed. Data was split to test and training sets with a stratified split and  the compounds were represented with ECFP6 fingerprint (radius 3) hashed to 2048 bits. A Scikit-learn Random Forest Classifier (RF) model was trained to discriminate active from inactive compounds. Optuna was used for finding the optimal hyperparameters with a 5-fold cross validation. The performance of the resulting model in terms of area under the curve (AUC) was 0.945.*\n",
    "\n",
    "Optuna citation:\n",
    "Takuya Akiba, Shotaro Sano, Toshihiko Yanase, Takeru Ohta, and Masanori Koyama. 2019. Optuna: A Next-generation Hyperparameter Optimization Framework. https://arxiv.org/abs/1907.10902\n",
    "\n",
    "Once we have built our model, we can formulate a scoring function component. As we decide to put a lot of emphasis on this component (and built our model on a lot of data, which boosts our confidence in the predictions), we will use a high weight for this component. Also, as this is a classification model and the probablility output is used, we do not need to scale the model's output to values between `0` and `1`. For other components, we will need to specify a score transformation, though. You can use a given `component_type` more than once (with different names), for example if we had another model predicting the toxicity of compounds in humans, we could simply add it as a new component."
   ]
  },
  {
   "cell_type": "code",
   "execution_count": 2,
   "metadata": {},
   "outputs": [],
   "source": [
    "component_DRD2_prediction = {\n",
    "  \"component_type\": \"predictive_property\",\n",
    "  \"name\": \"DRD2_pred_activity\",\n",
    "  \"weight\": 7,\n",
    "  \"specific_parameters\": {\n",
    "    \"model_path\": os.path.join(ipynb_path, \"models/drd2.pkl\"),\n",
    "    \"scikit\": \"classification\",\n",
    "    \"descriptor_type\": \"ecfp_counts\",\n",
    "    \"size\": 2048,\n",
    "    \"radius\": 3,\n",
    "    \"use_counts\": True,\n",
    "    \"use_features\": True,\n",
    "    \"transformation\": {\n",
    "        \"transformation_type\": \"no_transformation\"\n",
    "    }\n",
    "  }\n",
    "}"
   ]
  },
  {
   "cell_type": "markdown",
   "metadata": {},
   "source": [
    "### Diversity\n",
    "As mentioned above, in this project we are interested in a diverse set of molecular ideas. In order to force the agent to explore different areas in the chemical space, we can define a `diversity filter`. In effect, we will penalize families of molecules after a while: If the agent keeps sampling compounds with the same scaffold, the \"scaffold bins\" will fill up and once full every molecule with this scaffold will receive a score of `0`, thus \"motivating\" the agent to move on. We will use the standard parameters below, but feel free to adapt them (a detailed description is available in the other notebooks and the publication)."
   ]
  },
  {
   "cell_type": "code",
   "execution_count": 3,
   "metadata": {},
   "outputs": [],
   "source": [
    "diversity_filter = {\n",
    "  \"name\": \"IdenticalMurckoScaffold\",\n",
    "  \"nbmax\": 25,\n",
    "  \"minscore\": 0.4,\n",
    "  \"minsimilarity\": 0.4\n",
    "}"
   ]
  },
  {
   "cell_type": "markdown",
   "metadata": {},
   "source": [
    "### Incept \"good\" ideas\n",
    "Sometimes we want to provide the agent with a couple of (hopefully) good ideas to consider. If these molecules score well, the agent might pick up the trail and generate molecules around those initial ideas scoring ever more highly. There are three parameters:\n",
    "1. `smiles`: A list of `SMILES` that will be subjected to the scoring function when the run starts.\n",
    "2. `memory_size`: The scores for the `SMILES` are ordered from high to low and the `memory_size` best will be retained.\n",
    "3. `sample_size`: At every epoch, a `sample_size` number of `SMILES` from the memory is randomly sampled and added to the batch of `SMILES` generated in that epoch.\n",
    "\n",
    "For example, below we add 38 `SMILES` to the inception and for each molecule the score is calculated. The \"Top-20\" are stored in the memory and 5 of them are added to the first four epochs, respectively (until the memory is exhausted). Note, that one can set the `memory_size` to be greater or equal to the number of `SMILES` to use all the `SMILES` provided."
   ]
  },
  {
   "cell_type": "code",
   "execution_count": 4,
   "metadata": {},
   "outputs": [],
   "source": [
    "inception = {\n",
    "  \"memory_size\": 20,\n",
    "  \"sample_size\": 5,\n",
    "  \"smiles\": [\n",
    "    \"OCCN1CCN(CCCN2c3ccccc3Sc3ccc(Cl)cc32)CC1\",\n",
    "    \"C=CCN1CCC2c3cccc(OC)c3CCC21\",\n",
    "    \"CCCN(Cc1ccc(OC)cc1)C1CCc2c(cccc2OC)C1\",\n",
    "    \"N#Cc1ccc2[nH]c(CN3CCN(c4ccc(Cl)c(Cl)c4)CC3)cc2c1\",\n",
    "    \"O=C(CCCN1CCN(c2ncccn2)CC1)c1ccc(F)cc1\",\n",
    "    \"Cc1ccc2c(c1)C(N1CCN(C)CC1)=Nc1cccnc1N2\",\n",
    "    \"COc1ccc(-c2cccc(CN3CCN(c4ncccn4)CC3)c2)cc1\",\n",
    "    \"Oc1[nH]cc2ccc(OCCCCN3CCN(c4cccc5cccc(F)c45)CC3)c(Cl)c12\",\n",
    "    \"CCCN1CCN(c2cccc(OC)c2)CC1\",\n",
    "    \"O=C(Nc1cccc(SC(F)(F)F)c1)N1CCC(N2CCC(n3c(O)nc4c(F)cccc43)CC2)CC1\",\n",
    "    \"CC1CCN(C2=Cc3cc(Cl)ccc3Cc3ccccc32)CC1\",\n",
    "    \"CCCN1CCOC2Cc3c(O)cccc3CC21\",\n",
    "    \"c1ccc(N2CCN(C3CCC(Nc4ncccn4)CC3)CC2)cc1\",\n",
    "    \"O=S(=O)(NC1CCC(N2CCC(c3ccccc3OCC(F)(F)F)CC2)CC1)c1ccc(OC(F)F)cc1\",\n",
    "    \"COc1ccccc1N1CCN(CCCCc2cc(-c3ccccc3)no2)CC1\",\n",
    "    \"c1ccc(CCC2CCN(Cc3c[nH]c4ncccc34)CC2)cc1\",\n",
    "    \"CC1CN(c2cccc3cc(F)ccc23)CCN1CCC1OCCc2c1sc(C(N)=O)c2Cl\",\n",
    "    \"COc1ccccc1N1CCCN(CCCCNC(=O)c2cc3ccccc3o2)CC1\",\n",
    "    \"O=C1CCc2ccc(OCCCCN3CCN(c4ccccc4C(F)(F)F)CC3)cc2N1\",\n",
    "    \"CCCCCCCCCC(=O)N1c2ccc(Cl)cc2N=C(N2CCN(C)CC2)c2ccccc21\",\n",
    "    \"O=C1N(CCN2CCC(C(F)(F)F)CC2)CCN1c1cccc(Cl)c1\",\n",
    "    \"CN1CCc2cccc3c2C1Cc1cccc(-c2c(OS(=O)(=O)C(F)(F)F)cccc2OS(=O)(=O)C(F)(F)F)c1-3\",\n",
    "    \"Cc1nn(C2CCN(Cc3cccc(C#N)c3)CC2)cc1-c1ccccc1\",\n",
    "    \"COc1ccc(-c2cc3c(O)n(CCN4CCN(c5ccccc5Cl)CC4)c(O)nc-3n2)cc1\",\n",
    "    \"OC1(c2cccc(Cl)c2Cl)CCN(Cc2c[nH]c3ccccc23)CC1\",\n",
    "    \"FC(F)(F)c1ccc2c(c1)N(Cc1ccc(CNc3cccc(Oc4ccccc4)c3)cc1)c1ccccc1S2\",\n",
    "    \"CCCSc1ccccc1N1CCN(CCCOc2ccc(-c3nc4ccccc4[nH]3)cc2)CC1\",\n",
    "    \"O=S(=O)(NCCCCN1CCN(c2cccc(Cl)c2Cl)CC1)c1cc2ccccc2cn1\",\n",
    "    \"COc1ccc(CN2CCN(CC(=O)N3c4ccccc4CC3C)CC2)cc1\",\n",
    "    \"CC1Cc2ccccc2N1C(=O)CC1CCN(Cc2ccc(Cl)cc2)CC1\",\n",
    "    \"CC(C)c1ccccc1N1CCN(CCCCCC(=O)NCc2ccccc2)CC1\",\n",
    "    \"Cc1ncoc1-c1nnc(SCCCN2CCc3cc4nc(C5CC5)oc4cc3CC2)n1C\",\n",
    "    \"O=C1CC(c2ccccc2)c2cccc(CCN3CCN(c4nsc5ccccc45)CC3)c2N1\",\n",
    "    \"O=C1NCN(c2ccccc2)C12CCN(CCCOc1ccc(F)cc1)CC2\",\n",
    "    \"CCON=C(CCN1CCN(c2nccs2)CC1)c1ccccc1\",\n",
    "    \"Cc1ccc2c(-c3nnc(SCCCN4CCc5cc6nc(-c7cc(C)nn7C)oc6cc5CC4)n3C)cccc2n1\",\n",
    "    \"CCCN(CCCCNC(=O)c1ccc(-c2ccccc2)cc1)C1Cc2cccn3ncc(c23)C1\",\n",
    "    \"Cc1ccc(OCCNCCCOc2ccccc2)cc1\"\n",
    "  ]\n",
    "}"
   ]
  },
  {
   "cell_type": "markdown",
   "metadata": {},
   "source": [
    "### Molecular properties\n",
    "There is a whole set of (physico-chemical) properties that can be set as scoring function components. Here, we will restrict ourselves to the numbers of hydrogen-bond donors and rotatable bonds. Note, that we need to define score transformations here to bring the resulting values into the 0-1 range explained above. Have a look at the `Score_Transformation` notebook for a detailed explanation. Normally, you will have to think about the range of values you would expect from a given component and then define the score transformation such, that values you consider \"good\" receive a transformed score close to `1` (and \"bad\" ones should be on the low side, closer to `0`). You are free to chose any (informative) name for your components, it is the `component_type` that specifies its nature. Typically, the `specific_parameters` block contains settings that only apply to this component (often a transformation, but also those that are required for this type only such as a descriptor definition for predictive models)."
   ]
  },
  {
   "cell_type": "code",
   "execution_count": 5,
   "metadata": {},
   "outputs": [],
   "source": [
    "component_rotatable_bonds = {\n",
    "  \"component_type\": \"num_rotatable_bonds\",\n",
    "  \"name\": \"Number of rotatable bonds\",\n",
    "  \"weight\": 1,\n",
    "  \"specific_parameters\": {\n",
    "    \"transformation\": {\n",
    "        \"transformation_type\": \"step\",\n",
    "        \"high\": 9,\n",
    "        \"low\": 0\n",
    "    }\n",
    "  }\n",
    "}\n",
    "\n",
    "component_num_hbd = {\n",
    "  \"component_type\": \"num_hbd_lipinski\",\n",
    "  \"name\": \"HB-donors (Lipinski)\",\n",
    "  \"weight\": 1,\n",
    "  \"specific_parameters\": {\n",
    "    \"transformation\": {\n",
    "        \"transformation_type\": \"step\",\n",
    "        \"high\": 6,\n",
    "        \"low\": 0\n",
    "    }\n",
    "  }\n",
    "}"
   ]
  },
  {
   "cell_type": "markdown",
   "metadata": {},
   "source": [
    "### Avoid certain chemical groups\n",
    "Usually, we want to avoid certain chemical moieties as they are associated with toxicity or unstable chemistry. Another reason could be that we already know that a certain chemical group will score very well and we want to explore new areas in the chemical space. We can achieve all this by specifying what we call `custom alerts`, i.e. a list of `SMARTS` which will drastically reduce the score of a compound exhibiting one or more matches. Note, that the impact of `custom alerts` is strong: Instead of simply adding a score component's contribution, a match with `custom alerts` will reduce a compound's total score by half (and will not affect it otherwise). For example, if a molecule receives a total score of 0.73, but happens to match a `custom alert` the score reported back to inform the agent will be 0.365 - this is necessary for the penalization to have enough impact."
   ]
  },
  {
   "cell_type": "code",
   "execution_count": 6,
   "metadata": {},
   "outputs": [],
   "source": [
    "component_custom_alerts = {\n",
    "  \"component_type\": \"custom_alerts\",\n",
    "  \"name\": \"Custom_alerts\",\n",
    "  \"weight\": 1,\n",
    "  \"specific_parameters\": {\n",
    "      \"smiles\": [\n",
    "        \"[*;r8]\",\n",
    "        \"[*;r9]\",\n",
    "        \"[*;r10]\",\n",
    "        \"[*;r11]\",\n",
    "        \"[*;r12]\",\n",
    "        \"[*;r13]\",\n",
    "        \"[*;r14]\",\n",
    "        \"[*;r15]\",\n",
    "        \"[*;r16]\",\n",
    "        \"[*;r17]\",\n",
    "        \"[#8][#8]\",\n",
    "        \"[#6;+]\",\n",
    "        \"[#16][#16]\",\n",
    "        \"[#7;!n][S;!$(S(=O)=O)]\",\n",
    "        \"[#7;!n][#7;!n]\",\n",
    "        \"C#C\",\n",
    "        \"C(=[O,S])[O,S]\",\n",
    "        \"[#7;!n][C;!$(C(=[O,N])[N,O])][#16;!s]\",\n",
    "        \"[#7;!n][C;!$(C(=[O,N])[N,O])][#7;!n]\",\n",
    "        \"[#7;!n][C;!$(C(=[O,N])[N,O])][#8;!o]\",\n",
    "        \"[#8;!o][C;!$(C(=[O,N])[N,O])][#16;!s]\",\n",
    "        \"[#8;!o][C;!$(C(=[O,N])[N,O])][#8;!o]\",\n",
    "        \"[#16;!s][C;!$(C(=[O,N])[N,O])][#16;!s]\"\n",
    "         ]\n",
    "      }\n",
    "}\n"
   ]
  },
  {
   "cell_type": "markdown",
   "metadata": {},
   "source": [
    "## Assembling the scoring function\n",
    "Now that we have defined the individual components, it is time to assemble the scoring function. We have two choices here, `custom_sum` and `custom_product`. For the difference in the mathematical definition, we refer to the publication, but from a practical point of view it appears the former is a bit more \"permissive\", i.e. if a molecule receives a high component score for all but one of the components, it will still have a reasonably high total score. But `custom_product` will penalize such a molecule more harshly, making learning a bit more difficult. This could be what you want if you already have a highly focused agent, but as a safe default choice we recommend to use `custom_sum`."
   ]
  },
  {
   "cell_type": "code",
   "execution_count": 7,
   "metadata": {},
   "outputs": [],
   "source": [
    "scoring_function = {\n",
    "  \"name\": \"custom_sum\",\n",
    "  \"parallel\": True,\n",
    "  \"parameters\": [\n",
    "    component_DRD2_prediction,\n",
    "    component_num_hbd,\n",
    "    component_rotatable_bonds,\n",
    "    component_custom_alerts\n",
    "  ]\n",
    "}"
   ]
  },
  {
   "cell_type": "markdown",
   "metadata": {},
   "source": [
    "Note, that we add the `diversity_filter` later (outside of the scoring function in a block called `parameters`), as it is not really a score component (even though it has an impact on scoring the compounds).\n",
    "\n",
    "## Complete the `JSON` configuration\n",
    "There are still a couple of parameters we need to set in order to specify the run. These are set outside of the scoring function, so below you see the torso structure of a `REINVENT` configuration (with only the version number, the `run_type` and the `scoring_function` which we generated above) which we will enrich step-by-step. Remember that we will write out the dictionary we construct here as a `JSON` file in the end, so you can have a look at it."
   ]
  },
  {
   "cell_type": "code",
   "execution_count": 8,
   "metadata": {},
   "outputs": [],
   "source": [
    "configuration = {\n",
    "  \"version\": 3,\n",
    "  \"run_type\": \"reinforcement_learning\",\n",
    "  \"parameters\": {\n",
    "    \"scoring_function\": scoring_function\n",
    "  }\n",
    "}"
   ]
  },
  {
   "cell_type": "markdown",
   "metadata": {},
   "source": [
    "### Add the diversity filter and the inception blocks\n",
    "Here we add the diversity filter and inception blocks we specified above."
   ]
  },
  {
   "cell_type": "code",
   "execution_count": 9,
   "metadata": {},
   "outputs": [],
   "source": [
    "configuration[\"parameters\"][\"diversity_filter\"] = diversity_filter\n",
    "configuration[\"parameters\"][\"inception\"] = inception"
   ]
  },
  {
   "cell_type": "markdown",
   "metadata": {},
   "source": [
    "### Add run parameters\n",
    "In addition, we need to specify a couple of settings (such as which `Prior` to use). We refer to the respective notebooks for details. The most important setting is the number of epochs `n_steps`: For illustrative purposes, we will set it to a mere 300 but usually you would set it to a range of 500-1500."
   ]
  },
  {
   "cell_type": "code",
   "execution_count": 10,
   "metadata": {},
   "outputs": [],
   "source": [
    "configuration[\"parameters\"][\"reinforcement_learning\"] = {\n",
    "    \"prior\": os.path.join(ipynb_path, \"models/random.prior.new\"),\n",
    "    \"agent\": os.path.join(ipynb_path, \"models/random.prior.new\"),\n",
    "    \"n_steps\": 300,\n",
    "    \"sigma\": 128,\n",
    "    \"learning_rate\": 0.0001,\n",
    "    \"batch_size\": 128,\n",
    "    \"reset\": 0,\n",
    "    \"reset_score_cutoff\": 0.5,\n",
    "    \"margin_threshold\": 50\n",
    "}"
   ]
  },
  {
   "cell_type": "markdown",
   "metadata": {},
   "source": [
    "### Add the `logging` block\n",
    "The final block we have to provide will specify where to store the output and so on. Usually, it will suffice to change `logging_path`, `result_folder` and `job_name`."
   ]
  },
  {
   "cell_type": "code",
   "execution_count": 11,
   "metadata": {},
   "outputs": [],
   "source": [
    "configuration[\"logging\"] = {\n",
    "    \"sender\": \"http://127.0.0.1\",\n",
    "    \"recipient\": \"local\",\n",
    "    \"logging_frequency\": 0,\n",
    "    \"logging_path\": os.path.join(output_dir, \"progress.log\"),\n",
    "    \"result_folder\": os.path.join(output_dir, \"results\"),\n",
    "    \"job_name\": \"Use-case DRD2 Demo\",\n",
    "    \"job_id\": \"demo\"\n",
    "}"
   ]
  },
  {
   "cell_type": "markdown",
   "metadata": {},
   "source": [
    "We now have successfully filled the dictionary and will write it out as a `JSON` file in the output directory. Please have a look at the file before proceeding in order to see how the paths have been inserted where required and the `dict` -> `JSON` translations (e.g. `True` to `true`) have taken place."
   ]
  },
  {
   "cell_type": "code",
   "execution_count": 12,
   "metadata": {},
   "outputs": [],
   "source": [
    "# write the configuration file to the disc\n",
    "configuration_JSON_path = os.path.join(output_dir, \"DRD2_config.json\")\n",
    "with open(configuration_JSON_path, 'w') as f:\n",
    "    json.dump(configuration, f, indent=4, sort_keys=True)"
   ]
  },
  {
   "cell_type": "markdown",
   "metadata": {},
   "source": [
    "## Run `REINVENT`\n",
    "Now it is time to execute `REINVENT` locally. Note, that depending on the number of epochs (steps) and the execution time of the scoring function components, this might take a while. As we have only specified a low number of epochs and all components should be fairly quick, this should not take too long in our case though.\n",
    "\n",
    "The command-line execution looks like this:\n",
    "```\n",
    "# activate envionment\n",
    "conda activate reinvent.v3.0\n",
    "\n",
    "# execute REINVENT\n",
    "python <your_path>/input.py <config>.json\n",
    "```"
   ]
  },
  {
   "cell_type": "code",
   "execution_count": 13,
   "metadata": {},
   "outputs": [],
   "source": [
    "%%capture captured_err_stream --no-stderr\n",
    "\n",
    "# execute REINVENT from the command-line\n",
    "!{reinvent_env}/bin/python {reinvent_dir}/input.py {configuration_JSON_path}"
   ]
  },
  {
   "cell_type": "code",
   "execution_count": 14,
   "metadata": {},
   "outputs": [],
   "source": [
    "# print the output to a file, just to have it for documentation\n",
    "with open(os.path.join(output_dir, \"run.err\"), 'w') as file:\n",
    "    file.write(captured_err_stream.stdout)\n",
    "\n",
    "# prepare the output to be parsed\n",
    "list_epochs = re.findall(r'INFO.*?local', captured_err_stream.stdout, re.DOTALL)\n",
    "data = [epoch for idx, epoch in enumerate(list_epochs) if idx in [1, 150, 299]]\n",
    "data = [\"\\n\".join(element.splitlines()[:-1]) for element in data]"
   ]
  },
  {
   "cell_type": "markdown",
   "metadata": {},
   "source": [
    "We have started with a *naive* prior as the initialization for the agent. Hopefully, we see that at the end of the reinforcement learning, the agent knows much better how to produce compounds that receive higher scores (based on our scoring function) than in the beginning. The following block will print the output for epochs 1, 150 and 299, respectively. We see that the \"Score\" (which is the average over all compounds) increases from 0.2255, over 0.2742, to 0.2987."
   ]
  },
  {
   "cell_type": "code",
   "execution_count": 15,
   "metadata": {},
   "outputs": [
    {
     "name": "stdout",
     "output_type": "stream",
     "text": [
      "INFO     \n",
      " Step 0   Fraction valid SMILES: 98.4   Score: 0.3600   Time elapsed: 0   Time left: 0.0\n",
      "  Agent     Prior     Target     Score     SMILES\n",
      "-22.89    -22.89     40.69      0.50      c1(F)cc(F)ccc1NC(C1CCN(S(=O)(c2sc(Br)cc2)=O)CC1)=O\n",
      "-28.20    -28.20     38.07      0.52      O=C(CCN1CCOCC1)Nc1c(C(c2ccccc2Cl)=O)oc2c1cccc2\n",
      "-35.08    -35.08     27.37      0.49      CC(C)(c1nnc(-c2cc(F)ccc2)n1CCCCCNC(NC(C)C)=O)C\n",
      "-25.55    -25.55     37.69      0.49      C(=O)(Nc1cccc(Cl)c1Cl)N1c2ccccc2CC1\n",
      "-27.65    -27.65     35.84      0.50      c1(-n2cc(CCCl)c(O)c2O)ccc(Br)cc1\n",
      "-35.73    -35.73     12.39      0.38      N=c1[nH]c2c(c(N)c(-c3ccc(NC(=O)Nc4cc(C(F)(F)F)c(F)cc4)cc3)cc2)[nH]c1=N\n",
      "-21.64    -21.64    -21.64      0.00      c1c(NC(N2C(c3ccccc3)CC=N2)=O)ccc(C)c1\n",
      "-20.91    -20.91     45.06      0.52      c1(C(F)(F)F)cc([N+](=O)[O-])c(N2CCC(C)CC2)c(Cl)c1\n",
      "-26.87    -26.87     40.32      0.52      c1c(-c2c(C(=O)N3CCCc4c3cccc4)c(C)c(C)s2)cccc1\n",
      "-25.80    -25.80     39.41      0.51      FC(F)(c1ccc(CNC(=O)c2ccc(-c3nc4cc(C(F)(F)F)ccc4[nH]3)cc2)cc1)F\n",
      "DRD2_pred_activity   HB-donors (Lipinski)   Number of rotatable bonds   Custom_alerts   raw_DRD2_pred_activity   raw_HB-donors (Lipinski)   raw_Number of rotatable bonds\n",
      "0.3529329001903534   1.0   1.0   1.0   0.3529329001903534   1.0   4.0   \n",
      "0.37992334365844727   1.0   1.0   1.0   0.37992334365844727   1.0   6.0   \n",
      "0.34155604243278503   1.0   1.0   1.0   0.34155604243278503   2.0   8.0   \n",
      "0.34948334097862244   1.0   1.0   1.0   0.34948334097862244   1.0   1.0   \n",
      "0.3520042598247528   1.0   1.0   1.0   0.3520042598247528   2.0   3.0   \n",
      "0.34046339988708496   0.0   1.0   1.0   0.34046339988708496   7.0   3.0   \n",
      "0.35464951395988464   1.0   1.0   0.0   0.35464951395988464   1.0   2.0   \n",
      "0.3768952786922455   1.0   1.0   1.0   0.3768952786922455   0.0   2.0   \n",
      "0.3891837000846863   1.0   1.0   1.0   0.3891837000846863   0.0   2.0   \n",
      "0.369338721036911   1.0   1.0   1.0   0.369338721036911   2.0   4.0   \n",
      "\n",
      "INFO     \n",
      " Step 147   Fraction valid SMILES: 97.7   Score: 0.4462   Time elapsed: 151   Time left: 156.1\n",
      "  Agent     Prior     Target     Score     SMILES\n",
      "-21.98    -21.33    -21.33      0.00      N1C(=S)NC(=S)C2CCCCC12\n",
      "-52.40    -53.47     35.92      0.50      C1CCCCN1C1CCN(C(=O)c2cc3cc(-c4nc(=N)c5[nH]cc(C#N)c5[nH]4)nc(-c4cc(F)ccc4)c3o2)CC1\n",
      "-20.90    -23.54     65.29      0.50      c12sc(C)cc1c(N1CCN(C)CC1)nc(=N)[nH]2\n",
      "-25.40    -25.54     61.94      0.49      c1ccc(-c2cc(=O)c3c(ccc(S(=O)(N4CCC(C)CC4)=O)c3)o2)cc1\n",
      "-33.71    -34.44     58.22      0.52      c1c(F)c2nc(C3CN(c4cc(N5CCS(=O)(=O)CC5)ncc4)CCC3)[nH]c2cc1\n",
      "-23.03    -23.56    -23.56      0.00      c12c(cccc1)cc(C1CC(c3ccc(Br)cc3)=NN1c1nc(O)cs1)s2\n",
      "-32.14    -33.26     53.97      0.49      n1cc(=Nc2cccc(-c3c(CC)[nH]c(=N)[nH]c3=N)c2)[nH]cc1C1CCCC1\n",
      "-20.22    -22.30     72.85      0.53      c1(-c2cccc(OC)c2)nc(-c2cc(O)ccc2)sc1\n",
      "-32.22    -32.01     55.63      0.49      c12cc(S(=O)(=O)NC3CCc4c(cccc4)N(CC(=O)NC(C)(C)C)C3=O)sc1cccc2\n",
      "-27.33    -28.11     67.25      0.54      c1ccc(C#N)cc1N1CC2NCCC2(c2ccc(OC)cc2)C1\n",
      "DRD2_pred_activity   HB-donors (Lipinski)   Number of rotatable bonds   Custom_alerts   raw_DRD2_pred_activity   raw_HB-donors (Lipinski)   raw_Number of rotatable bonds\n",
      "0.369767427444458   1.0   1.0   0.0   0.369767427444458   2.0   0.0   \n",
      "0.3599388599395752   1.0   1.0   1.0   0.3599388599395752   3.0   4.0   \n",
      "0.35588908195495605   1.0   1.0   1.0   0.35588908195495605   2.0   1.0   \n",
      "0.34612080454826355   1.0   1.0   1.0   0.34612080454826355   0.0   3.0   \n",
      "0.38361939787864685   1.0   1.0   1.0   0.38361939787864685   1.0   3.0   \n",
      "0.38556328415870667   1.0   1.0   0.0   0.38556328415870667   1.0   3.0   \n",
      "0.34434399008750916   1.0   1.0   1.0   0.34434399008750916   5.0   4.0   \n",
      "0.40159493684768677   1.0   1.0   1.0   0.40159493684768677   1.0   3.0   \n",
      "0.3472784459590912   1.0   1.0   1.0   0.3472784459590912   2.0   5.0   \n",
      "0.40303927659988403   1.0   1.0   1.0   0.40303927659988403   1.0   3.0   \n",
      "\n",
      "INFO     \n",
      " Step 296   Fraction valid SMILES: 98.4   Score: 0.4513   Time elapsed: 376   Time left: 5.1\n",
      "  Agent     Prior     Target     Score     SMILES\n",
      "-23.92    -27.40     61.15      0.50      c1c(-c2onc(-c3ccccc3)n2)ccc(Cn2nc(-c3ccccc3)ccc2=O)c1\n",
      "-26.27    -28.38     63.16      0.51      c1(-c2cc(Cl)ccc2)nc(C)nc2nn3c(c12)cccc3\n",
      "-18.98    -19.90     75.48      0.54      c1(OC)ccc(-n2c(-c3ccc(C)cc3)ncn2)cc1\n",
      "-20.67    -20.85    -20.85      0.00      c1c(F)ccc(C=Cc2cc(C(N)=O)ccc2)c1\n",
      "-32.80    -33.71     59.48      0.52      C1CC(c2cnc(C)c(N=c3[nH]n4c(C5CCOCC5)ncc4c(=N)[nH]3)c2)CCC1\n",
      "-19.17    -20.76     74.82      0.54      c1c(Cl)ccc(Cn2nnc(COc3ccccc3)c2)c1Cl\n",
      "-23.92    -23.73     55.46      0.44      C(=O)(C(NCCc1ccc(Br)cc1)=O)c1c2ccccc2[nH]c1\n",
      "-29.72    -29.69     67.13      0.54      C(C)(C(Cn1c(=N)n(CC)c(=O)o1)=O)(C)C\n",
      "-31.19    -39.76     47.04      0.49      c1c(N=c2c3nc(N4CCN(C)CC4)ncc3[nH]c(N3CCC(c4cccc(F)c4)CC3)c2)cc(OC)c(OC)c1OC\n",
      "-42.06    -44.03     38.17      0.46      c1(N2C(=O)CCC2)cn[nH]c1-c1cc(Cl)nc(N2CCN(Cc3noc(C)c3)CC2)n1\n",
      "DRD2_pred_activity   HB-donors (Lipinski)   Number of rotatable bonds   Custom_alerts   raw_DRD2_pred_activity   raw_HB-donors (Lipinski)   raw_Number of rotatable bonds\n",
      "0.3539266586303711   1.0   1.0   1.0   0.3539266586303711   0.0   5.0   \n",
      "0.3754989206790924   1.0   1.0   1.0   0.3754989206790924   0.0   1.0   \n",
      "0.4032653868198395   1.0   1.0   1.0   0.4032653868198395   0.0   3.0   \n",
      "0.3563802242279053   1.0   1.0   1.0   0.3563802242279053   1.0   3.0   \n",
      "0.3873748183250427   1.0   1.0   1.0   0.3873748183250427   3.0   3.0   \n",
      "0.40461286902427673   1.0   1.0   1.0   0.40461286902427673   0.0   5.0   \n",
      "0.286255806684494   1.0   1.0   1.0   0.286255806684494   2.0   5.0   \n",
      "0.41364604234695435   1.0   1.0   1.0   0.41364604234695435   1.0   3.0   \n",
      "0.34124940633773804   1.0   1.0   1.0   0.34124940633773804   1.0   7.0   \n",
      "0.3080367147922516   1.0   1.0   1.0   0.3080367147922516   1.0   5.0   \n",
      "\n"
     ]
    }
   ],
   "source": [
    "for element in data:\n",
    "    print(element)"
   ]
  },
  {
   "cell_type": "markdown",
   "metadata": {},
   "source": [
    "## Analyse the results\n",
    "In order to analyze the run in a more intuitive way, we can use `tensorboard`:\n",
    "\n",
    "```\n",
    "# go to the root folder of the output\n",
    "cd <your_path>/REINVENT_RL_demo\n",
    "\n",
    "# make sure, you have activated the proper environment\n",
    "conda activate reinvent.v3.0\n",
    "\n",
    "# start tensorboard\n",
    "tensorboard --logdir progress.log\n",
    "```\n",
    "\n",
    "Then copy the link provided to a browser window, e.g. \"http://workstation.url.com:6006/\". The following figures are exmaple plots - remember, that there is always some randomness involved. In `tensorboard` you can monitor the individual scoring function components."
   ]
  },
  {
   "cell_type": "markdown",
   "metadata": {},
   "source": [
    "The results folder will hold four different files: the agent (pickled), the input JSON (just for reference purposes), the memory (highest scoring compounds in `CSV` format for the last epoch) and the scaffold memory (in `CSV` format, with the scaffolds and epoch numbers). "
   ]
  },
  {
   "cell_type": "code",
   "execution_count": 16,
   "metadata": {},
   "outputs": [
    {
     "name": "stdout",
     "output_type": "stream",
     "text": [
      "Step,Scaffold,SMILES,DRD2_pred_activity,HB-donors (Lipinski),Number of rotatable bonds,Custom_alerts,raw_DRD2_pred_activity,raw_HB-donors (Lipinski),raw_Number of rotatable bonds,total_score,ID\r\n",
      "84.0,N=c1cc(N2CC(n3cccn3)C2)[nH]cn1,Cc1cc(C)n(C2CN(c3[nH]c(C)nc(=N)c3C(=O)C(F)(F)F)C2)n1,0.5175884962081909,1.0,1.0,1.0,0.5175884962081909,2.0,3.0,0.6247910261154175,Use-case DRD2 Demo_0\r\n",
      "149.0,c1ccc(-c2cn3ccnc3c(-c3cccnc3N3CCCCC3)n2)cc1,NC(=O)C1CCN(c2ncccc2-c2nc(-c3cccc(Cl)c3)cn3ccnc23)CC1,0.5127713680267334,1.0,1.0,1.0,0.5127713680267334,1.0,4.0,0.621044397354126,Use-case DRD2 Demo_1\r\n"
     ]
    }
   ],
   "source": [
    "!head -n 3 {output_dir}/results/scaffold_memory.csv"
   ]
  },
  {
   "cell_type": "markdown",
   "metadata": {},
   "source": [
    "The next step is to gather all the ideas generated by `REINVENT` and decide which ones to move on with (post-processing). It could also be that another run has do be made with a different scoring function, but this is up to the user to decide. Ultimately, we have generated compounds that are predicted to have at least some potency for `DRD2`, which we can report back to our hypothetical chemist for further discussion."
   ]
  }
 ],
 "metadata": {
  "kernelspec": {
   "display_name": "Python 3",
   "language": "python",
   "name": "python3"
  },
  "language_info": {
   "codemirror_mode": {
    "name": "ipython",
    "version": 3
   },
   "file_extension": ".py",
   "mimetype": "text/x-python",
   "name": "python",
   "nbconvert_exporter": "python",
   "pygments_lexer": "ipython3",
   "version": "3.7.6"
  }
 },
 "nbformat": 4,
 "nbformat_minor": 2
}
