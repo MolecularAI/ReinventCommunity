{
 "cells": [
  {
   "cell_type": "markdown",
   "metadata": {},
   "source": [
    "> **How to run this notebook (command-line)?**\n",
    "1. Install the `ReinventCommunity` environment:\n",
    "`conda env create -f environment.yml`\n",
    "2. Activate the environment:\n",
    "`conda activate ReinventCommunity`\n",
    "3. Execute `jupyter`:\n",
    "`jupyter notebook`\n",
    "4. Copy the link to a browser\n",
    "\n",
    "\n",
    "# `REINVENT 3.2`: `DRD2 use-case`\n",
    "Due to the large number of possible settings and intrinsic mechanics, the learning curve for using `REINVENT` in a project setting can be quite steep. This notebook will illustrate\n",
    "\n",
    "* how to prepare a project (considerations, data, goals),\n",
    "* how to come up with a meaningful scoring function definition,\n",
    "* how to monitor a job and\n",
    "* how to judge the results of a run.\n",
    "\n",
    "Technically, we will use the reinforcement learning running mode (see also respective notebook), but using a real dataset as starting point: the `DRD2` dataset.\n",
    "\n",
    "## Starting a new project\n",
    "In the beginning we usually start with gathering information: What do we know about the target? Do we have an idea where to start in chemical space? Do we plan to do *exploration* (find new scaffolds) or *exploitation* (find solutions around a known scaffold) in this project? What are the boundaries we want to set for the solutions in terms of e.g. physico-chemical properties, chemical moieties we would like to avoid or what is the target size of the molecules? Do we have enough data to e.g. generate a predictive (QSAR) model?\n",
    "\n",
    "These considerations vary from one project to another, so it is impossible to formulate general rules. There is a large number of parameters that one can set to fine-tune a run with `REINVENT`, but most of them can be kept at their respective default values.\n",
    "\n",
    "### Setting out the goals\n",
    "For our `DRD2` use-case, let us assume that we have spoken to the lead chemist of the project and scribbled down a number of constraints for our molecules. They asked us to set up a `REINVENT` run that produces compounds which:\n",
    "\n",
    "1. are likely to bind to `DRD2`,\n",
    "2. are diverse (i.e. have different scaffolds),\n",
    "3. do not have more than 6 hydrogen-bond donors and not more than 9 rotatable bonds and\n",
    "4. avoid certain chemical moieties that are considered unfavourable.\n",
    "5. Moreover, we have a couple of chemical compounds that we consider good lead for further developments, e.g. from a previous study or an experimental assay.\n",
    "\n",
    "In general, our hypothetical chemists are open to new compound suggestions and do not necessarily want to find new solutions around specific scaffolds. This means, we are looking at an *exploration* scenario (rather than an *exploitation* one). Note, that it is possible to enforce molecules that satisfy one or more substructure matches (defined as `SMILES` or `SMARTS`), see the respective notebooks for details.\n",
    "\n",
    "The data we are provided with is a dataset of more than 300000 molecules (in this case public data), which have been annotated to be either active ('1') or inactive ('0'). You can find the respective sets (already split into a training and a test set) in the `notebooks/data` subfolder.\n",
    "\n",
    "Based on this information, our task now is to formulate a scoring function definition that will reward (\"score\") molecules that our chemists like with a better score than other molecules. This means we will break down the different requirements into `scoring function components`, assign a weight and recombine them into our scoring function. There are many more components available than the ones discussed here, so have a look at the other notebooks and the example `JSON` files in the `REINVENT` repository.\n",
    "\n",
    "Before we start diving into this, though execute the following code blocks to set the configurations as required."
   ]
  },
  {
   "cell_type": "code",
   "execution_count": 1,
   "metadata": {},
   "outputs": [],
   "source": [
    "# load dependencies\n",
    "import os\n",
    "import re\n",
    "import json\n",
    "import tempfile\n",
    "\n",
    "# --------- change these path variables as required\n",
    "reinvent_dir = os.path.expanduser(\"~/Desktop/Reinvent\")\n",
    "reinvent_env = os.path.expanduser(\"~/miniconda3/envs/reinvent.v3.2\")\n",
    "output_dir = os.path.expanduser(\"~/Desktop/REINVENT_Use-Case-DRD2_demo\")\n",
    "\n",
    "# --------- do not change\n",
    "# get the notebook's root path\n",
    "try: ipynb_path\n",
    "except NameError: ipynb_path = os.getcwd()\n",
    "\n",
    "# if required, generate a folder to store the results\n",
    "try:\n",
    "    os.mkdir(output_dir)\n",
    "except FileExistsError:\n",
    "    pass"
   ]
  },
  {
   "cell_type": "markdown",
   "metadata": {},
   "source": [
    "## Setting up the components\n",
    "Once we have decided on the conditions along which we aim to design new molecules, we have to express them in terms of *scoring function components*. Each of the components will look independently at the compounds generated and report a score between `0` (very \"bad\") and `1` (very \"good\"). These individual scores are combined into a *total score* that will be used to calculate the loss and update the weights, thus \"steering\" the agent in chemical space. The components usually have parameters, so we decided to store them and their configurations in a `JSON` file for convenience. For our mock-project `DRD2` we will use the following components, but there are many more you might find useful. Have a look at the other notebooks and the example JSON files in the `REINVENT` repository.\n",
    "\n",
    "### Predictive model (activity)\n",
    "The first requirement is to generate molecules that show activity. As structural components (`ROCS`, docking, ...) are not part of this release, our only option is to build a predictive model that will tell `REINVENT` whether it considers a molecule as being promising or not. As of now, `REINVENT` only supports pickled [`scikit learn`](https://scikit-learn.org/stable/model_selection.html) models and based on the data we have available, we decide to build a classification model (you can find the \"drd2.pkl\" file in the `notebooks/data` subfolder). The models should accept one of the molecular fingerprint supported by `REINVENT`. The details of our model and how it was derived, are shown below:\n",
    "\n",
    "*For the DRD2 model, an activity prediction model (APM) was used. This APM was trained on both the active and inactive compounds of the ExCAPE DRD2 modulator set. Stereochemistry was stripped from all compounds in the dataset and they were represented in their cannonical form by using RDKit. The resulting duplicates were removed. Data was split to test and training sets with a stratified split and  the compounds were represented with ECFP6 fingerprint (radius 3) hashed to 2048 bits. A Scikit-learn Random Forest Classifier (RF) model was trained to discriminate active from inactive compounds. Optuna was used for finding the optimal hyperparameters with a 5-fold cross validation. The performance of the resulting model in terms of area under the curve (AUC) was 0.945.*\n",
    "\n",
    "Optuna citation:\n",
    "Takuya Akiba, Shotaro Sano, Toshihiko Yanase, Takeru Ohta, and Masanori Koyama. 2019. Optuna: A Next-generation Hyperparameter Optimization Framework. https://arxiv.org/abs/1907.10902\n",
    "\n",
    "Once we have built our model, we can formulate a scoring function component. As we decide to put a lot of emphasis on this component (and built our model on a lot of data, which boosts our confidence in the predictions), we will use a high weight for this component. Also, as this is a classification model and the probablility output is used, we do not need to scale the model's output to values between `0` and `1`. For other components, we will need to specify a score transformation, though. You can use a given `component_type` more than once (with different names), for example if we had another model predicting the toxicity of compounds in humans, we could simply add it as a new component."
   ]
  },
  {
   "cell_type": "code",
   "execution_count": 2,
   "metadata": {},
   "outputs": [],
   "source": [
    "component_DRD2_prediction = {\n",
    "  \"component_type\": \"predictive_property\",\n",
    "  \"name\": \"DRD2_pred_activity\",\n",
    "  \"weight\": 7,\n",
    "  \"specific_parameters\": {\n",
    "    \"model_path\": os.path.join(ipynb_path, \"models/drd2.pkl\"),\n",
    "    \"scikit\": \"classification\",\n",
    "    \"descriptor_type\": \"ecfp_counts\",\n",
    "    \"size\": 2048,\n",
    "    \"radius\": 3,\n",
    "    \"use_counts\": True,\n",
    "    \"use_features\": True,\n",
    "    \"transformation\": {\n",
    "        \"transformation_type\": \"no_transformation\"\n",
    "    }\n",
    "  }\n",
    "}"
   ]
  },
  {
   "cell_type": "markdown",
   "metadata": {},
   "source": [
    "### Diversity\n",
    "As mentioned above, in this project we are interested in a diverse set of molecular ideas. In order to force the agent to explore different areas in the chemical space, we can define a `diversity filter`. In effect, we will penalize families of molecules after a while: If the agent keeps sampling compounds with the same scaffold, the \"scaffold bins\" will fill up and once full every molecule with this scaffold will receive a score of `0`, thus \"motivating\" the agent to move on. We will use the standard parameters below, but feel free to adapt them (a detailed description is available in the other notebooks and the publication)."
   ]
  },
  {
   "cell_type": "code",
   "execution_count": 3,
   "metadata": {},
   "outputs": [],
   "source": [
    "diversity_filter = {\n",
    "  \"name\": \"IdenticalMurckoScaffold\",\n",
    "  \"nbmax\": 25,\n",
    "  \"minscore\": 0.4,\n",
    "  \"minsimilarity\": 0.4\n",
    "}"
   ]
  },
  {
   "cell_type": "markdown",
   "metadata": {},
   "source": [
    "### Incept \"good\" ideas\n",
    "Sometimes we want to provide the agent with a couple of (hopefully) good ideas to consider. If these molecules score well, the agent might pick up the trail and generate molecules around those initial ideas scoring ever more highly. There are three parameters:\n",
    "1. `smiles`: A list of `SMILES` that will be subjected to the scoring function when the run starts.\n",
    "2. `memory_size`: The scores for the `SMILES` are ordered from high to low and the `memory_size` best will be retained.\n",
    "3. `sample_size`: At every epoch, a `sample_size` number of `SMILES` from the memory is randomly sampled and added to the batch of `SMILES` generated in that epoch.\n",
    "\n",
    "For example, below we add 38 `SMILES` to the inception and for each molecule the score is calculated. The \"Top-20\" are stored in the memory and 5 of them are added to the first four epochs, respectively (until the memory is exhausted). Note, that one can set the `memory_size` to be greater or equal to the number of `SMILES` to use all the `SMILES` provided."
   ]
  },
  {
   "cell_type": "code",
   "execution_count": 4,
   "metadata": {},
   "outputs": [],
   "source": [
    "inception = {\n",
    "  \"memory_size\": 20,\n",
    "  \"sample_size\": 5,\n",
    "  \"smiles\": [\n",
    "    \"OCCN1CCN(CCCN2c3ccccc3Sc3ccc(Cl)cc32)CC1\",\n",
    "    \"C=CCN1CCC2c3cccc(OC)c3CCC21\",\n",
    "    \"CCCN(Cc1ccc(OC)cc1)C1CCc2c(cccc2OC)C1\",\n",
    "    \"N#Cc1ccc2[nH]c(CN3CCN(c4ccc(Cl)c(Cl)c4)CC3)cc2c1\",\n",
    "    \"O=C(CCCN1CCN(c2ncccn2)CC1)c1ccc(F)cc1\",\n",
    "    \"Cc1ccc2c(c1)C(N1CCN(C)CC1)=Nc1cccnc1N2\",\n",
    "    \"COc1ccc(-c2cccc(CN3CCN(c4ncccn4)CC3)c2)cc1\",\n",
    "    \"Oc1[nH]cc2ccc(OCCCCN3CCN(c4cccc5cccc(F)c45)CC3)c(Cl)c12\",\n",
    "    \"CCCN1CCN(c2cccc(OC)c2)CC1\",\n",
    "    \"O=C(Nc1cccc(SC(F)(F)F)c1)N1CCC(N2CCC(n3c(O)nc4c(F)cccc43)CC2)CC1\",\n",
    "    \"CC1CCN(C2=Cc3cc(Cl)ccc3Cc3ccccc32)CC1\",\n",
    "    \"CCCN1CCOC2Cc3c(O)cccc3CC21\",\n",
    "    \"c1ccc(N2CCN(C3CCC(Nc4ncccn4)CC3)CC2)cc1\",\n",
    "    \"O=S(=O)(NC1CCC(N2CCC(c3ccccc3OCC(F)(F)F)CC2)CC1)c1ccc(OC(F)F)cc1\",\n",
    "    \"COc1ccccc1N1CCN(CCCCc2cc(-c3ccccc3)no2)CC1\",\n",
    "    \"c1ccc(CCC2CCN(Cc3c[nH]c4ncccc34)CC2)cc1\",\n",
    "    \"CC1CN(c2cccc3cc(F)ccc23)CCN1CCC1OCCc2c1sc(C(N)=O)c2Cl\",\n",
    "    \"COc1ccccc1N1CCCN(CCCCNC(=O)c2cc3ccccc3o2)CC1\",\n",
    "    \"O=C1CCc2ccc(OCCCCN3CCN(c4ccccc4C(F)(F)F)CC3)cc2N1\",\n",
    "    \"CCCCCCCCCC(=O)N1c2ccc(Cl)cc2N=C(N2CCN(C)CC2)c2ccccc21\",\n",
    "    \"O=C1N(CCN2CCC(C(F)(F)F)CC2)CCN1c1cccc(Cl)c1\",\n",
    "    \"CN1CCc2cccc3c2C1Cc1cccc(-c2c(OS(=O)(=O)C(F)(F)F)cccc2OS(=O)(=O)C(F)(F)F)c1-3\",\n",
    "    \"Cc1nn(C2CCN(Cc3cccc(C#N)c3)CC2)cc1-c1ccccc1\",\n",
    "    \"COc1ccc(-c2cc3c(O)n(CCN4CCN(c5ccccc5Cl)CC4)c(O)nc-3n2)cc1\",\n",
    "    \"OC1(c2cccc(Cl)c2Cl)CCN(Cc2c[nH]c3ccccc23)CC1\",\n",
    "    \"FC(F)(F)c1ccc2c(c1)N(Cc1ccc(CNc3cccc(Oc4ccccc4)c3)cc1)c1ccccc1S2\",\n",
    "    \"CCCSc1ccccc1N1CCN(CCCOc2ccc(-c3nc4ccccc4[nH]3)cc2)CC1\",\n",
    "    \"O=S(=O)(NCCCCN1CCN(c2cccc(Cl)c2Cl)CC1)c1cc2ccccc2cn1\",\n",
    "    \"COc1ccc(CN2CCN(CC(=O)N3c4ccccc4CC3C)CC2)cc1\",\n",
    "    \"CC1Cc2ccccc2N1C(=O)CC1CCN(Cc2ccc(Cl)cc2)CC1\",\n",
    "    \"CC(C)c1ccccc1N1CCN(CCCCCC(=O)NCc2ccccc2)CC1\",\n",
    "    \"Cc1ncoc1-c1nnc(SCCCN2CCc3cc4nc(C5CC5)oc4cc3CC2)n1C\",\n",
    "    \"O=C1CC(c2ccccc2)c2cccc(CCN3CCN(c4nsc5ccccc45)CC3)c2N1\",\n",
    "    \"O=C1NCN(c2ccccc2)C12CCN(CCCOc1ccc(F)cc1)CC2\",\n",
    "    \"CCON=C(CCN1CCN(c2nccs2)CC1)c1ccccc1\",\n",
    "    \"Cc1ccc2c(-c3nnc(SCCCN4CCc5cc6nc(-c7cc(C)nn7C)oc6cc5CC4)n3C)cccc2n1\",\n",
    "    \"CCCN(CCCCNC(=O)c1ccc(-c2ccccc2)cc1)C1Cc2cccn3ncc(c23)C1\",\n",
    "    \"Cc1ccc(OCCNCCCOc2ccccc2)cc1\"\n",
    "  ]\n",
    "}"
   ]
  },
  {
   "cell_type": "markdown",
   "metadata": {},
   "source": [
    "### Molecular properties\n",
    "There is a whole set of (physico-chemical) properties that can be set as scoring function components. Here, we will restrict ourselves to the numbers of hydrogen-bond donors and rotatable bonds. Note, that we need to define score transformations here to bring the resulting values into the 0-1 range explained above. Have a look at the `Score_Transformation` notebook for a detailed explanation. Normally, you will have to think about the range of values you would expect from a given component and then define the score transformation such, that values you consider \"good\" receive a transformed score close to `1` (and \"bad\" ones should be on the low side, closer to `0`). You are free to chose any (informative) name for your components, it is the `component_type` that specifies its nature. Typically, the `specific_parameters` block contains settings that only apply to this component (often a transformation, but also those that are required for this type only such as a descriptor definition for predictive models)."
   ]
  },
  {
   "cell_type": "code",
   "execution_count": 5,
   "metadata": {},
   "outputs": [],
   "source": [
    "component_rotatable_bonds = {\n",
    "  \"component_type\": \"num_rotatable_bonds\",\n",
    "  \"name\": \"Number of rotatable bonds\",\n",
    "  \"weight\": 1,\n",
    "  \"specific_parameters\": {\n",
    "    \"transformation\": {\n",
    "        \"transformation_type\": \"step\",\n",
    "        \"high\": 9,\n",
    "        \"low\": 0\n",
    "    }\n",
    "  }\n",
    "}\n",
    "\n",
    "component_num_hbd = {\n",
    "  \"component_type\": \"num_hbd_lipinski\",\n",
    "  \"name\": \"HB-donors (Lipinski)\",\n",
    "  \"weight\": 1,\n",
    "  \"specific_parameters\": {\n",
    "    \"transformation\": {\n",
    "        \"transformation_type\": \"step\",\n",
    "        \"high\": 6,\n",
    "        \"low\": 0\n",
    "    }\n",
    "  }\n",
    "}"
   ]
  },
  {
   "cell_type": "markdown",
   "metadata": {},
   "source": [
    "### Avoid certain chemical groups\n",
    "Usually, we want to avoid certain chemical moieties as they are associated with toxicity or unstable chemistry. Another reason could be that we already know that a certain chemical group will score very well and we want to explore new areas in the chemical space. We can achieve all this by specifying what we call `custom alerts`, i.e. a list of `SMARTS` which will drastically reduce the score of a compound exhibiting one or more matches. Note, that the impact of `custom alerts` is strong: Instead of simply adding a score component's contribution, a match with `custom alerts` will reduce a compound's total score by half (and will not affect it otherwise). For example, if a molecule receives a total score of 0.73, but happens to match a `custom alert` the score reported back to inform the agent will be 0.365 - this is necessary for the penalization to have enough impact."
   ]
  },
  {
   "cell_type": "code",
   "execution_count": 6,
   "metadata": {},
   "outputs": [],
   "source": [
    "component_custom_alerts = {\n",
    "  \"component_type\": \"custom_alerts\",\n",
    "  \"name\": \"Custom_alerts\",\n",
    "  \"weight\": 1,\n",
    "  \"specific_parameters\": {\n",
    "      \"smiles\": [\n",
    "        \"[*;r8]\",\n",
    "        \"[*;r9]\",\n",
    "        \"[*;r10]\",\n",
    "        \"[*;r11]\",\n",
    "        \"[*;r12]\",\n",
    "        \"[*;r13]\",\n",
    "        \"[*;r14]\",\n",
    "        \"[*;r15]\",\n",
    "        \"[*;r16]\",\n",
    "        \"[*;r17]\",\n",
    "        \"[#8][#8]\",\n",
    "        \"[#6;+]\",\n",
    "        \"[#16][#16]\",\n",
    "        \"[#7;!n][S;!$(S(=O)=O)]\",\n",
    "        \"[#7;!n][#7;!n]\",\n",
    "        \"C#C\",\n",
    "        \"C(=[O,S])[O,S]\",\n",
    "        \"[#7;!n][C;!$(C(=[O,N])[N,O])][#16;!s]\",\n",
    "        \"[#7;!n][C;!$(C(=[O,N])[N,O])][#7;!n]\",\n",
    "        \"[#7;!n][C;!$(C(=[O,N])[N,O])][#8;!o]\",\n",
    "        \"[#8;!o][C;!$(C(=[O,N])[N,O])][#16;!s]\",\n",
    "        \"[#8;!o][C;!$(C(=[O,N])[N,O])][#8;!o]\",\n",
    "        \"[#16;!s][C;!$(C(=[O,N])[N,O])][#16;!s]\"\n",
    "         ]\n",
    "      }\n",
    "}\n"
   ]
  },
  {
   "cell_type": "markdown",
   "metadata": {},
   "source": [
    "## Assembling the scoring function\n",
    "Now that we have defined the individual components, it is time to assemble the scoring function. We have two choices here, `custom_sum` and `custom_product`. For the difference in the mathematical definition, we refer to the publication, but from a practical point of view it appears the former is a bit more \"permissive\", i.e. if a molecule receives a high component score for all but one of the components, it will still have a reasonably high total score. But `custom_product` will penalize such a molecule more harshly, making learning a bit more difficult. This could be what you want if you already have a highly focused agent, but as a safe default choice we recommend to use `custom_sum`."
   ]
  },
  {
   "cell_type": "code",
   "execution_count": 7,
   "metadata": {},
   "outputs": [],
   "source": [
    "scoring_function = {\n",
    "  \"name\": \"custom_sum\",\n",
    "  \"parallel\": True,\n",
    "  \"parameters\": [\n",
    "    component_DRD2_prediction,\n",
    "    component_num_hbd,\n",
    "    component_rotatable_bonds,\n",
    "    component_custom_alerts\n",
    "  ]\n",
    "}"
   ]
  },
  {
   "cell_type": "markdown",
   "metadata": {},
   "source": [
    "Note, that we add the `diversity_filter` later (outside of the scoring function in a block called `parameters`), as it is not really a score component (even though it has an impact on scoring the compounds).\n",
    "\n",
    "## Complete the `JSON` configuration\n",
    "There are still a couple of parameters we need to set in order to specify the run. These are set outside of the scoring function, so below you see the torso structure of a `REINVENT` configuration (with only the version number, the `run_type` and the `scoring_function` which we generated above) which we will enrich step-by-step. Remember that we will write out the dictionary we construct here as a `JSON` file in the end, so you can have a look at it."
   ]
  },
  {
   "cell_type": "code",
   "execution_count": 8,
   "metadata": {},
   "outputs": [],
   "source": [
    "configuration = {\n",
    "  \"version\": 3,\n",
    "  \"run_type\": \"reinforcement_learning\",\n",
    "  \"model_type\": \"default\",\n",
    "  \"parameters\": {\n",
    "    \"scoring_function\": scoring_function\n",
    "  }\n",
    "}"
   ]
  },
  {
   "cell_type": "markdown",
   "metadata": {},
   "source": [
    "### Add the diversity filter and the inception blocks\n",
    "Here we add the diversity filter and inception blocks we specified above."
   ]
  },
  {
   "cell_type": "code",
   "execution_count": 9,
   "metadata": {},
   "outputs": [],
   "source": [
    "configuration[\"parameters\"][\"diversity_filter\"] = diversity_filter\n",
    "configuration[\"parameters\"][\"inception\"] = inception"
   ]
  },
  {
   "cell_type": "markdown",
   "metadata": {},
   "source": [
    "### Add run parameters\n",
    "In addition, we need to specify a couple of settings (such as which `Prior` to use). We refer to the respective notebooks for details. The most important setting is the number of epochs `n_steps`: For illustrative purposes, we will set it to a mere 300 but usually you would set it to a range of 500-1500."
   ]
  },
  {
   "cell_type": "code",
   "execution_count": 10,
   "metadata": {},
   "outputs": [],
   "source": [
    "configuration[\"parameters\"][\"reinforcement_learning\"] = {\n",
    "    \"prior\": os.path.join(ipynb_path, \"models/random.prior.new\"),\n",
    "    \"agent\": os.path.join(ipynb_path, \"models/random.prior.new\"),\n",
    "    \"n_steps\": 300,\n",
    "    \"sigma\": 128,\n",
    "    \"learning_rate\": 0.0001,\n",
    "    \"batch_size\": 128,\n",
    "    \"margin_threshold\": 50\n",
    "}"
   ]
  },
  {
   "cell_type": "markdown",
   "metadata": {},
   "source": [
    "### Add the `logging` block\n",
    "The final block we have to provide will specify where to store the output and so on. Usually, it will suffice to change `logging_path`, `result_folder` and `job_name`."
   ]
  },
  {
   "cell_type": "code",
   "execution_count": 11,
   "metadata": {},
   "outputs": [],
   "source": [
    "configuration[\"logging\"] = {\n",
    "    \"sender\": \"http://127.0.0.1\",\n",
    "    \"recipient\": \"local\",\n",
    "    \"logging_frequency\": 0,\n",
    "    \"logging_path\": os.path.join(output_dir, \"progress.log\"),\n",
    "    \"result_folder\": os.path.join(output_dir, \"results\"),\n",
    "    \"job_name\": \"Use-case DRD2 Demo\",\n",
    "    \"job_id\": \"demo\"\n",
    "}"
   ]
  },
  {
   "cell_type": "markdown",
   "metadata": {},
   "source": [
    "We now have successfully filled the dictionary and will write it out as a `JSON` file in the output directory. Please have a look at the file before proceeding in order to see how the paths have been inserted where required and the `dict` -> `JSON` translations (e.g. `True` to `true`) have taken place."
   ]
  },
  {
   "cell_type": "code",
   "execution_count": 12,
   "metadata": {},
   "outputs": [],
   "source": [
    "# write the configuration file to the disc\n",
    "configuration_JSON_path = os.path.join(output_dir, \"DRD2_config.json\")\n",
    "with open(configuration_JSON_path, 'w') as f:\n",
    "    json.dump(configuration, f, indent=4, sort_keys=True)"
   ]
  },
  {
   "cell_type": "markdown",
   "metadata": {},
   "source": [
    "## Run `REINVENT`\n",
    "Now it is time to execute `REINVENT` locally. Note, that depending on the number of epochs (steps) and the execution time of the scoring function components, this might take a while. As we have only specified a low number of epochs and all components should be fairly quick, this should not take too long in our case though.\n",
    "\n",
    "The command-line execution looks like this:\n",
    "```\n",
    "# activate envionment\n",
    "conda activate reinvent.v3.2\n",
    "\n",
    "# execute REINVENT\n",
    "python <your_path>/input.py <config>.json\n",
    "```"
   ]
  },
  {
   "cell_type": "code",
   "execution_count": 13,
   "metadata": {},
   "outputs": [],
   "source": [
    "%%capture captured_err_stream --no-stderr\n",
    "\n",
    "# execute REINVENT from the command-line\n",
    "!{reinvent_env}/bin/python {reinvent_dir}/input.py {configuration_JSON_path}"
   ]
  },
  {
   "cell_type": "code",
   "execution_count": 14,
   "metadata": {},
   "outputs": [],
   "source": [
    "# print the output to a file, just to have it for documentation\n",
    "with open(os.path.join(output_dir, \"run.err\"), 'w') as file:\n",
    "    file.write(captured_err_stream.stdout)\n",
    "\n",
    "# prepare the output to be parsed\n",
    "list_epochs = re.findall(r'INFO.*?local', captured_err_stream.stdout, re.DOTALL)\n",
    "data = [epoch for idx, epoch in enumerate(list_epochs) if idx in [1, 150, 299]]\n",
    "data = [\"\\n\".join(element.splitlines()[:-1]) for element in data]"
   ]
  },
  {
   "cell_type": "markdown",
   "metadata": {},
   "source": [
    "We have started with a *naive* prior as the initialization for the agent. Hopefully, we see that at the end of the reinforcement learning, the agent knows much better how to produce compounds that receive higher scores (based on our scoring function) than in the beginning. The following block will print the output for epochs 1, 150 and 299, respectively. We see that the \"Score\" (which is the average over all compounds) increases from 0.3156, over 0.4395, to 0.4628."
   ]
  },
  {
   "cell_type": "code",
   "execution_count": 15,
   "metadata": {},
   "outputs": [
    {
     "name": "stdout",
     "output_type": "stream",
     "text": [
      "INFO     \n",
      " Step 0   Fraction valid SMILES: 98.4   Score: 0.3156   Time elapsed: 0   Time left: 0.0\n",
      "  Agent     Prior     Target     Score     SMILES\n",
      "-29.35    -29.35    -29.35      0.00      c1(S(=O)(C)=O)ccc(-c2c3[nH]c(C)c(CC(C)C)nc3ccc2)cc1\n",
      "-29.12    -29.12    -29.12      0.00      C1Cc2cc(OC)c(O)cc2C1C(C(O)=O)C(C)C\n",
      "-32.69    -32.69     28.64      0.48      [O-][N+](c1cc2c(cc1[N+](=O)[O-])n(C1OC(CO)C(O)C(O)C1O)c1c2cc(F)cc1)=O\n",
      "-33.58    -33.58     29.48      0.49      CNCC(ON=C(c1ccc(Br)cc1)Cn1ncnc1)c1c(Cl)cccc1\n",
      "-22.54    -22.54     49.98      0.57      C1C(NC(c2oc([N+](=O)[O-])cc2)=O)CCS1(=O)=O\n",
      "-21.59    -21.59     47.42      0.54      c1c(C(Nc2c(C)nn(C)c2C)=O)ccc(Cl)c1\n",
      "-21.95    -21.95     43.31      0.51      c1(C(N2CCN(c3c(=NC4CC4)[nH]c4ccccc4n3)CC2)=O)ccc(C(F)(F)F)cc1\n",
      "-28.68    -28.68     34.63      0.49      C1(=O)c2ccccc2C(=O)C(C(=O)c2c(Cl)nc3ccc(Br)cc3c2)C1=O\n",
      "-42.41    -42.41    -42.41      0.00      C1(C#N)C(c2ccc(OC(=O)C)cc2)C(C(=O)OCC)=C(CN2CCN(c3ccccc3)CC2)Oc2cc(OC)ccc21\n",
      "-25.32    -25.32    -25.32      0.00      c1cc(C(NN=C(c2ccccc2)C)=O)c(Br)c(C)n1\n",
      "DRD2_pred_activity   HB-donors (Lipinski)   Number of rotatable bonds   Custom_alerts   raw_DRD2_pred_activity   raw_HB-donors (Lipinski)   raw_Number of rotatable bonds\n",
      "0.0   0.0   0.0   0.0   0.0   0.0   0.0   \n",
      "0.3822794556617737   1.0   1.0   0.0   0.3822794556617737   2.0   4.0   \n",
      "0.3303867280483246   1.0   1.0   1.0   0.3303867280483246   4.0   4.0   \n",
      "0.3476499617099762   1.0   1.0   1.0   0.3476499617099762   1.0   8.0   \n",
      "0.4428034722805023   1.0   1.0   1.0   0.4428034722805023   1.0   3.0   \n",
      "0.4075474441051483   1.0   1.0   1.0   0.4075474441051483   1.0   2.0   \n",
      "0.36974021792411804   1.0   1.0   1.0   0.36974021792411804   1.0   3.0   \n",
      "0.35023510456085205   1.0   1.0   1.0   0.35023510456085205   0.0   2.0   \n",
      "0.40618619322776794   1.0   1.0   0.0   0.40618619322776794   0.0   8.0   \n",
      "0.3984794318675995   1.0   1.0   0.0   0.3984794318675995   1.0   3.0   \n",
      "\n",
      "INFO     \n",
      " Step 147   Fraction valid SMILES: 96.9   Score: 0.4395   Time elapsed: 156   Time left: 161.3\n",
      "  Agent     Prior     Target     Score     SMILES\n",
      "-24.65    -24.61     62.40      0.49      c12ccc[n+](CC3CC3)c1ccc(C)c2\n",
      "-26.68    -30.24     56.75      0.49      c1c(OC)c(S(=O)(=O)N(c2ccc(OC)cc2)CC(Nc2ccc(F)c(Cl)c2)=O)cc(Br)c1\n",
      "-25.44    -26.64     65.52      0.52      N(c1c(C)cccc1C)C(CSc1nc(=O)c(Cc2ccc(F)cc2)c[nH]1)=O\n",
      "-41.32    -40.56     43.61      0.47      C1CC(C(N=c2cc(-c3ccnc4c3cc(-c3c(F)cccc3Cl)[nH]4)cc[nH]2)C)CCC1C(C)(C)C\n",
      "-28.00    -28.25     54.94      0.47      c1cc2c(Oc3c(C)cc(C#N)cc3C)nc(=NCc3ccccc3OC)[nH]c2[nH]1\n",
      "-31.39    -33.80     56.57      0.51      N(c1c(N)cccc1)C(c1ccc(N=c2c3ncn(C)c3cc(Cl)[nH]2)cc1)=O\n",
      "-21.00    -22.55     69.94      0.52      C1CN(S(=O)(=O)c2ccc(-c3oc(C4CC4)nc3)cc2)CCN1c1c(C)ccc(Cl)c1\n",
      "-32.71    -33.35     55.34      0.50      o1c(-c2c(Cl)cccc2)nnc1C1CCc2c(sc(=NC(c3c(Cl)ccc(Br)c3)=O)[nH]2)C1\n",
      "-34.71    -33.93     67.97      0.57      C(CCCCn1c(-c2c(C(F)(F)F)cccc2)cc(=O)c2ccccc21)Oc1ccccc1\n",
      "-28.49    -28.60     66.75      0.54      c1ccc2c(c1-c1occ(-c3ccc(OC)cc3)n1)C1CC2CC1\n",
      "DRD2_pred_activity   HB-donors (Lipinski)   Number of rotatable bonds   Custom_alerts   raw_DRD2_pred_activity   raw_HB-donors (Lipinski)   raw_Number of rotatable bonds\n",
      "0.3427787721157074   1.0   1.0   1.0   0.3427787721157074   0.0   2.0   \n",
      "0.3426370620727539   1.0   1.0   1.0   0.3426370620727539   1.0   8.0   \n",
      "0.3799459934234619   1.0   1.0   1.0   0.3799459934234619   2.0   6.0   \n",
      "0.32230037450790405   1.0   1.0   1.0   0.32230037450790405   2.0   4.0   \n",
      "0.315140038728714   1.0   1.0   1.0   0.315140038728714   2.0   5.0   \n",
      "0.367024689912796   1.0   1.0   1.0   0.367024689912796   3.0   3.0   \n",
      "0.38237643241882324   1.0   1.0   1.0   0.38237643241882324   0.0   5.0   \n",
      "0.354898601770401   1.0   1.0   1.0   0.354898601770401   1.0   3.0   \n",
      "0.4502682089805603   1.0   1.0   1.0   0.4502682089805603   0.0   8.0   \n",
      "0.4029889404773712   1.0   1.0   1.0   0.4029889404773712   0.0   3.0   \n",
      "\n",
      "INFO     \n",
      " Step 296   Fraction valid SMILES: 100.0   Score: 0.4628   Time elapsed: 384   Time left: 5.2\n",
      "  Agent     Prior     Target     Score     SMILES\n",
      "-36.48    -40.40     44.23      0.48      c12ncccc1cccc2-n1c(C(N=c2c(Cl)c(N)[nH]c(=N)[nH]2)c2ccc(Cl)cn2)ncc1\n",
      "-24.13    -32.51     56.88      0.50      c1cc(-c2c(-c3cc(Cl)cc(Cl)c3)nnn2-c2ncccc2)ccc1OCCN1CCOCC1\n",
      "-21.63    -26.26     72.13      0.55      C1(=O)C2(C)C(C)(C)C(C1)CC2N1CCCC1\n",
      "-22.62    -25.33     66.62      0.52      C1CCCC1C(c1ccccc1)CN1CCN(c2ccccn2)CC1\n",
      "-20.58    -20.32     70.80      0.51      n1(-c2ccc(C)cc2)nc(-c2ccc(C)cc2)c(C=O)c1\n",
      "-16.89    -20.63     71.30      0.52      c1(-c2cnc(C)nc2-c2c(Cl)cc(Cl)cc2)ccc(Cl)cc1\n",
      "-19.34    -20.98    -20.98      0.00      c1(NS(c2cc(C)ccc2OC)(=O)=O)ccc(Br)cc1\n",
      "-22.62    -25.27     66.07      0.51      C1C2CN(Cc3ccncc3)CC2(COc2cncnc2)CO1\n",
      "-23.40    -25.55     62.81      0.50      c1cc(S(Nc2ccc(S(Nc3ccc(C)cc3)(=O)=O)cc2)(=O)=O)cc(Br)c1\n",
      "-19.72    -21.79     64.70      0.49      c1(-n2c(=O)[nH]nc2)cc(OC)cc(OC)c1\n",
      "DRD2_pred_activity   HB-donors (Lipinski)   Number of rotatable bonds   Custom_alerts   raw_DRD2_pred_activity   raw_HB-donors (Lipinski)   raw_Number of rotatable bonds\n",
      "0.3256174325942993   1.0   1.0   1.0   0.3256174325942993   4.0   4.0   \n",
      "0.35997024178504944   1.0   1.0   1.0   0.35997024178504944   0.0   7.0   \n",
      "0.424967497587204   1.0   1.0   1.0   0.424967497587204   0.0   1.0   \n",
      "0.37844157218933105   1.0   1.0   1.0   0.37844157218933105   0.0   5.0   \n",
      "0.3724862337112427   1.0   1.0   1.0   0.3724862337112427   0.0   3.0   \n",
      "0.37835493683815   1.0   1.0   1.0   0.37835493683815   0.0   2.0   \n",
      "0.36220648884773254   1.0   1.0   1.0   0.36220648884773254   1.0   4.0   \n",
      "0.37406614422798157   1.0   1.0   1.0   0.37406614422798157   0.0   5.0   \n",
      "0.3525836765766144   1.0   1.0   1.0   0.3525836765766144   2.0   6.0   \n",
      "0.33899664878845215   1.0   1.0   1.0   0.33899664878845215   1.0   3.0   \n",
      "\n"
     ]
    }
   ],
   "source": [
    "for element in data:\n",
    "    print(element)"
   ]
  },
  {
   "cell_type": "markdown",
   "metadata": {},
   "source": [
    "## Analyse the results\n",
    "In order to analyze the run in a more intuitive way, we can use `tensorboard`:\n",
    "\n",
    "```\n",
    "# go to the root folder of the output\n",
    "cd <your_path>/REINVENT_RL_demo\n",
    "\n",
    "# make sure, you have activated the proper environment\n",
    "conda activate reinvent.v3.0\n",
    "\n",
    "# start tensorboard\n",
    "tensorboard --logdir progress.log\n",
    "```\n",
    "\n",
    "Then copy the link provided to a browser window, e.g. \"http://workstation.url.com:6006/\". The following figures are exmaple plots - remember, that there is always some randomness involved. In `tensorboard` you can monitor the individual scoring function components."
   ]
  },
  {
   "cell_type": "markdown",
   "metadata": {},
   "source": [
    "The results folder will hold four different files: the agent (pickled), the input JSON (just for reference purposes), the memory (highest scoring compounds in `CSV` format for the last epoch) and the scaffold memory (in `CSV` format, with the scaffolds and epoch numbers). "
   ]
  },
  {
   "cell_type": "code",
   "execution_count": 16,
   "metadata": {},
   "outputs": [
    {
     "name": "stdout",
     "output_type": "stream",
     "text": [
      "Step,Scaffold,SMILES,DRD2_pred_activity,HB-donors (Lipinski),Number of rotatable bonds,Custom_alerts,raw_DRD2_pred_activity,raw_HB-donors (Lipinski),raw_Number of rotatable bonds,total_score,ID\r\n",
      "58.0,N=c1n(Cc2ccccc2)c2ccccc2n1S(=O)(=O)c1ccccc1,N=c1n(Cc2ccccc2)c2c(Cl)cccc2n1S(=O)(=O)c1ccc(F)c(F)c1,0.5164815187454224,1.0,1.0,1.0,0.5164815187454224,1.0,4.0,0.6239300966262817,Use-case DRD2 Demo_0\r\n",
      "298.0,N=c1cc(-c2c[nH]nc2-c2ccccc2)cc[nH]1,CCn1cc(-c2cc(C)[nH]c(=NC(C)C)c2)c(-c2cc(Cl)cc(Cl)c2)n1,0.5127694010734558,1.0,1.0,1.0,0.5127694010734558,1.0,4.0,0.6210429072380066,Use-case DRD2 Demo_1\r\n"
     ]
    }
   ],
   "source": [
    "!head -n 3 {output_dir}/results/scaffold_memory.csv"
   ]
  },
  {
   "cell_type": "markdown",
   "metadata": {},
   "source": [
    "The next step is to gather all the ideas generated by `REINVENT` and decide which ones to move on with (post-processing). It could also be that another run has do be made with a different scoring function, but this is up to the user to decide. Ultimately, we have generated compounds that are predicted to have at least some potency for `DRD2`, which we can report back to our hypothetical chemist for further discussion."
   ]
  }
 ],
 "metadata": {
  "kernelspec": {
   "display_name": "Python 3",
   "language": "python",
   "name": "python3"
  },
  "language_info": {
   "codemirror_mode": {
    "name": "ipython",
    "version": 3
   },
   "file_extension": ".py",
   "mimetype": "text/x-python",
   "name": "python",
   "nbconvert_exporter": "python",
   "pygments_lexer": "ipython3",
   "version": "3.7.7"
  }
 },
 "nbformat": 4,
 "nbformat_minor": 2
}
