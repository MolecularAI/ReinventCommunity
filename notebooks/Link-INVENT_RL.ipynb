{
 "cells": [
  {
   "cell_type": "markdown",
   "metadata": {},
   "source": [
    "> **How to run this notebook (command-line)?**\n",
    "1. Install the `ReinventCommunity` environment:\n",
    "`conda env create -f environment.yml`\n",
    "2. Activate the environment:\n",
    "`conda activate ReinventCommunity`\n",
    "3. Execute `jupyter`:\n",
    "`jupyter notebook`\n",
    "4. Copy the link to a browser"
   ]
  },
  {
   "cell_type": "markdown",
   "metadata": {},
   "source": [
    "# `Link-INVENT`: Reinforcement Learning\n",
    "\n",
    "This tutorial notebook demonstrates how to run `Link-INVENT`, with emphasis on the parameters that are most relevant for practical applications. The example shown is based on the `Illustrative Example` presented in the `Link-INVENT` manuscript.\n",
    "\n",
    "Specifically, the objective is as follows:\n",
    "\n",
    "Link 2 benzene rings such that the:\n",
    "1. Linker contains as few hydrogen-bond donors as possible (give the linker maximum reward if there are 0 hydrogen-bond donors)\n",
    "2. Linker contains exactly 1 ring\n",
    "\n",
    "The training plot will look similar to below:\n",
    "\n",
    "![](img/LinkINVENT_Example.png)\n",
    "\n",
    "One can see that the `Link-INVENT` agent gradually learns to satisfy the desired objective. Example linked molecules are shown at different time-steps of the run to illustrate agent learning. At the end of the run, most of the generated molecules will satisfy the desired objective."
   ]
  },
  {
   "cell_type": "code",
   "execution_count": 1,
   "metadata": {},
   "outputs": [],
   "source": [
    "# load dependencies\n",
    "import os\n",
    "import re\n",
    "import json\n",
    "import tempfile\n",
    "\n",
    "# --------- change these path variables as required\n",
    "reinvent_dir = os.path.expanduser(\"~/Desktop/reinventcli\")\n",
    "reinvent_env = os.path.expanduser(\"~/miniconda3/envs/reinvent.v3.2\")\n",
    "output_dir = os.path.expanduser(\"~/Desktop/Link-INVENT_demo\")\n",
    "\n",
    "# --------- do not change\n",
    "# get the notebook's root path\n",
    "try: ipynb_path\n",
    "except NameError: ipynb_path = os.getcwd()\n",
    "\n",
    "# if required, generate a folder to store the results\n",
    "try:\n",
    "    os.mkdir(output_dir)\n",
    "except FileExistsError:\n",
    "    pass"
   ]
  },
  {
   "cell_type": "markdown",
   "metadata": {},
   "source": [
    "## Setting up the configuration\n",
    "The `REINVENT` platform (which provides access to `Link-INVENT`) has an entry point that loads a specified `JSON` file on startup. `JSON` is a low-level data format that allows to specify a fairly large number of parameters in a cascading fashion very quickly. The parameters are structured into *blocks* which can in turn contain blocks or simple values, such as *True* or *False*, strings and numbers. In this tutorial, we will go through the different blocks step-by-step, explaining their purpose and potential values for given parameters. Note, that while we will write out the configuration as a `JSON` file in the end, in Python we handle the same information as a simple `dict`."
   ]
  },
  {
   "cell_type": "markdown",
   "metadata": {},
   "source": [
    "### 1. Run Type Block"
   ]
  },
  {
   "cell_type": "code",
   "execution_count": 2,
   "metadata": {},
   "outputs": [],
   "source": [
    "# initialize the dictionary\n",
    "configuration = {\n",
    "    \"version\": 3,\n",
    "    \"model_type\": \"link_invent\",\n",
    "    \"run_type\": \"reinforcement_learning\"\n",
    "}"
   ]
  },
  {
   "cell_type": "markdown",
   "metadata": {},
   "source": [
    "### 2. Logging Block\n",
    "This block specifies output directories for **logging** and **results**, containing the following information:\n",
    "\n",
    "* **logging**: saves the training progress of the `Link-INVENT` experiment. Visualizing the training log via `tensorboard` which is installed in the provided environment will allow one to monitor the agent's learning progress and to what extent each desired objective is optimized. The training progress can also be monitored during the run to potentially spot early training plateau, in which case, it may be useful to start a new run with different hyperparameters.\n",
    "\n",
    "\n",
    "* **results**: saves the final results of the `Link-INVENT` experiment. This includes the `scaffold memory` (discussed further at the end of this notebook) which contains all the top scoring compounds generated throughout the run. This `CSV` file allows users to easily parse the top results for downstream processing."
   ]
  },
  {
   "cell_type": "code",
   "execution_count": 3,
   "metadata": {},
   "outputs": [],
   "source": [
    "# add block to specify whether to run locally or not and\n",
    "# where to store the results and logging\n",
    "configuration[\"logging\"] = {\n",
    "    \"sender\": \"\",                          # only relevant if \"recipient\" is set to \"remote\"\n",
    "    \"recipient\": \"local\",                  # either to local logging or use a remote REST-interface\n",
    "    \"logging_path\": os.path.join(output_dir, \"progress.log\"),  # load this folder in tensorboard to \n",
    "                                                               # visualize training progress\n",
    "    \"result_folder\": os.path.join(output_dir, \"results\"),      # output directory for results\n",
    "    \"job_name\": \"Link-INVENT RL Demo\",     # set an arbitrary job name for identification\n",
    "    \"job_id\": \"N/A\"                        # only relevant if \"recipient\" is set to \"remote\"\n",
    "}"
   ]
  },
  {
   "cell_type": "markdown",
   "metadata": {},
   "source": [
    "### 3. Parameters Block\n",
    "\n",
    "This block specifies all the experiment parameters. In the cell below, we first set the hyperparameters for `Reinforcement Learning (RL)`, including:\n",
    "\n",
    "1. `\"actor\" and \"critic\"`: These are the paths to a pre-trained `Link-INVENT` generative model. One such model is provided in the /models folder in this repository and named `linkinvent.prior`. This prior is the generative model featured in the `Link-INVENT` manuscript and all details related to its training can be found in the `Supporting Information`. Generally, the `\"actor\"` and `\"critic\"` are initialized as the same pre-trained model. \n",
    "\n",
    "\n",
    "2. `\"warheads\"`: This is a list specifiying the 2 molecular sub-units (as SMILES) to link. The `\"*\"` denotes the attachment point position of each warhead and the warheads are separated using the `\"|\"` delimiter.\n",
    "\n",
    "\n",
    "3. `\"n_steps\"`: This denotes how many epochs to run `Link-INVENT`. Typically this can be set to between 100-200. In the example below, 20 is used for the `Illustrative Example` as the objective is relatively simple and thus, the agent learns to generate linkers that satisfy the desired objective quickly.\n",
    "\n",
    "\n",
    "4. `\"learning_rate\"`: This denotes the learning rate. Generally, the default 0.0001 works well.\n",
    "\n",
    "\n",
    "5. `\"batch_size\"`: The number of linkers to generate per epoch. Generally, the default 128 works well.\n",
    "\n",
    "\n",
    "6. `\"randomize_warhead\"`: Denotes whether to obtain a randomized SMILES representation of the warheads at every epoch. Generally, the default \"true\" works well. Randomizing SMILES increases the generalizability (results may cover a larger `chemical space`).\n",
    "\n",
    "7. `\"learning_strategy\"`: This denotes how the `loss function` is constructed. The default `\"dap\"` strategy and `\"sigma\" = 120 ` works well. For more information, see the `Link-INVENT` and `Lib-INVENT` manuscripts."
   ]
  },
  {
   "cell_type": "code",
   "execution_count": 4,
   "metadata": {},
   "outputs": [],
   "source": [
    "# add the \"parameters\" block\n",
    "configuration[\"parameters\"] = {}\n",
    "\n",
    "configuration[\"parameters\"] = {\n",
    "    \"actor\": os.path.join(ipynb_path, \"models/linkinvent.prior\"),   # this pre-trained prior is provided in /models\n",
    "    \"critic\": os.path.join(ipynb_path, \"models/linkinvent.prior\"),\n",
    "    \"warheads\" : [\"*c1ccccc1|*c1ccccc1\"],\n",
    "    \"n_steps\": 20,   # number of epochs to run Link-INVENT\n",
    "    \"learning_rate\": 0.0001,   # the default value works well but can be increased depending on training progress\n",
    "    \"batch_size\": 128,   # the default value works well\n",
    "    \"randomize_warheads\": True,\n",
    "    \"learning_strategy\": {\n",
    "        \"name\": \"dap\", \n",
    "        \"parameters\": {\n",
    "        \"sigma\": 120\n",
    "        }\n",
    "    }\n",
    "}"
   ]
  },
  {
   "cell_type": "markdown",
   "metadata": {},
   "source": [
    "#### Configure the scoring strategy\n",
    "This includes setting up the `Diversity Filters` (discussed below) and the `Scoring Function` (discussed below)."
   ]
  },
  {
   "cell_type": "code",
   "execution_count": 5,
   "metadata": {},
   "outputs": [],
   "source": [
    "configuration[\"parameters\"][\"scoring_strategy\"] = {\n",
    "    \"name\": \"link_invent\" # do not change\n",
    "}"
   ]
  },
  {
   "cell_type": "markdown",
   "metadata": {},
   "source": [
    "##### Configure Diversity Filter\n",
    "\n",
    "The Diversity Filter (DF) offers users the control over agent `exploration` (generating molecules from different `chemical space`) and `exploitation` (generating favourable molecules from similar `chemical space`). There are 3 DFs available in `Link-INVENT`:\n",
    "\n",
    "\n",
    "1. `\"IdenticalMurckoScaffold\"`: Penalizes repeated sampling of the same Bemis-Murcko scaffold. An important point to note here is that this effectively operates at the linker level since the 2 warheads are held constant. Thus, this DF ensures diverse linkers are generated.\n",
    "\n",
    "\n",
    "2. `\"NoFilterWithPenalty\"`: Penalizes repeated sampling of the same linker. The corresponding linker receives a score scaled by 0.5 (halved).\n",
    "\n",
    "\n",
    "3. `\"NoFilter\"`: No penalization.\n",
    "\n",
    "The notion of \"repeated sampling\" is governed by the `\"bucket_size\"` parameter. This denotes the maximum number of permitted linkers corresponding to the choice of DF used. Further sampling of the linker will be penalized. For example, if a linker Bemis-Murcko scaffold (denote it scaffold A) has been sampled 25 times using a `\"bucket_size\"` of 25, the 26th time scaffold A is sampled, the linker receives a score of 0. This in turn encourages the agent to explore other `chemical space`.\n",
    "\n",
    "Additional parameters include:\n",
    "\n",
    "\n",
    "1. `\"minscore\"`: Denotes the mininum score a linker (and the corresponding linked molecules) must achieve to be saved in the final output (`scaffold memory`). In practice, this can be set to 0.4 so that only linkers that at least moderately satisfy the desired objective is saved. If set to 0, every single linker generated will be saved. This could be useful if one is interested in analyizing the overall sampling behaviour of the agent.\n",
    "\n",
    "\n",
    "2. `\"minsimilarity\"`: If using the `\"IdenticalMurckoScaffold\"`, repeated sampling of the same Bemis-Murcko scaffold is penalized (as explained above). When a new Bemis-Murcko scaffold is generated by the agent, its similarity is compared to all the Bemis-Murcko scaffolds generated thus far. If there has already been a Bemis-Murcko scaffold sampled that possesses a similarity >= `\"minsimilarity\"`, the new Bemis-Murcko scaffold will populate that `bucket`. For example, consider a Bemis-Murcko scaffold A is sampled 24 times with a `\"bucket_size\"` of 25. Now consider a new (never seen before) Bemis-Murcko scaffold B is sampled. If B >= `\"minsimilarity\"`, then B will be added to the `bucket` of A. Subsequently, the next A or B sampled will result in 26 items in the bucket and would thus receive a score of 0 (penalization). This parameter can encourage more `exploration`."
   ]
  },
  {
   "cell_type": "code",
   "execution_count": 6,
   "metadata": {},
   "outputs": [],
   "source": [
    "configuration[\"parameters\"][\"scoring_strategy\"][\"diversity_filter\"] =  {\n",
    "      \"bucket_size\": 25,\n",
    "      \"minscore\": 0,\n",
    "      \"minsimilarity\": 0,\n",
    "      \"name\": \"IdenticalMurckoScaffold\"   \n",
    "}"
   ]
  },
  {
   "cell_type": "markdown",
   "metadata": {},
   "source": [
    "##### Scoring Function Definition\n",
    "The Scoring Function is the reward function used to assess the *desirability* of molecules generated by `Link-INVENT` via `RL`. An arbitrary number of components (as long as it is supported in the codebase) can be specified in the Scoring Function. Subsequently, the agent gradually learns to generate molecules that satisfy all desired objectives. \n",
    "\n",
    "An important consideration is that different components can have different ranges of raw values. These values are normalized in the interval $[0,1]$ such that the `Link-INVENT` agent can properly learn. Scores achieved by each component is aggregated to a `total score` desiring the overall *desirability* of the generated molecules. This is done either by the weighted average sum (`custom_sum`) or by a weighted geometric mean (`custom_product`). It is this `total score` that is used for the agent's policy update in the `RL` loop. For more details on `custom_sum` and `custom_product`, see the notebook in this repository: `Score_Transformations`.\n",
    "\n",
    "We now discuss how raw component values are normalized in the interval $[0,1]$. A `score transformation` is applied that transforms the raw values based on the defined function. Tuning the parameters of the transformation function allows one to control the agent's learning, e.g., one may be interested in generating molecules with < 500 MW (arbitrary example). One could specify the transformation function to give maximum reward to molecules that are indeed < 500 MW and lower reward (or no reward) otherwise. See the notebook in this repository: `Score_Transformations` for more information. "
   ]
  },
  {
   "cell_type": "markdown",
   "metadata": {},
   "source": [
    "The Scoring Function components pertaining to the `Illustrative Example` presented in this notebook are specified in the below cell."
   ]
  },
  {
   "cell_type": "code",
   "execution_count": 7,
   "metadata": {},
   "outputs": [],
   "source": [
    "scoring_function = {\n",
    "    \"name\": \"custom_product\", \n",
    "    \"parallel\": False,  # do not change                   \n",
    "    \n",
    "    \"parameters\": [\n",
    "      {\n",
    "      \"weight\": 1,\n",
    "      \"component_type\": \"linker_num_hbd\",    # component name: this specific component pertains to controlling \n",
    "                                             # the number of hydrogen-bond donors in the linker\n",
    "      \"name\": \"Linker Num HBD\",              # this can be arbitrary and is used for user reference\n",
    "      \"specific_parameters\": {\n",
    "      \"transformation\": {\n",
    "              # the transformation here gives generated linked molecules \n",
    "              # maximum reward if there are 0 hydrogen-bond donors\n",
    "              # see the notebook: \"Score_Transformations\" for more details on the transformation function\n",
    "              \"high\": 6,\n",
    "              \"low\": 0,\n",
    "              \"transformation_type\": \"reverse_sigmoid\",\n",
    "              \"k\": 0.15\n",
    "              }\n",
    "           }\n",
    "      }, {\n",
    "      \"weight\": 1,\n",
    "      \"component_type\": \"linker_num_rings\",\n",
    "      \"name\": \"Linker Num Rings\",\n",
    "      \"specific_parameters\": {\n",
    "          \"transformation\": {\n",
    "              # the transformation here simply gives the generated linked molecules\n",
    "              # a perfect reward (1) if the linker contains exactly 1 ring, otherwise 0 reward\n",
    "              \"high\": 1,\n",
    "              \"low\": 1,\n",
    "              \"transformation_type\": \"step\"\n",
    "              }\n",
    "           }\n",
    "      } ]\n",
    "}\n",
    "\n",
    "configuration[\"parameters\"][\"scoring_strategy\"][\"scoring_function\"] = scoring_function"
   ]
  },
  {
   "cell_type": "markdown",
   "metadata": {},
   "source": [
    "The dictionary has now been initialized with all parameters necessary to run `Link-INVENT`. Next, we write it out as a `JSON` which will serve as the `Configuration JSON` to run `Link-INVENT`."
   ]
  },
  {
   "cell_type": "code",
   "execution_count": 8,
   "metadata": {},
   "outputs": [],
   "source": [
    "# write out the configuration to disc\n",
    "configuration_JSON_path = os.path.join(output_dir, \"Link-INVENT_Configuration.json\")\n",
    "with open(configuration_JSON_path, 'w') as f:\n",
    "    json.dump(configuration, f, indent=4, sort_keys=False)"
   ]
  },
  {
   "cell_type": "markdown",
   "metadata": {},
   "source": [
    "The `Configuration JSON` is saved to the `output_dir` specified in the beginning of this notebook."
   ]
  },
  {
   "cell_type": "markdown",
   "metadata": {},
   "source": [
    "# Run\n",
    "Execute `Link-INVENT` directly in this jupyter notebook"
   ]
  },
  {
   "cell_type": "code",
   "execution_count": 9,
   "metadata": {},
   "outputs": [],
   "source": [
    "%%capture captured_err_stream --no-stderr\n",
    "\n",
    "# execute REINVENT from the command-line\n",
    "!{reinvent_env}/bin/python {reinvent_dir}/input.py {configuration_JSON_path}"
   ]
  },
  {
   "cell_type": "code",
   "execution_count": 10,
   "metadata": {},
   "outputs": [],
   "source": [
    "# print the output to a file, just to have it for documentation\n",
    "with open(os.path.join(output_dir, \"run.err\"), 'w') as file:\n",
    "    file.write(captured_err_stream.stdout)"
   ]
  },
  {
   "cell_type": "markdown",
   "metadata": {},
   "source": [
    "Execute in command line\n",
    "```\n",
    "# activate environment\n",
    "$ conda activate reinvent.v3.2\n",
    "\n",
    "# execute in command line\n",
    "$ python <reinvent_dir>/input.py <configuration_JSON_path>\n",
    "```"
   ]
  },
  {
   "cell_type": "markdown",
   "metadata": {},
   "source": [
    "## Analyse the results\n",
    "\n",
    "In order to analyze the run in a more intuitive way, we can use `tensorboard`:\n",
    "\n",
    "```\n",
    "# go to the root folder of the output\n",
    "$ cd <output_dir>\n",
    "\n",
    "# activate the environment\n",
    "$ conda activate reinvent.v3.2\n",
    "\n",
    "# start tensorboard\n",
    "$ tensorboard --logdir \"progress.log\"\n",
    "```\n",
    "\n",
    "Then copy the link provided to a browser window. The following figures are example plots - there is always some randomness involved. The `tensorboard` plots display both the individual scoring function components and the average overall score."
   ]
  },
  {
   "cell_type": "markdown",
   "metadata": {},
   "source": [
    "![](img/Link-INVENT_Training_Plots.png)\n",
    "The 2 components in the scoring function, `linker number of hydrogen-bond donors` (which we want to limit in the `Illustrative Example`) and the `linker number of rings` (which we want to be exactly 1) are satisfied very quickly, as exemplified by the rapid score increase. The `Average score (total score)` plot is the aggregated score of the 2 components via the `custom product` (weighted geometric mean)\n",
    "![](img/Link-INVENT_Training_Plots_2.png)\n",
    "Valid SMILES are SMILES that follow correct chemical syntax (if it can be parsed by RDKit). Number of SMILES found shows SMILES with scores over 0.4 (or other `min_score` specified in the DF setup if required. **In this notebook, this was set to 0 so all SMILES generated were collected**).\n"
   ]
  },
  {
   "cell_type": "markdown",
   "metadata": {},
   "source": [
    "## Scaffold Memory: where the top compounds generated are saved\n",
    "All valid compounds with scores over 0.4 (**In this notebook, this was set to 0 so all SMILES generated were collected**) can be found in the `scaffold_memory.csv` file.The SMILES are ranked by their total scores from high to low. \n",
    "\n",
    "**note: scaffold_memory.csv contains SMILES, Scaffolds, Scores from different components and Total score.**"
   ]
  },
  {
   "cell_type": "markdown",
   "metadata": {},
   "source": [
    "First, we show a few lines of the `scaffold_memory.csv`."
   ]
  },
  {
   "cell_type": "code",
   "execution_count": 11,
   "metadata": {},
   "outputs": [
    {
     "data": {
      "text/html": [
       "<div>\n",
       "<style scoped>\n",
       "    .dataframe tbody tr th:only-of-type {\n",
       "        vertical-align: middle;\n",
       "    }\n",
       "\n",
       "    .dataframe tbody tr th {\n",
       "        vertical-align: top;\n",
       "    }\n",
       "\n",
       "    .dataframe thead th {\n",
       "        text-align: right;\n",
       "    }\n",
       "</style>\n",
       "<table border=\"1\" class=\"dataframe\">\n",
       "  <thead>\n",
       "    <tr style=\"text-align: right;\">\n",
       "      <th></th>\n",
       "      <th>Step</th>\n",
       "      <th>Scaffold</th>\n",
       "      <th>SMILES</th>\n",
       "      <th>Linker Num HBD</th>\n",
       "      <th>Linker Num Rings</th>\n",
       "      <th>raw_Linker Num HBD</th>\n",
       "      <th>raw_Linker Num Rings</th>\n",
       "      <th>total_score</th>\n",
       "      <th>ID</th>\n",
       "    </tr>\n",
       "  </thead>\n",
       "  <tbody>\n",
       "    <tr>\n",
       "      <th>0</th>\n",
       "      <td>0.0</td>\n",
       "      <td>c1ccc(-c2cnc(-c3ccccc3)o2)cc1</td>\n",
       "      <td>c1ccc(-c2cnc(-c3ccccc3)o2)cc1</td>\n",
       "      <td>0.84902</td>\n",
       "      <td>1.0</td>\n",
       "      <td>0.0</td>\n",
       "      <td>1.0</td>\n",
       "      <td>0.921423</td>\n",
       "      <td>default_job_0</td>\n",
       "    </tr>\n",
       "    <tr>\n",
       "      <th>1</th>\n",
       "      <td>10.0</td>\n",
       "      <td>O=C(OCCc1ccccc1)c1cn(CC#Cc2ccccc2)nn1</td>\n",
       "      <td>CC(Cc1ccccc1)OC(=O)c1cn(CC#Cc2ccccc2)nn1</td>\n",
       "      <td>0.84902</td>\n",
       "      <td>1.0</td>\n",
       "      <td>0.0</td>\n",
       "      <td>1.0</td>\n",
       "      <td>0.921423</td>\n",
       "      <td>default_job_1</td>\n",
       "    </tr>\n",
       "    <tr>\n",
       "      <th>2</th>\n",
       "      <td>10.0</td>\n",
       "      <td>C(=Cc1c[nH]c[n+]1Cc1ccccc1)c1ccccc1</td>\n",
       "      <td>Cn1cc(C=Cc2ccccc2)[n+](Cc2ccccc2)c1</td>\n",
       "      <td>0.84902</td>\n",
       "      <td>1.0</td>\n",
       "      <td>0.0</td>\n",
       "      <td>1.0</td>\n",
       "      <td>0.921423</td>\n",
       "      <td>default_job_2</td>\n",
       "    </tr>\n",
       "    <tr>\n",
       "      <th>3</th>\n",
       "      <td>10.0</td>\n",
       "      <td>c1ccc(CCc2nnnn2Cc2ccccc2)cc1</td>\n",
       "      <td>c1ccc(CCc2nnnn2Cc2ccccc2)cc1</td>\n",
       "      <td>0.84902</td>\n",
       "      <td>1.0</td>\n",
       "      <td>0.0</td>\n",
       "      <td>1.0</td>\n",
       "      <td>0.921423</td>\n",
       "      <td>default_job_3</td>\n",
       "    </tr>\n",
       "    <tr>\n",
       "      <th>4</th>\n",
       "      <td>10.0</td>\n",
       "      <td>O=c1c[n+](Cc2ccccc2)nnn1Cc1ccccc1</td>\n",
       "      <td>O=c1c[n+](Cc2ccccc2)nnn1Cc1ccccc1</td>\n",
       "      <td>0.84902</td>\n",
       "      <td>1.0</td>\n",
       "      <td>0.0</td>\n",
       "      <td>1.0</td>\n",
       "      <td>0.921423</td>\n",
       "      <td>default_job_4</td>\n",
       "    </tr>\n",
       "  </tbody>\n",
       "</table>\n",
       "</div>"
      ],
      "text/plain": [
       "   Step                               Scaffold  \\\n",
       "0   0.0          c1ccc(-c2cnc(-c3ccccc3)o2)cc1   \n",
       "1  10.0  O=C(OCCc1ccccc1)c1cn(CC#Cc2ccccc2)nn1   \n",
       "2  10.0    C(=Cc1c[nH]c[n+]1Cc1ccccc1)c1ccccc1   \n",
       "3  10.0           c1ccc(CCc2nnnn2Cc2ccccc2)cc1   \n",
       "4  10.0      O=c1c[n+](Cc2ccccc2)nnn1Cc1ccccc1   \n",
       "\n",
       "                                     SMILES  Linker Num HBD  Linker Num Rings  \\\n",
       "0             c1ccc(-c2cnc(-c3ccccc3)o2)cc1         0.84902               1.0   \n",
       "1  CC(Cc1ccccc1)OC(=O)c1cn(CC#Cc2ccccc2)nn1         0.84902               1.0   \n",
       "2       Cn1cc(C=Cc2ccccc2)[n+](Cc2ccccc2)c1         0.84902               1.0   \n",
       "3              c1ccc(CCc2nnnn2Cc2ccccc2)cc1         0.84902               1.0   \n",
       "4         O=c1c[n+](Cc2ccccc2)nnn1Cc1ccccc1         0.84902               1.0   \n",
       "\n",
       "   raw_Linker Num HBD  raw_Linker Num Rings  total_score             ID  \n",
       "0                 0.0                   1.0     0.921423  default_job_0  \n",
       "1                 0.0                   1.0     0.921423  default_job_1  \n",
       "2                 0.0                   1.0     0.921423  default_job_2  \n",
       "3                 0.0                   1.0     0.921423  default_job_3  \n",
       "4                 0.0                   1.0     0.921423  default_job_4  "
      ]
     },
     "execution_count": 11,
     "metadata": {},
     "output_type": "execute_result"
    }
   ],
   "source": [
    "# import needed packages\n",
    "import pandas as pd\n",
    "\n",
    "scaffold_memory_path = os.path.join(output_dir, 'results/scaffold_memory.csv')\n",
    "df = pd.read_csv(scaffold_memory_path)\n",
    "df.head()"
   ]
  },
  {
   "cell_type": "markdown",
   "metadata": {},
   "source": [
    "Next, we show a few example molecules."
   ]
  },
  {
   "cell_type": "code",
   "execution_count": 12,
   "metadata": {},
   "outputs": [
    {
     "name": "stderr",
     "output_type": "stream",
     "text": [
      "RDKit WARNING: [15:50:29] Enabling RDKit 2019.09.3 jupyter extensions\n"
     ]
    },
    {
     "data": {
      "image/png": "[encoded data removed]",
      "text/plain": [
       "<PIL.PngImagePlugin.PngImageFile image mode=RGB size=600x400 at 0x7FD85AD598D0>"
      ]
     },
     "execution_count": 12,
     "metadata": {},
     "output_type": "execute_result"
    }
   ],
   "source": [
    "# import needed packages\n",
    "from rdkit import Chem\n",
    "from rdkit.Chem import Draw\n",
    "\n",
    "smile_list = df['SMILES'][:6].to_list() # change the number here to show more/less top compounds\n",
    "mols = [Chem.MolFromSmiles(smiles) for smiles in smile_list]\n",
    "Draw.MolsToGridImage(mols)"
   ]
  }
 ],
 "metadata": {
  "kernelspec": {
   "display_name": "Python 3",
   "language": "python",
   "name": "python3"
  },
  "language_info": {
   "codemirror_mode": {
    "name": "ipython",
    "version": 3
   },
   "file_extension": ".py",
   "mimetype": "text/x-python",
   "name": "python",
   "nbconvert_exporter": "python",
   "pygments_lexer": "ipython3",
   "version": "3.7.7"
  }
 },
 "nbformat": 4,
 "nbformat_minor": 2
}
