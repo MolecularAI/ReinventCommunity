{
 "cells": [
  {
   "cell_type": "markdown",
   "metadata": {},
   "source": [
    "> **How to run this notebook (command-line)?**\n",
    "1. Install the `ReinventCommunity` environment:\n",
    "`conda env create -f environment.yml`\n",
    "2. Activate the environment:\n",
    "`conda activate ReinventCommunity`\n",
    "3. Execute `jupyter`:\n",
    "`jupyter notebook`\n",
    "4. Copy the link to a browser\n",
    "\n",
    "\n",
    "# `REINVENT 3.0`: reinforcement learning exploitation demo\n",
    "This demo illustrates how to set up a `REINVENT` run to optimize molecules that are active against _Aurora_ kinase. We use here predictive model as the main component to guide the generation of the molecules. we also include a `qed_score` component to stimulate the generation of more \"drug-like\" molecules.\n",
    "\n",
    "\n"
   ]
  },
  {
   "cell_type": "markdown",
   "metadata": {},
   "source": [
    "## 1. Set up the paths\n",
    "_Please update the following code block such that it reflects your system's installation and execute it._"
   ]
  },
  {
   "cell_type": "code",
   "execution_count": 1,
   "metadata": {},
   "outputs": [],
   "source": [
    "# load dependencies\n",
    "import os\n",
    "import re\n",
    "import json\n",
    "import tempfile\n",
    "\n",
    "# --------- change these path variables as required\n",
    "reinvent_dir = os.path.expanduser(\"~/Desktop/Reinvent\")\n",
    "reinvent_env = os.path.expanduser(\"~/miniconda3/envs/reinvent.v3.0\")\n",
    "output_dir = os.path.expanduser(\"~/Desktop/REINVENT_RL_Exploitation_demo\")\n",
    "\n",
    "# --------- do not change\n",
    "# get the notebook's root path\n",
    "try: ipynb_path\n",
    "except NameError: ipynb_path = os.getcwd()\n",
    "\n",
    "# if required, generate a folder to store the results\n",
    "try:\n",
    "    os.mkdir(output_dir)\n",
    "except FileExistsError:\n",
    "    pass"
   ]
  },
  {
   "cell_type": "markdown",
   "metadata": {},
   "source": [
    "## 2. Setting up the configuration \n",
    "In the cells below we will build a nested dictionary object that will be eventually converted to JSON file which in turn will be consumed by `REINVENT`. \n",
    "You can find this file in your `output_dir` location."
   ]
  },
  {
   "cell_type": "markdown",
   "metadata": {},
   "source": [
    "### A) Declare the run type"
   ]
  },
  {
   "cell_type": "code",
   "execution_count": 2,
   "metadata": {},
   "outputs": [],
   "source": [
    "# initialize the dictionary\n",
    "configuration = {\n",
    "    \"version\": 3,                          # we are going to use REINVENT's newest release\n",
    "    \"run_type\": \"reinforcement_learning\"   # other run types: \"sampling\", \"validation\",\n",
    "                                           #                  \"transfer_learning\",\n",
    "                                           #                  \"scoring\" and \"create_model\"\n",
    "}"
   ]
  },
  {
   "cell_type": "markdown",
   "metadata": {},
   "source": [
    "### B) Sort out the logging details\n",
    "This includes `result_folder` path where the results will be produced.\n",
    "\n",
    "Also: `REINVENT` can send custom log messages to a remote location. We have retained this capability in the code. if the `recipient` value differs from `\"local\"` `REINVENT` will attempt to POST the data to the specified `recipient`. "
   ]
  },
  {
   "cell_type": "code",
   "execution_count": 3,
   "metadata": {},
   "outputs": [],
   "source": [
    "# add block to specify whether to run locally or not and\n",
    "# where to store the results and logging\n",
    "configuration[\"logging\"] = {\n",
    "    \"sender\": \"http://0.0.0.1\",          # only relevant if \"recipient\" is set to \"remote\"\n",
    "    \"recipient\": \"local\",                  # either to local logging or use a remote REST-interface\n",
    "    \"logging_frequency\": 10,               # log every x-th steps\n",
    "    \"logging_path\": os.path.join(output_dir, \"progress.log\"), # load this folder in tensorboard\n",
    "    \"result_folder\": os.path.join(output_dir, \"results\"),         # will hold the compounds (SMILES) and summaries\n",
    "    \"job_name\": \"Reinforcement learning demo\",                # set an arbitrary job name for identification\n",
    "    \"job_id\": \"demo\"                       # only relevant if \"recipient\" is set to a specific REST endpoint\n",
    "}"
   ]
  },
  {
   "cell_type": "markdown",
   "metadata": {},
   "source": [
    "Create `\"parameters\"` field"
   ]
  },
  {
   "cell_type": "code",
   "execution_count": 4,
   "metadata": {},
   "outputs": [],
   "source": [
    "# add the \"parameters\" block\n",
    "configuration[\"parameters\"] = {}"
   ]
  },
  {
   "cell_type": "markdown",
   "metadata": {},
   "source": [
    "### C) Set Diversity Filter\n",
    "During each step of Reinforcement Learning the compounds scored above `minscore` threshold are kept in memory. The scored smiles are written out to a file in the results folder `scaffold_memory.csv`. In the example here we are not using any filter by setting it to `\"NoFilter\"`. This will lead to exploitation of the chemical space in vicinity to the local optimum for the defined scoring function. The scoring function will likely reach a higher overall score sooner than the exploration scenario.\n",
    "\n",
    "For exploratory behavior the diversity filters below should be set to any of the listed alternatives `\"IdenticalTopologicalScaffold\"`, `\"IdenticalMurckoScaffold\"` or `\"ScaffoldSimilarity\"`. This will boost the diversity of generated solutions. The maximum value of the scoring fuinction will be lower in exploration mode because the Agent is encouraged to search for diverse solutions rather than to only optimize the best that are being found so far. The number of generated compounds should be higher in comparison to the exploitation scenario."
   ]
  },
  {
   "cell_type": "code",
   "execution_count": 5,
   "metadata": {},
   "outputs": [],
   "source": [
    "# add a \"diversity_filter\"\n",
    "configuration[\"parameters\"][\"diversity_filter\"] =  {\n",
    "    \"name\": \"NoFilter\",                    # other options are: \"IdenticalTopologicalScaffold\", \n",
    "                                           # \"IdenticalMurckoScaffold\" and \"ScaffoldSimilarity\"\n",
    "                                           # -> use \"NoFilter\" to disable this feature\n",
    "    \"nbmax\": 25,                           # the bin size; penalization will start once this is exceeded\n",
    "    \"minscore\": 0.4,                       # the minimum total score to be considered for binning\n",
    "    \"minsimilarity\": 0.4                   # the minimum similarity to be placed into the same bin\n",
    "}"
   ]
  },
  {
   "cell_type": "markdown",
   "metadata": {},
   "source": [
    "### D) Set Inception\n",
    "* `smiles` provide here a list of smiles to be incepted \n",
    "* `memory_size` the number of smiles allowed in the inception memory\n",
    "* `sample_size` the number of smiles that can be sampled at each reinforcement learning step from inception memory"
   ]
  },
  {
   "cell_type": "code",
   "execution_count": 6,
   "metadata": {},
   "outputs": [],
   "source": [
    "# prepare the inception (we do not use it in this example, so \"smiles\" is an empty list)\n",
    "configuration[\"parameters\"][\"inception\"] = {\n",
    "    \"smiles\": [],                          # fill in a list of SMILES here that can be used (or leave empty)\n",
    "    \"memory_size\": 100,                    # sets how many molecules are to be remembered\n",
    "    \"sample_size\": 10                      # how many are to be sampled each epoch from the memory\n",
    "}"
   ]
  },
  {
   "cell_type": "markdown",
   "metadata": {},
   "source": [
    "### E) Set the general Reinforcement Learning parameters\n",
    "* `n_steps` is the amount of Reinforcement Learning steps to perform. Best start with 1000 steps and see if thats enough.\n",
    "* `agent` is the generative model that undergoes transformation during the Reinforcement Learning run.\n",
    "\n",
    "We reccomend keeping the other parameters to their default values."
   ]
  },
  {
   "cell_type": "code",
   "execution_count": 7,
   "metadata": {},
   "outputs": [],
   "source": [
    "# set all \"reinforcement learning\"-specific run parameters\n",
    "configuration[\"parameters\"][\"reinforcement_learning\"] = {\n",
    "    \"prior\": os.path.join(ipynb_path, \"models/random.prior.new\"), # path to the pre-trained model\n",
    "    \"agent\": os.path.join(ipynb_path, \"models/random.prior.new\"), # path to the pre-trained model\n",
    "    \"n_steps\": 1000,                       # the number of epochs (steps) to be performed; often 1000\n",
    "    \"sigma\": 128,                          # used to calculate the \"augmented likelihood\", see publication\n",
    "    \"learning_rate\": 0.0001,               # sets how strongly the agent is influenced by each epoch\n",
    "    \"batch_size\": 128,                     # specifies how many molecules are generated per epoch\n",
    "    \"reset\": 0,                            # if not '0', the reset the agent if threshold reached to get\n",
    "                                           # more diverse solutions\n",
    "    \"reset_score_cutoff\": 0.5,             # if resetting is enabled, this is the threshold\n",
    "    \"margin_threshold\": 50                 # specify the (positive) margin between agent and prior\n",
    "}"
   ]
  },
  {
   "cell_type": "markdown",
   "metadata": {},
   "source": [
    "### F) Define the scoring function\n",
    "We will use a `custom_product` type. The component types included are:\n",
    "* `predictive_property` which is the target activity to _Aurora_ kinase represented by the predictive `regression` model. Note that we set the weight of this component to be the highest.\n",
    "* `qed_score` is the implementation of QED in RDKit. It biases the egenration of  molecules towars more \"drug-like\" space. Depending on the study case can have beneficial or detrimental effect.\n",
    "* `custom_alerts` the `\"smiles\"` field  also can work with SMILES or SMARTS\n",
    "\n",
    "Note: The model used in this example is a regression model\n"
   ]
  },
  {
   "cell_type": "code",
   "execution_count": 8,
   "metadata": {},
   "outputs": [],
   "source": [
    "# prepare the scoring function definition and add at the end\n",
    "scoring_function = {\n",
    "    \"name\": \"custom_product\",              # this is our default one (alternative: \"custom_sum\")\n",
    "    \"parallel\": False,                     # sets whether components are to be executed\n",
    "                                           # in parallel; note, that python uses \"False\" / \"True\"\n",
    "                                           # but the JSON \"false\" / \"true\"\n",
    "\n",
    "    # the \"parameters\" list holds the individual components\n",
    "    \"parameters\": [\n",
    "\n",
    "    # add component: an activity model\n",
    "    {\n",
    "        \"component_type\": \"predictive_property\", # this is a scikit-learn model, returning\n",
    "                                                 # activity values\n",
    "        \"name\": \"Aurora kinase\",        # arbitrary name for the component\n",
    "        \"weight\": 6,                       # the weight (\"importance\") of the component (default: 1)\n",
    "        \"specific_parameters\": {\n",
    "            \"model_path\": os.path.join(ipynb_path, \"models/Aurora_model.pkl\"),   # absolute model path\n",
    "            \"transformation\": {\n",
    "                \"transformation_type\": \"sigmoid\",  # see description above\n",
    "                \"high\": 9,                         # parameter for sigmoid transformation\n",
    "                \"low\": 4,                          # parameter for sigmoid transformation\n",
    "                \"k\": 0.25                          # parameter for sigmoid transformation\n",
    "            },\n",
    "            \"scikit\": \"regression\",            # model can be \"regression\" or \"classification\"\n",
    "            \"descriptor_type\": \"ecfp_counts\",  # sets the input descriptor for this model\n",
    "            \"size\": 2048,                      # parameter of descriptor type\n",
    "            \"radius\": 3,                       # parameter of descriptor type\n",
    "            \"use_counts\": True,                # parameter of descriptor type\n",
    "            \"use_features\": True               # parameter of descriptor type\n",
    "        }\n",
    "    },\n",
    "\n",
    "    # add component: QED\n",
    "    {\n",
    "        \"component_type\": \"qed_score\", # this is the QED score as implemented in RDKit\n",
    "        \"name\": \"QED\",        # arbitrary name for the component\n",
    "        \"weight\": 2           # the weight (\"importance\") of the component (default: 1)                     \n",
    "    },\n",
    "\n",
    "    # add component: enforce to NOT match a given substructure\n",
    "    {\n",
    "        \"component_type\": \"custom_alerts\",\n",
    "        \"name\": \"Custom alerts\",               # arbitrary name for the component\n",
    "        \"weight\": 1,                           # the weight of the component (default: 1)\n",
    "        \"specific_parameters\": {\n",
    "            \"smiles\": [                        # specify the substructures (as list) to penalize\n",
    "                \"[*;r8]\",\n",
    "                \"[*;r9]\",\n",
    "                \"[*;r10]\",\n",
    "                \"[*;r11]\",\n",
    "                \"[*;r12]\",\n",
    "                \"[*;r13]\",\n",
    "                \"[*;r14]\",\n",
    "                \"[*;r15]\",\n",
    "                \"[*;r16]\",\n",
    "                \"[*;r17]\",\n",
    "                \"[#8][#8]\",\n",
    "                \"[#6;+]\",\n",
    "                \"[#16][#16]\",\n",
    "                \"[#7;!n][S;!$(S(=O)=O)]\",\n",
    "                \"[#7;!n][#7;!n]\",\n",
    "                \"C#C\",\n",
    "                \"C(=[O,S])[O,S]\",\n",
    "                \"[#7;!n][C;!$(C(=[O,N])[N,O])][#16;!s]\",\n",
    "                \"[#7;!n][C;!$(C(=[O,N])[N,O])][#7;!n]\",\n",
    "                \"[#7;!n][C;!$(C(=[O,N])[N,O])][#8;!o]\",\n",
    "                \"[#8;!o][C;!$(C(=[O,N])[N,O])][#16;!s]\",\n",
    "                \"[#8;!o][C;!$(C(=[O,N])[N,O])][#8;!o]\",\n",
    "                \"[#16;!s][C;!$(C(=[O,N])[N,O])][#16;!s]\"\n",
    "            ]\n",
    "        }\n",
    "    }]\n",
    "}\n",
    "configuration[\"parameters\"][\"scoring_function\"] = scoring_function"
   ]
  },
  {
   "cell_type": "markdown",
   "metadata": {},
   "source": [
    "#### NOTE:  Getting the selectivity score component to reach satisfactory levels is non-trivial and might take considerably higher number of steps"
   ]
  },
  {
   "cell_type": "markdown",
   "metadata": {},
   "source": [
    "## 3. Write out the configuration"
   ]
  },
  {
   "cell_type": "markdown",
   "metadata": {},
   "source": [
    "We now have successfully filled the dictionary and will write it out as a `JSON` file in the output directory. Please have a look at the file before proceeding in order to see how the paths have been inserted where required and the `dict` -> `JSON` translations (e.g. `True` to `true`) have taken place."
   ]
  },
  {
   "cell_type": "code",
   "execution_count": 9,
   "metadata": {},
   "outputs": [],
   "source": [
    "# write the configuration file to the disc\n",
    "configuration_JSON_path = os.path.join(output_dir, \"RL_config.json\")\n",
    "with open(configuration_JSON_path, 'w') as f:\n",
    "    json.dump(configuration, f, indent=4, sort_keys=True)"
   ]
  },
  {
   "cell_type": "markdown",
   "metadata": {},
   "source": [
    "## 4. Run `REINVENT`\n",
    "Now it is time to execute `REINVENT` locally. Note, that depending on the number of epochs (steps) and the execution time of the scoring function components, this might take a while. \n",
    "\n",
    "The command-line execution looks like this:\n",
    "```\n",
    "# activate envionment\n",
    "conda activate reinvent.v3.0\n",
    "\n",
    "# execute REINVENT\n",
    "python <your_path>/input.py <config>.json\n",
    "```"
   ]
  },
  {
   "cell_type": "code",
   "execution_count": 10,
   "metadata": {},
   "outputs": [],
   "source": [
    "%%capture captured_err_stream --no-stderr\n",
    "\n",
    "# execute REINVENT from the command-line\n",
    "!{reinvent_env}/bin/python {reinvent_dir}/input.py {configuration_JSON_path}"
   ]
  },
  {
   "cell_type": "code",
   "execution_count": 11,
   "metadata": {},
   "outputs": [],
   "source": [
    "# print the output to a file, just to have it for documentation\n",
    "with open(os.path.join(output_dir, \"run.err\"), 'w') as file:\n",
    "    file.write(captured_err_stream.stdout)\n",
    "\n",
    "# prepare the output to be parsed\n",
    "list_epochs = re.findall(r'INFO.*?local', captured_err_stream.stdout, re.DOTALL)\n",
    "data = [epoch for idx, epoch in enumerate(list_epochs) if idx in [1, 75, 124]]\n",
    "data = [\"\\n\".join(element.splitlines()[:-1]) for element in data]"
   ]
  },
  {
   "cell_type": "markdown",
   "metadata": {},
   "source": [
    "Below you see the print-out of the first, one from the middle and the last epoch, respectively. Note, that the fraction of valid `SMILES` is high right from the start (because we use a pre-trained prior). You can see the partial scores for each component for the first couple of compounds, but the most important information is the average score. You can clearly see how it increases over time."
   ]
  },
  {
   "cell_type": "code",
   "execution_count": 12,
   "metadata": {},
   "outputs": [
    {
     "name": "stdout",
     "output_type": "stream",
     "text": [
      "INFO     \n",
      " Step 0   Fraction valid SMILES: 96.1   Score: 0.2655   Time elapsed: 0   Time left: 0.0\n",
      "  Agent     Prior     Target     Score     SMILES\n",
      "-51.31    -51.31    -51.31      0.00      C(C(CC=C(CCC=C(CCC(=O)O)C=C(CC=CCCC=C(C)C)C)=O)C)=C\n",
      "-35.59    -35.59     21.37      0.44      c1cc(C(=O)NC(C)c2ccc(OC3CCN(c4ccc(OCC5C(F)(F)C5)cn4)CC3O)cc2)c(OC)nc1\n",
      "-27.17    -27.17    -27.17      0.00      c1c(Cl)ccc2c(=Nc3c(Cl)cc(OC)cc3)c(C(OCC)=O)c[nH]c12\n",
      "-32.39    -32.39    -32.39      0.00      C(=O)(OCC)C1(C(C)=NN)CC2c3c(cccc3)C1c1ccccc12\n",
      "-26.54    -26.54     19.96      0.36      C1(=O)C(Oc2ccc(C(N)=N)cc2)(CC)CCC1O\n",
      "-22.56    -22.56     30.60      0.42      C(NS(c1ccc(NC(=O)C)cc1)(=O)=O)Cc1cc(C)ccc1\n",
      "-32.63    -32.63     18.67      0.40      c1(CNC(=O)CN2C(=O)C3N(CCOC)CCC3O2)c2c(ccc1)cccc2\n",
      "-28.76    -28.76     23.42      0.41      O=C(N(C)CC(Nc1c(C)cc(Br)cc1)=O)C1(CC)C(Cl)(Cl)C1C\n",
      "-32.71    -32.71     24.86      0.45      O=S(c1ccc(C(=O)N)cc1)(=O)Oc1c(NC(c2ccco2)=O)cc(Cl)cc1\n",
      "-32.85    -32.85    -32.85      0.00      N=c1[nH]c2nc(-c3ccc(CCNC(CCC(=O)O)=O)cc3)cnc2c(=N)[nH]1\n",
      "Aurora kinase   QED   Custom alerts   raw_Aurora kinase\n",
      "0.0   0.0   0.0   0.0   \n",
      "0.46610119938850403   0.38718461990356445   1.0   6.382042407989502   \n",
      "0.37139689922332764   0.644282877445221   0.0   6.042923450469971   \n",
      "0.3336728513240814   0.40394356846809387   0.0   5.899266719818115   \n",
      "0.31423062086105347   0.5612077116966248   1.0   5.822140693664551   \n",
      "0.3267623484134674   0.8531444668769836   1.0   5.872127056121826   \n",
      "0.3209114670753479   0.7809154391288757   1.0   5.848917484283447   \n",
      "0.3407776951789856   0.6974791288375854   1.0   5.926878452301025   \n",
      "0.4110566973686218   0.5894344449043274   1.0   6.187656402587891   \n",
      "0.3114776313304901   0.34777504205703735   0.0   5.8110175132751465   \n",
      "\n",
      "INFO     \n",
      " Step 72   Fraction valid SMILES: 99.2   Score: 0.3254   Time elapsed: 44   Time left: 559.3\n",
      "  Agent     Prior     Target     Score     SMILES\n",
      "-21.50    -21.70     52.27      0.42      c1(C(Nc2ccccc2OC)=O)ccc(NC(=O)C2CC2)cc1\n",
      "-29.32    -30.07    -30.07      0.00      c1c(S(=O)(N)=O)ccc(Cl)c1C(NNC(c1oc2c(cccc2)c1)=O)=O\n",
      "-19.69    -20.35     54.20      0.42      Cc1sc2n(n1)cc(-c1cc3c(cc1)OCCO3)n2\n",
      "-30.97    -30.64     44.41      0.42      O=S(=O)(CC)N1c2c(cc(OC)c(OC)c2)CC1(C)C\n",
      "-25.06    -25.66     42.32      0.38      Clc1ccc(-c2cccc(-c3c(N)c(O)oc3)c2)cc1\n",
      "-32.35    -33.76     56.65      0.51      C(c1cc(F)c(F)cc1F)C(NC(C)C)C(N=c1[nH]cc(Cl)s1)=O\n",
      "-22.32    -23.29     47.97      0.40      Fc1ccc(Oc2ccc(COc3nc(=O)n(C)c(N4CCOCC4)c3)cc2F)cc1\n",
      "-35.10    -35.53     36.74      0.41      c1c2c(cc(F)c1)-c1c(c3cc([N+](=O)[O-])ccc3n1C)C(CCC)(C)NC2=O\n",
      "-23.14    -23.47     40.64      0.36      N(C(=O)CCN1CCOCC1)c1ccc2c(c1)c(C)cc(N1CCN(C)CC1)n2\n",
      "-29.77    -29.73     35.43      0.37      c1(-c2sc(C(=O)CC(C)C)cc2)cn(Cc2ccccc2)nn1\n",
      "Aurora kinase   QED   Custom alerts   raw_Aurora kinase\n",
      "0.322376549243927   0.890160858631134   1.0   5.854750156402588   \n",
      "0.3206542730331421   0.5836869478225708   0.0   5.8478922843933105   \n",
      "0.35576075315475464   0.683357834815979   1.0   5.984221458435059   \n",
      "0.33314836025238037   0.8549820780754089   1.0   5.897216796875   \n",
      "0.30833700299263   0.7257052063941956   1.0   5.798262119293213   \n",
      "0.43912962079048157   0.7861695885658264   1.0   6.2874603271484375   \n",
      "0.34998154640197754   0.5994198322296143   1.0   5.962238788604736   \n",
      "0.37158986926078796   0.5297967791557312   1.0   6.043641567230225   \n",
      "0.2724348306655884   0.8323323130607605   1.0   5.6467814445495605   \n",
      "0.3045485317707062   0.6354219317436218   1.0   5.782779216766357   \n",
      "\n",
      "INFO     \n",
      " Step 121   Fraction valid SMILES: 99.2   Score: 0.3721   Time elapsed: 74   Time left: 533.2\n",
      "  Agent     Prior     Target     Score     SMILES\n",
      "-31.75    -30.82     38.81      0.39      Cc1c(C(NCC2(N)CCS(=O)(=O)CC2)=O)cc(Cl)cc1\n",
      "-18.79    -20.73     37.41      0.33      c12c([n+]([O-])c(-c3cccs3)c(C)[n+]1[O-])cccc2\n",
      "-17.08    -18.10     61.54      0.45      FC(c1cc(N2C(=O)N(C)C(c3ccc(C#N)cc3)C3=C2CCC3=O)ccc1)(F)F\n",
      "-20.02    -21.80     53.73      0.42      C1N(C(C)C)CCC(Oc2c(OC)ccc(C(NC3CCCC3)=O)c2)C1\n",
      "-25.74    -27.65     45.30      0.41      c1n[nH]c(=NS(=O)(=O)c2ccc(Oc3c(-c4ccn[nH]4)cc(F)cc3)c(C#N)c2)s1\n",
      "-21.43    -23.16    -23.16      0.00      N1N=C(c2ccc(C)cc2)CC1c1c(C)nn(-c2ccccc2)c1Cl\n",
      "-33.71    -33.20    -33.20      0.00      n1(CC)c2ccccc2c2c3c(c4c5c(cccc5)[nH]c41)cccc3C(=O)C2=O\n",
      "-19.83    -21.49     49.54      0.40      C1N(C=C2C(=O)c3ccccc3C2=O)CCN(Cc2ccccc2)C1\n",
      "-28.13    -28.89     43.99      0.41      c1nc2[nH]c(SC)nc(=Nc3ccc(CC)cc3)c2cc1C#N\n",
      "-22.24    -22.75     51.72      0.42      c1(O)c(C(NC(C)C2CCCCC2)=O)cc(Cl)cc1\n",
      "Aurora kinase   QED   Custom alerts   raw_Aurora kinase\n",
      "0.2992677688598633   0.8734317421913147   1.0   5.761015892028809   \n",
      "0.28419438004493713   0.4957776963710785   1.0   5.697640895843506   \n",
      "0.3830990195274353   0.7126726508140564   1.0   6.086191177368164   \n",
      "0.33775582909584045   0.8417723178863525   1.0   5.9151692390441895   \n",
      "0.38679444789886475   0.48748698830604553   1.0   6.099748134613037   \n",
      "0.39176592230796814   0.7507633566856384   0.0   6.1179118156433105   \n",
      "0.0   0.0   0.0   0.0   \n",
      "0.34084388613700867   0.6400846242904663   1.0   5.9271345138549805   \n",
      "0.3619540333747864   0.5925776362419128   1.0   6.007602691650391   \n",
      "0.32573503255844116   0.8865053057670593   1.0   5.868067741394043   \n",
      "\n"
     ]
    }
   ],
   "source": [
    "for element in data:\n",
    "    print(element)"
   ]
  },
  {
   "cell_type": "markdown",
   "metadata": {},
   "source": [
    "## 5. Analyse the results\n",
    "In order to analyze the run in a more intuitive way, we can use `tensorboard`:\n",
    "\n",
    "```\n",
    "# go to the root folder of the output\n",
    "cd <your_path>/REINVENT_RL_demo\n",
    "\n",
    "# make sure, you have activated the proper environment\n",
    "conda activate reinvent.v3.0\n",
    "\n",
    "# start tensorboard\n",
    "tensorboard --logdir progress.log\n",
    "```\n",
    "\n",
    "Then copy the link provided to a browser window, e.g. \"http://workstation.url.com:6006/\". The following figures are exmaple plots - remember, that there is always some randomness involved. In `tensorboard` you can monitor the individual scoring function components. \n",
    "\n",
    "The score for predicted Aurora Kinase activity.\n",
    "\n",
    "![](img/exploit_aurora_kinase.png)\n",
    "\n",
    "The average score over time.\n",
    "\n",
    "![](img/exploit_avg_score.png)\n",
    "\n",
    "It might also be informative to look at the results from the prior (dark blue), the agent (blue) and the augmented likelihood (purple) over time.\n",
    "\n",
    "![](img/nll_plot.png)\n",
    "\n",
    "And last but not least, there is a \"Images\" tab available that lets you browse through the compounds generated in an easy way. In the molecules, the substructure matches that were defined to be required are highlighted in red (if present). Also, the total scores are given per molecule.\n",
    "\n",
    "![](img/molecules.png)"
   ]
  },
  {
   "cell_type": "markdown",
   "metadata": {},
   "source": [
    "The results folder will hold four different files: the agent (pickled), the input JSON (just for reference purposes), the memory (highest scoring compounds in `CSV` format) and the scaffold memory (in `CSV` format)."
   ]
  },
  {
   "cell_type": "code",
   "execution_count": 13,
   "metadata": {},
   "outputs": [
    {
     "name": "stdout",
     "output_type": "stream",
     "text": [
      ",smiles,score,likelihood\r\n",
      "27,C1N(c2ncncc2-c2cn(CC3OCCN(C)CC3)nc2)CCCC1O,0.8451204,-42.869774\r\n",
      "22,C1N(c2ncncc2-c2cn(CC4OCCN(C)CC4)nc2)CCCC1O,0.8451204,-53.072266\r\n",
      "19,C1N(c2ncncc2-c2cn(CC3OCCN(C)CC3)nc2)CC(O)CC1,0.8451204,-45.846977\r\n",
      "50,C1CN(c2ncncc2-c2cn(CC3OCCN(C)CC3)nc2)CC(O)C1,0.8451204,-45.26066\r\n",
      "61,N1(c2ncncc2-c2cn(CC3OCCN(C)CC3)nc2)CC(O)CCC1,0.8451204,-45.653194\r\n",
      "60,N1(c2ncncc2-c2cn(CC3OCCN(C)CC3)nc2)CCCC(O)C1,0.8451204,-43.792747\r\n",
      "55,C1N(c2ncncc2-c2cn(CC3OCCN(C)CC3)nc2)CCCCC1O,0.84456897,-48.738205\r\n",
      "112,C1N(c2ncncc2-c2cn(CC3OCCN(C)CC3)nc2)CC(O)CCC1,0.84456897,-49.809258\r\n",
      "92,N1(c2ncncc2-c2cn(CC3OCCN(C)CC3)nc2)CC(O)CCCC1,0.84456897,-52.195297\r\n",
      "107,C1N(c2ncncc2-c2cn(CC3OCCN(C)CC3)nc2)CCNCC1,0.8443355,-43.1882\r\n",
      "51,N1(c2ncncc2-c2cn(CC3OCCN(C)CC3)nc2)CCNCCC1,0.8443355,-43.12227\r\n",
      "70,N1CCN(c2ncncc2-c2cn(CC3OCCN(C)CC3)nc2)CCC1,0.8443355,-44.6098\r\n",
      "62,N1(c2ncncc2-c2cn(CC3OCCN(C)CC3)nc2)CCCNCC1,0.8443355,-46.611633\r\n",
      "1,C1N(c2ncncc2-c2cn(CC3OCCN(C)CC3)nc2)CCCC1=N,0.8419696,-52.32989\r\n"
     ]
    }
   ],
   "source": [
    "!head -n 15 {output_dir}/results/memory.csv"
   ]
  }
 ],
 "metadata": {
  "kernelspec": {
   "display_name": "Python 3",
   "language": "python",
   "name": "python3"
  },
  "language_info": {
   "codemirror_mode": {
    "name": "ipython",
    "version": 3
   },
   "file_extension": ".py",
   "mimetype": "text/x-python",
   "name": "python",
   "nbconvert_exporter": "python",
   "pygments_lexer": "ipython3",
   "version": "3.7.6"
  }
 },
 "nbformat": 4,
 "nbformat_minor": 2
}
