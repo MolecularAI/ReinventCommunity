{
 "cells": [
  {
   "cell_type": "markdown",
   "metadata": {},
   "source": [
    "> **How to run this notebook (command-line)?**\n",
    "1. Install the `ReinventCommunity` environment:\n",
    "`conda env create -f environment.yml`\n",
    "2. Activate the environment:\n",
    "`conda activate ReinventCommunity`\n",
    "3. Execute `jupyter`:\n",
    "`jupyter notebook`\n",
    "4. Copy the link to a browser\n",
    "\n",
    "\n",
    "# `REINVENT 3.2`: reinforcement learning exploitation demo\n",
    "This demo illustrates how to set up a `REINVENT` run to optimize molecules that are active against _Aurora_ kinase. We use here predictive model as the main component to guide the generation of the molecules. we also include a `qed_score` component to stimulate the generation of more \"drug-like\" molecules.\n",
    "\n",
    "\n"
   ]
  },
  {
   "cell_type": "markdown",
   "metadata": {},
   "source": [
    "## 1. Set up the paths\n",
    "_Please update the following code block such that it reflects your system's installation and execute it._"
   ]
  },
  {
   "cell_type": "code",
   "execution_count": 1,
   "metadata": {},
   "outputs": [],
   "source": [
    "# load dependencies\n",
    "import os\n",
    "import re\n",
    "import json\n",
    "import tempfile\n",
    "\n",
    "# --------- change these path variables as required\n",
    "reinvent_dir = os.path.expanduser(\"~/Desktop/Reinvent\")\n",
    "reinvent_env = os.path.expanduser(\"~/miniconda3/envs/reinvent.v3.2\")\n",
    "output_dir = os.path.expanduser(\"~/Desktop/REINVENT_RL_Exploitation_demo\")\n",
    "\n",
    "# --------- do not change\n",
    "# get the notebook's root path\n",
    "try: ipynb_path\n",
    "except NameError: ipynb_path = os.getcwd()\n",
    "\n",
    "# if required, generate a folder to store the results\n",
    "try:\n",
    "    os.mkdir(output_dir)\n",
    "except FileExistsError:\n",
    "    pass"
   ]
  },
  {
   "cell_type": "markdown",
   "metadata": {},
   "source": [
    "## 2. Setting up the configuration \n",
    "In the cells below we will build a nested dictionary object that will be eventually converted to JSON file which in turn will be consumed by `REINVENT`. \n",
    "You can find this file in your `output_dir` location."
   ]
  },
  {
   "cell_type": "markdown",
   "metadata": {},
   "source": [
    "### A) Declare the run type"
   ]
  },
  {
   "cell_type": "code",
   "execution_count": 2,
   "metadata": {},
   "outputs": [],
   "source": [
    "# initialize the dictionary\n",
    "configuration = {\n",
    "    \"version\": 3,                          # we are going to use REINVENT's newest release\n",
    "    \"run_type\": \"reinforcement_learning\",  # other run types: \"sampling\", \"validation\",\n",
    "                                           #                  \"transfer_learning\",\n",
    "                                           #                  \"scoring\" and \"create_model\"\n",
    "    \"model_type\": \"default\"\n",
    "}"
   ]
  },
  {
   "cell_type": "markdown",
   "metadata": {},
   "source": [
    "### B) Sort out the logging details\n",
    "This includes `result_folder` path where the results will be produced.\n",
    "\n",
    "Also: `REINVENT` can send custom log messages to a remote location. We have retained this capability in the code. if the `recipient` value differs from `\"local\"` `REINVENT` will attempt to POST the data to the specified `recipient`. "
   ]
  },
  {
   "cell_type": "code",
   "execution_count": 3,
   "metadata": {},
   "outputs": [],
   "source": [
    "# add block to specify whether to run locally or not and\n",
    "# where to store the results and logging\n",
    "configuration[\"logging\"] = {\n",
    "    \"sender\": \"http://0.0.0.1\",          # only relevant if \"recipient\" is set to \"remote\"\n",
    "    \"recipient\": \"local\",                  # either to local logging or use a remote REST-interface\n",
    "    \"logging_frequency\": 10,               # log every x-th steps\n",
    "    \"logging_path\": os.path.join(output_dir, \"progress.log\"), # load this folder in tensorboard\n",
    "    \"result_folder\": os.path.join(output_dir, \"results\"),         # will hold the compounds (SMILES) and summaries\n",
    "    \"job_name\": \"Reinforcement learning demo\",                # set an arbitrary job name for identification\n",
    "    \"job_id\": \"demo\"                       # only relevant if \"recipient\" is set to a specific REST endpoint\n",
    "}"
   ]
  },
  {
   "cell_type": "markdown",
   "metadata": {},
   "source": [
    "Create `\"parameters\"` field"
   ]
  },
  {
   "cell_type": "code",
   "execution_count": 4,
   "metadata": {},
   "outputs": [],
   "source": [
    "# add the \"parameters\" block\n",
    "configuration[\"parameters\"] = {}"
   ]
  },
  {
   "cell_type": "markdown",
   "metadata": {},
   "source": [
    "### C) Set Diversity Filter\n",
    "During each step of Reinforcement Learning the compounds scored above `minscore` threshold are kept in memory. The scored smiles are written out to a file in the results folder `scaffold_memory.csv`. In the example here we are not using any filter by setting it to `\"NoFilter\"`. This will lead to exploitation of the chemical space in vicinity to the local optimum for the defined scoring function. The scoring function will likely reach a higher overall score sooner than the exploration scenario.\n",
    "\n",
    "For exploratory behavior the diversity filters below should be set to any of the listed alternatives `\"IdenticalTopologicalScaffold\"`, `\"IdenticalMurckoScaffold\"` or `\"ScaffoldSimilarity\"`. This will boost the diversity of generated solutions. The maximum value of the scoring fuinction will be lower in exploration mode because the Agent is encouraged to search for diverse solutions rather than to only optimize the best that are being found so far. The number of generated compounds should be higher in comparison to the exploitation scenario."
   ]
  },
  {
   "cell_type": "code",
   "execution_count": 5,
   "metadata": {},
   "outputs": [],
   "source": [
    "# add a \"diversity_filter\"\n",
    "configuration[\"parameters\"][\"diversity_filter\"] =  {\n",
    "    \"name\": \"NoFilter\",                    # other options are: \"IdenticalTopologicalScaffold\", \n",
    "                                           # \"IdenticalMurckoScaffold\" and \"ScaffoldSimilarity\"\n",
    "                                           # -> use \"NoFilter\" to disable this feature\n",
    "    \"nbmax\": 25,                           # the bin size; penalization will start once this is exceeded\n",
    "    \"minscore\": 0.4,                       # the minimum total score to be considered for binning\n",
    "    \"minsimilarity\": 0.4                   # the minimum similarity to be placed into the same bin\n",
    "}"
   ]
  },
  {
   "cell_type": "markdown",
   "metadata": {},
   "source": [
    "### D) Set Inception\n",
    "* `smiles` provide here a list of smiles to be incepted \n",
    "* `memory_size` the number of smiles allowed in the inception memory\n",
    "* `sample_size` the number of smiles that can be sampled at each reinforcement learning step from inception memory"
   ]
  },
  {
   "cell_type": "code",
   "execution_count": 6,
   "metadata": {},
   "outputs": [],
   "source": [
    "# prepare the inception (we do not use it in this example, so \"smiles\" is an empty list)\n",
    "configuration[\"parameters\"][\"inception\"] = {\n",
    "    \"smiles\": [],                          # fill in a list of SMILES here that can be used (or leave empty)\n",
    "    \"memory_size\": 100,                    # sets how many molecules are to be remembered\n",
    "    \"sample_size\": 10                      # how many are to be sampled each epoch from the memory\n",
    "}"
   ]
  },
  {
   "cell_type": "markdown",
   "metadata": {},
   "source": [
    "### E) Set the general Reinforcement Learning parameters\n",
    "* `n_steps` is the amount of Reinforcement Learning steps to perform. Best start with 1000 steps and see if thats enough.\n",
    "* `agent` is the generative model that undergoes transformation during the Reinforcement Learning run.\n",
    "\n",
    "We reccomend keeping the other parameters to their default values."
   ]
  },
  {
   "cell_type": "code",
   "execution_count": 7,
   "metadata": {},
   "outputs": [],
   "source": [
    "# set all \"reinforcement learning\"-specific run parameters\n",
    "configuration[\"parameters\"][\"reinforcement_learning\"] = {\n",
    "    \"prior\": os.path.join(ipynb_path, \"models/random.prior.new\"), # path to the pre-trained model\n",
    "    \"agent\": os.path.join(ipynb_path, \"models/random.prior.new\"), # path to the pre-trained model\n",
    "    \"n_steps\": 125,                        # the number of epochs (steps) to be performed; often 1000\n",
    "    \"sigma\": 128,                          # used to calculate the \"augmented likelihood\", see publication\n",
    "    \"learning_rate\": 0.0001,               # sets how strongly the agent is influenced by each epoch\n",
    "    \"batch_size\": 128,                     # specifies how many molecules are generated per epoch\n",
    "    \"margin_threshold\": 50                 # specify the (positive) margin between agent and prior\n",
    "}"
   ]
  },
  {
   "cell_type": "markdown",
   "metadata": {},
   "source": [
    "### F) Define the scoring function\n",
    "We will use a `custom_product` type. The component types included are:\n",
    "* `predictive_property` which is the target activity to _Aurora_ kinase represented by the predictive `regression` model. Note that we set the weight of this component to be the highest.\n",
    "* `qed_score` is the implementation of QED in RDKit. It biases the egenration of  molecules towars more \"drug-like\" space. Depending on the study case can have beneficial or detrimental effect.\n",
    "* `custom_alerts` the `\"smiles\"` field  also can work with SMILES or SMARTS\n",
    "\n",
    "Note: The model used in this example is a regression model\n"
   ]
  },
  {
   "cell_type": "code",
   "execution_count": 8,
   "metadata": {},
   "outputs": [],
   "source": [
    "# prepare the scoring function definition and add at the end\n",
    "scoring_function = {\n",
    "    \"name\": \"custom_product\",              # this is our default one (alternative: \"custom_sum\")\n",
    "    \"parallel\": False,                     # sets whether components are to be executed\n",
    "                                           # in parallel; note, that python uses \"False\" / \"True\"\n",
    "                                           # but the JSON \"false\" / \"true\"\n",
    "\n",
    "    # the \"parameters\" list holds the individual components\n",
    "    \"parameters\": [\n",
    "\n",
    "    # add component: an activity model\n",
    "    {\n",
    "        \"component_type\": \"predictive_property\", # this is a scikit-learn model, returning\n",
    "                                                 # activity values\n",
    "        \"name\": \"Aurora kinase\",        # arbitrary name for the component\n",
    "        \"weight\": 6,                       # the weight (\"importance\") of the component (default: 1)\n",
    "        \"specific_parameters\": {\n",
    "            \"model_path\": os.path.join(ipynb_path, \"models/Aurora_model.pkl\"),   # absolute model path\n",
    "            \"transformation\": {\n",
    "                \"transformation_type\": \"sigmoid\",  # see description above\n",
    "                \"high\": 9,                         # parameter for sigmoid transformation\n",
    "                \"low\": 4,                          # parameter for sigmoid transformation\n",
    "                \"k\": 0.25                          # parameter for sigmoid transformation\n",
    "            },\n",
    "            \"scikit\": \"regression\",            # model can be \"regression\" or \"classification\"\n",
    "            \"descriptor_type\": \"ecfp_counts\",  # sets the input descriptor for this model\n",
    "            \"size\": 2048,                      # parameter of descriptor type\n",
    "            \"radius\": 3,                       # parameter of descriptor type\n",
    "            \"use_counts\": True,                # parameter of descriptor type\n",
    "            \"use_features\": True               # parameter of descriptor type\n",
    "        }\n",
    "    },\n",
    "\n",
    "    # add component: QED\n",
    "    {\n",
    "        \"component_type\": \"qed_score\", # this is the QED score as implemented in RDKit\n",
    "        \"name\": \"QED\",        # arbitrary name for the component\n",
    "        \"weight\": 2           # the weight (\"importance\") of the component (default: 1)                     \n",
    "    },\n",
    "\n",
    "    # add component: enforce to NOT match a given substructure\n",
    "    {\n",
    "        \"component_type\": \"custom_alerts\",\n",
    "        \"name\": \"Custom alerts\",               # arbitrary name for the component\n",
    "        \"weight\": 1,                           # the weight of the component (default: 1)\n",
    "        \"specific_parameters\": {\n",
    "            \"smiles\": [                        # specify the substructures (as list) to penalize\n",
    "                \"[*;r8]\",\n",
    "                \"[*;r9]\",\n",
    "                \"[*;r10]\",\n",
    "                \"[*;r11]\",\n",
    "                \"[*;r12]\",\n",
    "                \"[*;r13]\",\n",
    "                \"[*;r14]\",\n",
    "                \"[*;r15]\",\n",
    "                \"[*;r16]\",\n",
    "                \"[*;r17]\",\n",
    "                \"[#8][#8]\",\n",
    "                \"[#6;+]\",\n",
    "                \"[#16][#16]\",\n",
    "                \"[#7;!n][S;!$(S(=O)=O)]\",\n",
    "                \"[#7;!n][#7;!n]\",\n",
    "                \"C#C\",\n",
    "                \"C(=[O,S])[O,S]\",\n",
    "                \"[#7;!n][C;!$(C(=[O,N])[N,O])][#16;!s]\",\n",
    "                \"[#7;!n][C;!$(C(=[O,N])[N,O])][#7;!n]\",\n",
    "                \"[#7;!n][C;!$(C(=[O,N])[N,O])][#8;!o]\",\n",
    "                \"[#8;!o][C;!$(C(=[O,N])[N,O])][#16;!s]\",\n",
    "                \"[#8;!o][C;!$(C(=[O,N])[N,O])][#8;!o]\",\n",
    "                \"[#16;!s][C;!$(C(=[O,N])[N,O])][#16;!s]\"\n",
    "            ]\n",
    "        }\n",
    "    }]\n",
    "}\n",
    "configuration[\"parameters\"][\"scoring_function\"] = scoring_function"
   ]
  },
  {
   "cell_type": "markdown",
   "metadata": {},
   "source": [
    "#### NOTE:  Getting the selectivity score component to reach satisfactory levels is non-trivial and might take considerably higher number of steps"
   ]
  },
  {
   "cell_type": "markdown",
   "metadata": {},
   "source": [
    "## 3. Write out the configuration"
   ]
  },
  {
   "cell_type": "markdown",
   "metadata": {},
   "source": [
    "We now have successfully filled the dictionary and will write it out as a `JSON` file in the output directory. Please have a look at the file before proceeding in order to see how the paths have been inserted where required and the `dict` -> `JSON` translations (e.g. `True` to `true`) have taken place."
   ]
  },
  {
   "cell_type": "code",
   "execution_count": 9,
   "metadata": {},
   "outputs": [],
   "source": [
    "# write the configuration file to the disc\n",
    "configuration_JSON_path = os.path.join(output_dir, \"RL_config.json\")\n",
    "with open(configuration_JSON_path, 'w') as f:\n",
    "    json.dump(configuration, f, indent=4, sort_keys=True)"
   ]
  },
  {
   "cell_type": "markdown",
   "metadata": {},
   "source": [
    "## 4. Run `REINVENT`\n",
    "Now it is time to execute `REINVENT` locally. Note, that depending on the number of epochs (steps) and the execution time of the scoring function components, this might take a while. \n",
    "\n",
    "The command-line execution looks like this:\n",
    "```\n",
    "# activate envionment\n",
    "conda activate reinvent.v3.2\n",
    "\n",
    "# execute REINVENT\n",
    "python <your_path>/input.py <config>.json\n",
    "```"
   ]
  },
  {
   "cell_type": "code",
   "execution_count": 10,
   "metadata": {},
   "outputs": [],
   "source": [
    "%%capture captured_err_stream --no-stderr\n",
    "\n",
    "# execute REINVENT from the command-line\n",
    "!{reinvent_env}/bin/python {reinvent_dir}/input.py {configuration_JSON_path}"
   ]
  },
  {
   "cell_type": "code",
   "execution_count": 11,
   "metadata": {},
   "outputs": [],
   "source": [
    "# print the output to a file, just to have it for documentation\n",
    "with open(os.path.join(output_dir, \"run.err\"), 'w') as file:\n",
    "    file.write(captured_err_stream.stdout)\n",
    "\n",
    "# prepare the output to be parsed\n",
    "list_epochs = re.findall(r'INFO.*?local', captured_err_stream.stdout, re.DOTALL)\n",
    "data = [epoch for idx, epoch in enumerate(list_epochs) if idx in [1, 75, 124]]\n",
    "data = [\"\\n\".join(element.splitlines()[:-1]) for element in data]"
   ]
  },
  {
   "cell_type": "markdown",
   "metadata": {},
   "source": [
    "Below you see the print-out of the first, one from the middle and the last epoch, respectively. Note, that the fraction of valid `SMILES` is high right from the start (because we use a pre-trained prior). You can see the partial scores for each component for the first couple of compounds, but the most important information is the average score. You can clearly see how it increases over time."
   ]
  },
  {
   "cell_type": "code",
   "execution_count": 12,
   "metadata": {},
   "outputs": [
    {
     "name": "stdout",
     "output_type": "stream",
     "text": [
      "INFO     \n",
      " Step 0   Fraction valid SMILES: 97.7   Score: 0.2389   Time elapsed: 0   Time left: 0.0\n",
      "  Agent     Prior     Target     Score     SMILES\n",
      "-21.76    -21.76    -21.76      0.00      s1c(C(C)=CC(O)=O)ccc1\n",
      "-41.46    -41.46      0.91      0.33      C(Nc1ccc(-c2ccc(C(F)(F)F)cc2)cc1)(=O)Cn1c2sc(C(N(CCCC)C)=O)c(C)c2c(=O)n(-c2ccccc2)c1=O\n",
      "-28.46    -28.46     20.92      0.39      C1(CNc2cc[nH]c(=O)c2-c2nc3c(cc(N4CCOCC4)cc3C)[nH]2)CCCN(C(=O)C2CC2)C1\n",
      "-29.15    -29.15     21.66      0.40      N1(C2CCOC3(C2)CCN(Cc2oc(C)nn2)CC3)CCN(C)CC1\n",
      "-37.71    -37.71    -37.71      0.00      S(C)(=NC)(=O)Nc1ccc(F)c(C(c2c3c(ncc(-c4ccc(S(CC)(=O)=O)cc4)c3)[nH]c2)=O)c1F\n",
      "-24.83    -24.83     33.28      0.45      Cc1ccc(NC(C=C)=O)c(C2=CCCN(C)C2)n1\n",
      "-27.92    -27.92     25.81      0.42      c1ccc2c([nH]cc2Cc2cnc(=NCc3c(C)onc3C)[nH]c2)c1\n",
      "-32.31    -32.31     12.34      0.35      c1c(CN)ccc(-c2[nH]sc(=NC(=N)N)c2NC(C)=O)c1\n",
      "-32.65    -32.65     16.49      0.38      n12cccc(N3CCN(CC(NC)=O)CC3)c1ncc2-c1ccc(NC(NCC)=O)cc1\n",
      "-24.85    -24.85     29.60      0.43      C1(=Cc2oc(C)cc2)C(=O)C(=Cc2ccccc2)CC(C)C1\n",
      "Aurora kinase   QED   Custom alerts   raw_Aurora kinase\n",
      "0.3049292266368866   0.6874231696128845   0.0   5.784339904785156   \n",
      "0.396826833486557   0.19217589497566223   1.0   6.136318206787109   \n",
      "0.356082558631897   0.4902992844581604   1.0   5.985441207885742   \n",
      "0.31287822127342224   0.8108773827552795   1.0   5.816683292388916   \n",
      "0.3506372272968292   0.33743390440940857   0.0   5.964741230010986   \n",
      "0.36913546919822693   0.8445860147476196   1.0   6.034499168395996   \n",
      "0.3723474442958832   0.6014912128448486   1.0   6.0464582443237305   \n",
      "0.3261680603027344   0.4268030822277069   1.0   5.869779586791992   \n",
      "0.3404315710067749   0.550783097743988   1.0   5.925539970397949   \n",
      "0.3562104403972626   0.7246283888816833   1.0   5.985925197601318   \n",
      "\n",
      "INFO     \n",
      " Step 72   Fraction valid SMILES: 97.7   Score: 0.3307   Time elapsed: 48   Time left: 34.8\n",
      "  Agent     Prior     Target     Score     SMILES\n",
      "-26.73    -28.55     39.35      0.38      c1c2c(cc(NCc3ccc(OC)cc3)c1)c(=Nc1ccc(S(=O)(NC)=O)cc1)nc[nH]2\n",
      "-22.33    -21.96    -21.96      0.00      c1cc(C(F)(F)F)ccc1NC(=S)N1CCN(Cc2cc3c(cc2)OCO3)CC1\n",
      "-34.53    -36.36     41.60      0.44      N1(C)Cc2c(cc(N=c3[nH]n(-c4c5c(ccc(-c6cn(C)nc6)c5)ccc4)cc3)cc2)CC1\n",
      "-19.85    -22.29     57.64      0.45      c1n(-c2ccc(N3CCCCC3)nn2)c(C)cc1C\n",
      "-33.06    -32.90     48.60      0.46      N(C)(c1cc[nH]c(=Nc2sc(N3CCCC3)nc2C(F)(F)F)n1)C\n",
      "-20.09    -22.08     56.22      0.44      [nH]1nc(-c2cccc(C)n2)c(-c2cn3c(ncn3)cc2)c1\n",
      "-25.25    -26.49     44.11      0.40      n1c2c(cc(Cl)c(Cl)c2)n2c(c1C)n[nH]c2=N\n",
      "-31.03    -32.91     54.34      0.49      N1(CCc2ncccc2)C(Cc2cc(O)c(O)cc2)CN2C(CC(C)CC2)C1\n",
      "-26.11    -27.11     59.04      0.48      C(NCCc1[nH]c2c(cnn2C)c(=O)n1)CN(C)C\n",
      "-20.98    -22.38     57.99      0.45      c1(CC2c3c(cc(F)c(O)c3)CCN2)ccc(OC)cc1\n",
      "Aurora kinase   QED   Custom alerts   raw_Aurora kinase\n",
      "0.37512531876564026   0.40108993649482727   1.0   6.056766986846924   \n",
      "0.325486958026886   0.7539879083633423   0.0   5.867086410522461   \n",
      "0.43340474367141724   0.45194870233535767   1.0   6.267241477966309   \n",
      "0.3661639094352722   0.8282182216644287   1.0   6.023396968841553   \n",
      "0.3632841110229492   0.9165995717048645   1.0   6.012601375579834   \n",
      "0.39435073733329773   0.6102566123008728   1.0   6.127323150634766   \n",
      "0.33529767394065857   0.656374990940094   1.0   5.905606746673584   \n",
      "0.4198845326900482   0.7797925472259521   1.0   6.219231128692627   \n",
      "0.4325268268585205   0.6779215335845947   1.0   6.264135360717773   \n",
      "0.35722145438194275   0.9116578698158264   1.0   5.989752292633057   \n",
      "\n",
      "INFO     \n",
      " Step 121   Fraction valid SMILES: 98.4   Score: 0.3523   Time elapsed: 85   Time left: 2.8\n",
      "  Agent     Prior     Target     Score     SMILES\n",
      "-26.97    -26.72     53.94      0.45      O=S(n1cnc2cc(F)ccc21)(c1cc(C)c(C)cc1)=O\n",
      "-30.99    -33.22     45.92      0.44      c1n2c(c(NS(=O)(C)=O)cc1)ncc2C(Nc1c(F)c(Cl)ccc1)=O\n",
      "-31.07    -34.17    -34.17      0.00      c1(NNC(=O)Nc2cccc(F)c2)c(=O)c(C)cn(C)c1Cl\n",
      "-27.29    -29.04     38.23      0.38      [nH]1c2c(c(-c3c[nH]c(=NCCCO)cc3)cnn2)cc1\n",
      "-30.20    -32.92     32.69      0.37      [N+](=[N-])=NC1CC(N)C(C)CC1OCCC#N\n",
      "-34.42    -32.60    -32.60      0.00      c1c(C2=C3C(=O)OCC3C(C)(O)c3c2cc2c(c3)OCO2)cc2c(c1)OCO2\n",
      "-33.33    -35.03     33.48      0.38      c1(CC)ccc(N2CCN(CCCc3cc(OC)c(Cl)cc3)CC2)cc1\n",
      "-24.39    -26.16     45.24      0.40      c1(CNC(C)C)ccc(-c2cc(CN(C(CC)=O)C)ccc2)cc1\n",
      "-22.30    -22.82     29.56      0.29      N#CNC(NCC1COCC1)=N\n",
      "-19.29    -21.38     51.81      0.41      c1(-c2c(Cl)sc(Cl)c2)csc(=N)[nH]1\n",
      "Aurora kinase   QED   Custom alerts   raw_Aurora kinase\n",
      "0.38637399673461914   0.7309993505477905   1.0   6.098208427429199   \n",
      "0.3777020275592804   0.7252431511878967   1.0   6.0663018226623535   \n",
      "0.3630155026912689   0.5999088883399963   0.0   6.011592864990234   \n",
      "0.3200531303882599   0.6222803592681885   1.0   5.845494270324707   \n",
      "0.3790786564350128   0.33893758058547974   1.0   6.071385383605957   \n",
      "0.3918452858924866   0.7605152130126953   0.0   6.11820125579834   \n",
      "0.3149595558643341   0.7022078037261963   1.0   5.825077056884766   \n",
      "0.3151702284812927   0.8268194794654846   1.0   5.825925350189209   \n",
      "0.320780873298645   0.22704987227916718   1.0   5.848397254943848   \n",
      "0.33255770802497864   0.777117133140564   1.0   5.894906520843506   \n",
      "\n"
     ]
    }
   ],
   "source": [
    "for element in data:\n",
    "    print(element)"
   ]
  },
  {
   "cell_type": "markdown",
   "metadata": {},
   "source": [
    "## 5. Analyse the results\n",
    "In order to analyze the run in a more intuitive way, we can use `tensorboard`:\n",
    "\n",
    "```\n",
    "# go to the root folder of the output\n",
    "cd <your_path>/REINVENT_RL_demo\n",
    "\n",
    "# make sure, you have activated the proper environment\n",
    "conda activate reinvent.v3.2\n",
    "\n",
    "# start tensorboard\n",
    "tensorboard --logdir progress.log\n",
    "```\n",
    "\n",
    "Then copy the link provided to a browser window, e.g. \"http://workstation.url.com:6006/\". The following figures are exmaple plots - remember, that there is always some randomness involved. In `tensorboard` you can monitor the individual scoring function components. \n",
    "\n",
    "The score for predicted Aurora Kinase activity.\n",
    "\n",
    "![](img/exploit_aurora_kinase.png)\n",
    "\n",
    "The average score over time.\n",
    "\n",
    "![](img/exploit_avg_score.png)\n",
    "\n",
    "It might also be informative to look at the results from the prior (dark blue), the agent (blue) and the augmented likelihood (purple) over time.\n",
    "\n",
    "![](img/nll_plot.png)\n",
    "\n",
    "And last but not least, there is a \"Images\" tab available that lets you browse through the compounds generated in an easy way. In the molecules, the substructure matches that were defined to be required are highlighted in red (if present). Also, the total scores are given per molecule.\n",
    "\n",
    "![](img/molecules.png)"
   ]
  },
  {
   "cell_type": "markdown",
   "metadata": {},
   "source": [
    "The results folder will hold four different files: the agent (pickled), the input JSON (just for reference purposes), the memory (highest scoring compounds in `CSV` format) and the scaffold memory (in `CSV` format)."
   ]
  },
  {
   "cell_type": "code",
   "execution_count": 13,
   "metadata": {},
   "outputs": [
    {
     "name": "stdout",
     "output_type": "stream",
     "text": [
      ",smiles,score,likelihood\r\n",
      "79,c1cc(C2NC(=O)N=C(c3ccccc3)C2C(C)=O)cc(OC)c1OC,0.6524274,-20.399311\r\n",
      "59,c1(=N)c(OC(F)F)cc(-c2nc(N3CCCC3)nc(Cl)c2C)c[nH]1,0.6172258,-30.369038\r\n",
      "112,C1CCN(C2CS(=O)(=O)NC2COc2ccccc2)C1,0.61587876,-21.52544\r\n",
      "55,C1CC1N1C(C)CN(C(N2Cc3c(=NC(c4ccccn4)=O)[nH][nH]c3C2(C)C)=O)C(C)C1,0.6099286,-25.719456\r\n",
      "121,C1C(NC)c2cc(Cl)c(Cl)cc2[S+]([O-])c2ccccc21,0.6083422,-30.705381\r\n",
      "17,N(=c1[nH]c(-n2nnc(CCO)c2)nc(N=c2[nH][nH]c(C)c2)c1)C1CC1,0.6034754,-34.773552\r\n",
      "119,N(C)(C1=NS(=O)(=O)c2c(nccc2)O1)C(C)c1cc(F)c(Cl)cc1,0.6033574,-35.352528\r\n",
      "121,C(=O)(c1noc(C2CCCCN2C)c1)NCCc1cscc1,0.59230477,-26.722424\r\n",
      "114,C12CN(C)C(CNC(c3cscc3)=O)CN1CCC2,0.584228,-28.993496\r\n",
      "68,c12n(C)ncc1c(=NC1CCCC1)[nH]c(-c1ccc(N3CCN(C)CC3)cc1)c2,0.5773858,-22.566254\r\n",
      "32,C1(=O)N(C)CC=C1c1c2c([nH]c1)c(C)ccc2,0.57466894,-31.90369\r\n",
      "75,c1(N2CC(CNS(=O)(=O)C)CC2)ncc(F)c(N2CCOCC2)n1,0.5742659,-25.67205\r\n",
      "115,S1c2c(cccc2)C(N2CCN(C)CC2)=Nc2c1c(C)[nH]n2,0.5718977,-27.07067\r\n",
      "11,C(n1cc(C(c2cc(Cl)ccc2O)=O)cc(N)c1=O)CN1CCOCC1,0.57167345,-31.114813\r\n"
     ]
    }
   ],
   "source": [
    "!head -n 15 {output_dir}/results/memory.csv"
   ]
  }
 ],
 "metadata": {
  "kernelspec": {
   "display_name": "Python 3",
   "language": "python",
   "name": "python3"
  },
  "language_info": {
   "codemirror_mode": {
    "name": "ipython",
    "version": 3
   },
   "file_extension": ".py",
   "mimetype": "text/x-python",
   "name": "python",
   "nbconvert_exporter": "python",
   "pygments_lexer": "ipython3",
   "version": "3.7.6"
  }
 },
 "nbformat": 4,
 "nbformat_minor": 2
}
