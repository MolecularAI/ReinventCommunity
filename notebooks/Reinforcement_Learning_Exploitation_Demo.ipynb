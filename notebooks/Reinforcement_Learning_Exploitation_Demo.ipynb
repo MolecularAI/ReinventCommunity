{
 "cells": [
  {
   "cell_type": "markdown",
   "metadata": {},
   "source": [
    "> **How to run this notebook (command-line)?**\n",
    "1. Install the `ReinventCommunity` environment:\n",
    "`conda env create -f environment.yml`\n",
    "2. Activate the environment:\n",
    "`conda activate ReinventCommunity`\n",
    "3. Execute `jupyter`:\n",
    "`jupyter notebook`\n",
    "4. Copy the link to a browser\n",
    "\n",
    "\n",
    "# `REINVENT 2.0`: reinforcement learning exploitation demo\n",
    "This demo illustrates how to set up a `REINVENT` run to optimize molecules that are active against _Aurora_ kinase. We use here predictive model as the main component to guide the generation of the molecules. we also include a `qed_score` component to stimulate the generation of more \"drug-like\" molecules.\n",
    "\n",
    "\n"
   ]
  },
  {
   "cell_type": "markdown",
   "metadata": {},
   "source": [
    "## 1. Set up the paths\n",
    "_Please update the following code block such that it reflects your system's installation and execute it._"
   ]
  },
  {
   "cell_type": "code",
   "execution_count": 1,
   "metadata": {},
   "outputs": [],
   "source": [
    "# load dependencies\n",
    "import os\n",
    "import re\n",
    "import json\n",
    "import tempfile\n",
    "\n",
    "# --------- change these path variables as required\n",
    "reinvent_dir = os.path.expanduser(\"~/Desktop/Projects/Publications/2020/2020-04_REINVENT_2.0/Reinvent\")\n",
    "reinvent_env = os.path.expanduser(\"~/miniconda3/envs/reinvent_shared.v2.1\")\n",
    "output_dir = os.path.expanduser(\"~/Desktop/REINVENT_RL_demo\")\n",
    "\n",
    "# --------- do not change\n",
    "# get the notebook's root path\n",
    "try: ipynb_path\n",
    "except NameError: ipynb_path = os.getcwd()\n",
    "\n",
    "# if required, generate a folder to store the results\n",
    "try:\n",
    "    os.mkdir(output_dir)\n",
    "except FileExistsError:\n",
    "    pass"
   ]
  },
  {
   "cell_type": "markdown",
   "metadata": {},
   "source": [
    "## 2. Setting up the configuration \n",
    "In the cells below we will build a nested dictionary object that will be eventually converted to JSON file which in turn will be consumed by `REINVENT`. \n",
    "You can find this file in your `output_dir` location."
   ]
  },
  {
   "cell_type": "markdown",
   "metadata": {},
   "source": [
    "### A) Declare the run type"
   ]
  },
  {
   "cell_type": "code",
   "execution_count": 3,
   "metadata": {},
   "outputs": [],
   "source": [
    "# initialize the dictionary\n",
    "configuration = {\n",
    "    \"version\": 2,                          # we are going to use REINVENT's newest release\n",
    "    \"run_type\": \"reinforcement_learning\"   # other run types: \"sampling\", \"validation\",\n",
    "                                           #                  \"transfer_learning\",\n",
    "                                           #                  \"scoring\" and \"create_model\"\n",
    "}"
   ]
  },
  {
   "cell_type": "markdown",
   "metadata": {},
   "source": [
    "### B) Sort out the logging details\n",
    "This includes `resultdir` path where the results will be produced.\n",
    "\n",
    "Also: `REINVENT` can send custom log messages to a remote location. We have retained this capability in the code. if the `recipient` value differs from `\"local\"` `REINVENT` will attempt to POST the data to the specified `recipient`. "
   ]
  },
  {
   "cell_type": "code",
   "execution_count": 16,
   "metadata": {},
   "outputs": [],
   "source": [
    "# add block to specify whether to run locally or not and\n",
    "# where to store the results and logging\n",
    "configuration[\"logging\"] = {\n",
    "    \"sender\": \"http://0.0.0.1\",          # only relevant if \"recipient\" is set to \"remote\"\n",
    "    \"recipient\": \"local\",                  # either to local logging or use a remote REST-interface\n",
    "    \"logging_frequency\": 10,               # log every x-th steps\n",
    "    \"logging_path\": os.path.join(output_dir, \"progress.log\"), # load this folder in tensorboard\n",
    "    \"resultdir\": os.path.join(output_dir, \"results\"),         # will hold the compounds (SMILES) and summaries\n",
    "    \"job_name\": \"Reinforcement learning demo\",                # set an arbitrary job name for identification\n",
    "    \"job_id\": \"demo\"                       # only relevant if \"recipient\" is set to a specific REST endpoint\n",
    "}"
   ]
  },
  {
   "cell_type": "markdown",
   "metadata": {},
   "source": [
    "Create `\"parameters\"` field"
   ]
  },
  {
   "cell_type": "code",
   "execution_count": 17,
   "metadata": {},
   "outputs": [],
   "source": [
    "# add the \"parameters\" block\n",
    "configuration[\"parameters\"] = {}"
   ]
  },
  {
   "cell_type": "markdown",
   "metadata": {},
   "source": [
    "### C) Set Diversity Filter\n",
    "During each step of Reinforcement Learning the compounds scored above `minscore` threshold are kept in memory. The scored smiles are written out to a file in the results folder `scaffold_memory.csv`. In the example here we are not using any filter by setting it to `\"NoFilter\"`. This will lead to exploitation of the chemical space in vicinity to the local optimum for the defined scoring function. The scoring function will likely reach a higher overall score sooner than the exploration scenario.\n",
    "\n",
    "For exploratory behavior the diversity filters below should be set to any of the listed alternatives `\"IdenticalTopologicalScaffold\"`, `\"IdenticalMurckoScaffold\"` or `\"ScaffoldSimilarity\"`. This will boost the diversity of generated solutions. The maximum value of the scoring fuinction will be lower in exploration mode because the Agent is encouraged to search for diverse solutions rather than to only optimize the best that are being found so far. The number of generated compounds should be higher in comparison to the exploitation scenario."
   ]
  },
  {
   "cell_type": "code",
   "execution_count": 51,
   "metadata": {},
   "outputs": [],
   "source": [
    "# add a \"diversity_filter\"\n",
    "configuration[\"parameters\"][\"diversity_filter\"] =  {\n",
    "    \"name\": \"NoFilter\",                    # other options are: \"IdenticalTopologicalScaffold\", \n",
    "                                           # \"IdenticalMurckoScaffold\" and \"ScaffoldSimilarity\"\n",
    "                                           # -> use \"NoFilter\" to disable this feature\n",
    "    \"nbmax\": 25,                           # the bin size; penalization will start once this is exceeded\n",
    "    \"minscore\": 0.4,                       # the minimum total score to be considered for binning\n",
    "    \"minsimilarity\": 0.4                   # the minimum similarity to be placed into the same bin\n",
    "}"
   ]
  },
  {
   "cell_type": "markdown",
   "metadata": {},
   "source": [
    "### D) Set Inception\n",
    "* `smiles` provide here a list of smiles to be incepted \n",
    "* `memory_size` the number of smiles allowed in the inception memory\n",
    "* `sample_size` the number of smiles that can be sampled at each reinforcement learning step from inception memory"
   ]
  },
  {
   "cell_type": "code",
   "execution_count": 52,
   "metadata": {},
   "outputs": [],
   "source": [
    "# prepare the inception (we do not use it in this example, so \"smiles\" is an empty list)\n",
    "configuration[\"parameters\"][\"inception\"] = {\n",
    "    \"smiles\": [],                          # fill in a list of SMILES here that can be used (or leave empty)\n",
    "    \"memory_size\": 100,                    # sets how many molecules are to be remembered\n",
    "    \"sample_size\": 10                      # how many are to be sampled each epoch from the memory\n",
    "}"
   ]
  },
  {
   "cell_type": "markdown",
   "metadata": {},
   "source": [
    "### E) Set the general Reinforcement Learning parameters\n",
    "* `n_steps` is the amount of Reinforcement Learning steps to perform. Best start with 1000 steps and see if thats enough.\n",
    "* `agent` is the generative model that undergoes transformation during the Reinforcement Learning run.\n",
    "\n",
    "We reccomend keeping the other parameters to their default values."
   ]
  },
  {
   "cell_type": "code",
   "execution_count": 53,
   "metadata": {},
   "outputs": [],
   "source": [
    "# set all \"reinforcement learning\"-specific run parameters\n",
    "configuration[\"parameters\"][\"reinforcement_learning\"] = {\n",
    "    \"prior\": os.path.join(ipynb_path, \"models/augmented.prior\"), # path to the pre-trained model\n",
    "    \"agent\": os.path.join(ipynb_path, \"models/augmented.prior\"), # path to the pre-trained model\n",
    "    \"n_steps\": 1000,                        # the number of epochs (steps) to be performed; often 1000\n",
    "    \"sigma\": 128,                          # used to calculate the \"augmented likelihood\", see publication\n",
    "    \"learning_rate\": 0.0001,               # sets how strongly the agent is influenced by each epoch\n",
    "    \"batch_size\": 128,                     # specifies how many molecules are generated per epoch\n",
    "    \"reset\": 0,                            # if not '0', the reset the agent if threshold reached to get\n",
    "                                           # more diverse solutions\n",
    "    \"reset_score_cutoff\": 0.5,             # if resetting is enabled, this is the threshold\n",
    "    \"margin_threshold\": 50                 # specify the (positive) margin between agent and prior\n",
    "}"
   ]
  },
  {
   "cell_type": "markdown",
   "metadata": {},
   "source": [
    "### F) Define the scoring function\n",
    "We will use a `custom_product` type. The component types included are:\n",
    "* `predictive_property` which is the target activity to _Aurora_ kinase represented by the predictive `regression` model. Note that we set the weight of this component to be the highest.\n",
    "* `qed_score` is the implementation of QED in RDKit. It biases the egenration of  molecules towars more \"drug-like\" space. Depending on the study case can have beneficial or detrimental effect.\n",
    "* `custom_alerts` the `\"smiles\"` field  also can work with SMILES or SMARTS\n",
    "\n",
    "Note: The model used in this example is a regression model\n"
   ]
  },
  {
   "cell_type": "code",
   "execution_count": 54,
   "metadata": {},
   "outputs": [],
   "source": [
    "# prepare the scoring function definition and add at the end\n",
    "scoring_function = {\n",
    "    \"name\": \"custom_product\",              # this is our default one (alternative: \"custom_sum\")\n",
    "    \"parallel\": False,                     # sets whether components are to be executed\n",
    "                                           # in parallel; note, that python uses \"False\" / \"True\"\n",
    "                                           # but the JSON \"false\" / \"true\"\n",
    "\n",
    "    # the \"parameters\" list holds the individual components\n",
    "    \"parameters\": [\n",
    "\n",
    "    # add component: an activity model\n",
    "    {\n",
    "        \"component_type\": \"predictive_property\", # this is a scikit-learn model, returning\n",
    "                                                 # activity values\n",
    "        \"name\": \"Aurora kinase\",        # arbitrary name for the component\n",
    "        \"weight\": 6,                       # the weight (\"importance\") of the component (default: 1)\n",
    "        \"model_path\": os.path.join(ipynb_path, \"models/Aurora_model.pkl\"),   # absolute model path\n",
    "        \"smiles\": [],                            # list of SMILES (not required for this component)\n",
    "        \"specific_parameters\": {\n",
    "            \"transformation_type\": \"sigmoid\",  # see description above\n",
    "            \"high\": 9,                         # parameter for sigmoid transformation\n",
    "            \"low\": 4,                          # parameter for sigmoid transformation\n",
    "            \"k\": 0.25,                         # parameter for sigmoid transformation\n",
    "            \"scikit\": \"regression\",            # model can be \"regression\" or \"classification\"\n",
    "            \"transformation\": True,            # enable the transformation\n",
    "            \"descriptor_type\": \"ecfp_counts\",  # sets the input descriptor for this model\n",
    "            \"size\": 2048,                      # parameter of descriptor type\n",
    "            \"radius\": 3,                       # parameter of descriptor type\n",
    "            \"use_counts\": True,                # parameter of descriptor type\n",
    "            \"use_features\": True               # parameter of descriptor type\n",
    "        }\n",
    "    },\n",
    "\n",
    "    # add component: QED\n",
    "    {\n",
    "        \"component_type\": \"qed_score\", # this is the QED score as implemented in RDKit\n",
    "        \"name\": \"QED\",        # arbitrary name for the component\n",
    "        \"weight\": 2,            # the weight (\"importance\") of the component (default: 1)\n",
    "        \"model_path\": None,\n",
    "        \"smiles\":  None                         \n",
    "    },\n",
    "\n",
    "    # add component: enforce to NOT match a given substructure\n",
    "    {\n",
    "        \"component_type\": \"custom_alerts\",\n",
    "        \"name\": \"Custom alerts\",               # arbitrary name for the component\n",
    "        \"weight\": 1,                           # the weight of the component (default: 1)\n",
    "        \"model_path\": None,                    # not required; note, this is \"null\" in JSON\n",
    "        \"smiles\": [                            # specify the substructures (as list) to penalize\n",
    "            \"[*;r8]\",\n",
    "            \"[*;r9]\",\n",
    "            \"[*;r10]\",\n",
    "            \"[*;r11]\",\n",
    "            \"[*;r12]\",\n",
    "            \"[*;r13]\",\n",
    "            \"[*;r14]\",\n",
    "            \"[*;r15]\",\n",
    "            \"[*;r16]\",\n",
    "            \"[*;r17]\",\n",
    "            \"[#8][#8]\",\n",
    "            \"[#6;+]\",\n",
    "            \"[#16][#16]\",\n",
    "            \"[#7;!n][S;!$(S(=O)=O)]\",\n",
    "            \"[#7;!n][#7;!n]\",\n",
    "            \"C#C\",\n",
    "            \"C(=[O,S])[O,S]\",\n",
    "            \"[#7;!n][C;!$(C(=[O,N])[N,O])][#16;!s]\",\n",
    "            \"[#7;!n][C;!$(C(=[O,N])[N,O])][#7;!n]\",\n",
    "            \"[#7;!n][C;!$(C(=[O,N])[N,O])][#8;!o]\",\n",
    "            \"[#8;!o][C;!$(C(=[O,N])[N,O])][#16;!s]\",\n",
    "            \"[#8;!o][C;!$(C(=[O,N])[N,O])][#8;!o]\",\n",
    "            \"[#16;!s][C;!$(C(=[O,N])[N,O])][#16;!s]\"\n",
    "        ],\n",
    "        \"specific_parameters\": None            # not required; note, this is \"null\" in JSON\n",
    "    }]\n",
    "}\n",
    "configuration[\"parameters\"][\"scoring_function\"] = scoring_function"
   ]
  },
  {
   "cell_type": "markdown",
   "metadata": {},
   "source": [
    "#### NOTE:  Getting the selectivity score component to reach satisfactory levels is non-trivial and might take considerably higher number of steps"
   ]
  },
  {
   "cell_type": "markdown",
   "metadata": {},
   "source": [
    "## 3. Write out the configuration"
   ]
  },
  {
   "cell_type": "markdown",
   "metadata": {},
   "source": [
    "We now have successfully filled the dictionary and will write it out as a `JSON` file in the output directory. Please have a look at the file before proceeding in order to see how the paths have been inserted where required and the `dict` -> `JSON` translations (e.g. `True` to `true`) have taken place."
   ]
  },
  {
   "cell_type": "code",
   "execution_count": 55,
   "metadata": {},
   "outputs": [],
   "source": [
    "# write the configuration file to the disc\n",
    "configuration_JSON_path = os.path.join(output_dir, \"RL_config.json\")\n",
    "with open(configuration_JSON_path, 'w') as f:\n",
    "    json.dump(configuration, f, indent=4, sort_keys=True)"
   ]
  },
  {
   "cell_type": "markdown",
   "metadata": {},
   "source": [
    "## 4. Run `REINVENT`\n",
    "Now it is time to execute `REINVENT` locally. Note, that depending on the number of epochs (steps) and the execution time of the scoring function components, this might take a while. \n",
    "\n",
    "The command-line execution looks like this:\n",
    "```\n",
    "# activate envionment\n",
    "conda activate reinvent_shared.v2.1\n",
    "\n",
    "# execute REINVENT\n",
    "python <your_path>/input.py <config>.json\n",
    "```"
   ]
  },
  {
   "cell_type": "code",
   "execution_count": 56,
   "metadata": {},
   "outputs": [],
   "source": [
    "%%capture captured_err_stream --no-stderr\n",
    "\n",
    "# execute REINVENT from the command-line\n",
    "!python {reinvent_dir}/input.py {configuration_JSON_path}"
   ]
  },
  {
   "cell_type": "code",
   "execution_count": 31,
   "metadata": {},
   "outputs": [],
   "source": [
    "# print the output to a file, just to have it for documentation\n",
    "with open(os.path.join(output_dir, \"run.err\"), 'w') as file:\n",
    "    file.write(captured_err_stream.stdout)\n",
    "\n",
    "# prepare the output to be parsed\n",
    "list_epochs = re.findall(r'INFO.*?local', captured_err_stream.stdout, re.DOTALL)\n",
    "data = [epoch for idx, epoch in enumerate(list_epochs) if idx in [1, 75, 124]]\n",
    "data = [\"\\n\".join(element.splitlines()[:-1]) for element in data]"
   ]
  },
  {
   "cell_type": "markdown",
   "metadata": {},
   "source": [
    "Below you see the print-out of the first, one from the middle and the last epoch, respectively. Note, that the fraction of valid `SMILES` is high right from the start (because we use a pre-trained prior). You can see the partial scores for each component for the first couple of compounds, but the most important information is the average score. You can clearly see how it increases over time."
   ]
  },
  {
   "cell_type": "code",
   "execution_count": 59,
   "metadata": {},
   "outputs": [
    {
     "name": "stdout",
     "output_type": "stream",
     "text": [
      "INFO     \n",
      " Step 0   Fraction valid SMILES: 99.2   Score: 0.2306   Time elapsed: 0   Time left: 0.0\n",
      "  Agent     Prior     Target     Score     SMILES\n",
      "-19.51    -19.51     21.92      0.32      n1cnc(N2CCN(C)CC2)c2c(-c3ccccc3)c(-c3ccccc3)oc12\n",
      "-53.61    -53.61    -53.61      0.00      c1c(-c2ccccc2)c(C)cc(CCC2COC3C(NC(C(C)NC)=O)(OC)COCC3(O)C2)c1\n",
      "-32.90    -32.90     15.19      0.38      c1cc(C(Nc2cc(N=c3[nH]ccc(-c4ccnc(-c5cccnc5)c4)n3)ccc2)=O)ccc1NC(=O)C=C\n",
      "-18.69    -18.69     28.08      0.37      OC1C(O)C(n2c3c(nc2)c(=Nc2ccccc2)[nH]cn3)OC1CO\n",
      "-24.39    -24.39     16.43      0.32      O=C(c1c(C(=O)NCCC)nc[nH]1)N=c1c(C)ccc[nH]1\n",
      "-34.69    -34.69     10.84      0.36      C1CC(CNC(=O)C(N)Cc2ccc(OC)cc2)CCN1C(=O)Cn1cccn1\n",
      "-21.42    -21.42    -21.42      0.00      c1(=Cc2[nH]c(=O)[nH]c2O)c2nc(Nc3cccc(C#C)c3)cc(=NC3CC3)n2nc1\n",
      "-23.29    -23.29     13.14      0.28      n1(-c2ccc([N+](=O)[O-])cc2)c(O)c(C2=c3ccccc3=NC2=O)c2ccccc12\n",
      "-28.67    -28.67    -28.67      0.00      c1cccc2c1CC1(C2=O)OC(c2ccccc2)(c2ccccc2)OO1\n",
      "-59.00    -59.00    -59.00      0.00      O(C1(OC(C)C(NC(C(NC(COC(CCC(=C)C2CCC(C=C)(C)C(C(=O)C)C2)=O)=O)=O)C)=O)CCCCC1)C\n",
      "Aurora kinase   Custom alerts\n",
      "0.32369956374168396   1.0   \n",
      "0.3522017002105713   0.0   \n",
      "0.37566933035850525   1.0   \n",
      "0.3654446601867676   1.0   \n",
      "0.31891217827796936   1.0   \n",
      "0.355679452419281   1.0   \n",
      "0.39393407106399536   0.0   \n",
      "0.2846657335758209   1.0   \n",
      "0.2996329665184021   0.0   \n",
      "0.3963213264942169   0.0   \n",
      "\n",
      "INFO     \n",
      " Step 74   Fraction valid SMILES: 97.7   Score: 0.3038   Time elapsed: 26   Time left: 321.0\n",
      "  Agent     Prior     Target     Score     SMILES\n",
      "-31.52    -32.78    -32.78      0.00      n1(C)ncc(-c2ccc3ncc(NCc4cccc(SC)c4)c3c2)c1\n",
      "-19.84    -18.95     22.67      0.33      COc1c(OC)cc(C(N(CC)CC)=O)cc1OC\n",
      "-17.59    -18.34     20.06      0.30      O(c1cc(C)c(N)c(C)c1)C\n",
      "-46.62    -46.57      3.88      0.39      O1CCC2(CC1)C1(CCN(C(c3c4ncncc4ccc3)CF)CC1)NC(=O)C2\n",
      "-30.05    -31.16      9.96      0.32      c1ccc(Nc2ccc(CN3CCN(C)CC3)cc2)c(-c2sc3c(n2)cncc3)c1\n",
      "-35.30    -36.26     27.78      0.50      c1c(NC(=O)N=c2cc(C)[nH]c(N3CCN(c4cccc(OC)c4)CC3)n2)cc(Cl)c(Cl)c1\n",
      "-31.53    -29.53     13.16      0.33      c1ccccc1CN(C(C)=O)CCC(Nc1ccc(OCC)cc1)=O\n",
      "-37.70    -38.49      0.82      0.31      C(CN)CCC1C(=O)N(CCC2CCCC2)Cc2c(ccc(OCC(=NO)O)c2)C1\n",
      "-31.83    -32.79     25.84      0.46      c1(-c2cc(C(=O)NCC3CCO3)c3cnn(C)c3n2)ccc(F)c(F)c1\n",
      "-27.14    -25.95    -25.95      0.00      C(N1CCC(NC(NC(=O)c2c([N+]([O-])=O)cccc2)=S)CC1)c1ccccc1\n",
      "Aurora kinase   Custom alerts\n",
      "0.0   0.0   \n",
      "0.32515692710876465   1.0   \n",
      "0.30000120401382446   1.0   \n",
      "0.3941750228404999   1.0   \n",
      "0.321297287940979   1.0   \n",
      "0.5003294944763184   1.0   \n",
      "0.3334886431694031   1.0   \n",
      "0.3071417510509491   1.0   \n",
      "0.45798826217651367   1.0   \n",
      "0.28031840920448303   0.0   \n",
      "\n",
      "INFO     \n",
      " Step 123   Fraction valid SMILES: 99.2   Score: 0.3181   Time elapsed: 44   Time left: 311.2\n",
      "  Agent     Prior     Target     Score     SMILES\n",
      "-27.24    -25.90    -25.90      0.00      C(O)(Nc1cc(C)ccc1)c1cn(-c2ccc(OC(F)F)cc2)c(O)c1\n",
      "-22.40    -22.08     21.31      0.34      c1c2c(ccc1Cl)C(=O)N(C)Cc1n-2cnc1Br\n",
      "-38.70    -36.53    -36.53      0.00      C1C(O)C(O)C2OC(=O)C(=C)C2CN1S(=O)(=O)CCC\n",
      "-29.12    -30.39     12.22      0.33      C1N(Cc2ccc(OCCCCN3c4ccccc4CCc4c3cc(Cl)cc4)cc2)CCCC1\n",
      "-35.30    -37.37     16.22      0.42      c1c(C(C)C)c(N2CCN(C(=O)CCc3c(Cl)onc3C)CC2)n2cc(C(NCC)=O)ccc12\n",
      "-39.06    -40.07      8.68      0.38      S(c1c2ccc(-c3n[nH]nn3)cc2c(OC)cn1)c1cc2c(c(Cl)c1)OCCO2\n",
      "-30.11    -28.48    -28.48      0.00      N(CC)(CCOC(=O)c1ccc(Cl)c(Cl)c1)CC=C\n",
      "-23.56    -24.55     14.09      0.30      c1(S(=O)(N(CC)CC)=O)ccc(C(=O)Nc2ccc(S(C)(=O)=O)cc2)cc1\n",
      "-28.55    -28.66     15.51      0.35      c1(COc2ccc(CN3CCS(=O)(=O)CC3)cc2)c2ccccc2n[nH]1\n",
      "-30.33    -32.81     18.71      0.40      C1CC(CC(=O)Nc2cc3c(nc[nH]c3=Nc3ccc(OCc4ccccc4)c(Cl)c3)cc2OC)CCN1Cc1cc(Cl)c(Cl)cc1\n",
      "Aurora kinase   Custom alerts\n",
      "0.42681893706321716   0.0   \n",
      "0.3390008211135864   1.0   \n",
      "0.3794780969619751   0.0   \n",
      "0.3328739106655121   1.0   \n",
      "0.4186704456806183   1.0   \n",
      "0.380911260843277   1.0   \n",
      "0.43136125802993774   0.0   \n",
      "0.30190280079841614   1.0   \n",
      "0.34505319595336914   1.0   \n",
      "0.40252068638801575   1.0   \n",
      "\n"
     ]
    }
   ],
   "source": [
    "for element in data:\n",
    "    print(element)"
   ]
  },
  {
   "cell_type": "markdown",
   "metadata": {},
   "source": [
    "## 5. Analyse the results\n",
    "In order to analyze the run in a more intuitive way, we can use `tensorboard`:\n",
    "\n",
    "```\n",
    "# go to the root folder of the output\n",
    "cd <your_path>/REINVENT_RL_demo\n",
    "\n",
    "# make sure, you have activated the proper environment\n",
    "conda activate reinvent_shared.v2.1\n",
    "\n",
    "# start tensorboard\n",
    "tensorboard --logdir progress.log\n",
    "```\n",
    "\n",
    "Then copy the link provided to a browser window, e.g. \"http://workstation.url.com:6006/\". The following figures are exmaple plots - remember, that there is always some randomness involved. In `tensorboard` you can monitor the individual scoring function components. \n",
    "\n",
    "The score for predicted Aurora Kinase activity.\n",
    "\n",
    "![](img/exploit_aurora_kinase.png)\n",
    "\n",
    "The average score over time.\n",
    "\n",
    "![](img/exploit_avg_score.png)\n",
    "\n",
    "It might also be informative to look at the results from the prior (dark blue), the agent (blue) and the augmented likelihood (purple) over time.\n",
    "\n",
    "![](img/nll_plot.png)\n",
    "\n",
    "And last but not least, there is a \"Images\" tab available that lets you browse through the compounds generated in an easy way. In the molecules, the substructure matches that were defined to be required are highlighted in red (if present). Also, the total scores are given per molecule.\n",
    "\n",
    "![](img/molecules.png)"
   ]
  },
  {
   "cell_type": "markdown",
   "metadata": {},
   "source": [
    "The results folder will hold four different files: the agent (pickled), the input JSON (just for reference purposes), the memory (highest scoring compounds in `CSV` format) and the scaffold memory (in `CSV` format)."
   ]
  },
  {
   "cell_type": "code",
   "execution_count": 13,
   "metadata": {},
   "outputs": [
    {
     "name": "stdout",
     "output_type": "stream",
     "text": [
      ",smiles,score,likelihood\r\n",
      "65,C(CCCn1cc(C(C)(C)C)c2c(C(C)C)cc(C(C)C)cc2c1=O)C(=O)N=c1nc[nH][nH]1,0.3286117,-50.641468\r\n",
      "70,C1C(N(CCC)CCC)Cc2cccc3[nH]c(=O)n(c32)C1,0.32649106,-18.146914\r\n",
      "26,O1c2c(nc(OC)cc2)C(C(NCCCN(C)C)=O)(Cc2ccccc2)c2ccccc21,0.32437962,-35.405247\r\n",
      "60,c1c(C(CNCCc2ccc(NS(=O)(c3ccc(-c4oc(Cc5c[nH]c(=N)s5)cc4)nc3)=O)cc2)O)c[nH]c(=N)c1,0.32314676,-38.32259\r\n",
      "99,c1c2c(cc(Cl)c1Cl)C(CC(=O)c1cnn(C)c1)(O)C(=O)N2,0.31027606,-27.762121\r\n",
      "11,c1c(O)c(C(Cc2ccc(Cl)cc2)=O)cc(O)c1Oc2c(O)cc(O)cc2CCC(O)c1cc(O)c(OC)cc1,0.30576745,-52.903526\r\n",
      "32,c1(C(NC(Cc2ccccc2)C(C(NCCN2CCOCC2)=O)=O)=O)cc(C(=O)NS(Cc2ccccc2)(=O)=O)c(NCCC)s1,0.30178678,-43.933296\r\n",
      "1,c1c(C(C)C)ccc(NC(c2cc3c(cc2)[nH]c2c(C(N)=O)ccc(O)c23)=O)c1,0.30052438,-31.108843\r\n",
      "108,c1(C(C(F)(F)F)(F)F)cc(Cn2c3cccc(NC(c4n5ccc(OCCN6CCN(C)CC6)cc5nc4)=O)c3c(CC)n2)ccc1,0.29700187,-34.311478\r\n",
      "118,c1ccc(C(COc2ccc3c(occ(Oc4ccccc4)c3=O)c2)(O)C(N2CCCCC2)C)cc1F,0.29602197,-45.389744\r\n",
      "109,C1CN(CC(CNC(c2ccc3n(c(=O)cc(C)n3)c2)=O)O)CCC1Cc1ccccc1,0.29525602,-29.0487\r\n",
      "19,c1cc(CC2C(OCC3CC3)CCN(c3ncncc3)C2)ccc1OC,0.29047668,-26.524956\r\n",
      "109,c1cc(CN2Cc3c(cccc3)CC2)ccc1Cc1n[nH]c(=O)c2c1CCCC2,0.2882794,-24.313461\r\n",
      "0,c1c2c(ccc1OCCN(C)CCc1ccc(NS(=O)(C)=O)cc1)CCC2,0.28584373,-26.92916\r\n"
     ]
    }
   ],
   "source": [
    "!head -n 15 {output_dir}/results/memory.csv"
   ]
  }
 ],
 "metadata": {
  "kernelspec": {
   "display_name": "Python 3",
   "language": "python",
   "name": "python3"
  },
  "language_info": {
   "codemirror_mode": {
    "name": "ipython",
    "version": 3
   },
   "file_extension": ".py",
   "mimetype": "text/x-python",
   "name": "python",
   "nbconvert_exporter": "python",
   "pygments_lexer": "ipython3",
   "version": "3.7.6"
  }
 },
 "nbformat": 4,
 "nbformat_minor": 2
}
